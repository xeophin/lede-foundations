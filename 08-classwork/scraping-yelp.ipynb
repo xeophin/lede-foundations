{
 "cells": [
  {
   "cell_type": "markdown",
   "metadata": {
    "collapsed": true
   },
   "source": [
    "# Scraping Yelp"
   ]
  },
  {
   "cell_type": "code",
   "execution_count": 1,
   "metadata": {},
   "outputs": [],
   "source": [
    "from selenium import webdriver\n",
    "from selenium.webdriver.common.keys import Keys\n",
    "from selenium.webdriver.support.ui import Select\n",
    "from selenium.webdriver.support.ui import WebDriverWait"
   ]
  },
  {
   "cell_type": "code",
   "execution_count": 4,
   "metadata": {},
   "outputs": [],
   "source": [
    "driver = webdriver.Firefox()\n",
    "driver.get('https://www.yelp.com/search?find_desc=pasta&find_near=columbia-university-new-york-49&ns=1')"
   ]
  },
  {
   "cell_type": "code",
   "execution_count": 22,
   "metadata": {},
   "outputs": [
    {
     "data": {
      "text/plain": [
       "[{'categories': 'Italian',\n  'name': 'La Piccola Cucina',\n  'price': '$$',\n  'rating': '4.0',\n  'url': 'https://www.yelp.com/biz/la-piccola-cucina-new-york?osq=pasta'},\n {'categories': 'Italian',\n  'name': 'Pisticci',\n  'price': '$$',\n  'rating': '4.0',\n  'url': 'https://www.yelp.com/biz/pisticci-new-york?osq=pasta'},\n {'categories': 'Italian',\n  'name': 'Max Soha',\n  'price': '$$',\n  'rating': '4.0',\n  'url': 'https://www.yelp.com/biz/max-soha-new-york?osq=pasta'},\n {'categories': 'Italian',\n  'name': 'Arco Cafe',\n  'price': '$$',\n  'rating': '4.5',\n  'url': 'https://www.yelp.com/biz/arco-cafe-new-york?osq=pasta'},\n {'categories': 'Pizza, Italian',\n  'name': 'Mezzogiorno',\n  'price': '$$',\n  'rating': '4.0',\n  'url': 'https://www.yelp.com/biz/mezzogiorno-new-york-2?osq=pasta'},\n {'categories': 'Italian',\n  'name': 'Tartina',\n  'price': '$$',\n  'rating': '4.0',\n  'url': 'https://www.yelp.com/biz/tartina-new-york-4?osq=pasta'},\n {'categories': 'Italian',\n  'name': 'Osteria 106',\n  'price': '$$',\n  'rating': '4.5',\n  'url': 'https://www.yelp.com/biz/osteria-106-new-york?osq=pasta'},\n {'categories': 'Pizza, Italian, Bars',\n  'name': 'Fumo Pizza-Bar-Pasta',\n  'price': '$$',\n  'rating': '4.0',\n  'url': 'https://www.yelp.com/biz/fumo-pizza-bar-pasta-new-york-3?osq=pasta'},\n {'categories': 'Pizza, Italian',\n  'name': 'Bettolona',\n  'price': '$$',\n  'rating': '4.0',\n  'url': 'https://www.yelp.com/biz/bettolona-new-york?osq=pasta'},\n {'categories': 'Italian, Pasta Shops',\n  'name': 'Bigoi Venezia',\n  'price': '$',\n  'rating': '4.5',\n  'url': 'https://www.yelp.com/biz/bigoi-venezia-new-york?osq=pasta'}]"
      ]
     },
     "execution_count": 22,
     "metadata": {},
     "output_type": "execute_result"
    }
   ],
   "source": [
    "search_results = driver.find_elements_by_css_selector(\n",
    "  'li.regular-search-result')\n",
    "\n",
    "restaurant_list = []\n",
    "for restaurant in search_results:\n",
    "  rest = {\n",
    "    'name': restaurant.find_element_by_css_selector('.biz-name span').text,\n",
    "    'url': restaurant.find_element_by_css_selector(\n",
    "      'a.biz-name').get_attribute('href'), \n",
    "    'rating':\n",
    "      restaurant.find_element_by_css_selector('.i-stars').get_attribute(\n",
    "        'title').replace(' star rating', ''),\n",
    "    'categories': ', '.join([cat.text for cat in\n",
    "                             restaurant.find_elements_by_css_selector(\n",
    "                               '.category-str-list a')]),\n",
    "    'price': restaurant.find_element_by_css_selector('.price-range').text\n",
    "  }\n",
    "  restaurant_list.append(rest)\n",
    "\n",
    "restaurant_list\n"
   ]
  },
  {
   "cell_type": "code",
   "execution_count": 24,
   "metadata": {},
   "outputs": [],
   "source": [
    "import pandas as pd\n",
    "df = pd.DataFrame(restaurant_list)\n",
    "df.to_csv('08-classwork/restaurants.tsv', sep='\\t', index=False)"
   ]
  },
  {
   "cell_type": "code",
   "execution_count": null,
   "metadata": {},
   "outputs": [],
   "source": []
  }
 ],
 "metadata": {
  "kernelspec": {
   "display_name": "Python 2",
   "language": "python",
   "name": "python2"
  },
  "language_info": {
   "codemirror_mode": {
    "name": "ipython",
    "version": 2
   },
   "file_extension": ".py",
   "mimetype": "text/x-python",
   "name": "python",
   "nbconvert_exporter": "python",
   "pygments_lexer": "ipython2",
   "version": "2.7.6"
  }
 },
 "nbformat": 4,
 "nbformat_minor": 0
}
