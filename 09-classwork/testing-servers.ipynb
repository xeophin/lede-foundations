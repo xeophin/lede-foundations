{
 "cells": [
  {
   "cell_type": "code",
   "execution_count": 8,
   "metadata": {
    "collapsed": true
   },
   "outputs": [],
   "source": [
    "import requests\n",
    "from bs4 import BeautifulSoup\n",
    "import pandas as pd"
   ]
  },
  {
   "cell_type": "code",
   "execution_count": 9,
   "metadata": {},
   "outputs": [],
   "source": [
    "response = requests.get('http://www.nytimes.com')\n",
    "text = response.text\n",
    "\n",
    "soup = BeautifulSoup(text, 'html.parser')"
   ]
  },
  {
   "cell_type": "code",
   "execution_count": 10,
   "metadata": {},
   "outputs": [],
   "source": [
    "stories = soup.select('.story')"
   ]
  },
  {
   "cell_type": "code",
   "execution_count": 11,
   "metadata": {},
   "outputs": [
    {
     "data": {
      "text/plain": [
       "154"
      ]
     },
     "execution_count": 11,
     "metadata": {},
     "output_type": "execute_result"
    }
   ],
   "source": [
    "len(stories)"
   ]
  },
  {
   "cell_type": "markdown",
   "metadata": {},
   "source": [
    "- `.story-heading`\n",
    "- `.byline`"
   ]
  },
  {
   "cell_type": "code",
   "execution_count": 12,
   "metadata": {},
   "outputs": [
    {
     "data": {
      "text/plain": [
       "[{'byline': 'By PETER BAKER',\n  'headline': 'Both Parties Push Trump to Halt Family Separations'},\n {'headline': 'U.N. Rights Chief Calls Separation Policy Child Abuse'},\n {'byline': 'By EILEEN SULLIVAN 10:03 AM ET',\n  'headline': 'Trump Attacks Germany’s Policies on Immigration'},\n {'headline': 'Merkel Seeks Migration Compromise to Keep German Coalition Together'},\n {'byline': 'By MIRIAM JORDAN 11:57 AM ET',\n  'headline': '‘I Can’t Go Without My Son’: A Deported Mother’s Plea'},\n {'byline': 'By BRAD PLUMER and JIM TANKERSLEY',\n  'headline': 'Trump Picks Economic Winners, Guided by Nostalgia'},\n {'byline': 'By KEITH BRADSHER 10:35 AM ET',\n  'headline': 'Tariffs on $50 Billion in Goods? China Can Take the Hit'},\n {'headline': 'In Strategy Shift, Pentagon Empowers Cyber Command'},\n {'byline': 'By LUIS FERRÉ-SADURNÍ and MIHIR ZAVERI 7:54 AM ET',\n  'headline': 'Screams and Shots Slice Through Prized Trenton Arts Festival'},\n {'headline': 'Scenes From the Shooting'},\n {'byline': 'By CARLOTTA GALL',\n  'headline': 'Plan to Raise a ‘Pious Generation’ Divides Turkish Parents'},\n {'byline': 'By ADAM LIPTAK 11:10 AM ET',\n  'headline': 'Supreme Court Avoids an Answer on Gerrymandering'},\n {'byline': 'By JERÉ LONGMAN',\n  'headline': 'Olympic Champion Says She’ll Challenge Testosterone Rule'},\n {'headline': 'Man Executed in Iran Over Officers’ Deaths at Protest'},\n {'headline': 'Audi Chief Executive Arrested Over Diesel Scandal'},\n {'headline': 'Colombia Elects Populist Conservative as President'},\n {'byline': 'By THOMAS FULLER',\n  'headline': 'A Renewed View of Some of the World’s Oldest Trees'},\n {'byline': 'By CHRIS STANFORD 10:03 AM ET',\n  'headline': 'Your Monday Briefing'},\n {},\n {'byline': 'By TIM ARANGO and INYOUNG KANG 9:03 AM ET',\n  'headline': 'California Today: The L.A. Times’s New Owner Takes the Helm'},\n {'headline': 'Listen to ‘The Daily’: Cracking Down on Leaks'},\n {'headline': 'Listen to ‘The Daily’: Cracking Down on Leaks'},\n {'byline': 'By ANN CARRNS',\n  'headline': 'Hurricane Season Has Begun. Do You Need Flood Insurance?'},\n {'headline': 'Graduation Gift Ideas'},\n {},\n {'byline': 'By SAM ROBERTS',\n  'headline': 'Untrodden Broadway: The Hidden Gems of a World-Famous Street'},\n {'byline': 'By RORY SMITH 9:28 AM ET',\n  'headline': 'Dele Alli and England Drop Their Guard and Their Past'},\n {'headline': 'Live Updates: Belgium vs. Panama'},\n {'headline': 'Mexico Shocks Germany With 1-0 Upset in Opener'},\n {'headline': 'Did Mexico Fans Cause an Earthquake During Their Win?'},\n {'headline': 'For Germany, a Defeat Both Stunning and Foreboding'},\n {'byline': 'By MARIA ABI-HABIB and HARI KUMAR',\n  'headline': 'Deadly Tensions Rise as India’s Water Supply Runs Low'},\n {'byline': 'By MIKE HALE',\n  'headline': 'The Middle East, TV’s Most Flexible Plot Source'},\n {'byline': 'By AARON E. CARROLL 11:00 AM ET',\n  'headline': 'The Medical Research Grant System Could Be Costing Us'},\n {'byline': 'By SHANE GOLDMACHER',\n  'headline': 'Miner to Make Independent Bid to Challenge Cuomo'},\n {'byline': 'By THE NEW YORK TIMES',\n  'headline': '9 Ways to Get the Most Out of Your Times Subscription'},\n {'headline': 'It’s Almost Summer. Finally.'},\n {'headline': 'Are Women Responsible for Their Own Safety? Australians Point Fingers After Comedian’s Rape and Murder'},\n {'headline': 'Buried Alive Beneath a Road? An Australian Artist Explains'},\n {'headline': 'World Cup, Afghanistan, North Korea: Your Monday Briefing'},\n {'headline': 'This Piece Weighs 650 Tons. And It Floats.'},\n {'headline': 'Revisiting Alfred Stieglitz’s Camera Work Magazine'},\n {'headline': 'A ‘Just Say No’ Dad’s Struggle'},\n {'byline': 'By GUILLERMO OSORNO', 'headline': 'The Riddle of López Obrador'},\n {'headline': 'Editorial: The Racist Trope That Won’t Die'},\n {'headline': 'Blow: Trump and the Baby Snatchers'},\n {'headline': 'Krugman: What Did the Romans Ever Do for Us? 8:20 AM ET'},\n {'headline': 'The Charts That Show How Big Business Is Winning'},\n {'headline': 'Riling Up the Base May Backfire on Trump 10:48 AM ET'},\n {'headline': 'Who Really Put Saudi Women Behind the Wheel?'},\n {'byline': 'By NINA MORRISON 9:45 AM ET',\n  'headline': 'What Happens When Prosecutors Break the Law?'},\n {'byline': 'By YASMINE EL RASHIDI 12:05 PM ET',\n  'headline': 'Mo Salah Gives Egyptians What We Need'},\n {'headline': 'George Soros: In the Balkans, a Chance to Stabilize Europe'},\n {'headline': 'The Pain and Promise of Black Women in Philosophy'},\n {'headline': 'What It Means to Be Loved by a Dog'},\n {'headline': 'The Bacteria Babies Need'},\n {'headline': 'Sign Up for Our World Cup Newsletter »'},\n {'headline': 'How The Times Uses Anonymous Sources'},\n {'headline': 'We Want to Hear From You'},\n {'headline': '6 Therapists, Psychiatrists and Counselors Talk About Treating the Suicidal'},\n {'headline': 'Are You a Woman in Saudi Arabia? Tell Us How, or if, Your Country Is Changing'},\n {'headline': 'Play Today’s Puzzle'},\n {'headline': 'How The Times Uses Anonymous Sources'},\n {'headline': 'Play Today’s Puzzle'},\n {'headline': 'Play Today’s Puzzle'},\n {},\n {},\n {'headline': '9 Artists on What Gets the Work Done'},\n {'headline': 'The Riddle of López Obrador'},\n {'headline': 'Where Female Elephants Roam Without Tusks'},\n {'headline': 'Drafting a Eulogy for Classic Rock'},\n {'headline': 'The Bacteria Babies Need'},\n {'headline': 'When the Bully Is a Doctor'},\n {'headline': 'German Leaders Delay Migration Showdown, Seeking Solution in E.U.'},\n {'headline': 'Erdogan’s Plan to Raise a ‘Pious Generation’ Divides Parents in Turkey'},\n {'headline': 'Deadly Tensions Rise as India’s Water Supply Runs Dangerously Low'},\n {'headline': 'Tariffs on $50 Billion in Goods? China Can Take the Hit'},\n {'headline': 'Video Game Addiction Tries to Move From Basement to Doctor’s Office'},\n {'headline': 'With Twitch, Amazon Tightens Grip on Live Streams of Video Games'},\n {'headline': 'Charles M. Blow: Trump and the Baby Snatchers'},\n {'headline': 'Riling Up the Base May Backfire on Trump'},\n {'headline': 'David Leonhardt: The Charts That Show How Big Business Is Winning'},\n {'headline': '‘I Can’t Go Without My Son,’ a Mother Pleaded as She Was Deported to Guatemala'},\n {'headline': 'Safety Concerns Grow as Inmates Are Guarded by Teachers and Secretaries'},\n {'headline': 'A Renewed View of Some of the World’s Oldest Trees'},\n {'headline': 'If the Robots Come for Our Jobs, What Should the Government Do?'},\n {'headline': 'Google, Rebuilding Its Presence in China, Invests in Retailer JD.com'},\n {'headline': 'With Twitch, Amazon Tightens Grip on Live Streams of Video Games'},\n {'headline': 'Critic’s Notebook: At the Louvre, Beyoncé and Jay-Z Are Both Outsiders and Heirs'},\n {'headline': 'Album Review: Beyoncé and Jay-Z: The State of the Union Is Strong'},\n {'headline': '‘Incredibles 2’ Sells a Record-Setting $180 Million in Tickets'},\n {'headline': 'Supreme Court Avoids an Answer on Partisan Gerrymandering'},\n {'headline': 'Trump Attacks Germany’s Refugee Policy, Saying U.S. Must Avoid Europe’s Immigration Problems'},\n {'headline': 'In Texas Governor’s Race, Lupe Valdez Faces Resistance From Fellow Democrats'},\n {'headline': 'fixtures: Carl Hall Is the King of Spin'},\n {'headline': 'Skin Deep: Stella Maxwell Is Fine With Her Bath Turning Black'},\n {'headline': 'The Great Interview Magazine Caper'},\n {'headline': '‘Incredibles 2’ Sells a Record-Setting $180 Million in Tickets'},\n {'headline': 'Review: ‘Incredibles 2’ Is a Fast Blast (With Red Flags)'},\n {'headline': 'About the Ending of ‘Hereditary’: Really?'},\n {'headline': 'A Shadow System Feeds Segregation in New York City Schools'},\n {'headline': 'Stephanie Miner to Make Independent Bid to Challenge Gov. Cuomo'},\n {'headline': 'Mass Shooting at New Jersey Arts Festival Leaves 22 Injured and 1 Dead'},\n {'headline': 'On Soccer: Dele Alli and England Drop Their Guard and Their Past'},\n {'headline': 'Belgium vs. Panama: World Cup 2018 Live Updates'},\n {'headline': 'Brooks Koepka Repeats as the U.S. Open Champion'},\n {'headline': 'Review: ‘Fruit Trilogy,’ Eve Ensler’s New Show, Brims With Outrage'},\n {'headline': 'Review: Theater as Sabotage in the Dazzling ‘Fairview’'},\n {'headline': 'My Son Loves Elsa From ‘Frozen.’ I Had to Learn to Love Her, Too.'},\n {'headline': 'Mammals Go Nocturnal in Bid to Avoid Humans'},\n {'headline': 'Asteroids and Adversaries: Challenging What NASA Knows About Space Rocks'},\n {'headline': 'Trilobites: Using Harpoon-Like Appendages, Bacteria ‘Fish’ for New DNA'},\n {'headline': 'Gennady Rozhdestvensky, Russian Conductor, Dies at 87'},\n {'headline': 'Reinhard Hardegen, Who Led U-Boats to America’s Shore, Dies at 105'},\n {'headline': 'Martin Bregman, Producer of ‘Scarface’ and ‘Serpico,’ Dies at 92'},\n {'headline': 'Red Flags Among the Roses. What Will Happen on ‘The Bachelorette’?'},\n {'headline': 'The Affair: ‘The Affair’ Season 4 Premiere Recap: California Dreamin’'},\n {'headline': 'Westworld: ‘Westworld’ Season 2, Episode 9 Recap: The Stain'},\n {'headline': 'A Family in Transition'},\n {'headline': 'Major Study of Drinking Will Be Shut Down'},\n {'headline': 'Personal Health: A New Approach to Treating Hypochondria'},\n {'headline': 'Cultured Traveler: Athens, Rising'},\n {'headline': 'Trending: Your Next Hotel May Have an Attached Brewery or Distillery'},\n {'headline': 'Pursuits: Francine Prose on Montreal in the Spring: The Time of the Butterflies'},\n {'headline': 'Nonfiction: Misty Copeland Pirouettes Through Two Books on Dance'},\n {'headline': 'Q. & A.: Tell Us 5 Things About Your Book: Drafting a Eulogy for Classic Rock'},\n {'headline': 'Essay: What a Father Learns by Reading With His Special-Needs Son'},\n {'headline': 'Colleges and State Laws Are Clamping Down on Fraternities'},\n {'headline': 'In the Age of Trump, Civics Courses Make a Comeback'},\n {'headline': 'Colleges Grapple With Where — or Whether — to Draw the Line on Free Speech'},\n {'headline': 'A Good Appetite: Whole-Grain Pancakes to Make Any Morning Special'},\n {'headline': 'City Kitchen: Craving an Easy Shrimp Dinner? Make This Curry'},\n {'headline': 'A Festival Where Refugees Cook for New York'},\n {'headline': 'Feature: First Canada Tried to Charm Trump. Now It’s Fighting Back.'},\n {'headline': 'Feature: The Strange Case of the Missing Joyce Scholar'},\n {'headline': 'Feature: The Wounds of the Drone Warrior'},\n {'headline': 'Shopping Guide: Shopping for Firepits'},\n {'headline': \"What's Selling Now: Homes That Sold for Around $750,000\"},\n {'headline': 'Ask Real Estate: Costly Repairs Are Looming. Must I Tell the Buyer?'},\n {'headline': 'The New Health Care: Why the Medical Research Grant System Could Be Costing Us Great Ideas'},\n {'headline': 'Trade Skirmish or War? Who Gets Hurt?'},\n {'headline': 'Did Comey Cost Clinton the Election? Why We’ll Never Know'},\n {'headline': 'Happy Birthday to Q’s! Ten Years In, an Advice Columnist Reflects'},\n {'headline': 'The Reality of a Migrant Shelter: Clean, Orderly and Devoid of Answers'},\n {'headline': 'Understanding The Times: How The Times Uses Anonymous Sources'},\n {'headline': 'Ford Aims to Revive a Detroit Train Station, and Itself'},\n {'headline': 'Wheels: When Cars Do the Driving, Who Will Feel the Joy?'},\n {'headline': 'Safety Move by Didi, Chinese Ride-Hailing App, May Strand Women at Night'},\n {'headline': 'The Woman Who Harvested a Wheat Field Off Wall Street'},\n {'headline': 'The Stories Behind 5 New York Art Scene Legends'},\n {'headline': 'Two American Art Icons Discuss the Old Days and Their New Shows'},\n {'byline': 'By C. J. HUGHES',\n  'headline': 'Homes That Sold for Around $750,000'},\n {'headline': 'Search for Homes for Sale or Rent'},\n {'headline': 'Mortgage Calculator'}]"
      ]
     },
     "execution_count": 12,
     "metadata": {},
     "output_type": "execute_result"
    }
   ],
   "source": [
    "list_of_stories = []\n",
    "\n",
    "for story in stories:\n",
    "  story_dict = {}\n",
    "  headline = story.find(class_='story-heading')\n",
    "  byline = story.find(class_='byline')\n",
    "  if headline:\n",
    "    story_dict['headline'] = headline.text.strip()\n",
    "  if byline:\n",
    "    story_dict['byline'] = byline.text.strip()\n",
    "  list_of_stories.append(story_dict)\n",
    "\n",
    "list_of_stories"
   ]
  },
  {
   "cell_type": "code",
   "execution_count": 13,
   "metadata": {},
   "outputs": [
    {
     "data": {
      "text/html": [
       "<div>\n",
       "<style scoped>\n",
       "    .dataframe tbody tr th:only-of-type {\n",
       "        vertical-align: middle;\n",
       "    }\n",
       "\n",
       "    .dataframe tbody tr th {\n",
       "        vertical-align: top;\n",
       "    }\n",
       "\n",
       "    .dataframe thead th {\n",
       "        text-align: right;\n",
       "    }\n",
       "</style>\n",
       "<table border=\"1\" class=\"dataframe\">\n",
       "  <thead>\n",
       "    <tr style=\"text-align: right;\">\n",
       "      <th></th>\n",
       "      <th>byline</th>\n",
       "      <th>headline</th>\n",
       "    </tr>\n",
       "  </thead>\n",
       "  <tbody>\n",
       "    <tr>\n",
       "      <th>0</th>\n",
       "      <td>By PETER BAKER</td>\n",
       "      <td>Both Parties Push Trump to Halt Family Separat...</td>\n",
       "    </tr>\n",
       "    <tr>\n",
       "      <th>1</th>\n",
       "      <td>NaN</td>\n",
       "      <td>U.N. Rights Chief Calls Separation Policy Chil...</td>\n",
       "    </tr>\n",
       "    <tr>\n",
       "      <th>2</th>\n",
       "      <td>By EILEEN SULLIVAN 10:03 AM ET</td>\n",
       "      <td>Trump Attacks Germany’s Policies on Immigration</td>\n",
       "    </tr>\n",
       "    <tr>\n",
       "      <th>3</th>\n",
       "      <td>NaN</td>\n",
       "      <td>Merkel Seeks Migration Compromise to Keep Germ...</td>\n",
       "    </tr>\n",
       "    <tr>\n",
       "      <th>4</th>\n",
       "      <td>By MIRIAM JORDAN 11:57 AM ET</td>\n",
       "      <td>‘I Can’t Go Without My Son’: A Deported Mother...</td>\n",
       "    </tr>\n",
       "  </tbody>\n",
       "</table>\n",
       "</div>"
      ],
      "text/plain": [
       "<div>\n",
       "<style scoped>\n",
       "    .dataframe tbody tr th:only-of-type {\n",
       "        vertical-align: middle;\n",
       "    }\n",
       "\n",
       "    .dataframe tbody tr th {\n",
       "        vertical-align: top;\n",
       "    }\n",
       "\n",
       "    .dataframe thead th {\n",
       "        text-align: right;\n",
       "    }\n",
       "</style>\n",
       "<table border=\"1\" class=\"dataframe\">\n",
       "  <thead>\n",
       "    <tr style=\"text-align: right;\">\n",
       "      <th></th>\n",
       "      <th>byline</th>\n",
       "      <th>headline</th>\n",
       "    </tr>\n",
       "  </thead>\n",
       "  <tbody>\n",
       "    <tr>\n",
       "      <th>0</th>\n",
       "      <td>By PETER BAKER</td>\n",
       "      <td>Both Parties Push Trump to Halt Family Separat...</td>\n",
       "    </tr>\n",
       "    <tr>\n",
       "      <th>1</th>\n",
       "      <td>NaN</td>\n",
       "      <td>U.N. Rights Chief Calls Separation Policy Chil...</td>\n",
       "    </tr>\n",
       "    <tr>\n",
       "      <th>2</th>\n",
       "      <td>By EILEEN SULLIVAN 10:03 AM ET</td>\n",
       "      <td>Trump Attacks Germany’s Policies on Immigration</td>\n",
       "    </tr>\n",
       "    <tr>\n",
       "      <th>3</th>\n",
       "      <td>NaN</td>\n",
       "      <td>Merkel Seeks Migration Compromise to Keep Germ...</td>\n",
       "    </tr>\n",
       "    <tr>\n",
       "      <th>4</th>\n",
       "      <td>By MIRIAM JORDAN 11:57 AM ET</td>\n",
       "      <td>‘I Can’t Go Without My Son’: A Deported Mother...</td>\n",
       "    </tr>\n",
       "  </tbody>\n",
       "</table>\n",
       "</div>"
      ]
     },
     "execution_count": 13,
     "metadata": {},
     "output_type": "execute_result"
    }
   ],
   "source": [
    "df = pd.DataFrame(list_of_stories)\n",
    "df.head()"
   ]
  },
  {
   "cell_type": "code",
   "execution_count": 14,
   "metadata": {},
   "outputs": [],
   "source": [
    "df.to_csv('nyt-stories.csv', index=False)"
   ]
  },
  {
   "cell_type": "code",
   "execution_count": 15,
   "metadata": {},
   "outputs": [],
   "source": []
  }
 ],
 "metadata": {
  "kernelspec": {
   "display_name": "Python 2",
   "language": "python",
   "name": "python2"
  },
  "language_info": {
   "codemirror_mode": {
    "name": "ipython",
    "version": 2
   },
   "file_extension": ".py",
   "mimetype": "text/x-python",
   "name": "python",
   "nbconvert_exporter": "python",
   "pygments_lexer": "ipython2",
   "version": "2.7.6"
  }
 },
 "nbformat": 4,
 "nbformat_minor": 0
}
