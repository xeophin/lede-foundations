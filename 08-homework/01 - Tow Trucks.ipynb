{
 "cells": [
  {
   "cell_type": "markdown",
   "metadata": {},
   "source": [
    "# Texas Tow Trucks\n",
    "\n",
    "We're going to scrape some [tow trucks in Texas](https://www.tdlr.texas.gov/tools_search/)."
   ]
  },
  {
   "cell_type": "markdown",
   "metadata": {},
   "source": [
    "## Import your imports"
   ]
  },
  {
   "cell_type": "code",
   "execution_count": 1,
   "metadata": {},
   "outputs": [],
   "source": [
    "from selenium import webdriver"
   ]
  },
  {
   "cell_type": "markdown",
   "metadata": {},
   "source": [
    "## Search for the TLDR Number `006179570C`, and scrape the information on that company\n",
    "\n",
    "Using [license information system](https://www.tdlr.texas.gov/tools_search/), find information about the tow truck number above, displaying the\n",
    "\n",
    "- The business name\n",
    "- Owner/operator\n",
    "- Phone number\n",
    "- License status (Active, Expired, Etc)\n",
    "- Physical address\n",
    "\n",
    "If you can't figure a 'nice' way to locate something, your two last options might be:\n",
    "\n",
    "- **Find a \"parent\" element, then dig inside**\n",
    "- **Find all of a type of element** (like we did with `td` before) and get the `[0]`, `[1]`, `[2]`, etc\n",
    "- **XPath** (inspect an element, Copy > Copy XPath)\n",
    "\n",
    "These kinds of techniques tend to break when you're on other result pages, but... maybe not! You won't know until you try.\n",
    "\n",
    "> - *TIP: When you use xpath, you CANNOT use double quotes or Python will get confused. Use single quotes.*\n",
    "> - *TIP: You can clean your data up if you want to, or leave it dirty to clean later*\n",
    "> - *TIP: The address part can be tough, but you have a few options. You can use a combination of `.split` and list slicing to clean it now, or clean it later in the dataframe with regular expressions. Or other options, too, probably*"
   ]
  },
  {
   "cell_type": "code",
   "execution_count": 18,
   "metadata": {},
   "outputs": [],
   "source": [
    "def get_cleaned_up_data(dirty_string):\n",
    "  return dirty_string.split(':')[-1].strip()"
   ]
  },
  {
   "cell_type": "code",
   "execution_count": 2,
   "metadata": {},
   "outputs": [],
   "source": [
    "# The URL of the page contains the license number string, i.e. https://www.tdlr.texas.gov/tools_search/mccs_display.asp?mcrnumber=006179570C\n",
    "driver = webdriver.Firefox()\n",
    "\n",
    "# Get the page two times, because for some reason the first time we will \n",
    "# bounce back to the form\n",
    "driver.get('https://www.tdlr.texas.gov/tools_search/mccs_display'\n",
    "                      '.asp?mcrnumber=006179570C')\n",
    "driver.get('https://www.tdlr.texas.gov/tools_search/mccs_display'\n",
    "           '.asp?mcrnumber=006179570C')\n",
    "\n"
   ]
  },
  {
   "cell_type": "code",
   "execution_count": 19,
   "metadata": {},
   "outputs": [],
   "source": [
    "# - The business name\n",
    "business_name = driver.find_element_by_xpath('/html/body/div/div['\n",
    "                                             '1]/div/table/tbody/tr/td/font/table[2]/tbody/tr[2]/td[1]').text\n",
    "# - Owner/operator\n",
    "owner = driver.find_element_by_xpath('/html/body/div/div['\n",
    "                                     '1]/div/table/tbody/tr/td/font/table['\n",
    "                                     '2]/tbody/tr[3]/td[1]').text\n",
    "\n",
    "# - Phone number\n",
    "# Yes, this is not foolproof and fails later on, it is actually fixed in the \n",
    "# function version\n",
    "phone_number = driver.find_element_by_xpath('/html/body/div/div['\n",
    "                                            '1]/div/table/tbody/tr/td/font/table[2]/tbody/tr[4]/td[1]').text\n",
    "# - License status (Active, Expired, Etc)\n",
    "licence_status = driver.find_element_by_xpath('/html/body/div/div['\n",
    "                                              '1]/div/table/tbody/tr/td/font/table[3]/tbody/tr[1]/td[2]').text\n",
    "# - Physical address\n",
    "address = driver.find_element_by_xpath('/html/body/div/div['\n",
    "                                       '1]/div/table/tbody/tr/td/font/table['\n",
    "                                       '3]/tbody/tr[2]/td[2]').text\n",
    "\n",
    "# simple cleanup\n",
    "business_name = get_cleaned_up_data(business_name)\n",
    "owner = get_cleaned_up_data(owner)\n",
    "phone_number = get_cleaned_up_data(phone_number)\n",
    "licence_status = get_cleaned_up_data(licence_status)\n",
    "address = get_cleaned_up_data(address)"
   ]
  },
  {
   "cell_type": "code",
   "execution_count": 20,
   "metadata": {},
   "outputs": [
    {
     "name": "stdout",
     "output_type": "stream",
     "text": [
      "B.D. SMITH TOWING BRANDT SMITH / OWNER 8173330706 Expired 13619 BRETT JACKSON RD.\nFORT WORTH, TX. 76179\n"
     ]
    }
   ],
   "source": [
    "print(business_name, owner, phone_number, licence_status, address)"
   ]
  },
  {
   "cell_type": "markdown",
   "metadata": {},
   "source": [
    "# Adapt this to work inside of a single cell\n",
    "\n",
    "Double-check that it works. You want it to print out all of the details."
   ]
  },
  {
   "cell_type": "code",
   "execution_count": 22,
   "metadata": {},
   "outputs": [
    {
     "name": "stdout",
     "output_type": "stream",
     "text": [
      "{'business_name': 'B.D. SMITH TOWING', 'owner': 'BRANDT SMITH / OWNER', 'phone': '8173330706', 'licence_status': 'Expired', 'address': '13619 BRETT JACKSON RD.\\nFORT WORTH, TX. 76179'}\n"
     ]
    }
   ],
   "source": [
    "driver.get('https://www.tdlr.texas.gov/tools_search/mccs_display'\n",
    "           '.asp?mcrnumber=006179570C')\n",
    "# - The business name\n",
    "business_name = driver.find_element_by_xpath('/html/body/div/div['\n",
    "                                             '1]/div/table/tbody/tr/td/font/table[2]/tbody/tr[2]/td[1]').text\n",
    "# - Owner/operator\n",
    "owner = driver.find_element_by_xpath('/html/body/div/div['\n",
    "                                     '1]/div/table/tbody/tr/td/font/table['\n",
    "                                     '2]/tbody/tr[3]/td[1]').text\n",
    "\n",
    "# - Phone number\n",
    "phone_number = driver.find_element_by_xpath('/html/body/div/div['\n",
    "                                            '1]/div/table/tbody/tr/td/font/table[2]/tbody/tr[4]/td[1]').text\n",
    "# - License status (Active, Expired, Etc)\n",
    "licence_status = driver.find_element_by_xpath('/html/body/div/div['\n",
    "                                              '1]/div/table/tbody/tr/td/font/table[3]/tbody/tr[1]/td[2]').text\n",
    "# - Physical address\n",
    "address = driver.find_element_by_xpath('/html/body/div/div['\n",
    "                                       '1]/div/table/tbody/tr/td/font/table['\n",
    "                                       '3]/tbody/tr[2]/td[2]').text\n",
    "\n",
    "# simple cleanup, use a dict, because we're gonna end up using a dict anyway,\n",
    "#  I'd wager\n",
    "extracted_data = {\n",
    "  'business_name': get_cleaned_up_data(business_name),\n",
    "  'owner': get_cleaned_up_data(owner),\n",
    "  'phone': get_cleaned_up_data(phone_number),\n",
    "  'licence_status': get_cleaned_up_data(licence_status),\n",
    "  'address': get_cleaned_up_data(address)\n",
    "}\n",
    "\n",
    "\n",
    "print(extracted_data)"
   ]
  },
  {
   "cell_type": "markdown",
   "metadata": {},
   "source": [
    "# Using .apply to find data about SEVERAL tow truck companies\n",
    "\n",
    "The file `trucks-subset.csv` has information about the trucks, we'll use it to find the pages to scrape.\n",
    "\n",
    "### Open up `trucks-subset.csv` and save it into a dataframe"
   ]
  },
  {
   "cell_type": "code",
   "execution_count": 23,
   "metadata": {},
   "outputs": [],
   "source": [
    "import pandas as pd"
   ]
  },
  {
   "cell_type": "code",
   "execution_count": 32,
   "metadata": {},
   "outputs": [],
   "source": [
    "df_licence_numbers_subset = pd.read_csv('08-homework/trucks-subset.csv')"
   ]
  },
  {
   "cell_type": "code",
   "execution_count": 33,
   "metadata": {},
   "outputs": [
    {
     "data": {
      "text/html": [
       "<div>\n",
       "<style scoped>\n",
       "    .dataframe tbody tr th:only-of-type {\n",
       "        vertical-align: middle;\n",
       "    }\n",
       "\n",
       "    .dataframe tbody tr th {\n",
       "        vertical-align: top;\n",
       "    }\n",
       "\n",
       "    .dataframe thead th {\n",
       "        text-align: right;\n",
       "    }\n",
       "</style>\n",
       "<table border=\"1\" class=\"dataframe\">\n",
       "  <thead>\n",
       "    <tr style=\"text-align: right;\">\n",
       "      <th></th>\n",
       "      <th>TDLR Number</th>\n",
       "    </tr>\n",
       "  </thead>\n",
       "  <tbody>\n",
       "    <tr>\n",
       "      <th>0</th>\n",
       "      <td>006507931C</td>\n",
       "    </tr>\n",
       "    <tr>\n",
       "      <th>1</th>\n",
       "      <td>006179570C</td>\n",
       "    </tr>\n",
       "    <tr>\n",
       "      <th>2</th>\n",
       "      <td>006502097C</td>\n",
       "    </tr>\n",
       "  </tbody>\n",
       "</table>\n",
       "</div>"
      ],
      "text/plain": [
       "<div>\n",
       "<style scoped>\n",
       "    .dataframe tbody tr th:only-of-type {\n",
       "        vertical-align: middle;\n",
       "    }\n",
       "\n",
       "    .dataframe tbody tr th {\n",
       "        vertical-align: top;\n",
       "    }\n",
       "\n",
       "    .dataframe thead th {\n",
       "        text-align: right;\n",
       "    }\n",
       "</style>\n",
       "<table border=\"1\" class=\"dataframe\">\n",
       "  <thead>\n",
       "    <tr style=\"text-align: right;\">\n",
       "      <th></th>\n",
       "      <th>TDLR Number</th>\n",
       "    </tr>\n",
       "  </thead>\n",
       "  <tbody>\n",
       "    <tr>\n",
       "      <th>0</th>\n",
       "      <td>006507931C</td>\n",
       "    </tr>\n",
       "    <tr>\n",
       "      <th>1</th>\n",
       "      <td>006179570C</td>\n",
       "    </tr>\n",
       "    <tr>\n",
       "      <th>2</th>\n",
       "      <td>006502097C</td>\n",
       "    </tr>\n",
       "  </tbody>\n",
       "</table>\n",
       "</div>"
      ]
     },
     "execution_count": 33,
     "metadata": {},
     "output_type": "execute_result"
    }
   ],
   "source": [
    "df_licence_numbers_subset"
   ]
  },
  {
   "cell_type": "markdown",
   "metadata": {},
   "source": [
    "## Go through each row of the dataset, displaying the URL you will need to scrape for the information on that row\n",
    "\n",
    "You don't have to actually use the search form for each of these - look at the URL you're on, it has the number in it!\n",
    "\n",
    "For example, one URL might look like `https://www.tdlr.texas.gov/tools_search/mccs_display.asp?mcrnumber=006495492C`.\n",
    "\n",
    "- *TIP: Use .apply and a function*\n",
    "- *TIP: Unlike the Yelp example, you'll need to build this URL from pieces*\n",
    "- *TIP: You probably don't want to `print` unless you're going to fix it for the next question \n",
    "- *TIP: pandas won't showing you the entire url! Run `pd.set_option('display.max_colwidth', -1)` to display aaaalll of the text in a cell*"
   ]
  },
  {
   "cell_type": "code",
   "execution_count": 34,
   "metadata": {},
   "outputs": [],
   "source": [
    "def create_url(licence_number):\n",
    "  return 'https://www.tdlr.texas.gov/tools_search/mccs_display.asp?mcrnumber' \\\n",
    "         '={}'.format(licence_number)"
   ]
  },
  {
   "cell_type": "code",
   "execution_count": 35,
   "metadata": {},
   "outputs": [],
   "source": [
    "df_licence_numbers_subset['url'] = df_licence_numbers_subset['TDLR Number'].apply(create_url)"
   ]
  },
  {
   "cell_type": "code",
   "execution_count": 36,
   "metadata": {},
   "outputs": [
    {
     "data": {
      "text/html": [
       "<div>\n",
       "<style scoped>\n",
       "    .dataframe tbody tr th:only-of-type {\n",
       "        vertical-align: middle;\n",
       "    }\n",
       "\n",
       "    .dataframe tbody tr th {\n",
       "        vertical-align: top;\n",
       "    }\n",
       "\n",
       "    .dataframe thead th {\n",
       "        text-align: right;\n",
       "    }\n",
       "</style>\n",
       "<table border=\"1\" class=\"dataframe\">\n",
       "  <thead>\n",
       "    <tr style=\"text-align: right;\">\n",
       "      <th></th>\n",
       "      <th>TDLR Number</th>\n",
       "      <th>url</th>\n",
       "    </tr>\n",
       "  </thead>\n",
       "  <tbody>\n",
       "    <tr>\n",
       "      <th>0</th>\n",
       "      <td>006507931C</td>\n",
       "      <td>https://www.tdlr.texas.gov/tools_search/mccs_d...</td>\n",
       "    </tr>\n",
       "    <tr>\n",
       "      <th>1</th>\n",
       "      <td>006179570C</td>\n",
       "      <td>https://www.tdlr.texas.gov/tools_search/mccs_d...</td>\n",
       "    </tr>\n",
       "    <tr>\n",
       "      <th>2</th>\n",
       "      <td>006502097C</td>\n",
       "      <td>https://www.tdlr.texas.gov/tools_search/mccs_d...</td>\n",
       "    </tr>\n",
       "  </tbody>\n",
       "</table>\n",
       "</div>"
      ],
      "text/plain": [
       "<div>\n",
       "<style scoped>\n",
       "    .dataframe tbody tr th:only-of-type {\n",
       "        vertical-align: middle;\n",
       "    }\n",
       "\n",
       "    .dataframe tbody tr th {\n",
       "        vertical-align: top;\n",
       "    }\n",
       "\n",
       "    .dataframe thead th {\n",
       "        text-align: right;\n",
       "    }\n",
       "</style>\n",
       "<table border=\"1\" class=\"dataframe\">\n",
       "  <thead>\n",
       "    <tr style=\"text-align: right;\">\n",
       "      <th></th>\n",
       "      <th>TDLR Number</th>\n",
       "      <th>url</th>\n",
       "    </tr>\n",
       "  </thead>\n",
       "  <tbody>\n",
       "    <tr>\n",
       "      <th>0</th>\n",
       "      <td>006507931C</td>\n",
       "      <td>https://www.tdlr.texas.gov/tools_search/mccs_d...</td>\n",
       "    </tr>\n",
       "    <tr>\n",
       "      <th>1</th>\n",
       "      <td>006179570C</td>\n",
       "      <td>https://www.tdlr.texas.gov/tools_search/mccs_d...</td>\n",
       "    </tr>\n",
       "    <tr>\n",
       "      <th>2</th>\n",
       "      <td>006502097C</td>\n",
       "      <td>https://www.tdlr.texas.gov/tools_search/mccs_d...</td>\n",
       "    </tr>\n",
       "  </tbody>\n",
       "</table>\n",
       "</div>"
      ]
     },
     "execution_count": 36,
     "metadata": {},
     "output_type": "execute_result"
    }
   ],
   "source": [
    "df_licence_numbers_subset"
   ]
  },
  {
   "cell_type": "markdown",
   "metadata": {},
   "source": [
    "### Save this URL into a new column of your dataframe, called `url`\n",
    "\n",
    "- *TIP: Use a function and `.apply`*\n",
    "- *TIP: Be sure to use `return`*"
   ]
  },
  {
   "cell_type": "code",
   "execution_count": 31,
   "metadata": {},
   "outputs": [],
   "source": [
    "# see above"
   ]
  },
  {
   "cell_type": "code",
   "execution_count": null,
   "metadata": {},
   "outputs": [],
   "source": []
  },
  {
   "cell_type": "code",
   "execution_count": null,
   "metadata": {},
   "outputs": [],
   "source": []
  },
  {
   "cell_type": "markdown",
   "metadata": {},
   "source": [
    "## Go through each row of the dataset, printing out information about each tow truck company.\n",
    "\n",
    "Now will be **scraping** inside of your function.\n",
    "\n",
    "- The business name\n",
    "- Owner/operator\n",
    "- Phone number\n",
    "- License status (Active, Expired, Etc)\n",
    "- Physical address\n",
    "\n",
    "Just print it out for now.\n",
    "\n",
    "- *TIP: use .apply*\n",
    "- *TIP: You'll be using the code you wrote before, but converted into a function*\n",
    "- *TIP: Remember how the TDLR Number is in the URL? You don't need to do the form submission if you don't want!*\n",
    "- *TIP: Make sure you adjust any variables so you don't scrape the same page again and again*"
   ]
  },
  {
   "cell_type": "code",
   "execution_count": 50,
   "metadata": {},
   "outputs": [],
   "source": [
    "def scrape_licence_information(url):\n",
    "  driver.get(url)\n",
    "  # - The business name\n",
    "  business_name = driver.find_element_by_xpath('/html/body/div/div['\n",
    "                                               '1]/div/table/tbody/tr/td/font/table[2]/tbody/tr[2]/td[1]').text\n",
    "  # - Owner/operator\n",
    "  owner = driver.find_element_by_xpath('/html/body/div/div['\n",
    "                                       '1]/div/table/tbody/tr/td/font/table['\n",
    "                                       '2]/tbody/tr[3]/td[1]').text\n",
    "\n",
    "  # - Phone number\n",
    "  phone_number = driver.find_element_by_xpath('/html/body/div/div['\n",
    "                                              '1]/div/table/tbody/tr/td/font/table[2]/tbody/tr[last()]/td[1]').text\n",
    "  # - License status (Active, Expired, Etc)\n",
    "  licence_status = driver.find_element_by_xpath('/html/body/div/div['\n",
    "                                                '1]/div/table/tbody/tr/td/font/table[3]/tbody/tr[1]/td[2]').text\n",
    "  # - Physical address\n",
    "  address = driver.find_element_by_xpath('/html/body/div/div['\n",
    "                                         '1]/div/table/tbody/tr/td/font/table['\n",
    "                                         '3]/tbody/tr[2]/td[2]').text\n",
    "\n",
    "  # simple cleanup, use a dict, because we're gonna end up using a dict anyway,\n",
    "  #  I'd wager\n",
    "  extracted_data = {\n",
    "    'business_name': get_cleaned_up_data(business_name),\n",
    "    'owner': get_cleaned_up_data(owner),\n",
    "    'phone': get_cleaned_up_data(phone_number),\n",
    "    'licence_status': get_cleaned_up_data(licence_status),\n",
    "    'address': get_cleaned_up_data(address)\n",
    "  }\n",
    "\n",
    "  return pd.Series(extracted_data)\n"
   ]
  },
  {
   "cell_type": "code",
   "execution_count": 51,
   "metadata": {},
   "outputs": [
    {
     "data": {
      "text/html": [
       "<div>\n",
       "<style scoped>\n",
       "    .dataframe tbody tr th:only-of-type {\n",
       "        vertical-align: middle;\n",
       "    }\n",
       "\n",
       "    .dataframe tbody tr th {\n",
       "        vertical-align: top;\n",
       "    }\n",
       "\n",
       "    .dataframe thead th {\n",
       "        text-align: right;\n",
       "    }\n",
       "</style>\n",
       "<table border=\"1\" class=\"dataframe\">\n",
       "  <thead>\n",
       "    <tr style=\"text-align: right;\">\n",
       "      <th></th>\n",
       "      <th>business_name</th>\n",
       "      <th>owner</th>\n",
       "      <th>phone</th>\n",
       "      <th>licence_status</th>\n",
       "      <th>address</th>\n",
       "    </tr>\n",
       "  </thead>\n",
       "  <tbody>\n",
       "    <tr>\n",
       "      <th>0</th>\n",
       "      <td>AUGUSTUS E SMITH</td>\n",
       "      <td>AUGUSTUS EUGENE SMITH / OWNER</td>\n",
       "      <td>9032276464</td>\n",
       "      <td>Active</td>\n",
       "      <td>103 N MAIN ST\\nBONHAM, TX. 75418</td>\n",
       "    </tr>\n",
       "    <tr>\n",
       "      <th>1</th>\n",
       "      <td>B.D. SMITH TOWING</td>\n",
       "      <td>BRANDT SMITH / OWNER</td>\n",
       "      <td>8173330706</td>\n",
       "      <td>Expired</td>\n",
       "      <td>13619 BRETT JACKSON RD.\\nFORT WORTH, TX. 76179</td>\n",
       "    </tr>\n",
       "    <tr>\n",
       "      <th>2</th>\n",
       "      <td>BARRY MICHAEL SMITH</td>\n",
       "      <td>BARRY MICHAEL SMITH / OWNER</td>\n",
       "      <td>8066544404</td>\n",
       "      <td>Active</td>\n",
       "      <td>4501 W CEMETERY RD\\nCANYON, TX. 79015</td>\n",
       "    </tr>\n",
       "  </tbody>\n",
       "</table>\n",
       "</div>"
      ],
      "text/plain": [
       "<div>\n",
       "<style scoped>\n",
       "    .dataframe tbody tr th:only-of-type {\n",
       "        vertical-align: middle;\n",
       "    }\n",
       "\n",
       "    .dataframe tbody tr th {\n",
       "        vertical-align: top;\n",
       "    }\n",
       "\n",
       "    .dataframe thead th {\n",
       "        text-align: right;\n",
       "    }\n",
       "</style>\n",
       "<table border=\"1\" class=\"dataframe\">\n",
       "  <thead>\n",
       "    <tr style=\"text-align: right;\">\n",
       "      <th></th>\n",
       "      <th>business_name</th>\n",
       "      <th>owner</th>\n",
       "      <th>phone</th>\n",
       "      <th>licence_status</th>\n",
       "      <th>address</th>\n",
       "    </tr>\n",
       "  </thead>\n",
       "  <tbody>\n",
       "    <tr>\n",
       "      <th>0</th>\n",
       "      <td>AUGUSTUS E SMITH</td>\n",
       "      <td>AUGUSTUS EUGENE SMITH / OWNER</td>\n",
       "      <td>9032276464</td>\n",
       "      <td>Active</td>\n",
       "      <td>103 N MAIN ST\\nBONHAM, TX. 75418</td>\n",
       "    </tr>\n",
       "    <tr>\n",
       "      <th>1</th>\n",
       "      <td>B.D. SMITH TOWING</td>\n",
       "      <td>BRANDT SMITH / OWNER</td>\n",
       "      <td>8173330706</td>\n",
       "      <td>Expired</td>\n",
       "      <td>13619 BRETT JACKSON RD.\\nFORT WORTH, TX. 76179</td>\n",
       "    </tr>\n",
       "    <tr>\n",
       "      <th>2</th>\n",
       "      <td>BARRY MICHAEL SMITH</td>\n",
       "      <td>BARRY MICHAEL SMITH / OWNER</td>\n",
       "      <td>8066544404</td>\n",
       "      <td>Active</td>\n",
       "      <td>4501 W CEMETERY RD\\nCANYON, TX. 79015</td>\n",
       "    </tr>\n",
       "  </tbody>\n",
       "</table>\n",
       "</div>"
      ]
     },
     "execution_count": 51,
     "metadata": {},
     "output_type": "execute_result"
    }
   ],
   "source": [
    "df_licence_numbers_subset['url'].apply(scrape_licence_information)"
   ]
  },
  {
   "cell_type": "code",
   "execution_count": null,
   "metadata": {},
   "outputs": [],
   "source": []
  },
  {
   "cell_type": "markdown",
   "metadata": {},
   "source": [
    "## Scrape the following information for each row of the dataset, and save it into new columns in your dataframe.\n",
    "\n",
    "- The business name\n",
    "- Owner/operator\n",
    "- Phone number\n",
    "- License status (Active, Expired, Etc)\n",
    "- Physical address\n",
    "\n",
    "It's basically what we did before, but using the function a little differently.\n",
    "\n",
    "- *TIP: Same as above, but you'll be returning a `pd.Series` and the `.apply` line is going to be a lot longer*\n",
    "- *TIP: Save it to a new dataframe!*\n",
    "- *TIP: Make sure you change your `df` variable names correctly if you're cutting and pasting - there are a few so it can get tricky*"
   ]
  },
  {
   "cell_type": "code",
   "execution_count": 41,
   "metadata": {},
   "outputs": [],
   "source": [
    "df_scraped_data = df_licence_numbers_subset['url'].apply(scrape_licence_information)"
   ]
  },
  {
   "cell_type": "code",
   "execution_count": 42,
   "metadata": {},
   "outputs": [],
   "source": [
    "df_tow_trucks = df_licence_numbers_subset.join(df_scraped_data)"
   ]
  },
  {
   "cell_type": "code",
   "execution_count": 43,
   "metadata": {},
   "outputs": [
    {
     "data": {
      "text/html": [
       "<div>\n",
       "<style scoped>\n",
       "    .dataframe tbody tr th:only-of-type {\n",
       "        vertical-align: middle;\n",
       "    }\n",
       "\n",
       "    .dataframe tbody tr th {\n",
       "        vertical-align: top;\n",
       "    }\n",
       "\n",
       "    .dataframe thead th {\n",
       "        text-align: right;\n",
       "    }\n",
       "</style>\n",
       "<table border=\"1\" class=\"dataframe\">\n",
       "  <thead>\n",
       "    <tr style=\"text-align: right;\">\n",
       "      <th></th>\n",
       "      <th>TDLR Number</th>\n",
       "      <th>url</th>\n",
       "      <th>business_name</th>\n",
       "      <th>owner</th>\n",
       "      <th>phone</th>\n",
       "      <th>licence_status</th>\n",
       "      <th>address</th>\n",
       "    </tr>\n",
       "  </thead>\n",
       "  <tbody>\n",
       "    <tr>\n",
       "      <th>0</th>\n",
       "      <td>006507931C</td>\n",
       "      <td>https://www.tdlr.texas.gov/tools_search/mccs_d...</td>\n",
       "      <td>AUGUSTUS E SMITH</td>\n",
       "      <td>AUGUSTUS EUGENE SMITH / OWNER</td>\n",
       "      <td>9032276464</td>\n",
       "      <td>Active</td>\n",
       "      <td>103 N MAIN ST\\nBONHAM, TX. 75418</td>\n",
       "    </tr>\n",
       "    <tr>\n",
       "      <th>1</th>\n",
       "      <td>006179570C</td>\n",
       "      <td>https://www.tdlr.texas.gov/tools_search/mccs_d...</td>\n",
       "      <td>B.D. SMITH TOWING</td>\n",
       "      <td>BRANDT SMITH / OWNER</td>\n",
       "      <td>8173330706</td>\n",
       "      <td>Expired</td>\n",
       "      <td>13619 BRETT JACKSON RD.\\nFORT WORTH, TX. 76179</td>\n",
       "    </tr>\n",
       "    <tr>\n",
       "      <th>2</th>\n",
       "      <td>006502097C</td>\n",
       "      <td>https://www.tdlr.texas.gov/tools_search/mccs_d...</td>\n",
       "      <td>BARRY MICHAEL SMITH</td>\n",
       "      <td>BARRY MICHAEL SMITH / OWNER</td>\n",
       "      <td>8066544404</td>\n",
       "      <td>Active</td>\n",
       "      <td>4501 W CEMETERY RD\\nCANYON, TX. 79015</td>\n",
       "    </tr>\n",
       "  </tbody>\n",
       "</table>\n",
       "</div>"
      ],
      "text/plain": [
       "<div>\n",
       "<style scoped>\n",
       "    .dataframe tbody tr th:only-of-type {\n",
       "        vertical-align: middle;\n",
       "    }\n",
       "\n",
       "    .dataframe tbody tr th {\n",
       "        vertical-align: top;\n",
       "    }\n",
       "\n",
       "    .dataframe thead th {\n",
       "        text-align: right;\n",
       "    }\n",
       "</style>\n",
       "<table border=\"1\" class=\"dataframe\">\n",
       "  <thead>\n",
       "    <tr style=\"text-align: right;\">\n",
       "      <th></th>\n",
       "      <th>TDLR Number</th>\n",
       "      <th>url</th>\n",
       "      <th>business_name</th>\n",
       "      <th>owner</th>\n",
       "      <th>phone</th>\n",
       "      <th>licence_status</th>\n",
       "      <th>address</th>\n",
       "    </tr>\n",
       "  </thead>\n",
       "  <tbody>\n",
       "    <tr>\n",
       "      <th>0</th>\n",
       "      <td>006507931C</td>\n",
       "      <td>https://www.tdlr.texas.gov/tools_search/mccs_d...</td>\n",
       "      <td>AUGUSTUS E SMITH</td>\n",
       "      <td>AUGUSTUS EUGENE SMITH / OWNER</td>\n",
       "      <td>9032276464</td>\n",
       "      <td>Active</td>\n",
       "      <td>103 N MAIN ST\\nBONHAM, TX. 75418</td>\n",
       "    </tr>\n",
       "    <tr>\n",
       "      <th>1</th>\n",
       "      <td>006179570C</td>\n",
       "      <td>https://www.tdlr.texas.gov/tools_search/mccs_d...</td>\n",
       "      <td>B.D. SMITH TOWING</td>\n",
       "      <td>BRANDT SMITH / OWNER</td>\n",
       "      <td>8173330706</td>\n",
       "      <td>Expired</td>\n",
       "      <td>13619 BRETT JACKSON RD.\\nFORT WORTH, TX. 76179</td>\n",
       "    </tr>\n",
       "    <tr>\n",
       "      <th>2</th>\n",
       "      <td>006502097C</td>\n",
       "      <td>https://www.tdlr.texas.gov/tools_search/mccs_d...</td>\n",
       "      <td>BARRY MICHAEL SMITH</td>\n",
       "      <td>BARRY MICHAEL SMITH / OWNER</td>\n",
       "      <td>8066544404</td>\n",
       "      <td>Active</td>\n",
       "      <td>4501 W CEMETERY RD\\nCANYON, TX. 79015</td>\n",
       "    </tr>\n",
       "  </tbody>\n",
       "</table>\n",
       "</div>"
      ]
     },
     "execution_count": 43,
     "metadata": {},
     "output_type": "execute_result"
    }
   ],
   "source": [
    "df_tow_trucks"
   ]
  },
  {
   "cell_type": "markdown",
   "metadata": {},
   "source": [
    "### Save your dataframe as a CSV named `tow-trucks-extended.csv`"
   ]
  },
  {
   "cell_type": "code",
   "execution_count": 44,
   "metadata": {},
   "outputs": [],
   "source": [
    "df_tow_trucks.to_csv('08-homework/tow-trucks-extended.csv', index=False)"
   ]
  },
  {
   "cell_type": "markdown",
   "metadata": {},
   "source": [
    "### Re-open your dataframe to confirm you didn't save any extra weird columns"
   ]
  },
  {
   "cell_type": "code",
   "execution_count": 46,
   "metadata": {},
   "outputs": [],
   "source": [
    "# yeah, yeah, it's fine"
   ]
  },
  {
   "cell_type": "markdown",
   "metadata": {},
   "source": [
    "## Process the entire `tow-trucks.csv` file\n",
    "\n",
    "We just did it on a short subset so far. Now try it on all of the tow trucks. **Save as the same filename as before**"
   ]
  },
  {
   "cell_type": "code",
   "execution_count": 47,
   "metadata": {},
   "outputs": [],
   "source": [
    "df_all_numbers = pd.read_csv('08-homework/tow-trucks.csv')"
   ]
  },
  {
   "cell_type": "code",
   "execution_count": 54,
   "metadata": {},
   "outputs": [],
   "source": [
    "df_all_numbers['TDLR Number']\\\n",
    "  .apply(create_url)\\\n",
    "  .apply(scrape_licence_information)\\\n",
    "  .join(df_all_numbers)\\\n",
    "  .to_csv('08-homework/tow-trucks-extended.csv', index=False)\n"
   ]
  },
  {
   "cell_type": "code",
   "execution_count": 53,
   "metadata": {},
   "outputs": [],
   "source": [
    ""
   ]
  },
  {
   "cell_type": "code",
   "execution_count": null,
   "metadata": {},
   "outputs": [],
   "source": []
  }
 ],
 "metadata": {
  "kernelspec": {
   "display_name": "Python 3",
   "language": "python",
   "name": "python3"
  },
  "language_info": {
   "codemirror_mode": {
    "name": "ipython",
    "version": 3
   },
   "file_extension": ".py",
   "mimetype": "text/x-python",
   "name": "python",
   "nbconvert_exporter": "python",
   "pygments_lexer": "ipython3",
   "version": "3.6.4"
  }
 },
 "nbformat": 4,
 "nbformat_minor": 2
}
