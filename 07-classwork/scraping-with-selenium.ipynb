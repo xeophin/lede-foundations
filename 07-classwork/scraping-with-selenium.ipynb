{
 "cells": [
  {
   "cell_type": "markdown",
   "metadata": {
    "collapsed": true
   },
   "source": [
    "# Scraping with Selenium"
   ]
  },
  {
   "cell_type": "code",
   "execution_count": 1,
   "metadata": {},
   "outputs": [],
   "source": [
    "import requests\n",
    "from bs4 import BeautifulSoup"
   ]
  },
  {
   "cell_type": "code",
   "execution_count": 4,
   "metadata": {},
   "outputs": [],
   "source": [
    "response = requests.get('http://www.hm.com/us/products/sale/home')\n",
    "doc = BeautifulSoup(response.text, \"html.parser\")"
   ]
  },
  {
   "cell_type": "code",
   "execution_count": 8,
   "metadata": {},
   "outputs": [],
   "source": [
    "products = doc.select('.product-title')"
   ]
  },
  {
   "cell_type": "code",
   "execution_count": 9,
   "metadata": {},
   "outputs": [
    {
     "data": {
      "text/plain": [
       "0"
      ]
     },
     "execution_count": 9,
     "metadata": {},
     "output_type": "execute_result"
    }
   ],
   "source": [
    "len(products)"
   ]
  },
  {
   "cell_type": "markdown",
   "metadata": {},
   "source": [
    "This does not work, since it is a modern webpage, meaning all the data and the elements are passed in using JavaScript."
   ]
  },
  {
   "cell_type": "markdown",
   "metadata": {},
   "source": [
    "So instead, we are using Selenium"
   ]
  },
  {
   "cell_type": "code",
   "execution_count": 6,
   "metadata": {},
   "outputs": [
    {
     "name": "stdout",
     "output_type": "stream",
     "text": [
      "As Kim Meeting Nears, Trump Is Confident, but Gaps Remain\nLive Updates: All Eyes on Singapore\nTrump’s ‘Bully’ Attack on Trudeau Outrages Canadians\nDrama Re-energizes Trump, While Tired Aides Eye Exits\nThe Nine Steps Required\nto Really Disarm North Korea\n"
     ]
    },
    {
     "name": "stdout",
     "output_type": "stream",
     "text": [
      "Clash With Canada Isolates Trump Ahead of Meeting\nEven a Deal-Making Past Can’t Prepare Trump for This\nNixon Did It. Why Not Trump? Crib Notes for a Summit\nSupreme Court Upholds Ohio’s Aggressive Purge of Voting Rolls\nWas It a False Confession in ‘Making a Murderer’? The Supreme Court May Decide\nThey’re Running for Governor. In the Way: Money and Men.\n"
     ]
    },
    {
     "name": "stdout",
     "output_type": "stream",
     "text": [
      "Mexico Could Press Bribery Charges.\nIt Just Hasn’t.\nAmazon Studios’ New Boss Is Looking for Creative Talent\nHow You Could Be Affected Now That Net Neutrality Is Over\nDealmakers Brace Ahead of AT&T-Time Warner Ruling\n"
     ]
    },
    {
     "name": "stdout",
     "output_type": "stream",
     "text": [
      "Pope Accepts Resignation of Bishop Tied to Abuse Scandal 11:39 AM ET\nHong Kong Activist Given 6 Years in Prison for Police Clash\nCraigslist Founder Gives $20 Million to CUNY Journalism\nItaly’s New Government Turns Away Ship With Migrants Aboard 10:49 AM ET\n"
     ]
    },
    {
     "name": "stdout",
     "output_type": "stream",
     "text": [
      "U.N. Pulls Out of City in Yemen, Fearing Bloody Assault 10:27 AM ET\nICE Came for a Tennessee Town’s Immigrants. The Town Fought Back.\n‘The Daily’: Allies and Enemies\n\nStruggle With Self-Control? Take Yourself Out of the Equation\nWhat to Cook This Week\n"
     ]
    },
    {
     "name": "stdout",
     "output_type": "stream",
     "text": [
      "The Best and Worst of the Tony Awards\n‘The Band’s Visit’ Sweeps the Tonys, Winning 10 Prizes\nReview: Hope and Restraint, and Then Robert De Niro\nScientists Can Design ‘Better’ Babies.\nShould They?\nWhere the Debate Over ‘Designer Babies’ Began\nThe Art World Is Easy to Dislike. Here’s Why Not To.\n"
     ]
    },
    {
     "name": "stdout",
     "output_type": "stream",
     "text": [
      "How Suicide Quietly Became a Public Health Crisis\nLies and Cover-Up by New York City Housing Authority\nThe Last Days of Time Inc.\nGender Letter\nSee Latest Edition »\nWorld Cup: Group-by-Group Analysis\n10 Movies for Fans of ‘Jurassic Park’\nThe Poetic Justice of Stella Abrera’s Juliet\n"
     ]
    },
    {
     "name": "stdout",
     "output_type": "stream",
     "text": [
      "\n\n\n\n"
     ]
    },
    {
     "name": "stdout",
     "output_type": "stream",
     "text": [
      "Trump Tries to Destroy the West\nOn an Average Day, 96 Americans Die By Firearms\nBlow: A Present-Day Bull Connor\nCohen: Why Trump Knows Nothing of Africa\n"
     ]
    },
    {
     "name": "stdout",
     "output_type": "stream",
     "text": [
      "Krugman: Debacle in Quebec\nOn Father’s Day, Skip the Politics\nThe Philosopher as Bad Dad\nIn Japan, Too, Outrageous Is the New Normal\n"
     ]
    },
    {
     "name": "stdout",
     "output_type": "stream",
     "text": [
      "Is the World Cup for Nationalists or Citizens of the World?\nHow Northern Newspapers Covered Lynchings\nSuicide Rates Are Rising. What Should We Do?\nSign Up for Our World Cup Newsletter »\n\n\n\n‘You Have to Be Girl-Power Tough’: Pageant Competitors Weigh In on Miss America"
     ]
    },
    {
     "name": "stdout",
     "output_type": "stream",
     "text": [
      "\nPlay Today’s Puzzle\n\n‘Ocean’s 8’ Is No. 1 at the Box Office\nI Have Post-Brokeness Stress Disorder\nHelping Fish Survive Trip Out of the Twilight Zone\nThe Warriors Know Dynasties Aren’t Easy\nThe Philosopher as Bad Dad\n"
     ]
    },
    {
     "name": "stdout",
     "output_type": "stream",
     "text": [
      "Keeping Children Safe at the Beach or Pool\nLive Briefing: Live Updates: President Trump to Meet Kim Jong-un of North Korea\nAs Trump-Kim Summit Nears, President Is Confident, but Wide Gaps Remain\nU.N. Pulls Out of City in Yemen, Fearing Bloody Assault by Arab Coalition\nThe Net Neutrality Repeal Is Official. Here’s How That Could Affect You.\nAudi Chief Rupert Stadler Is Investigated in VW Emissions Scandal\nCraigslist Founder Gives $20 Million to CUNY Journalism School\nIs the World Cup for Nationalists or Citizens of the World?\nDavid Leonhardt: Trump Tries to Destroy the West\nHow Northern Newspapers Covered Lynchings\nICE Came for a Tennessee Town’s Immigrants. The Town Fought Back.\n"
     ]
    },
    {
     "name": "stdout",
     "output_type": "stream",
     "text": [
      "Where the Debate Over ‘Designer Babies’ Began\nHonduran Man Kills Himself After Being Separated From Family at U.S. Border, Reports Say\nTrump Strikes Deal to Save China’s ZTE as North Korea Meeting Looms\nThe Shift: How I Learned to Stop Worrying and Love Electric Scooters\nTech Fix: Booking With Airbnb? Here’s Your Survival Guide\nThe Best and Worst of the Tony Awards 2018\nReview: Hope and Restraint at the Tonys. Then Came Robert De Niro.\nRobert De Niro Uses Profanity to Condemn Trump at Tony Awards\nSupreme Court Upholds Ohio’s Purge of Voting Rolls\nDemocratic Women Are Running for Governor. Men and Money Stand in Their Way.\n"
     ]
    },
    {
     "name": "stdout",
     "output_type": "stream",
     "text": [
      "Sidebar: Was It a False Confession in ‘Making a Murderer’? The Supreme Court May Decide\nCan Spicy Tweets Save Our Dictionaries?\nIHOP Promotes Burgers by ‘Changing’ Name to IHOb, Gets Reaction\nScene City: Andrew Garfield, Laurie Metcalf and Andrew Rannells at Tony After-Parties\nHome Is Where the Horror Is\n"
     ]
    },
    {
     "name": "stdout",
     "output_type": "stream",
     "text": [
      "‘Ocean’s 8’ Is No. 1 at the Box Office\nFred Rogers’s Life in 5 Artifacts\nNew York City Housing Authority, Accused of Endangering Residents, Agrees to Oversight\nCan a Subway Pusher Be Reformed? Yes, He Says, With Housing.\nHurricane Maria Casts Shadow Over Puerto Rican Parade\n"
     ]
    },
    {
     "name": "stdout",
     "output_type": "stream",
     "text": [
      "What’s Next for Justify? Maybe More Races, or Maybe Just the Breeding Shed\nThe Power Politics of Gianni Infantino\n2026 World Cup Host Vote Tracker: It’s Morocco vs. North America\nThe Best and Worst of the Tony Awards 2018\nReview: Hope and Restraint at the Tonys. Then Came Robert De Niro.\nParkland Students Give Surprise Tonys Performance After Teacher Gets Award\nTrilobites: Do You Know What Lightning Really Looks Like?\n"
     ]
    },
    {
     "name": "stdout",
     "output_type": "stream",
     "text": [
      "Trilobites: This Device Helps Fish Make It Out of the Twilight Zone Alive\nLife on Mars? Rover’s Latest Discovery Puts It ‘On the Table’\nLorraine Gordon, Keeper of the Village Vanguard Flame, Dies at 95\nMaria Bueno, Brazilian Tennis Star Who Reigned Over 1960s, Dies at 78\nDanny Kirwan, Guitarist in Fleetwood Mac’s Early Years, Dies at 68\nReview: Hope and Restraint at the Tonys. Then Came Robert De Niro.\n"
     ]
    },
    {
     "name": "stdout",
     "output_type": "stream",
     "text": [
      "An Appraisal: Anthony Bourdain: The Man Who Ate the World\nBillions: ‘Billions’ Season 3 Finale: Crash of the Titans\nLasik’s Risks Are Coming Into Sharper Focus\nBasics: Secrets of the Y Chromosome\nSalmonella Outbreak That Sickened 60 Is Linked to Pre-Cut Melons\nPursuits: Francine Prose on Montreal in the Spring: The Time of the Butterflies\nHow Anthony Bourdain Inspired Two World Travelers for The Times\nThe Best Asian Food in North America? Try British Columbia\n"
     ]
    },
    {
     "name": "stdout",
     "output_type": "stream",
     "text": [
      "Nonfiction: Misty Copeland Pirouettes Through Two Books on Dance\nNonfiction: Michael Pollan Drops Acid — and Comes Back From His Trip Convinced\nNonfiction: A Warning to Women of a Certain Age: Do Not Go Gentle Into That Good Nightdress\nColleges and State Laws Are Clamping Down on Fraternities\nIn the Age of Trump, Civics Courses Make a Comeback\nColleges Grapple With Where — or Whether — to Draw the Line on Free Speech\nAn Appraisal: Anthony Bourdain Was a Teller of Often Unappetizing Truths\nSorrow and Questions in a French Village After Anthony Bourdain’s Suicide\n‘Tony Was a Symphony’: Friends and Fans Remember Anthony Bourdain\n"
     ]
    },
    {
     "name": "stdout",
     "output_type": "stream",
     "text": [
      "Feature: First Canada Tried to Charm Trump. Now It’s Fighting Back.\nThe New York Issue: Love City: 24 Hours of Romance, Lust and Heartache in New York\nFour, Out of Many, Ways to Get Married\nRenters: Finding a Way to Stay in Harlem\nAsk Real Estate: When the Noises from Upstairs Are Worrisome\nWhat's Selling Now: Homes That Sold for Around $1,000,000\nCan Low-Intensity Care Solve High Health Care Costs?\nWhy Groups of 3 Will Ruin the World Cup (So Enjoy This One)\nWhat Is the Trade Deficit?\n24 Hours, 24 Kisses and 24 Magazine Covers\nEvery Time I Thought the Purdue Pharma OxyContin Story Was Over, I Was Wrong\nUnderstanding The Times: How The Times Decides When to Publish Leaked News\nAudi Chief Rupert Stadler Is Investigated in VW Emissions Scandal\nYour Money Adviser: Advice Has Changed on What Car to Buy for a Young Driver\n"
     ]
    },
    {
     "name": "stdout",
     "output_type": "stream",
     "text": [
      "Waymo to Buy Up to 62,000 Chrysler Minivans for Ride-Hailing Service\nNan Goldin Survived an Overdose to Fight the Opioid Epidemic\n: The Art World Is Easy to Dislike. Here Are Some Reasons Not to.\nA Conceptual Artist Sets The New York Times on Fire\nHomes That Sold for Around $1,000,000\nSearch for Homes for Sale or Rent\n"
     ]
    },
    {
     "name": "stdout",
     "output_type": "stream",
     "text": [
      "Mortgage Calculator\n"
     ]
    }
   ],
   "source": [
    "# Test whether Selenium is correctly installed\n",
    "from selenium import webdriver\n",
    "\n",
    "driver = webdriver.Firefox()\n",
    "driver.get(\"https://www.nytimes.com\")\n",
    "headlines = driver.find_elements_by_class_name(\"story-heading\")\n",
    "for headline in headlines:\n",
    "  print(headline.text.strip())"
   ]
  },
  {
   "cell_type": "markdown",
   "metadata": {},
   "source": [
    "## Do something interesting with Selenium"
   ]
  },
  {
   "cell_type": "code",
   "execution_count": 9,
   "metadata": {},
   "outputs": [
    {
     "name": "stdout",
     "output_type": "stream",
     "text": [
      "Beverage Glass\nSlub-weave Cushion Cover\nMetal Tea Light Holder\nJacquard-weave Cushion Cover\nSeat Cushion with Tassels\nCotton Cushion Cover\nJacquard-weave Cushion Cover\nCotton Canvas Cushion Cover\nJacquard-patterned Hand Towel\nDotted Duvet Cover Set\nWashed Linen Fitted Sheet\n"
     ]
    },
    {
     "name": "stdout",
     "output_type": "stream",
     "text": [
      "Stoneware Cake Box\nDotted Duvet Cover Set\nJacquard-weave Cushion Cover\n2-pack Curtain Panels\nJute Storage Basket\nPatterned Duvet Cover Set\nSlub-weave Cushion Cover\nPatterned Duvet Cover Set\nRound Wooden Cutting Board\nWashed Linen Bedskirt\nTwin Quilted Bedspread\nJersey Duvet Cover Set\nStriped Duvet Cover Set\nPatterned Cushion Cover\nMetal Tea Light Holder\nTextured-weave Cushion Cover\n"
     ]
    },
    {
     "name": "stdout",
     "output_type": "stream",
     "text": [
      "Jacquard-weave Throw\nCotton Seat Cushion\nRound Wooden Box\nLarge Jute Storage Basket\nJacquard-weave Cushion Cover\nPatterned Curtain Panel\nBraided Tray\nPorcelain Plate\n2-pack Curtain Panels\nCanvas Wall Storage Hanger\nPatterned Cushion Cover\n2-pack Curtain Panels\nMetal Candlestick\nLarge Soft Toy\n"
     ]
    },
    {
     "name": "stdout",
     "output_type": "stream",
     "text": [
      "Patterned Tray\n2-pack Curtain Panels\nGlass Pineapple Jar\n2-pack Curtain Panels\nRound Water Hyacinth Basket\nDiagonal-striped Cushion Cover\nRound Suede Mirror\nZebra print\nTextured Fleece Blanket\nLarge Wire Basket\nTextured Porcelain Dish\nPrinted Porcelain Plate\n"
     ]
    },
    {
     "name": "stdout",
     "output_type": "stream",
     "text": [
      "Christmas-print Cushion Cover\nMetal Trivet\nTall Metal Candlestick\nStoneware Plant Pot\nWall Decoration\nJacquard-weave Bath Towel\nMetal Watering Can\n"
     ]
    }
   ],
   "source": [
    "# use the previously defined driver\n",
    "driver = webdriver.Chrome()\n",
    "\n",
    "# Visit the URL\n",
    "driver.get('http://www.hm.com/us/products/sale/home')\n",
    "\n",
    "# Since this is a driver, we do not need to define a new variable that \n",
    "# contains the response, instead we continue to talk directly to the driver \n",
    "# and ask it for stuff\n",
    "product_names = driver.find_elements_by_class_name('product-title')\n",
    "for product in product_names:\n",
    "  print(product.text)"
   ]
  },
  {
   "cell_type": "code",
   "execution_count": 10,
   "metadata": {},
   "outputs": [
    {
     "name": "stdout",
     "output_type": "stream",
     "text": [
      "http://www.hm.com/us/product/70917?article=70917-A\nhttp://www.hm.com/us/product/91551?article=91551-A\nhttp://www.hm.com/us/product/50558?article=50558-E\nhttp://www.hm.com/us/product/72455?article=72455-A\nhttp://www.hm.com/us/product/83017?article=83017-B\nhttp://www.hm.com/us/product/69864?article=69864-D\nhttp://www.hm.com/us/product/83977?article=83977-A\nhttp://www.hm.com/us/product/59601?article=59601-Q\nhttp://www.hm.com/us/product/70452?article=70452-P\nhttp://www.hm.com/us/product/83667?article=83667-B\nhttp://www.hm.com/us/product/59937?article=59937-E\nhttp://www.hm.com/us/product/76261?article=76261-A\nhttp://www.hm.com/us/product/94237?article=94237-B\nhttp://www.hm.com/us/product/70878?article=70878-B\nhttp://www.hm.com/us/product/83455?article=83455-A\nhttp://www.hm.com/us/product/94574?article=94574-B\nhttp://www.hm.com/us/product/92813?article=92813-C\nhttp://www.hm.com/us/product/83694?article=83694-A\nhttp://www.hm.com/us/product/83416?article=83416-A\nhttp://www.hm.com/us/product/90885?article=90885-A\nhttp://www.hm.com/us/product/94273?article=94273-E\nhttp://www.hm.com/us/product/98117?article=98117-B\nhttp://www.hm.com/us/product/83413?article=83413-A\nhttp://www.hm.com/us/product/93002?article=93002-A\nhttp://www.hm.com/us/product/83691?article=83691-A\nhttp://www.hm.com/us/product/93415?article=93415-B\nhttp://www.hm.com/us/product/98181?article=98181-A\nhttp://www.hm.com/us/product/83209?article=83209-B\nhttp://www.hm.com/us/product/92909?article=92909-B\nhttp://www.hm.com/us/product/91875?article=91875-A\nhttp://www.hm.com/us/product/77896?article=77896-A\nhttp://www.hm.com/us/product/97170?article=97170-A\nhttp://www.hm.com/us/product/83701?article=83701-C\nhttp://www.hm.com/us/product/96497?article=96497-A\nhttp://www.hm.com/us/product/96665?article=96665-A\n"
     ]
    },
    {
     "name": "stdout",
     "output_type": "stream",
     "text": [
      "http://www.hm.com/us/product/97361?article=97361-B\nhttp://www.hm.com/us/product/39809?article=39809-A\nhttp://www.hm.com/us/product/82903?article=82903-A\nhttp://www.hm.com/us/product/83257?article=83257-A\nhttp://www.hm.com/us/product/95089?article=95089-A\nhttp://www.hm.com/us/product/83418?article=83418-A\nhttp://www.hm.com/us/product/76215?article=76215-A\nhttp://www.hm.com/us/product/91603?article=91603-A\nhttp://www.hm.com/us/product/84129?article=84129-G\nhttp://www.hm.com/us/product/96464?article=96464-A\nhttp://www.hm.com/us/product/72181?article=72181-A\nhttp://www.hm.com/us/product/81914?article=81914-B\nhttp://www.hm.com/us/product/71280?article=71280-A\nhttp://www.hm.com/us/product/81786?article=81786-B\nhttp://www.hm.com/us/product/83710?article=83710-A\nhttp://www.hm.com/us/product/92571?article=92571-A\nhttp://www.hm.com/us/product/70179?article=70179-B\nhttp://www.hm.com/us/product/95121?article=95121-B\nhttp://www.hm.com/us/product/76033?article=76033-B\nhttp://www.hm.com/us/product/82144?article=82144-B\nhttp://www.hm.com/us/product/95088?article=95088-B\nhttp://www.hm.com/us/product/90656?article=90656-A\nhttp://www.hm.com/us/product/94521?article=94521-A\n"
     ]
    },
    {
     "name": "stdout",
     "output_type": "stream",
     "text": [
      "http://www.hm.com/us/product/93299?article=93299-B\nhttp://www.hm.com/us/product/62062?article=62062-D\n"
     ]
    }
   ],
   "source": [
    "# get URLs\n",
    "urls = driver.find_elements_by_class_name('product-url')\n",
    "for url in urls:\n",
    "  print(url.get_attribute('href'))"
   ]
  },
  {
   "cell_type": "code",
   "execution_count": 11,
   "metadata": {},
   "outputs": [
    {
     "name": "stdout",
     "output_type": "stream",
     "text": [
      "http://lp.hm.com/hmprod?set=source%5B%2Fenvironment%2F2018%2FH00_0000_8be9281f1b5cbe7332d71cb6c104e7544a5f4a7b.jpg%5D%2Cmedia_type%5BLOOKBOOK%5D%2Ctshirt_size%5BXS%5D%2Cquality%5BM%5D%2Csr_x%5B-327%5D%2Csr_y%5B0%5D%2Csr_height%5B3496%5D%2Csr_width%5B2990%5D%2Chmver%5B0%5D&call=url%5Bfile%3A%2Fstudio2%2Fv1%2Fproduct.chain%5D\nhttp://lp.hm.com/hmprod?set=source%5B%2Fenvironment%2F2018%2FH00_0000_7d5e5d69ec66d348f7281892374280bc8baae5c2.jpg%5D%2Cmedia_type%5BLOOKBOOK%5D%2Ctshirt_size%5BXS%5D%2Cquality%5BM%5D%2Csr_x%5B-327%5D%2Csr_y%5B0%5D%2Csr_height%5B3496%5D%2Csr_width%5B2990%5D%2Chmver%5B0%5D&call=url%5Bfile%3A%2Fstudio2%2Fv1%2Fproduct.chain%5D\nhttp://lp.hm.com/hmprod?set=source%5B%2Fenvironment%2F2018%2FH00_0000_c2a0d0817be00a8713af56fa5543fa91851755d1.jpg%5D%2Cmedia_type%5BLOOKBOOK%5D%2Ctshirt_size%5BXS%5D%2Cquality%5BM%5D%2Csr_x%5B-327%5D%2Csr_y%5B0%5D%2Csr_height%5B3496%5D%2Csr_width%5B2990%5D%2Chmver%5B0%5D&call=url%5Bfile%3A%2Fstudio2%2Fv1%2Fproduct.chain%5D\nhttp://lp.hm.com/hmprod?set=source%5B%2Fmodel%2F2018%2FH00%200610776%20010%2099%20c4fbcd98c28ce01dbbbb35ef3fecbce0ee49ba0c.jpg%5D%2Cmedia_type%5BDESCRIPTIVE_STILL_LIFE%5D%2Ctshirt_size%5BXS%5D%2Cquality%5BM%5D%2Chmver%5B0%5D&call=url%5Bfile%3A%2Fstudio2%2Fv1%2Fproduct.chain%5D\nhttp://lp.hm.com/hmprod?set=source%5B%2Fenvironment%2F2018%2FH00_0000_88d8001e6153e2ee5469f730be6845b98450689f.jpg%5D%2Cmedia_type%5BLOOKBOOK%5D%2Ctshirt_size%5BXS%5D%2Cquality%5BM%5D%2Csr_x%5B-327%5D%2Csr_y%5B0%5D%2Csr_height%5B3496%5D%2Csr_width%5B2990%5D%2Chmver%5B0%5D&call=url%5Bfile%3A%2Fstudio2%2Fv1%2Fproduct.chain%5D\nhttp://lp.hm.com/hmprod?set=source%5B%2Fenvironment%2F2018%2FH00_0000_11d9e91074b5c68abdd390e7807e435de30722b5.jpg%5D%2Cmedia_type%5BLOOKBOOK%5D%2Ctshirt_size%5BXS%5D%2Cquality%5BM%5D%2Csr_x%5B-327%5D%2Csr_y%5B0%5D%2Csr_height%5B3496%5D%2Csr_width%5B2990%5D%2Chmver%5B0%5D&call=url%5Bfile%3A%2Fstudio2%2Fv1%2Fproduct.chain%5D\nhttp://lp.hm.com/hmprod?set=source%5B%2Fmodel%2F2018%2FG00%200553873%20048%2099%206bba779ae004b7582748257663f5bc62e1a9dba2.jpg%5D%2Cmedia_type%5BDESCRIPTIVE_STILL_LIFE%5D%2Ctshirt_size%5BXS%5D%2Cquality%5BM%5D%2Chmver%5B0%5D&call=url%5Bfile%3A%2Fstudio2%2Fv1%2Fproduct.chain%5D\nhttp://lp.hm.com/hmprod?set=source%5B%2Fmodel%2F2017%2FG00%200553873%20003%2066%203991.jpg%5D%2Cmedia_type%5BSTILL_LIFE_FRONT%5D%2Ctshirt_size%5BXS%5D%2Cquality%5BM%5D%2Chmver%5B1%5D&call=url%5Bfile%3A%2Flegacy%2Fv1%2Fproduct.chain%5D\nhttp://lp.hm.com/hmprod?set=source%5B%2Fmodel%2F2017%2FF00%200496798%20003%2055%200800.jpg%5D%2Cmedia_type%5BSTILL_LIFE_FRONT%5D%2Ctshirt_size%5BS%5D%2Cquality%5BM%5D%2Chmver%5B1%5D&call=url%5Bfile%3A%2Flegacy%2Fv1%2Fproduct.chain%5D\nhttp://lp.hm.com/hmprod?set=source%5B%2Fmodel%2F2017%2FG00%200580209%20001%2000%200000.jpg%5D%2Cmedia_type%5BSTILL_LIFE_FRONT%5D%2Ctshirt_size%5BS%5D%2Cquality%5BM%5D%2Chmver%5B0%5D&call=url%5Bfile%3A%2Flegacy%2Fv1%2Fproduct.chain%5D\nhttp://lp.hm.com/hmprod?set=source%5B%2Fmodel%2F2017%2FF00%200421133%20006%2055%201433.jpg%5D%2Cmedia_type%5BSTILL_LIFE_FRONT%5D%2Ctshirt_size%5BS%5D%2Cquality%5BM%5D%2Chmver%5B3%5D&call=url%5Bfile%3A%2Flegacy%2Fv1%2Fproduct.chain%5D\nhttp://lp.hm.com/hmprod?set=source%5B%2Fmodel%2F2017%2FF00%200532114%20001%2030%200415.jpg%5D%2Cmedia_type%5BSTILL_LIFE_FRONT%5D%2Ctshirt_size%5BS%5D%2Cquality%5BM%5D%2Chmver%5B1%5D&call=url%5Bfile%3A%2Flegacy%2Fv1%2Fproduct.chain%5D\ndata:image/png;base64,iVBORw0KGgoAAAANSUhEUgAAAAIAAAADCAYAAAC56t6BAAAAGXRFWHRTb2Z0d2FyZQBBZG9iZSBJbWFnZVJlYWR5ccllPAAAAyNpVFh0WE1MOmNvbS5hZG9iZS54bXAAAAAAADw/eHBhY2tldCBiZWdpbj0i77u/IiBpZD0iVzVNME1wQ2VoaUh6cmVTek5UY3prYzlkIj8+IDx4OnhtcG1ldGEgeG1sbnM6eD0iYWRvYmU6bnM6bWV0YS8iIHg6eG1wdGs9IkFkb2JlIFhNUCBDb3JlIDUuNS1jMDIxIDc5LjE1NDkxMSwgMjAxMy8xMC8yOS0xMTo0NzoxNiAgICAgICAgIj4gPHJkZjpSREYgeG1sbnM6cmRmPSJodHRwOi8vd3d3LnczLm9yZy8xOTk5LzAyLzIyLXJkZi1zeW50YXgtbnMjIj4gPHJkZjpEZXNjcmlwdGlvbiByZGY6YWJvdXQ9IiIgeG1sbnM6eG1wPSJodHRwOi8vbnMuYWRvYmUuY29tL3hhcC8xLjAvIiB4bWxuczp4bXBNTT0iaHR0cDovL25zLmFkb2JlLmNvbS94YXAvMS4wL21tLyIgeG1sbnM6c3RSZWY9Imh0dHA6Ly9ucy5hZG9iZS5jb20veGFwLzEuMC9zVHlwZS9SZXNvdXJjZVJlZiMiIHhtcDpDcmVhdG9yVG9vbD0iQWRvYmUgUGhvdG9zaG9wIENDIChNYWNpbnRvc2gpIiB4bXBNTTpJbnN0YW5jZUlEPSJ4bXAuaWlkOjNCMUIyNUZEQjc4MDExRTVBRDg3REQzQUY1ODBBQTA4IiB4bXBNTTpEb2N1bWVudElEPSJ4bXAuZGlkOjNCMUIyNUZFQjc4MDExRTVBRDg3REQzQUY1ODBBQTA4Ij4gPHhtcE1NOkRlcml2ZWRGcm9tIHN0UmVmOmluc3RhbmNlSUQ9InhtcC5paWQ6M0IxQjI1RkJCNzgwMTFFNUFEODdERDNBRjU4MEFBMDgiIHN0UmVmOmRvY3VtZW50SUQ9InhtcC5kaWQ6M0IxQjI1RkNCNzgwMTFFNUFEODdERDNBRjU4MEFBMDgiLz4gPC9yZGY6RGVzY3JpcHRpb24+IDwvcmRmOlJERj4gPC94OnhtcG1ldGE+IDw/eHBhY2tldCBlbmQ9InIiPz443r1AAAAAFklEQVR42mL8//8/AwgwMUABnAEQYABLIQMD7kZaewAAAABJRU5ErkJggg==\ndata:image/png;base64,iVBORw0KGgoAAAANSUhEUgAAAAIAAAADCAYAAAC56t6BAAAAGXRFWHRTb2Z0d2FyZQBBZG9iZSBJbWFnZVJlYWR5ccllPAAAAyNpVFh0WE1MOmNvbS5hZG9iZS54bXAAAAAAADw/eHBhY2tldCBiZWdpbj0i77u/IiBpZD0iVzVNME1wQ2VoaUh6cmVTek5UY3prYzlkIj8+IDx4OnhtcG1ldGEgeG1sbnM6eD0iYWRvYmU6bnM6bWV0YS8iIHg6eG1wdGs9IkFkb2JlIFhNUCBDb3JlIDUuNS1jMDIxIDc5LjE1NDkxMSwgMjAxMy8xMC8yOS0xMTo0NzoxNiAgICAgICAgIj4gPHJkZjpSREYgeG1sbnM6cmRmPSJodHRwOi8vd3d3LnczLm9yZy8xOTk5LzAyLzIyLXJkZi1zeW50YXgtbnMjIj4gPHJkZjpEZXNjcmlwdGlvbiByZGY6YWJvdXQ9IiIgeG1sbnM6eG1wPSJodHRwOi8vbnMuYWRvYmUuY29tL3hhcC8xLjAvIiB4bWxuczp4bXBNTT0iaHR0cDovL25zLmFkb2JlLmNvbS94YXAvMS4wL21tLyIgeG1sbnM6c3RSZWY9Imh0dHA6Ly9ucy5hZG9iZS5jb20veGFwLzEuMC9zVHlwZS9SZXNvdXJjZVJlZiMiIHhtcDpDcmVhdG9yVG9vbD0iQWRvYmUgUGhvdG9zaG9wIENDIChNYWNpbnRvc2gpIiB4bXBNTTpJbnN0YW5jZUlEPSJ4bXAuaWlkOjNCMUIyNUZEQjc4MDExRTVBRDg3REQzQUY1ODBBQTA4IiB4bXBNTTpEb2N1bWVudElEPSJ4bXAuZGlkOjNCMUIyNUZFQjc4MDExRTVBRDg3REQzQUY1ODBBQTA4Ij4gPHhtcE1NOkRlcml2ZWRGcm9tIHN0UmVmOmluc3RhbmNlSUQ9InhtcC5paWQ6M0IxQjI1RkJCNzgwMTFFNUFEODdERDNBRjU4MEFBMDgiIHN0UmVmOmRvY3VtZW50SUQ9InhtcC5kaWQ6M0IxQjI1RkNCNzgwMTFFNUFEODdERDNBRjU4MEFBMDgiLz4gPC9yZGY6RGVzY3JpcHRpb24+IDwvcmRmOlJERj4gPC94OnhtcG1ldGE+IDw/eHBhY2tldCBlbmQ9InIiPz443r1AAAAAFklEQVR42mL8//8/AwgwMUABnAEQYABLIQMD7kZaewAAAABJRU5ErkJggg==\ndata:image/png;base64,iVBORw0KGgoAAAANSUhEUgAAAAIAAAADCAYAAAC56t6BAAAAGXRFWHRTb2Z0d2FyZQBBZG9iZSBJbWFnZVJlYWR5ccllPAAAAyNpVFh0WE1MOmNvbS5hZG9iZS54bXAAAAAAADw/eHBhY2tldCBiZWdpbj0i77u/IiBpZD0iVzVNME1wQ2VoaUh6cmVTek5UY3prYzlkIj8+IDx4OnhtcG1ldGEgeG1sbnM6eD0iYWRvYmU6bnM6bWV0YS8iIHg6eG1wdGs9IkFkb2JlIFhNUCBDb3JlIDUuNS1jMDIxIDc5LjE1NDkxMSwgMjAxMy8xMC8yOS0xMTo0NzoxNiAgICAgICAgIj4gPHJkZjpSREYgeG1sbnM6cmRmPSJodHRwOi8vd3d3LnczLm9yZy8xOTk5LzAyLzIyLXJkZi1zeW50YXgtbnMjIj4gPHJkZjpEZXNjcmlwdGlvbiByZGY6YWJvdXQ9IiIgeG1sbnM6eG1wPSJodHRwOi8vbnMuYWRvYmUuY29tL3hhcC8xLjAvIiB4bWxuczp4bXBNTT0iaHR0cDovL25zLmFkb2JlLmNvbS94YXAvMS4wL21tLyIgeG1sbnM6c3RSZWY9Imh0dHA6Ly9ucy5hZG9iZS5jb20veGFwLzEuMC9zVHlwZS9SZXNvdXJjZVJlZiMiIHhtcDpDcmVhdG9yVG9vbD0iQWRvYmUgUGhvdG9zaG9wIENDIChNYWNpbnRvc2gpIiB4bXBNTTpJbnN0YW5jZUlEPSJ4bXAuaWlkOjNCMUIyNUZEQjc4MDExRTVBRDg3REQzQUY1ODBBQTA4IiB4bXBNTTpEb2N1bWVudElEPSJ4bXAuZGlkOjNCMUIyNUZFQjc4MDExRTVBRDg3REQzQUY1ODBBQTA4Ij4gPHhtcE1NOkRlcml2ZWRGcm9tIHN0UmVmOmluc3RhbmNlSUQ9InhtcC5paWQ6M0IxQjI1RkJCNzgwMTFFNUFEODdERDNBRjU4MEFBMDgiIHN0UmVmOmRvY3VtZW50SUQ9InhtcC5kaWQ6M0IxQjI1RkNCNzgwMTFFNUFEODdERDNBRjU4MEFBMDgiLz4gPC9yZGY6RGVzY3JpcHRpb24+IDwvcmRmOlJERj4gPC94OnhtcG1ldGE+IDw/eHBhY2tldCBlbmQ9InIiPz443r1AAAAAFklEQVR42mL8//8/AwgwMUABnAEQYABLIQMD7kZaewAAAABJRU5ErkJggg==\ndata:image/png;base64,iVBORw0KGgoAAAANSUhEUgAAAAIAAAADCAYAAAC56t6BAAAAGXRFWHRTb2Z0d2FyZQBBZG9iZSBJbWFnZVJlYWR5ccllPAAAAyNpVFh0WE1MOmNvbS5hZG9iZS54bXAAAAAAADw/eHBhY2tldCBiZWdpbj0i77u/IiBpZD0iVzVNME1wQ2VoaUh6cmVTek5UY3prYzlkIj8+IDx4OnhtcG1ldGEgeG1sbnM6eD0iYWRvYmU6bnM6bWV0YS8iIHg6eG1wdGs9IkFkb2JlIFhNUCBDb3JlIDUuNS1jMDIxIDc5LjE1NDkxMSwgMjAxMy8xMC8yOS0xMTo0NzoxNiAgICAgICAgIj4gPHJkZjpSREYgeG1sbnM6cmRmPSJodHRwOi8vd3d3LnczLm9yZy8xOTk5LzAyLzIyLXJkZi1zeW50YXgtbnMjIj4gPHJkZjpEZXNjcmlwdGlvbiByZGY6YWJvdXQ9IiIgeG1sbnM6eG1wPSJodHRwOi8vbnMuYWRvYmUuY29tL3hhcC8xLjAvIiB4bWxuczp4bXBNTT0iaHR0cDovL25zLmFkb2JlLmNvbS94YXAvMS4wL21tLyIgeG1sbnM6c3RSZWY9Imh0dHA6Ly9ucy5hZG9iZS5jb20veGFwLzEuMC9zVHlwZS9SZXNvdXJjZVJlZiMiIHhtcDpDcmVhdG9yVG9vbD0iQWRvYmUgUGhvdG9zaG9wIENDIChNYWNpbnRvc2gpIiB4bXBNTTpJbnN0YW5jZUlEPSJ4bXAuaWlkOjNCMUIyNUZEQjc4MDExRTVBRDg3REQzQUY1ODBBQTA4IiB4bXBNTTpEb2N1bWVudElEPSJ4bXAuZGlkOjNCMUIyNUZFQjc4MDExRTVBRDg3REQzQUY1ODBBQTA4Ij4gPHhtcE1NOkRlcml2ZWRGcm9tIHN0UmVmOmluc3RhbmNlSUQ9InhtcC5paWQ6M0IxQjI1RkJCNzgwMTFFNUFEODdERDNBRjU4MEFBMDgiIHN0UmVmOmRvY3VtZW50SUQ9InhtcC5kaWQ6M0IxQjI1RkNCNzgwMTFFNUFEODdERDNBRjU4MEFBMDgiLz4gPC9yZGY6RGVzY3JpcHRpb24+IDwvcmRmOlJERj4gPC94OnhtcG1ldGE+IDw/eHBhY2tldCBlbmQ9InIiPz443r1AAAAAFklEQVR42mL8//8/AwgwMUABnAEQYABLIQMD7kZaewAAAABJRU5ErkJggg==\ndata:image/png;base64,iVBORw0KGgoAAAANSUhEUgAAAAIAAAADCAYAAAC56t6BAAAAGXRFWHRTb2Z0d2FyZQBBZG9iZSBJbWFnZVJlYWR5ccllPAAAAyNpVFh0WE1MOmNvbS5hZG9iZS54bXAAAAAAADw/eHBhY2tldCBiZWdpbj0i77u/IiBpZD0iVzVNME1wQ2VoaUh6cmVTek5UY3prYzlkIj8+IDx4OnhtcG1ldGEgeG1sbnM6eD0iYWRvYmU6bnM6bWV0YS8iIHg6eG1wdGs9IkFkb2JlIFhNUCBDb3JlIDUuNS1jMDIxIDc5LjE1NDkxMSwgMjAxMy8xMC8yOS0xMTo0NzoxNiAgICAgICAgIj4gPHJkZjpSREYgeG1sbnM6cmRmPSJodHRwOi8vd3d3LnczLm9yZy8xOTk5LzAyLzIyLXJkZi1zeW50YXgtbnMjIj4gPHJkZjpEZXNjcmlwdGlvbiByZGY6YWJvdXQ9IiIgeG1sbnM6eG1wPSJodHRwOi8vbnMuYWRvYmUuY29tL3hhcC8xLjAvIiB4bWxuczp4bXBNTT0iaHR0cDovL25zLmFkb2JlLmNvbS94YXAvMS4wL21tLyIgeG1sbnM6c3RSZWY9Imh0dHA6Ly9ucy5hZG9iZS5jb20veGFwLzEuMC9zVHlwZS9SZXNvdXJjZVJlZiMiIHhtcDpDcmVhdG9yVG9vbD0iQWRvYmUgUGhvdG9zaG9wIENDIChNYWNpbnRvc2gpIiB4bXBNTTpJbnN0YW5jZUlEPSJ4bXAuaWlkOjNCMUIyNUZEQjc4MDExRTVBRDg3REQzQUY1ODBBQTA4IiB4bXBNTTpEb2N1bWVudElEPSJ4bXAuZGlkOjNCMUIyNUZFQjc4MDExRTVBRDg3REQzQUY1ODBBQTA4Ij4gPHhtcE1NOkRlcml2ZWRGcm9tIHN0UmVmOmluc3RhbmNlSUQ9InhtcC5paWQ6M0IxQjI1RkJCNzgwMTFFNUFEODdERDNBRjU4MEFBMDgiIHN0UmVmOmRvY3VtZW50SUQ9InhtcC5kaWQ6M0IxQjI1RkNCNzgwMTFFNUFEODdERDNBRjU4MEFBMDgiLz4gPC9yZGY6RGVzY3JpcHRpb24+IDwvcmRmOlJERj4gPC94OnhtcG1ldGE+IDw/eHBhY2tldCBlbmQ9InIiPz443r1AAAAAFklEQVR42mL8//8/AwgwMUABnAEQYABLIQMD7kZaewAAAABJRU5ErkJggg==\ndata:image/png;base64,iVBORw0KGgoAAAANSUhEUgAAAAIAAAADCAYAAAC56t6BAAAAGXRFWHRTb2Z0d2FyZQBBZG9iZSBJbWFnZVJlYWR5ccllPAAAAyNpVFh0WE1MOmNvbS5hZG9iZS54bXAAAAAAADw/eHBhY2tldCBiZWdpbj0i77u/IiBpZD0iVzVNME1wQ2VoaUh6cmVTek5UY3prYzlkIj8+IDx4OnhtcG1ldGEgeG1sbnM6eD0iYWRvYmU6bnM6bWV0YS8iIHg6eG1wdGs9IkFkb2JlIFhNUCBDb3JlIDUuNS1jMDIxIDc5LjE1NDkxMSwgMjAxMy8xMC8yOS0xMTo0NzoxNiAgICAgICAgIj4gPHJkZjpSREYgeG1sbnM6cmRmPSJodHRwOi8vd3d3LnczLm9yZy8xOTk5LzAyLzIyLXJkZi1zeW50YXgtbnMjIj4gPHJkZjpEZXNjcmlwdGlvbiByZGY6YWJvdXQ9IiIgeG1sbnM6eG1wPSJodHRwOi8vbnMuYWRvYmUuY29tL3hhcC8xLjAvIiB4bWxuczp4bXBNTT0iaHR0cDovL25zLmFkb2JlLmNvbS94YXAvMS4wL21tLyIgeG1sbnM6c3RSZWY9Imh0dHA6Ly9ucy5hZG9iZS5jb20veGFwLzEuMC9zVHlwZS9SZXNvdXJjZVJlZiMiIHhtcDpDcmVhdG9yVG9vbD0iQWRvYmUgUGhvdG9zaG9wIENDIChNYWNpbnRvc2gpIiB4bXBNTTpJbnN0YW5jZUlEPSJ4bXAuaWlkOjNCMUIyNUZEQjc4MDExRTVBRDg3REQzQUY1ODBBQTA4IiB4bXBNTTpEb2N1bWVudElEPSJ4bXAuZGlkOjNCMUIyNUZFQjc4MDExRTVBRDg3REQzQUY1ODBBQTA4Ij4gPHhtcE1NOkRlcml2ZWRGcm9tIHN0UmVmOmluc3RhbmNlSUQ9InhtcC5paWQ6M0IxQjI1RkJCNzgwMTFFNUFEODdERDNBRjU4MEFBMDgiIHN0UmVmOmRvY3VtZW50SUQ9InhtcC5kaWQ6M0IxQjI1RkNCNzgwMTFFNUFEODdERDNBRjU4MEFBMDgiLz4gPC9yZGY6RGVzY3JpcHRpb24+IDwvcmRmOlJERj4gPC94OnhtcG1ldGE+IDw/eHBhY2tldCBlbmQ9InIiPz443r1AAAAAFklEQVR42mL8//8/AwgwMUABnAEQYABLIQMD7kZaewAAAABJRU5ErkJggg==\ndata:image/png;base64,iVBORw0KGgoAAAANSUhEUgAAAAIAAAADCAYAAAC56t6BAAAAGXRFWHRTb2Z0d2FyZQBBZG9iZSBJbWFnZVJlYWR5ccllPAAAAyNpVFh0WE1MOmNvbS5hZG9iZS54bXAAAAAAADw/eHBhY2tldCBiZWdpbj0i77u/IiBpZD0iVzVNME1wQ2VoaUh6cmVTek5UY3prYzlkIj8+IDx4OnhtcG1ldGEgeG1sbnM6eD0iYWRvYmU6bnM6bWV0YS8iIHg6eG1wdGs9IkFkb2JlIFhNUCBDb3JlIDUuNS1jMDIxIDc5LjE1NDkxMSwgMjAxMy8xMC8yOS0xMTo0NzoxNiAgICAgICAgIj4gPHJkZjpSREYgeG1sbnM6cmRmPSJodHRwOi8vd3d3LnczLm9yZy8xOTk5LzAyLzIyLXJkZi1zeW50YXgtbnMjIj4gPHJkZjpEZXNjcmlwdGlvbiByZGY6YWJvdXQ9IiIgeG1sbnM6eG1wPSJodHRwOi8vbnMuYWRvYmUuY29tL3hhcC8xLjAvIiB4bWxuczp4bXBNTT0iaHR0cDovL25zLmFkb2JlLmNvbS94YXAvMS4wL21tLyIgeG1sbnM6c3RSZWY9Imh0dHA6Ly9ucy5hZG9iZS5jb20veGFwLzEuMC9zVHlwZS9SZXNvdXJjZVJlZiMiIHhtcDpDcmVhdG9yVG9vbD0iQWRvYmUgUGhvdG9zaG9wIENDIChNYWNpbnRvc2gpIiB4bXBNTTpJbnN0YW5jZUlEPSJ4bXAuaWlkOjNCMUIyNUZEQjc4MDExRTVBRDg3REQzQUY1ODBBQTA4IiB4bXBNTTpEb2N1bWVudElEPSJ4bXAuZGlkOjNCMUIyNUZFQjc4MDExRTVBRDg3REQzQUY1ODBBQTA4Ij4gPHhtcE1NOkRlcml2ZWRGcm9tIHN0UmVmOmluc3RhbmNlSUQ9InhtcC5paWQ6M0IxQjI1RkJCNzgwMTFFNUFEODdERDNBRjU4MEFBMDgiIHN0UmVmOmRvY3VtZW50SUQ9InhtcC5kaWQ6M0IxQjI1RkNCNzgwMTFFNUFEODdERDNBRjU4MEFBMDgiLz4gPC9yZGY6RGVzY3JpcHRpb24+IDwvcmRmOlJERj4gPC94OnhtcG1ldGE+IDw/eHBhY2tldCBlbmQ9InIiPz443r1AAAAAFklEQVR42mL8//8/AwgwMUABnAEQYABLIQMD7kZaewAAAABJRU5ErkJggg==\ndata:image/png;base64,iVBORw0KGgoAAAANSUhEUgAAAAIAAAADCAYAAAC56t6BAAAAGXRFWHRTb2Z0d2FyZQBBZG9iZSBJbWFnZVJlYWR5ccllPAAAAyNpVFh0WE1MOmNvbS5hZG9iZS54bXAAAAAAADw/eHBhY2tldCBiZWdpbj0i77u/IiBpZD0iVzVNME1wQ2VoaUh6cmVTek5UY3prYzlkIj8+IDx4OnhtcG1ldGEgeG1sbnM6eD0iYWRvYmU6bnM6bWV0YS8iIHg6eG1wdGs9IkFkb2JlIFhNUCBDb3JlIDUuNS1jMDIxIDc5LjE1NDkxMSwgMjAxMy8xMC8yOS0xMTo0NzoxNiAgICAgICAgIj4gPHJkZjpSREYgeG1sbnM6cmRmPSJodHRwOi8vd3d3LnczLm9yZy8xOTk5LzAyLzIyLXJkZi1zeW50YXgtbnMjIj4gPHJkZjpEZXNjcmlwdGlvbiByZGY6YWJvdXQ9IiIgeG1sbnM6eG1wPSJodHRwOi8vbnMuYWRvYmUuY29tL3hhcC8xLjAvIiB4bWxuczp4bXBNTT0iaHR0cDovL25zLmFkb2JlLmNvbS94YXAvMS4wL21tLyIgeG1sbnM6c3RSZWY9Imh0dHA6Ly9ucy5hZG9iZS5jb20veGFwLzEuMC9zVHlwZS9SZXNvdXJjZVJlZiMiIHhtcDpDcmVhdG9yVG9vbD0iQWRvYmUgUGhvdG9zaG9wIENDIChNYWNpbnRvc2gpIiB4bXBNTTpJbnN0YW5jZUlEPSJ4bXAuaWlkOjNCMUIyNUZEQjc4MDExRTVBRDg3REQzQUY1ODBBQTA4IiB4bXBNTTpEb2N1bWVudElEPSJ4bXAuZGlkOjNCMUIyNUZFQjc4MDExRTVBRDg3REQzQUY1ODBBQTA4Ij4gPHhtcE1NOkRlcml2ZWRGcm9tIHN0UmVmOmluc3RhbmNlSUQ9InhtcC5paWQ6M0IxQjI1RkJCNzgwMTFFNUFEODdERDNBRjU4MEFBMDgiIHN0UmVmOmRvY3VtZW50SUQ9InhtcC5kaWQ6M0IxQjI1RkNCNzgwMTFFNUFEODdERDNBRjU4MEFBMDgiLz4gPC9yZGY6RGVzY3JpcHRpb24+IDwvcmRmOlJERj4gPC94OnhtcG1ldGE+IDw/eHBhY2tldCBlbmQ9InIiPz443r1AAAAAFklEQVR42mL8//8/AwgwMUABnAEQYABLIQMD7kZaewAAAABJRU5ErkJggg==\ndata:image/png;base64,iVBORw0KGgoAAAANSUhEUgAAAAIAAAADCAYAAAC56t6BAAAAGXRFWHRTb2Z0d2FyZQBBZG9iZSBJbWFnZVJlYWR5ccllPAAAAyNpVFh0WE1MOmNvbS5hZG9iZS54bXAAAAAAADw/eHBhY2tldCBiZWdpbj0i77u/IiBpZD0iVzVNME1wQ2VoaUh6cmVTek5UY3prYzlkIj8+IDx4OnhtcG1ldGEgeG1sbnM6eD0iYWRvYmU6bnM6bWV0YS8iIHg6eG1wdGs9IkFkb2JlIFhNUCBDb3JlIDUuNS1jMDIxIDc5LjE1NDkxMSwgMjAxMy8xMC8yOS0xMTo0NzoxNiAgICAgICAgIj4gPHJkZjpSREYgeG1sbnM6cmRmPSJodHRwOi8vd3d3LnczLm9yZy8xOTk5LzAyLzIyLXJkZi1zeW50YXgtbnMjIj4gPHJkZjpEZXNjcmlwdGlvbiByZGY6YWJvdXQ9IiIgeG1sbnM6eG1wPSJodHRwOi8vbnMuYWRvYmUuY29tL3hhcC8xLjAvIiB4bWxuczp4bXBNTT0iaHR0cDovL25zLmFkb2JlLmNvbS94YXAvMS4wL21tLyIgeG1sbnM6c3RSZWY9Imh0dHA6Ly9ucy5hZG9iZS5jb20veGFwLzEuMC9zVHlwZS9SZXNvdXJjZVJlZiMiIHhtcDpDcmVhdG9yVG9vbD0iQWRvYmUgUGhvdG9zaG9wIENDIChNYWNpbnRvc2gpIiB4bXBNTTpJbnN0YW5jZUlEPSJ4bXAuaWlkOjNCMUIyNUZEQjc4MDExRTVBRDg3REQzQUY1ODBBQTA4IiB4bXBNTTpEb2N1bWVudElEPSJ4bXAuZGlkOjNCMUIyNUZFQjc4MDExRTVBRDg3REQzQUY1ODBBQTA4Ij4gPHhtcE1NOkRlcml2ZWRGcm9tIHN0UmVmOmluc3RhbmNlSUQ9InhtcC5paWQ6M0IxQjI1RkJCNzgwMTFFNUFEODdERDNBRjU4MEFBMDgiIHN0UmVmOmRvY3VtZW50SUQ9InhtcC5kaWQ6M0IxQjI1RkNCNzgwMTFFNUFEODdERDNBRjU4MEFBMDgiLz4gPC9yZGY6RGVzY3JpcHRpb24+IDwvcmRmOlJERj4gPC94OnhtcG1ldGE+IDw/eHBhY2tldCBlbmQ9InIiPz443r1AAAAAFklEQVR42mL8//8/AwgwMUABnAEQYABLIQMD7kZaewAAAABJRU5ErkJggg==\ndata:image/png;base64,iVBORw0KGgoAAAANSUhEUgAAAAIAAAADCAYAAAC56t6BAAAAGXRFWHRTb2Z0d2FyZQBBZG9iZSBJbWFnZVJlYWR5ccllPAAAAyNpVFh0WE1MOmNvbS5hZG9iZS54bXAAAAAAADw/eHBhY2tldCBiZWdpbj0i77u/IiBpZD0iVzVNME1wQ2VoaUh6cmVTek5UY3prYzlkIj8+IDx4OnhtcG1ldGEgeG1sbnM6eD0iYWRvYmU6bnM6bWV0YS8iIHg6eG1wdGs9IkFkb2JlIFhNUCBDb3JlIDUuNS1jMDIxIDc5LjE1NDkxMSwgMjAxMy8xMC8yOS0xMTo0NzoxNiAgICAgICAgIj4gPHJkZjpSREYgeG1sbnM6cmRmPSJodHRwOi8vd3d3LnczLm9yZy8xOTk5LzAyLzIyLXJkZi1zeW50YXgtbnMjIj4gPHJkZjpEZXNjcmlwdGlvbiByZGY6YWJvdXQ9IiIgeG1sbnM6eG1wPSJodHRwOi8vbnMuYWRvYmUuY29tL3hhcC8xLjAvIiB4bWxuczp4bXBNTT0iaHR0cDovL25zLmFkb2JlLmNvbS94YXAvMS4wL21tLyIgeG1sbnM6c3RSZWY9Imh0dHA6Ly9ucy5hZG9iZS5jb20veGFwLzEuMC9zVHlwZS9SZXNvdXJjZVJlZiMiIHhtcDpDcmVhdG9yVG9vbD0iQWRvYmUgUGhvdG9zaG9wIENDIChNYWNpbnRvc2gpIiB4bXBNTTpJbnN0YW5jZUlEPSJ4bXAuaWlkOjNCMUIyNUZEQjc4MDExRTVBRDg3REQzQUY1ODBBQTA4IiB4bXBNTTpEb2N1bWVudElEPSJ4bXAuZGlkOjNCMUIyNUZFQjc4MDExRTVBRDg3REQzQUY1ODBBQTA4Ij4gPHhtcE1NOkRlcml2ZWRGcm9tIHN0UmVmOmluc3RhbmNlSUQ9InhtcC5paWQ6M0IxQjI1RkJCNzgwMTFFNUFEODdERDNBRjU4MEFBMDgiIHN0UmVmOmRvY3VtZW50SUQ9InhtcC5kaWQ6M0IxQjI1RkNCNzgwMTFFNUFEODdERDNBRjU4MEFBMDgiLz4gPC9yZGY6RGVzY3JpcHRpb24+IDwvcmRmOlJERj4gPC94OnhtcG1ldGE+IDw/eHBhY2tldCBlbmQ9InIiPz443r1AAAAAFklEQVR42mL8//8/AwgwMUABnAEQYABLIQMD7kZaewAAAABJRU5ErkJggg==\ndata:image/png;base64,iVBORw0KGgoAAAANSUhEUgAAAAIAAAADCAYAAAC56t6BAAAAGXRFWHRTb2Z0d2FyZQBBZG9iZSBJbWFnZVJlYWR5ccllPAAAAyNpVFh0WE1MOmNvbS5hZG9iZS54bXAAAAAAADw/eHBhY2tldCBiZWdpbj0i77u/IiBpZD0iVzVNME1wQ2VoaUh6cmVTek5UY3prYzlkIj8+IDx4OnhtcG1ldGEgeG1sbnM6eD0iYWRvYmU6bnM6bWV0YS8iIHg6eG1wdGs9IkFkb2JlIFhNUCBDb3JlIDUuNS1jMDIxIDc5LjE1NDkxMSwgMjAxMy8xMC8yOS0xMTo0NzoxNiAgICAgICAgIj4gPHJkZjpSREYgeG1sbnM6cmRmPSJodHRwOi8vd3d3LnczLm9yZy8xOTk5LzAyLzIyLXJkZi1zeW50YXgtbnMjIj4gPHJkZjpEZXNjcmlwdGlvbiByZGY6YWJvdXQ9IiIgeG1sbnM6eG1wPSJodHRwOi8vbnMuYWRvYmUuY29tL3hhcC8xLjAvIiB4bWxuczp4bXBNTT0iaHR0cDovL25zLmFkb2JlLmNvbS94YXAvMS4wL21tLyIgeG1sbnM6c3RSZWY9Imh0dHA6Ly9ucy5hZG9iZS5jb20veGFwLzEuMC9zVHlwZS9SZXNvdXJjZVJlZiMiIHhtcDpDcmVhdG9yVG9vbD0iQWRvYmUgUGhvdG9zaG9wIENDIChNYWNpbnRvc2gpIiB4bXBNTTpJbnN0YW5jZUlEPSJ4bXAuaWlkOjNCMUIyNUZEQjc4MDExRTVBRDg3REQzQUY1ODBBQTA4IiB4bXBNTTpEb2N1bWVudElEPSJ4bXAuZGlkOjNCMUIyNUZFQjc4MDExRTVBRDg3REQzQUY1ODBBQTA4Ij4gPHhtcE1NOkRlcml2ZWRGcm9tIHN0UmVmOmluc3RhbmNlSUQ9InhtcC5paWQ6M0IxQjI1RkJCNzgwMTFFNUFEODdERDNBRjU4MEFBMDgiIHN0UmVmOmRvY3VtZW50SUQ9InhtcC5kaWQ6M0IxQjI1RkNCNzgwMTFFNUFEODdERDNBRjU4MEFBMDgiLz4gPC9yZGY6RGVzY3JpcHRpb24+IDwvcmRmOlJERj4gPC94OnhtcG1ldGE+IDw/eHBhY2tldCBlbmQ9InIiPz443r1AAAAAFklEQVR42mL8//8/AwgwMUABnAEQYABLIQMD7kZaewAAAABJRU5ErkJggg==\ndata:image/png;base64,iVBORw0KGgoAAAANSUhEUgAAAAIAAAADCAYAAAC56t6BAAAAGXRFWHRTb2Z0d2FyZQBBZG9iZSBJbWFnZVJlYWR5ccllPAAAAyNpVFh0WE1MOmNvbS5hZG9iZS54bXAAAAAAADw/eHBhY2tldCBiZWdpbj0i77u/IiBpZD0iVzVNME1wQ2VoaUh6cmVTek5UY3prYzlkIj8+IDx4OnhtcG1ldGEgeG1sbnM6eD0iYWRvYmU6bnM6bWV0YS8iIHg6eG1wdGs9IkFkb2JlIFhNUCBDb3JlIDUuNS1jMDIxIDc5LjE1NDkxMSwgMjAxMy8xMC8yOS0xMTo0NzoxNiAgICAgICAgIj4gPHJkZjpSREYgeG1sbnM6cmRmPSJodHRwOi8vd3d3LnczLm9yZy8xOTk5LzAyLzIyLXJkZi1zeW50YXgtbnMjIj4gPHJkZjpEZXNjcmlwdGlvbiByZGY6YWJvdXQ9IiIgeG1sbnM6eG1wPSJodHRwOi8vbnMuYWRvYmUuY29tL3hhcC8xLjAvIiB4bWxuczp4bXBNTT0iaHR0cDovL25zLmFkb2JlLmNvbS94YXAvMS4wL21tLyIgeG1sbnM6c3RSZWY9Imh0dHA6Ly9ucy5hZG9iZS5jb20veGFwLzEuMC9zVHlwZS9SZXNvdXJjZVJlZiMiIHhtcDpDcmVhdG9yVG9vbD0iQWRvYmUgUGhvdG9zaG9wIENDIChNYWNpbnRvc2gpIiB4bXBNTTpJbnN0YW5jZUlEPSJ4bXAuaWlkOjNCMUIyNUZEQjc4MDExRTVBRDg3REQzQUY1ODBBQTA4IiB4bXBNTTpEb2N1bWVudElEPSJ4bXAuZGlkOjNCMUIyNUZFQjc4MDExRTVBRDg3REQzQUY1ODBBQTA4Ij4gPHhtcE1NOkRlcml2ZWRGcm9tIHN0UmVmOmluc3RhbmNlSUQ9InhtcC5paWQ6M0IxQjI1RkJCNzgwMTFFNUFEODdERDNBRjU4MEFBMDgiIHN0UmVmOmRvY3VtZW50SUQ9InhtcC5kaWQ6M0IxQjI1RkNCNzgwMTFFNUFEODdERDNBRjU4MEFBMDgiLz4gPC9yZGY6RGVzY3JpcHRpb24+IDwvcmRmOlJERj4gPC94OnhtcG1ldGE+IDw/eHBhY2tldCBlbmQ9InIiPz443r1AAAAAFklEQVR42mL8//8/AwgwMUABnAEQYABLIQMD7kZaewAAAABJRU5ErkJggg==\ndata:image/png;base64,iVBORw0KGgoAAAANSUhEUgAAAAIAAAADCAYAAAC56t6BAAAAGXRFWHRTb2Z0d2FyZQBBZG9iZSBJbWFnZVJlYWR5ccllPAAAAyNpVFh0WE1MOmNvbS5hZG9iZS54bXAAAAAAADw/eHBhY2tldCBiZWdpbj0i77u/IiBpZD0iVzVNME1wQ2VoaUh6cmVTek5UY3prYzlkIj8+IDx4OnhtcG1ldGEgeG1sbnM6eD0iYWRvYmU6bnM6bWV0YS8iIHg6eG1wdGs9IkFkb2JlIFhNUCBDb3JlIDUuNS1jMDIxIDc5LjE1NDkxMSwgMjAxMy8xMC8yOS0xMTo0NzoxNiAgICAgICAgIj4gPHJkZjpSREYgeG1sbnM6cmRmPSJodHRwOi8vd3d3LnczLm9yZy8xOTk5LzAyLzIyLXJkZi1zeW50YXgtbnMjIj4gPHJkZjpEZXNjcmlwdGlvbiByZGY6YWJvdXQ9IiIgeG1sbnM6eG1wPSJodHRwOi8vbnMuYWRvYmUuY29tL3hhcC8xLjAvIiB4bWxuczp4bXBNTT0iaHR0cDovL25zLmFkb2JlLmNvbS94YXAvMS4wL21tLyIgeG1sbnM6c3RSZWY9Imh0dHA6Ly9ucy5hZG9iZS5jb20veGFwLzEuMC9zVHlwZS9SZXNvdXJjZVJlZiMiIHhtcDpDcmVhdG9yVG9vbD0iQWRvYmUgUGhvdG9zaG9wIENDIChNYWNpbnRvc2gpIiB4bXBNTTpJbnN0YW5jZUlEPSJ4bXAuaWlkOjNCMUIyNUZEQjc4MDExRTVBRDg3REQzQUY1ODBBQTA4IiB4bXBNTTpEb2N1bWVudElEPSJ4bXAuZGlkOjNCMUIyNUZFQjc4MDExRTVBRDg3REQzQUY1ODBBQTA4Ij4gPHhtcE1NOkRlcml2ZWRGcm9tIHN0UmVmOmluc3RhbmNlSUQ9InhtcC5paWQ6M0IxQjI1RkJCNzgwMTFFNUFEODdERDNBRjU4MEFBMDgiIHN0UmVmOmRvY3VtZW50SUQ9InhtcC5kaWQ6M0IxQjI1RkNCNzgwMTFFNUFEODdERDNBRjU4MEFBMDgiLz4gPC9yZGY6RGVzY3JpcHRpb24+IDwvcmRmOlJERj4gPC94OnhtcG1ldGE+IDw/eHBhY2tldCBlbmQ9InIiPz443r1AAAAAFklEQVR42mL8//8/AwgwMUABnAEQYABLIQMD7kZaewAAAABJRU5ErkJggg==\ndata:image/png;base64,iVBORw0KGgoAAAANSUhEUgAAAAIAAAADCAYAAAC56t6BAAAAGXRFWHRTb2Z0d2FyZQBBZG9iZSBJbWFnZVJlYWR5ccllPAAAAyNpVFh0WE1MOmNvbS5hZG9iZS54bXAAAAAAADw/eHBhY2tldCBiZWdpbj0i77u/IiBpZD0iVzVNME1wQ2VoaUh6cmVTek5UY3prYzlkIj8+IDx4OnhtcG1ldGEgeG1sbnM6eD0iYWRvYmU6bnM6bWV0YS8iIHg6eG1wdGs9IkFkb2JlIFhNUCBDb3JlIDUuNS1jMDIxIDc5LjE1NDkxMSwgMjAxMy8xMC8yOS0xMTo0NzoxNiAgICAgICAgIj4gPHJkZjpSREYgeG1sbnM6cmRmPSJodHRwOi8vd3d3LnczLm9yZy8xOTk5LzAyLzIyLXJkZi1zeW50YXgtbnMjIj4gPHJkZjpEZXNjcmlwdGlvbiByZGY6YWJvdXQ9IiIgeG1sbnM6eG1wPSJodHRwOi8vbnMuYWRvYmUuY29tL3hhcC8xLjAvIiB4bWxuczp4bXBNTT0iaHR0cDovL25zLmFkb2JlLmNvbS94YXAvMS4wL21tLyIgeG1sbnM6c3RSZWY9Imh0dHA6Ly9ucy5hZG9iZS5jb20veGFwLzEuMC9zVHlwZS9SZXNvdXJjZVJlZiMiIHhtcDpDcmVhdG9yVG9vbD0iQWRvYmUgUGhvdG9zaG9wIENDIChNYWNpbnRvc2gpIiB4bXBNTTpJbnN0YW5jZUlEPSJ4bXAuaWlkOjNCMUIyNUZEQjc4MDExRTVBRDg3REQzQUY1ODBBQTA4IiB4bXBNTTpEb2N1bWVudElEPSJ4bXAuZGlkOjNCMUIyNUZFQjc4MDExRTVBRDg3REQzQUY1ODBBQTA4Ij4gPHhtcE1NOkRlcml2ZWRGcm9tIHN0UmVmOmluc3RhbmNlSUQ9InhtcC5paWQ6M0IxQjI1RkJCNzgwMTFFNUFEODdERDNBRjU4MEFBMDgiIHN0UmVmOmRvY3VtZW50SUQ9InhtcC5kaWQ6M0IxQjI1RkNCNzgwMTFFNUFEODdERDNBRjU4MEFBMDgiLz4gPC9yZGY6RGVzY3JpcHRpb24+IDwvcmRmOlJERj4gPC94OnhtcG1ldGE+IDw/eHBhY2tldCBlbmQ9InIiPz443r1AAAAAFklEQVR42mL8//8/AwgwMUABnAEQYABLIQMD7kZaewAAAABJRU5ErkJggg==\ndata:image/png;base64,iVBORw0KGgoAAAANSUhEUgAAAAIAAAADCAYAAAC56t6BAAAAGXRFWHRTb2Z0d2FyZQBBZG9iZSBJbWFnZVJlYWR5ccllPAAAAyNpVFh0WE1MOmNvbS5hZG9iZS54bXAAAAAAADw/eHBhY2tldCBiZWdpbj0i77u/IiBpZD0iVzVNME1wQ2VoaUh6cmVTek5UY3prYzlkIj8+IDx4OnhtcG1ldGEgeG1sbnM6eD0iYWRvYmU6bnM6bWV0YS8iIHg6eG1wdGs9IkFkb2JlIFhNUCBDb3JlIDUuNS1jMDIxIDc5LjE1NDkxMSwgMjAxMy8xMC8yOS0xMTo0NzoxNiAgICAgICAgIj4gPHJkZjpSREYgeG1sbnM6cmRmPSJodHRwOi8vd3d3LnczLm9yZy8xOTk5LzAyLzIyLXJkZi1zeW50YXgtbnMjIj4gPHJkZjpEZXNjcmlwdGlvbiByZGY6YWJvdXQ9IiIgeG1sbnM6eG1wPSJodHRwOi8vbnMuYWRvYmUuY29tL3hhcC8xLjAvIiB4bWxuczp4bXBNTT0iaHR0cDovL25zLmFkb2JlLmNvbS94YXAvMS4wL21tLyIgeG1sbnM6c3RSZWY9Imh0dHA6Ly9ucy5hZG9iZS5jb20veGFwLzEuMC9zVHlwZS9SZXNvdXJjZVJlZiMiIHhtcDpDcmVhdG9yVG9vbD0iQWRvYmUgUGhvdG9zaG9wIENDIChNYWNpbnRvc2gpIiB4bXBNTTpJbnN0YW5jZUlEPSJ4bXAuaWlkOjNCMUIyNUZEQjc4MDExRTVBRDg3REQzQUY1ODBBQTA4IiB4bXBNTTpEb2N1bWVudElEPSJ4bXAuZGlkOjNCMUIyNUZFQjc4MDExRTVBRDg3REQzQUY1ODBBQTA4Ij4gPHhtcE1NOkRlcml2ZWRGcm9tIHN0UmVmOmluc3RhbmNlSUQ9InhtcC5paWQ6M0IxQjI1RkJCNzgwMTFFNUFEODdERDNBRjU4MEFBMDgiIHN0UmVmOmRvY3VtZW50SUQ9InhtcC5kaWQ6M0IxQjI1RkNCNzgwMTFFNUFEODdERDNBRjU4MEFBMDgiLz4gPC9yZGY6RGVzY3JpcHRpb24+IDwvcmRmOlJERj4gPC94OnhtcG1ldGE+IDw/eHBhY2tldCBlbmQ9InIiPz443r1AAAAAFklEQVR42mL8//8/AwgwMUABnAEQYABLIQMD7kZaewAAAABJRU5ErkJggg==\ndata:image/png;base64,iVBORw0KGgoAAAANSUhEUgAAAAIAAAADCAYAAAC56t6BAAAAGXRFWHRTb2Z0d2FyZQBBZG9iZSBJbWFnZVJlYWR5ccllPAAAAyNpVFh0WE1MOmNvbS5hZG9iZS54bXAAAAAAADw/eHBhY2tldCBiZWdpbj0i77u/IiBpZD0iVzVNME1wQ2VoaUh6cmVTek5UY3prYzlkIj8+IDx4OnhtcG1ldGEgeG1sbnM6eD0iYWRvYmU6bnM6bWV0YS8iIHg6eG1wdGs9IkFkb2JlIFhNUCBDb3JlIDUuNS1jMDIxIDc5LjE1NDkxMSwgMjAxMy8xMC8yOS0xMTo0NzoxNiAgICAgICAgIj4gPHJkZjpSREYgeG1sbnM6cmRmPSJodHRwOi8vd3d3LnczLm9yZy8xOTk5LzAyLzIyLXJkZi1zeW50YXgtbnMjIj4gPHJkZjpEZXNjcmlwdGlvbiByZGY6YWJvdXQ9IiIgeG1sbnM6eG1wPSJodHRwOi8vbnMuYWRvYmUuY29tL3hhcC8xLjAvIiB4bWxuczp4bXBNTT0iaHR0cDovL25zLmFkb2JlLmNvbS94YXAvMS4wL21tLyIgeG1sbnM6c3RSZWY9Imh0dHA6Ly9ucy5hZG9iZS5jb20veGFwLzEuMC9zVHlwZS9SZXNvdXJjZVJlZiMiIHhtcDpDcmVhdG9yVG9vbD0iQWRvYmUgUGhvdG9zaG9wIENDIChNYWNpbnRvc2gpIiB4bXBNTTpJbnN0YW5jZUlEPSJ4bXAuaWlkOjNCMUIyNUZEQjc4MDExRTVBRDg3REQzQUY1ODBBQTA4IiB4bXBNTTpEb2N1bWVudElEPSJ4bXAuZGlkOjNCMUIyNUZFQjc4MDExRTVBRDg3REQzQUY1ODBBQTA4Ij4gPHhtcE1NOkRlcml2ZWRGcm9tIHN0UmVmOmluc3RhbmNlSUQ9InhtcC5paWQ6M0IxQjI1RkJCNzgwMTFFNUFEODdERDNBRjU4MEFBMDgiIHN0UmVmOmRvY3VtZW50SUQ9InhtcC5kaWQ6M0IxQjI1RkNCNzgwMTFFNUFEODdERDNBRjU4MEFBMDgiLz4gPC9yZGY6RGVzY3JpcHRpb24+IDwvcmRmOlJERj4gPC94OnhtcG1ldGE+IDw/eHBhY2tldCBlbmQ9InIiPz443r1AAAAAFklEQVR42mL8//8/AwgwMUABnAEQYABLIQMD7kZaewAAAABJRU5ErkJggg==\ndata:image/png;base64,iVBORw0KGgoAAAANSUhEUgAAAAIAAAADCAYAAAC56t6BAAAAGXRFWHRTb2Z0d2FyZQBBZG9iZSBJbWFnZVJlYWR5ccllPAAAAyNpVFh0WE1MOmNvbS5hZG9iZS54bXAAAAAAADw/eHBhY2tldCBiZWdpbj0i77u/IiBpZD0iVzVNME1wQ2VoaUh6cmVTek5UY3prYzlkIj8+IDx4OnhtcG1ldGEgeG1sbnM6eD0iYWRvYmU6bnM6bWV0YS8iIHg6eG1wdGs9IkFkb2JlIFhNUCBDb3JlIDUuNS1jMDIxIDc5LjE1NDkxMSwgMjAxMy8xMC8yOS0xMTo0NzoxNiAgICAgICAgIj4gPHJkZjpSREYgeG1sbnM6cmRmPSJodHRwOi8vd3d3LnczLm9yZy8xOTk5LzAyLzIyLXJkZi1zeW50YXgtbnMjIj4gPHJkZjpEZXNjcmlwdGlvbiByZGY6YWJvdXQ9IiIgeG1sbnM6eG1wPSJodHRwOi8vbnMuYWRvYmUuY29tL3hhcC8xLjAvIiB4bWxuczp4bXBNTT0iaHR0cDovL25zLmFkb2JlLmNvbS94YXAvMS4wL21tLyIgeG1sbnM6c3RSZWY9Imh0dHA6Ly9ucy5hZG9iZS5jb20veGFwLzEuMC9zVHlwZS9SZXNvdXJjZVJlZiMiIHhtcDpDcmVhdG9yVG9vbD0iQWRvYmUgUGhvdG9zaG9wIENDIChNYWNpbnRvc2gpIiB4bXBNTTpJbnN0YW5jZUlEPSJ4bXAuaWlkOjNCMUIyNUZEQjc4MDExRTVBRDg3REQzQUY1ODBBQTA4IiB4bXBNTTpEb2N1bWVudElEPSJ4bXAuZGlkOjNCMUIyNUZFQjc4MDExRTVBRDg3REQzQUY1ODBBQTA4Ij4gPHhtcE1NOkRlcml2ZWRGcm9tIHN0UmVmOmluc3RhbmNlSUQ9InhtcC5paWQ6M0IxQjI1RkJCNzgwMTFFNUFEODdERDNBRjU4MEFBMDgiIHN0UmVmOmRvY3VtZW50SUQ9InhtcC5kaWQ6M0IxQjI1RkNCNzgwMTFFNUFEODdERDNBRjU4MEFBMDgiLz4gPC9yZGY6RGVzY3JpcHRpb24+IDwvcmRmOlJERj4gPC94OnhtcG1ldGE+IDw/eHBhY2tldCBlbmQ9InIiPz443r1AAAAAFklEQVR42mL8//8/AwgwMUABnAEQYABLIQMD7kZaewAAAABJRU5ErkJggg==\ndata:image/png;base64,iVBORw0KGgoAAAANSUhEUgAAAAIAAAADCAYAAAC56t6BAAAAGXRFWHRTb2Z0d2FyZQBBZG9iZSBJbWFnZVJlYWR5ccllPAAAAyNpVFh0WE1MOmNvbS5hZG9iZS54bXAAAAAAADw/eHBhY2tldCBiZWdpbj0i77u/IiBpZD0iVzVNME1wQ2VoaUh6cmVTek5UY3prYzlkIj8+IDx4OnhtcG1ldGEgeG1sbnM6eD0iYWRvYmU6bnM6bWV0YS8iIHg6eG1wdGs9IkFkb2JlIFhNUCBDb3JlIDUuNS1jMDIxIDc5LjE1NDkxMSwgMjAxMy8xMC8yOS0xMTo0NzoxNiAgICAgICAgIj4gPHJkZjpSREYgeG1sbnM6cmRmPSJodHRwOi8vd3d3LnczLm9yZy8xOTk5LzAyLzIyLXJkZi1zeW50YXgtbnMjIj4gPHJkZjpEZXNjcmlwdGlvbiByZGY6YWJvdXQ9IiIgeG1sbnM6eG1wPSJodHRwOi8vbnMuYWRvYmUuY29tL3hhcC8xLjAvIiB4bWxuczp4bXBNTT0iaHR0cDovL25zLmFkb2JlLmNvbS94YXAvMS4wL21tLyIgeG1sbnM6c3RSZWY9Imh0dHA6Ly9ucy5hZG9iZS5jb20veGFwLzEuMC9zVHlwZS9SZXNvdXJjZVJlZiMiIHhtcDpDcmVhdG9yVG9vbD0iQWRvYmUgUGhvdG9zaG9wIENDIChNYWNpbnRvc2gpIiB4bXBNTTpJbnN0YW5jZUlEPSJ4bXAuaWlkOjNCMUIyNUZEQjc4MDExRTVBRDg3REQzQUY1ODBBQTA4IiB4bXBNTTpEb2N1bWVudElEPSJ4bXAuZGlkOjNCMUIyNUZFQjc4MDExRTVBRDg3REQzQUY1ODBBQTA4Ij4gPHhtcE1NOkRlcml2ZWRGcm9tIHN0UmVmOmluc3RhbmNlSUQ9InhtcC5paWQ6M0IxQjI1RkJCNzgwMTFFNUFEODdERDNBRjU4MEFBMDgiIHN0UmVmOmRvY3VtZW50SUQ9InhtcC5kaWQ6M0IxQjI1RkNCNzgwMTFFNUFEODdERDNBRjU4MEFBMDgiLz4gPC9yZGY6RGVzY3JpcHRpb24+IDwvcmRmOlJERj4gPC94OnhtcG1ldGE+IDw/eHBhY2tldCBlbmQ9InIiPz443r1AAAAAFklEQVR42mL8//8/AwgwMUABnAEQYABLIQMD7kZaewAAAABJRU5ErkJggg==\ndata:image/png;base64,iVBORw0KGgoAAAANSUhEUgAAAAIAAAADCAYAAAC56t6BAAAAGXRFWHRTb2Z0d2FyZQBBZG9iZSBJbWFnZVJlYWR5ccllPAAAAyNpVFh0WE1MOmNvbS5hZG9iZS54bXAAAAAAADw/eHBhY2tldCBiZWdpbj0i77u/IiBpZD0iVzVNME1wQ2VoaUh6cmVTek5UY3prYzlkIj8+IDx4OnhtcG1ldGEgeG1sbnM6eD0iYWRvYmU6bnM6bWV0YS8iIHg6eG1wdGs9IkFkb2JlIFhNUCBDb3JlIDUuNS1jMDIxIDc5LjE1NDkxMSwgMjAxMy8xMC8yOS0xMTo0NzoxNiAgICAgICAgIj4gPHJkZjpSREYgeG1sbnM6cmRmPSJodHRwOi8vd3d3LnczLm9yZy8xOTk5LzAyLzIyLXJkZi1zeW50YXgtbnMjIj4gPHJkZjpEZXNjcmlwdGlvbiByZGY6YWJvdXQ9IiIgeG1sbnM6eG1wPSJodHRwOi8vbnMuYWRvYmUuY29tL3hhcC8xLjAvIiB4bWxuczp4bXBNTT0iaHR0cDovL25zLmFkb2JlLmNvbS94YXAvMS4wL21tLyIgeG1sbnM6c3RSZWY9Imh0dHA6Ly9ucy5hZG9iZS5jb20veGFwLzEuMC9zVHlwZS9SZXNvdXJjZVJlZiMiIHhtcDpDcmVhdG9yVG9vbD0iQWRvYmUgUGhvdG9zaG9wIENDIChNYWNpbnRvc2gpIiB4bXBNTTpJbnN0YW5jZUlEPSJ4bXAuaWlkOjNCMUIyNUZEQjc4MDExRTVBRDg3REQzQUY1ODBBQTA4IiB4bXBNTTpEb2N1bWVudElEPSJ4bXAuZGlkOjNCMUIyNUZFQjc4MDExRTVBRDg3REQzQUY1ODBBQTA4Ij4gPHhtcE1NOkRlcml2ZWRGcm9tIHN0UmVmOmluc3RhbmNlSUQ9InhtcC5paWQ6M0IxQjI1RkJCNzgwMTFFNUFEODdERDNBRjU4MEFBMDgiIHN0UmVmOmRvY3VtZW50SUQ9InhtcC5kaWQ6M0IxQjI1RkNCNzgwMTFFNUFEODdERDNBRjU4MEFBMDgiLz4gPC9yZGY6RGVzY3JpcHRpb24+IDwvcmRmOlJERj4gPC94OnhtcG1ldGE+IDw/eHBhY2tldCBlbmQ9InIiPz443r1AAAAAFklEQVR42mL8//8/AwgwMUABnAEQYABLIQMD7kZaewAAAABJRU5ErkJggg==\ndata:image/png;base64,iVBORw0KGgoAAAANSUhEUgAAAAIAAAADCAYAAAC56t6BAAAAGXRFWHRTb2Z0d2FyZQBBZG9iZSBJbWFnZVJlYWR5ccllPAAAAyNpVFh0WE1MOmNvbS5hZG9iZS54bXAAAAAAADw/eHBhY2tldCBiZWdpbj0i77u/IiBpZD0iVzVNME1wQ2VoaUh6cmVTek5UY3prYzlkIj8+IDx4OnhtcG1ldGEgeG1sbnM6eD0iYWRvYmU6bnM6bWV0YS8iIHg6eG1wdGs9IkFkb2JlIFhNUCBDb3JlIDUuNS1jMDIxIDc5LjE1NDkxMSwgMjAxMy8xMC8yOS0xMTo0NzoxNiAgICAgICAgIj4gPHJkZjpSREYgeG1sbnM6cmRmPSJodHRwOi8vd3d3LnczLm9yZy8xOTk5LzAyLzIyLXJkZi1zeW50YXgtbnMjIj4gPHJkZjpEZXNjcmlwdGlvbiByZGY6YWJvdXQ9IiIgeG1sbnM6eG1wPSJodHRwOi8vbnMuYWRvYmUuY29tL3hhcC8xLjAvIiB4bWxuczp4bXBNTT0iaHR0cDovL25zLmFkb2JlLmNvbS94YXAvMS4wL21tLyIgeG1sbnM6c3RSZWY9Imh0dHA6Ly9ucy5hZG9iZS5jb20veGFwLzEuMC9zVHlwZS9SZXNvdXJjZVJlZiMiIHhtcDpDcmVhdG9yVG9vbD0iQWRvYmUgUGhvdG9zaG9wIENDIChNYWNpbnRvc2gpIiB4bXBNTTpJbnN0YW5jZUlEPSJ4bXAuaWlkOjNCMUIyNUZEQjc4MDExRTVBRDg3REQzQUY1ODBBQTA4IiB4bXBNTTpEb2N1bWVudElEPSJ4bXAuZGlkOjNCMUIyNUZFQjc4MDExRTVBRDg3REQzQUY1ODBBQTA4Ij4gPHhtcE1NOkRlcml2ZWRGcm9tIHN0UmVmOmluc3RhbmNlSUQ9InhtcC5paWQ6M0IxQjI1RkJCNzgwMTFFNUFEODdERDNBRjU4MEFBMDgiIHN0UmVmOmRvY3VtZW50SUQ9InhtcC5kaWQ6M0IxQjI1RkNCNzgwMTFFNUFEODdERDNBRjU4MEFBMDgiLz4gPC9yZGY6RGVzY3JpcHRpb24+IDwvcmRmOlJERj4gPC94OnhtcG1ldGE+IDw/eHBhY2tldCBlbmQ9InIiPz443r1AAAAAFklEQVR42mL8//8/AwgwMUABnAEQYABLIQMD7kZaewAAAABJRU5ErkJggg==\ndata:image/png;base64,iVBORw0KGgoAAAANSUhEUgAAAAIAAAADCAYAAAC56t6BAAAAGXRFWHRTb2Z0d2FyZQBBZG9iZSBJbWFnZVJlYWR5ccllPAAAAyNpVFh0WE1MOmNvbS5hZG9iZS54bXAAAAAAADw/eHBhY2tldCBiZWdpbj0i77u/IiBpZD0iVzVNME1wQ2VoaUh6cmVTek5UY3prYzlkIj8+IDx4OnhtcG1ldGEgeG1sbnM6eD0iYWRvYmU6bnM6bWV0YS8iIHg6eG1wdGs9IkFkb2JlIFhNUCBDb3JlIDUuNS1jMDIxIDc5LjE1NDkxMSwgMjAxMy8xMC8yOS0xMTo0NzoxNiAgICAgICAgIj4gPHJkZjpSREYgeG1sbnM6cmRmPSJodHRwOi8vd3d3LnczLm9yZy8xOTk5LzAyLzIyLXJkZi1zeW50YXgtbnMjIj4gPHJkZjpEZXNjcmlwdGlvbiByZGY6YWJvdXQ9IiIgeG1sbnM6eG1wPSJodHRwOi8vbnMuYWRvYmUuY29tL3hhcC8xLjAvIiB4bWxuczp4bXBNTT0iaHR0cDovL25zLmFkb2JlLmNvbS94YXAvMS4wL21tLyIgeG1sbnM6c3RSZWY9Imh0dHA6Ly9ucy5hZG9iZS5jb20veGFwLzEuMC9zVHlwZS9SZXNvdXJjZVJlZiMiIHhtcDpDcmVhdG9yVG9vbD0iQWRvYmUgUGhvdG9zaG9wIENDIChNYWNpbnRvc2gpIiB4bXBNTTpJbnN0YW5jZUlEPSJ4bXAuaWlkOjNCMUIyNUZEQjc4MDExRTVBRDg3REQzQUY1ODBBQTA4IiB4bXBNTTpEb2N1bWVudElEPSJ4bXAuZGlkOjNCMUIyNUZFQjc4MDExRTVBRDg3REQzQUY1ODBBQTA4Ij4gPHhtcE1NOkRlcml2ZWRGcm9tIHN0UmVmOmluc3RhbmNlSUQ9InhtcC5paWQ6M0IxQjI1RkJCNzgwMTFFNUFEODdERDNBRjU4MEFBMDgiIHN0UmVmOmRvY3VtZW50SUQ9InhtcC5kaWQ6M0IxQjI1RkNCNzgwMTFFNUFEODdERDNBRjU4MEFBMDgiLz4gPC9yZGY6RGVzY3JpcHRpb24+IDwvcmRmOlJERj4gPC94OnhtcG1ldGE+IDw/eHBhY2tldCBlbmQ9InIiPz443r1AAAAAFklEQVR42mL8//8/AwgwMUABnAEQYABLIQMD7kZaewAAAABJRU5ErkJggg==\ndata:image/png;base64,iVBORw0KGgoAAAANSUhEUgAAAAIAAAADCAYAAAC56t6BAAAAGXRFWHRTb2Z0d2FyZQBBZG9iZSBJbWFnZVJlYWR5ccllPAAAAyNpVFh0WE1MOmNvbS5hZG9iZS54bXAAAAAAADw/eHBhY2tldCBiZWdpbj0i77u/IiBpZD0iVzVNME1wQ2VoaUh6cmVTek5UY3prYzlkIj8+IDx4OnhtcG1ldGEgeG1sbnM6eD0iYWRvYmU6bnM6bWV0YS8iIHg6eG1wdGs9IkFkb2JlIFhNUCBDb3JlIDUuNS1jMDIxIDc5LjE1NDkxMSwgMjAxMy8xMC8yOS0xMTo0NzoxNiAgICAgICAgIj4gPHJkZjpSREYgeG1sbnM6cmRmPSJodHRwOi8vd3d3LnczLm9yZy8xOTk5LzAyLzIyLXJkZi1zeW50YXgtbnMjIj4gPHJkZjpEZXNjcmlwdGlvbiByZGY6YWJvdXQ9IiIgeG1sbnM6eG1wPSJodHRwOi8vbnMuYWRvYmUuY29tL3hhcC8xLjAvIiB4bWxuczp4bXBNTT0iaHR0cDovL25zLmFkb2JlLmNvbS94YXAvMS4wL21tLyIgeG1sbnM6c3RSZWY9Imh0dHA6Ly9ucy5hZG9iZS5jb20veGFwLzEuMC9zVHlwZS9SZXNvdXJjZVJlZiMiIHhtcDpDcmVhdG9yVG9vbD0iQWRvYmUgUGhvdG9zaG9wIENDIChNYWNpbnRvc2gpIiB4bXBNTTpJbnN0YW5jZUlEPSJ4bXAuaWlkOjNCMUIyNUZEQjc4MDExRTVBRDg3REQzQUY1ODBBQTA4IiB4bXBNTTpEb2N1bWVudElEPSJ4bXAuZGlkOjNCMUIyNUZFQjc4MDExRTVBRDg3REQzQUY1ODBBQTA4Ij4gPHhtcE1NOkRlcml2ZWRGcm9tIHN0UmVmOmluc3RhbmNlSUQ9InhtcC5paWQ6M0IxQjI1RkJCNzgwMTFFNUFEODdERDNBRjU4MEFBMDgiIHN0UmVmOmRvY3VtZW50SUQ9InhtcC5kaWQ6M0IxQjI1RkNCNzgwMTFFNUFEODdERDNBRjU4MEFBMDgiLz4gPC9yZGY6RGVzY3JpcHRpb24+IDwvcmRmOlJERj4gPC94OnhtcG1ldGE+IDw/eHBhY2tldCBlbmQ9InIiPz443r1AAAAAFklEQVR42mL8//8/AwgwMUABnAEQYABLIQMD7kZaewAAAABJRU5ErkJggg==\ndata:image/png;base64,iVBORw0KGgoAAAANSUhEUgAAAAIAAAADCAYAAAC56t6BAAAAGXRFWHRTb2Z0d2FyZQBBZG9iZSBJbWFnZVJlYWR5ccllPAAAAyNpVFh0WE1MOmNvbS5hZG9iZS54bXAAAAAAADw/eHBhY2tldCBiZWdpbj0i77u/IiBpZD0iVzVNME1wQ2VoaUh6cmVTek5UY3prYzlkIj8+IDx4OnhtcG1ldGEgeG1sbnM6eD0iYWRvYmU6bnM6bWV0YS8iIHg6eG1wdGs9IkFkb2JlIFhNUCBDb3JlIDUuNS1jMDIxIDc5LjE1NDkxMSwgMjAxMy8xMC8yOS0xMTo0NzoxNiAgICAgICAgIj4gPHJkZjpSREYgeG1sbnM6cmRmPSJodHRwOi8vd3d3LnczLm9yZy8xOTk5LzAyLzIyLXJkZi1zeW50YXgtbnMjIj4gPHJkZjpEZXNjcmlwdGlvbiByZGY6YWJvdXQ9IiIgeG1sbnM6eG1wPSJodHRwOi8vbnMuYWRvYmUuY29tL3hhcC8xLjAvIiB4bWxuczp4bXBNTT0iaHR0cDovL25zLmFkb2JlLmNvbS94YXAvMS4wL21tLyIgeG1sbnM6c3RSZWY9Imh0dHA6Ly9ucy5hZG9iZS5jb20veGFwLzEuMC9zVHlwZS9SZXNvdXJjZVJlZiMiIHhtcDpDcmVhdG9yVG9vbD0iQWRvYmUgUGhvdG9zaG9wIENDIChNYWNpbnRvc2gpIiB4bXBNTTpJbnN0YW5jZUlEPSJ4bXAuaWlkOjNCMUIyNUZEQjc4MDExRTVBRDg3REQzQUY1ODBBQTA4IiB4bXBNTTpEb2N1bWVudElEPSJ4bXAuZGlkOjNCMUIyNUZFQjc4MDExRTVBRDg3REQzQUY1ODBBQTA4Ij4gPHhtcE1NOkRlcml2ZWRGcm9tIHN0UmVmOmluc3RhbmNlSUQ9InhtcC5paWQ6M0IxQjI1RkJCNzgwMTFFNUFEODdERDNBRjU4MEFBMDgiIHN0UmVmOmRvY3VtZW50SUQ9InhtcC5kaWQ6M0IxQjI1RkNCNzgwMTFFNUFEODdERDNBRjU4MEFBMDgiLz4gPC9yZGY6RGVzY3JpcHRpb24+IDwvcmRmOlJERj4gPC94OnhtcG1ldGE+IDw/eHBhY2tldCBlbmQ9InIiPz443r1AAAAAFklEQVR42mL8//8/AwgwMUABnAEQYABLIQMD7kZaewAAAABJRU5ErkJggg==\ndata:image/png;base64,iVBORw0KGgoAAAANSUhEUgAAAAIAAAADCAYAAAC56t6BAAAAGXRFWHRTb2Z0d2FyZQBBZG9iZSBJbWFnZVJlYWR5ccllPAAAAyNpVFh0WE1MOmNvbS5hZG9iZS54bXAAAAAAADw/eHBhY2tldCBiZWdpbj0i77u/IiBpZD0iVzVNME1wQ2VoaUh6cmVTek5UY3prYzlkIj8+IDx4OnhtcG1ldGEgeG1sbnM6eD0iYWRvYmU6bnM6bWV0YS8iIHg6eG1wdGs9IkFkb2JlIFhNUCBDb3JlIDUuNS1jMDIxIDc5LjE1NDkxMSwgMjAxMy8xMC8yOS0xMTo0NzoxNiAgICAgICAgIj4gPHJkZjpSREYgeG1sbnM6cmRmPSJodHRwOi8vd3d3LnczLm9yZy8xOTk5LzAyLzIyLXJkZi1zeW50YXgtbnMjIj4gPHJkZjpEZXNjcmlwdGlvbiByZGY6YWJvdXQ9IiIgeG1sbnM6eG1wPSJodHRwOi8vbnMuYWRvYmUuY29tL3hhcC8xLjAvIiB4bWxuczp4bXBNTT0iaHR0cDovL25zLmFkb2JlLmNvbS94YXAvMS4wL21tLyIgeG1sbnM6c3RSZWY9Imh0dHA6Ly9ucy5hZG9iZS5jb20veGFwLzEuMC9zVHlwZS9SZXNvdXJjZVJlZiMiIHhtcDpDcmVhdG9yVG9vbD0iQWRvYmUgUGhvdG9zaG9wIENDIChNYWNpbnRvc2gpIiB4bXBNTTpJbnN0YW5jZUlEPSJ4bXAuaWlkOjNCMUIyNUZEQjc4MDExRTVBRDg3REQzQUY1ODBBQTA4IiB4bXBNTTpEb2N1bWVudElEPSJ4bXAuZGlkOjNCMUIyNUZFQjc4MDExRTVBRDg3REQzQUY1ODBBQTA4Ij4gPHhtcE1NOkRlcml2ZWRGcm9tIHN0UmVmOmluc3RhbmNlSUQ9InhtcC5paWQ6M0IxQjI1RkJCNzgwMTFFNUFEODdERDNBRjU4MEFBMDgiIHN0UmVmOmRvY3VtZW50SUQ9InhtcC5kaWQ6M0IxQjI1RkNCNzgwMTFFNUFEODdERDNBRjU4MEFBMDgiLz4gPC9yZGY6RGVzY3JpcHRpb24+IDwvcmRmOlJERj4gPC94OnhtcG1ldGE+IDw/eHBhY2tldCBlbmQ9InIiPz443r1AAAAAFklEQVR42mL8//8/AwgwMUABnAEQYABLIQMD7kZaewAAAABJRU5ErkJggg==\ndata:image/png;base64,iVBORw0KGgoAAAANSUhEUgAAAAIAAAADCAYAAAC56t6BAAAAGXRFWHRTb2Z0d2FyZQBBZG9iZSBJbWFnZVJlYWR5ccllPAAAAyNpVFh0WE1MOmNvbS5hZG9iZS54bXAAAAAAADw/eHBhY2tldCBiZWdpbj0i77u/IiBpZD0iVzVNME1wQ2VoaUh6cmVTek5UY3prYzlkIj8+IDx4OnhtcG1ldGEgeG1sbnM6eD0iYWRvYmU6bnM6bWV0YS8iIHg6eG1wdGs9IkFkb2JlIFhNUCBDb3JlIDUuNS1jMDIxIDc5LjE1NDkxMSwgMjAxMy8xMC8yOS0xMTo0NzoxNiAgICAgICAgIj4gPHJkZjpSREYgeG1sbnM6cmRmPSJodHRwOi8vd3d3LnczLm9yZy8xOTk5LzAyLzIyLXJkZi1zeW50YXgtbnMjIj4gPHJkZjpEZXNjcmlwdGlvbiByZGY6YWJvdXQ9IiIgeG1sbnM6eG1wPSJodHRwOi8vbnMuYWRvYmUuY29tL3hhcC8xLjAvIiB4bWxuczp4bXBNTT0iaHR0cDovL25zLmFkb2JlLmNvbS94YXAvMS4wL21tLyIgeG1sbnM6c3RSZWY9Imh0dHA6Ly9ucy5hZG9iZS5jb20veGFwLzEuMC9zVHlwZS9SZXNvdXJjZVJlZiMiIHhtcDpDcmVhdG9yVG9vbD0iQWRvYmUgUGhvdG9zaG9wIENDIChNYWNpbnRvc2gpIiB4bXBNTTpJbnN0YW5jZUlEPSJ4bXAuaWlkOjNCMUIyNUZEQjc4MDExRTVBRDg3REQzQUY1ODBBQTA4IiB4bXBNTTpEb2N1bWVudElEPSJ4bXAuZGlkOjNCMUIyNUZFQjc4MDExRTVBRDg3REQzQUY1ODBBQTA4Ij4gPHhtcE1NOkRlcml2ZWRGcm9tIHN0UmVmOmluc3RhbmNlSUQ9InhtcC5paWQ6M0IxQjI1RkJCNzgwMTFFNUFEODdERDNBRjU4MEFBMDgiIHN0UmVmOmRvY3VtZW50SUQ9InhtcC5kaWQ6M0IxQjI1RkNCNzgwMTFFNUFEODdERDNBRjU4MEFBMDgiLz4gPC9yZGY6RGVzY3JpcHRpb24+IDwvcmRmOlJERj4gPC94OnhtcG1ldGE+IDw/eHBhY2tldCBlbmQ9InIiPz443r1AAAAAFklEQVR42mL8//8/AwgwMUABnAEQYABLIQMD7kZaewAAAABJRU5ErkJggg==\ndata:image/png;base64,iVBORw0KGgoAAAANSUhEUgAAAAIAAAADCAYAAAC56t6BAAAAGXRFWHRTb2Z0d2FyZQBBZG9iZSBJbWFnZVJlYWR5ccllPAAAAyNpVFh0WE1MOmNvbS5hZG9iZS54bXAAAAAAADw/eHBhY2tldCBiZWdpbj0i77u/IiBpZD0iVzVNME1wQ2VoaUh6cmVTek5UY3prYzlkIj8+IDx4OnhtcG1ldGEgeG1sbnM6eD0iYWRvYmU6bnM6bWV0YS8iIHg6eG1wdGs9IkFkb2JlIFhNUCBDb3JlIDUuNS1jMDIxIDc5LjE1NDkxMSwgMjAxMy8xMC8yOS0xMTo0NzoxNiAgICAgICAgIj4gPHJkZjpSREYgeG1sbnM6cmRmPSJodHRwOi8vd3d3LnczLm9yZy8xOTk5LzAyLzIyLXJkZi1zeW50YXgtbnMjIj4gPHJkZjpEZXNjcmlwdGlvbiByZGY6YWJvdXQ9IiIgeG1sbnM6eG1wPSJodHRwOi8vbnMuYWRvYmUuY29tL3hhcC8xLjAvIiB4bWxuczp4bXBNTT0iaHR0cDovL25zLmFkb2JlLmNvbS94YXAvMS4wL21tLyIgeG1sbnM6c3RSZWY9Imh0dHA6Ly9ucy5hZG9iZS5jb20veGFwLzEuMC9zVHlwZS9SZXNvdXJjZVJlZiMiIHhtcDpDcmVhdG9yVG9vbD0iQWRvYmUgUGhvdG9zaG9wIENDIChNYWNpbnRvc2gpIiB4bXBNTTpJbnN0YW5jZUlEPSJ4bXAuaWlkOjNCMUIyNUZEQjc4MDExRTVBRDg3REQzQUY1ODBBQTA4IiB4bXBNTTpEb2N1bWVudElEPSJ4bXAuZGlkOjNCMUIyNUZFQjc4MDExRTVBRDg3REQzQUY1ODBBQTA4Ij4gPHhtcE1NOkRlcml2ZWRGcm9tIHN0UmVmOmluc3RhbmNlSUQ9InhtcC5paWQ6M0IxQjI1RkJCNzgwMTFFNUFEODdERDNBRjU4MEFBMDgiIHN0UmVmOmRvY3VtZW50SUQ9InhtcC5kaWQ6M0IxQjI1RkNCNzgwMTFFNUFEODdERDNBRjU4MEFBMDgiLz4gPC9yZGY6RGVzY3JpcHRpb24+IDwvcmRmOlJERj4gPC94OnhtcG1ldGE+IDw/eHBhY2tldCBlbmQ9InIiPz443r1AAAAAFklEQVR42mL8//8/AwgwMUABnAEQYABLIQMD7kZaewAAAABJRU5ErkJggg==\ndata:image/png;base64,iVBORw0KGgoAAAANSUhEUgAAAAIAAAADCAYAAAC56t6BAAAAGXRFWHRTb2Z0d2FyZQBBZG9iZSBJbWFnZVJlYWR5ccllPAAAAyNpVFh0WE1MOmNvbS5hZG9iZS54bXAAAAAAADw/eHBhY2tldCBiZWdpbj0i77u/IiBpZD0iVzVNME1wQ2VoaUh6cmVTek5UY3prYzlkIj8+IDx4OnhtcG1ldGEgeG1sbnM6eD0iYWRvYmU6bnM6bWV0YS8iIHg6eG1wdGs9IkFkb2JlIFhNUCBDb3JlIDUuNS1jMDIxIDc5LjE1NDkxMSwgMjAxMy8xMC8yOS0xMTo0NzoxNiAgICAgICAgIj4gPHJkZjpSREYgeG1sbnM6cmRmPSJodHRwOi8vd3d3LnczLm9yZy8xOTk5LzAyLzIyLXJkZi1zeW50YXgtbnMjIj4gPHJkZjpEZXNjcmlwdGlvbiByZGY6YWJvdXQ9IiIgeG1sbnM6eG1wPSJodHRwOi8vbnMuYWRvYmUuY29tL3hhcC8xLjAvIiB4bWxuczp4bXBNTT0iaHR0cDovL25zLmFkb2JlLmNvbS94YXAvMS4wL21tLyIgeG1sbnM6c3RSZWY9Imh0dHA6Ly9ucy5hZG9iZS5jb20veGFwLzEuMC9zVHlwZS9SZXNvdXJjZVJlZiMiIHhtcDpDcmVhdG9yVG9vbD0iQWRvYmUgUGhvdG9zaG9wIENDIChNYWNpbnRvc2gpIiB4bXBNTTpJbnN0YW5jZUlEPSJ4bXAuaWlkOjNCMUIyNUZEQjc4MDExRTVBRDg3REQzQUY1ODBBQTA4IiB4bXBNTTpEb2N1bWVudElEPSJ4bXAuZGlkOjNCMUIyNUZFQjc4MDExRTVBRDg3REQzQUY1ODBBQTA4Ij4gPHhtcE1NOkRlcml2ZWRGcm9tIHN0UmVmOmluc3RhbmNlSUQ9InhtcC5paWQ6M0IxQjI1RkJCNzgwMTFFNUFEODdERDNBRjU4MEFBMDgiIHN0UmVmOmRvY3VtZW50SUQ9InhtcC5kaWQ6M0IxQjI1RkNCNzgwMTFFNUFEODdERDNBRjU4MEFBMDgiLz4gPC9yZGY6RGVzY3JpcHRpb24+IDwvcmRmOlJERj4gPC94OnhtcG1ldGE+IDw/eHBhY2tldCBlbmQ9InIiPz443r1AAAAAFklEQVR42mL8//8/AwgwMUABnAEQYABLIQMD7kZaewAAAABJRU5ErkJggg==\ndata:image/png;base64,iVBORw0KGgoAAAANSUhEUgAAAAIAAAADCAYAAAC56t6BAAAAGXRFWHRTb2Z0d2FyZQBBZG9iZSBJbWFnZVJlYWR5ccllPAAAAyNpVFh0WE1MOmNvbS5hZG9iZS54bXAAAAAAADw/eHBhY2tldCBiZWdpbj0i77u/IiBpZD0iVzVNME1wQ2VoaUh6cmVTek5UY3prYzlkIj8+IDx4OnhtcG1ldGEgeG1sbnM6eD0iYWRvYmU6bnM6bWV0YS8iIHg6eG1wdGs9IkFkb2JlIFhNUCBDb3JlIDUuNS1jMDIxIDc5LjE1NDkxMSwgMjAxMy8xMC8yOS0xMTo0NzoxNiAgICAgICAgIj4gPHJkZjpSREYgeG1sbnM6cmRmPSJodHRwOi8vd3d3LnczLm9yZy8xOTk5LzAyLzIyLXJkZi1zeW50YXgtbnMjIj4gPHJkZjpEZXNjcmlwdGlvbiByZGY6YWJvdXQ9IiIgeG1sbnM6eG1wPSJodHRwOi8vbnMuYWRvYmUuY29tL3hhcC8xLjAvIiB4bWxuczp4bXBNTT0iaHR0cDovL25zLmFkb2JlLmNvbS94YXAvMS4wL21tLyIgeG1sbnM6c3RSZWY9Imh0dHA6Ly9ucy5hZG9iZS5jb20veGFwLzEuMC9zVHlwZS9SZXNvdXJjZVJlZiMiIHhtcDpDcmVhdG9yVG9vbD0iQWRvYmUgUGhvdG9zaG9wIENDIChNYWNpbnRvc2gpIiB4bXBNTTpJbnN0YW5jZUlEPSJ4bXAuaWlkOjNCMUIyNUZEQjc4MDExRTVBRDg3REQzQUY1ODBBQTA4IiB4bXBNTTpEb2N1bWVudElEPSJ4bXAuZGlkOjNCMUIyNUZFQjc4MDExRTVBRDg3REQzQUY1ODBBQTA4Ij4gPHhtcE1NOkRlcml2ZWRGcm9tIHN0UmVmOmluc3RhbmNlSUQ9InhtcC5paWQ6M0IxQjI1RkJCNzgwMTFFNUFEODdERDNBRjU4MEFBMDgiIHN0UmVmOmRvY3VtZW50SUQ9InhtcC5kaWQ6M0IxQjI1RkNCNzgwMTFFNUFEODdERDNBRjU4MEFBMDgiLz4gPC9yZGY6RGVzY3JpcHRpb24+IDwvcmRmOlJERj4gPC94OnhtcG1ldGE+IDw/eHBhY2tldCBlbmQ9InIiPz443r1AAAAAFklEQVR42mL8//8/AwgwMUABnAEQYABLIQMD7kZaewAAAABJRU5ErkJggg==\n"
     ]
    },
    {
     "name": "stdout",
     "output_type": "stream",
     "text": [
      "data:image/png;base64,iVBORw0KGgoAAAANSUhEUgAAAAIAAAADCAYAAAC56t6BAAAAGXRFWHRTb2Z0d2FyZQBBZG9iZSBJbWFnZVJlYWR5ccllPAAAAyNpVFh0WE1MOmNvbS5hZG9iZS54bXAAAAAAADw/eHBhY2tldCBiZWdpbj0i77u/IiBpZD0iVzVNME1wQ2VoaUh6cmVTek5UY3prYzlkIj8+IDx4OnhtcG1ldGEgeG1sbnM6eD0iYWRvYmU6bnM6bWV0YS8iIHg6eG1wdGs9IkFkb2JlIFhNUCBDb3JlIDUuNS1jMDIxIDc5LjE1NDkxMSwgMjAxMy8xMC8yOS0xMTo0NzoxNiAgICAgICAgIj4gPHJkZjpSREYgeG1sbnM6cmRmPSJodHRwOi8vd3d3LnczLm9yZy8xOTk5LzAyLzIyLXJkZi1zeW50YXgtbnMjIj4gPHJkZjpEZXNjcmlwdGlvbiByZGY6YWJvdXQ9IiIgeG1sbnM6eG1wPSJodHRwOi8vbnMuYWRvYmUuY29tL3hhcC8xLjAvIiB4bWxuczp4bXBNTT0iaHR0cDovL25zLmFkb2JlLmNvbS94YXAvMS4wL21tLyIgeG1sbnM6c3RSZWY9Imh0dHA6Ly9ucy5hZG9iZS5jb20veGFwLzEuMC9zVHlwZS9SZXNvdXJjZVJlZiMiIHhtcDpDcmVhdG9yVG9vbD0iQWRvYmUgUGhvdG9zaG9wIENDIChNYWNpbnRvc2gpIiB4bXBNTTpJbnN0YW5jZUlEPSJ4bXAuaWlkOjNCMUIyNUZEQjc4MDExRTVBRDg3REQzQUY1ODBBQTA4IiB4bXBNTTpEb2N1bWVudElEPSJ4bXAuZGlkOjNCMUIyNUZFQjc4MDExRTVBRDg3REQzQUY1ODBBQTA4Ij4gPHhtcE1NOkRlcml2ZWRGcm9tIHN0UmVmOmluc3RhbmNlSUQ9InhtcC5paWQ6M0IxQjI1RkJCNzgwMTFFNUFEODdERDNBRjU4MEFBMDgiIHN0UmVmOmRvY3VtZW50SUQ9InhtcC5kaWQ6M0IxQjI1RkNCNzgwMTFFNUFEODdERDNBRjU4MEFBMDgiLz4gPC9yZGY6RGVzY3JpcHRpb24+IDwvcmRmOlJERj4gPC94OnhtcG1ldGE+IDw/eHBhY2tldCBlbmQ9InIiPz443r1AAAAAFklEQVR42mL8//8/AwgwMUABnAEQYABLIQMD7kZaewAAAABJRU5ErkJggg==\ndata:image/png;base64,iVBORw0KGgoAAAANSUhEUgAAAAIAAAADCAYAAAC56t6BAAAAGXRFWHRTb2Z0d2FyZQBBZG9iZSBJbWFnZVJlYWR5ccllPAAAAyNpVFh0WE1MOmNvbS5hZG9iZS54bXAAAAAAADw/eHBhY2tldCBiZWdpbj0i77u/IiBpZD0iVzVNME1wQ2VoaUh6cmVTek5UY3prYzlkIj8+IDx4OnhtcG1ldGEgeG1sbnM6eD0iYWRvYmU6bnM6bWV0YS8iIHg6eG1wdGs9IkFkb2JlIFhNUCBDb3JlIDUuNS1jMDIxIDc5LjE1NDkxMSwgMjAxMy8xMC8yOS0xMTo0NzoxNiAgICAgICAgIj4gPHJkZjpSREYgeG1sbnM6cmRmPSJodHRwOi8vd3d3LnczLm9yZy8xOTk5LzAyLzIyLXJkZi1zeW50YXgtbnMjIj4gPHJkZjpEZXNjcmlwdGlvbiByZGY6YWJvdXQ9IiIgeG1sbnM6eG1wPSJodHRwOi8vbnMuYWRvYmUuY29tL3hhcC8xLjAvIiB4bWxuczp4bXBNTT0iaHR0cDovL25zLmFkb2JlLmNvbS94YXAvMS4wL21tLyIgeG1sbnM6c3RSZWY9Imh0dHA6Ly9ucy5hZG9iZS5jb20veGFwLzEuMC9zVHlwZS9SZXNvdXJjZVJlZiMiIHhtcDpDcmVhdG9yVG9vbD0iQWRvYmUgUGhvdG9zaG9wIENDIChNYWNpbnRvc2gpIiB4bXBNTTpJbnN0YW5jZUlEPSJ4bXAuaWlkOjNCMUIyNUZEQjc4MDExRTVBRDg3REQzQUY1ODBBQTA4IiB4bXBNTTpEb2N1bWVudElEPSJ4bXAuZGlkOjNCMUIyNUZFQjc4MDExRTVBRDg3REQzQUY1ODBBQTA4Ij4gPHhtcE1NOkRlcml2ZWRGcm9tIHN0UmVmOmluc3RhbmNlSUQ9InhtcC5paWQ6M0IxQjI1RkJCNzgwMTFFNUFEODdERDNBRjU4MEFBMDgiIHN0UmVmOmRvY3VtZW50SUQ9InhtcC5kaWQ6M0IxQjI1RkNCNzgwMTFFNUFEODdERDNBRjU4MEFBMDgiLz4gPC9yZGY6RGVzY3JpcHRpb24+IDwvcmRmOlJERj4gPC94OnhtcG1ldGE+IDw/eHBhY2tldCBlbmQ9InIiPz443r1AAAAAFklEQVR42mL8//8/AwgwMUABnAEQYABLIQMD7kZaewAAAABJRU5ErkJggg==\ndata:image/png;base64,iVBORw0KGgoAAAANSUhEUgAAAAIAAAADCAYAAAC56t6BAAAAGXRFWHRTb2Z0d2FyZQBBZG9iZSBJbWFnZVJlYWR5ccllPAAAAyNpVFh0WE1MOmNvbS5hZG9iZS54bXAAAAAAADw/eHBhY2tldCBiZWdpbj0i77u/IiBpZD0iVzVNME1wQ2VoaUh6cmVTek5UY3prYzlkIj8+IDx4OnhtcG1ldGEgeG1sbnM6eD0iYWRvYmU6bnM6bWV0YS8iIHg6eG1wdGs9IkFkb2JlIFhNUCBDb3JlIDUuNS1jMDIxIDc5LjE1NDkxMSwgMjAxMy8xMC8yOS0xMTo0NzoxNiAgICAgICAgIj4gPHJkZjpSREYgeG1sbnM6cmRmPSJodHRwOi8vd3d3LnczLm9yZy8xOTk5LzAyLzIyLXJkZi1zeW50YXgtbnMjIj4gPHJkZjpEZXNjcmlwdGlvbiByZGY6YWJvdXQ9IiIgeG1sbnM6eG1wPSJodHRwOi8vbnMuYWRvYmUuY29tL3hhcC8xLjAvIiB4bWxuczp4bXBNTT0iaHR0cDovL25zLmFkb2JlLmNvbS94YXAvMS4wL21tLyIgeG1sbnM6c3RSZWY9Imh0dHA6Ly9ucy5hZG9iZS5jb20veGFwLzEuMC9zVHlwZS9SZXNvdXJjZVJlZiMiIHhtcDpDcmVhdG9yVG9vbD0iQWRvYmUgUGhvdG9zaG9wIENDIChNYWNpbnRvc2gpIiB4bXBNTTpJbnN0YW5jZUlEPSJ4bXAuaWlkOjNCMUIyNUZEQjc4MDExRTVBRDg3REQzQUY1ODBBQTA4IiB4bXBNTTpEb2N1bWVudElEPSJ4bXAuZGlkOjNCMUIyNUZFQjc4MDExRTVBRDg3REQzQUY1ODBBQTA4Ij4gPHhtcE1NOkRlcml2ZWRGcm9tIHN0UmVmOmluc3RhbmNlSUQ9InhtcC5paWQ6M0IxQjI1RkJCNzgwMTFFNUFEODdERDNBRjU4MEFBMDgiIHN0UmVmOmRvY3VtZW50SUQ9InhtcC5kaWQ6M0IxQjI1RkNCNzgwMTFFNUFEODdERDNBRjU4MEFBMDgiLz4gPC9yZGY6RGVzY3JpcHRpb24+IDwvcmRmOlJERj4gPC94OnhtcG1ldGE+IDw/eHBhY2tldCBlbmQ9InIiPz443r1AAAAAFklEQVR42mL8//8/AwgwMUABnAEQYABLIQMD7kZaewAAAABJRU5ErkJggg==\ndata:image/png;base64,iVBORw0KGgoAAAANSUhEUgAAAAIAAAADCAYAAAC56t6BAAAAGXRFWHRTb2Z0d2FyZQBBZG9iZSBJbWFnZVJlYWR5ccllPAAAAyNpVFh0WE1MOmNvbS5hZG9iZS54bXAAAAAAADw/eHBhY2tldCBiZWdpbj0i77u/IiBpZD0iVzVNME1wQ2VoaUh6cmVTek5UY3prYzlkIj8+IDx4OnhtcG1ldGEgeG1sbnM6eD0iYWRvYmU6bnM6bWV0YS8iIHg6eG1wdGs9IkFkb2JlIFhNUCBDb3JlIDUuNS1jMDIxIDc5LjE1NDkxMSwgMjAxMy8xMC8yOS0xMTo0NzoxNiAgICAgICAgIj4gPHJkZjpSREYgeG1sbnM6cmRmPSJodHRwOi8vd3d3LnczLm9yZy8xOTk5LzAyLzIyLXJkZi1zeW50YXgtbnMjIj4gPHJkZjpEZXNjcmlwdGlvbiByZGY6YWJvdXQ9IiIgeG1sbnM6eG1wPSJodHRwOi8vbnMuYWRvYmUuY29tL3hhcC8xLjAvIiB4bWxuczp4bXBNTT0iaHR0cDovL25zLmFkb2JlLmNvbS94YXAvMS4wL21tLyIgeG1sbnM6c3RSZWY9Imh0dHA6Ly9ucy5hZG9iZS5jb20veGFwLzEuMC9zVHlwZS9SZXNvdXJjZVJlZiMiIHhtcDpDcmVhdG9yVG9vbD0iQWRvYmUgUGhvdG9zaG9wIENDIChNYWNpbnRvc2gpIiB4bXBNTTpJbnN0YW5jZUlEPSJ4bXAuaWlkOjNCMUIyNUZEQjc4MDExRTVBRDg3REQzQUY1ODBBQTA4IiB4bXBNTTpEb2N1bWVudElEPSJ4bXAuZGlkOjNCMUIyNUZFQjc4MDExRTVBRDg3REQzQUY1ODBBQTA4Ij4gPHhtcE1NOkRlcml2ZWRGcm9tIHN0UmVmOmluc3RhbmNlSUQ9InhtcC5paWQ6M0IxQjI1RkJCNzgwMTFFNUFEODdERDNBRjU4MEFBMDgiIHN0UmVmOmRvY3VtZW50SUQ9InhtcC5kaWQ6M0IxQjI1RkNCNzgwMTFFNUFEODdERDNBRjU4MEFBMDgiLz4gPC9yZGY6RGVzY3JpcHRpb24+IDwvcmRmOlJERj4gPC94OnhtcG1ldGE+IDw/eHBhY2tldCBlbmQ9InIiPz443r1AAAAAFklEQVR42mL8//8/AwgwMUABnAEQYABLIQMD7kZaewAAAABJRU5ErkJggg==\ndata:image/png;base64,iVBORw0KGgoAAAANSUhEUgAAAAIAAAADCAYAAAC56t6BAAAAGXRFWHRTb2Z0d2FyZQBBZG9iZSBJbWFnZVJlYWR5ccllPAAAAyNpVFh0WE1MOmNvbS5hZG9iZS54bXAAAAAAADw/eHBhY2tldCBiZWdpbj0i77u/IiBpZD0iVzVNME1wQ2VoaUh6cmVTek5UY3prYzlkIj8+IDx4OnhtcG1ldGEgeG1sbnM6eD0iYWRvYmU6bnM6bWV0YS8iIHg6eG1wdGs9IkFkb2JlIFhNUCBDb3JlIDUuNS1jMDIxIDc5LjE1NDkxMSwgMjAxMy8xMC8yOS0xMTo0NzoxNiAgICAgICAgIj4gPHJkZjpSREYgeG1sbnM6cmRmPSJodHRwOi8vd3d3LnczLm9yZy8xOTk5LzAyLzIyLXJkZi1zeW50YXgtbnMjIj4gPHJkZjpEZXNjcmlwdGlvbiByZGY6YWJvdXQ9IiIgeG1sbnM6eG1wPSJodHRwOi8vbnMuYWRvYmUuY29tL3hhcC8xLjAvIiB4bWxuczp4bXBNTT0iaHR0cDovL25zLmFkb2JlLmNvbS94YXAvMS4wL21tLyIgeG1sbnM6c3RSZWY9Imh0dHA6Ly9ucy5hZG9iZS5jb20veGFwLzEuMC9zVHlwZS9SZXNvdXJjZVJlZiMiIHhtcDpDcmVhdG9yVG9vbD0iQWRvYmUgUGhvdG9zaG9wIENDIChNYWNpbnRvc2gpIiB4bXBNTTpJbnN0YW5jZUlEPSJ4bXAuaWlkOjNCMUIyNUZEQjc4MDExRTVBRDg3REQzQUY1ODBBQTA4IiB4bXBNTTpEb2N1bWVudElEPSJ4bXAuZGlkOjNCMUIyNUZFQjc4MDExRTVBRDg3REQzQUY1ODBBQTA4Ij4gPHhtcE1NOkRlcml2ZWRGcm9tIHN0UmVmOmluc3RhbmNlSUQ9InhtcC5paWQ6M0IxQjI1RkJCNzgwMTFFNUFEODdERDNBRjU4MEFBMDgiIHN0UmVmOmRvY3VtZW50SUQ9InhtcC5kaWQ6M0IxQjI1RkNCNzgwMTFFNUFEODdERDNBRjU4MEFBMDgiLz4gPC9yZGY6RGVzY3JpcHRpb24+IDwvcmRmOlJERj4gPC94OnhtcG1ldGE+IDw/eHBhY2tldCBlbmQ9InIiPz443r1AAAAAFklEQVR42mL8//8/AwgwMUABnAEQYABLIQMD7kZaewAAAABJRU5ErkJggg==\ndata:image/png;base64,iVBORw0KGgoAAAANSUhEUgAAAAIAAAADCAYAAAC56t6BAAAAGXRFWHRTb2Z0d2FyZQBBZG9iZSBJbWFnZVJlYWR5ccllPAAAAyNpVFh0WE1MOmNvbS5hZG9iZS54bXAAAAAAADw/eHBhY2tldCBiZWdpbj0i77u/IiBpZD0iVzVNME1wQ2VoaUh6cmVTek5UY3prYzlkIj8+IDx4OnhtcG1ldGEgeG1sbnM6eD0iYWRvYmU6bnM6bWV0YS8iIHg6eG1wdGs9IkFkb2JlIFhNUCBDb3JlIDUuNS1jMDIxIDc5LjE1NDkxMSwgMjAxMy8xMC8yOS0xMTo0NzoxNiAgICAgICAgIj4gPHJkZjpSREYgeG1sbnM6cmRmPSJodHRwOi8vd3d3LnczLm9yZy8xOTk5LzAyLzIyLXJkZi1zeW50YXgtbnMjIj4gPHJkZjpEZXNjcmlwdGlvbiByZGY6YWJvdXQ9IiIgeG1sbnM6eG1wPSJodHRwOi8vbnMuYWRvYmUuY29tL3hhcC8xLjAvIiB4bWxuczp4bXBNTT0iaHR0cDovL25zLmFkb2JlLmNvbS94YXAvMS4wL21tLyIgeG1sbnM6c3RSZWY9Imh0dHA6Ly9ucy5hZG9iZS5jb20veGFwLzEuMC9zVHlwZS9SZXNvdXJjZVJlZiMiIHhtcDpDcmVhdG9yVG9vbD0iQWRvYmUgUGhvdG9zaG9wIENDIChNYWNpbnRvc2gpIiB4bXBNTTpJbnN0YW5jZUlEPSJ4bXAuaWlkOjNCMUIyNUZEQjc4MDExRTVBRDg3REQzQUY1ODBBQTA4IiB4bXBNTTpEb2N1bWVudElEPSJ4bXAuZGlkOjNCMUIyNUZFQjc4MDExRTVBRDg3REQzQUY1ODBBQTA4Ij4gPHhtcE1NOkRlcml2ZWRGcm9tIHN0UmVmOmluc3RhbmNlSUQ9InhtcC5paWQ6M0IxQjI1RkJCNzgwMTFFNUFEODdERDNBRjU4MEFBMDgiIHN0UmVmOmRvY3VtZW50SUQ9InhtcC5kaWQ6M0IxQjI1RkNCNzgwMTFFNUFEODdERDNBRjU4MEFBMDgiLz4gPC9yZGY6RGVzY3JpcHRpb24+IDwvcmRmOlJERj4gPC94OnhtcG1ldGE+IDw/eHBhY2tldCBlbmQ9InIiPz443r1AAAAAFklEQVR42mL8//8/AwgwMUABnAEQYABLIQMD7kZaewAAAABJRU5ErkJggg==\ndata:image/png;base64,iVBORw0KGgoAAAANSUhEUgAAAAIAAAADCAYAAAC56t6BAAAAGXRFWHRTb2Z0d2FyZQBBZG9iZSBJbWFnZVJlYWR5ccllPAAAAyNpVFh0WE1MOmNvbS5hZG9iZS54bXAAAAAAADw/eHBhY2tldCBiZWdpbj0i77u/IiBpZD0iVzVNME1wQ2VoaUh6cmVTek5UY3prYzlkIj8+IDx4OnhtcG1ldGEgeG1sbnM6eD0iYWRvYmU6bnM6bWV0YS8iIHg6eG1wdGs9IkFkb2JlIFhNUCBDb3JlIDUuNS1jMDIxIDc5LjE1NDkxMSwgMjAxMy8xMC8yOS0xMTo0NzoxNiAgICAgICAgIj4gPHJkZjpSREYgeG1sbnM6cmRmPSJodHRwOi8vd3d3LnczLm9yZy8xOTk5LzAyLzIyLXJkZi1zeW50YXgtbnMjIj4gPHJkZjpEZXNjcmlwdGlvbiByZGY6YWJvdXQ9IiIgeG1sbnM6eG1wPSJodHRwOi8vbnMuYWRvYmUuY29tL3hhcC8xLjAvIiB4bWxuczp4bXBNTT0iaHR0cDovL25zLmFkb2JlLmNvbS94YXAvMS4wL21tLyIgeG1sbnM6c3RSZWY9Imh0dHA6Ly9ucy5hZG9iZS5jb20veGFwLzEuMC9zVHlwZS9SZXNvdXJjZVJlZiMiIHhtcDpDcmVhdG9yVG9vbD0iQWRvYmUgUGhvdG9zaG9wIENDIChNYWNpbnRvc2gpIiB4bXBNTTpJbnN0YW5jZUlEPSJ4bXAuaWlkOjNCMUIyNUZEQjc4MDExRTVBRDg3REQzQUY1ODBBQTA4IiB4bXBNTTpEb2N1bWVudElEPSJ4bXAuZGlkOjNCMUIyNUZFQjc4MDExRTVBRDg3REQzQUY1ODBBQTA4Ij4gPHhtcE1NOkRlcml2ZWRGcm9tIHN0UmVmOmluc3RhbmNlSUQ9InhtcC5paWQ6M0IxQjI1RkJCNzgwMTFFNUFEODdERDNBRjU4MEFBMDgiIHN0UmVmOmRvY3VtZW50SUQ9InhtcC5kaWQ6M0IxQjI1RkNCNzgwMTFFNUFEODdERDNBRjU4MEFBMDgiLz4gPC9yZGY6RGVzY3JpcHRpb24+IDwvcmRmOlJERj4gPC94OnhtcG1ldGE+IDw/eHBhY2tldCBlbmQ9InIiPz443r1AAAAAFklEQVR42mL8//8/AwgwMUABnAEQYABLIQMD7kZaewAAAABJRU5ErkJggg==\ndata:image/png;base64,iVBORw0KGgoAAAANSUhEUgAAAAIAAAADCAYAAAC56t6BAAAAGXRFWHRTb2Z0d2FyZQBBZG9iZSBJbWFnZVJlYWR5ccllPAAAAyNpVFh0WE1MOmNvbS5hZG9iZS54bXAAAAAAADw/eHBhY2tldCBiZWdpbj0i77u/IiBpZD0iVzVNME1wQ2VoaUh6cmVTek5UY3prYzlkIj8+IDx4OnhtcG1ldGEgeG1sbnM6eD0iYWRvYmU6bnM6bWV0YS8iIHg6eG1wdGs9IkFkb2JlIFhNUCBDb3JlIDUuNS1jMDIxIDc5LjE1NDkxMSwgMjAxMy8xMC8yOS0xMTo0NzoxNiAgICAgICAgIj4gPHJkZjpSREYgeG1sbnM6cmRmPSJodHRwOi8vd3d3LnczLm9yZy8xOTk5LzAyLzIyLXJkZi1zeW50YXgtbnMjIj4gPHJkZjpEZXNjcmlwdGlvbiByZGY6YWJvdXQ9IiIgeG1sbnM6eG1wPSJodHRwOi8vbnMuYWRvYmUuY29tL3hhcC8xLjAvIiB4bWxuczp4bXBNTT0iaHR0cDovL25zLmFkb2JlLmNvbS94YXAvMS4wL21tLyIgeG1sbnM6c3RSZWY9Imh0dHA6Ly9ucy5hZG9iZS5jb20veGFwLzEuMC9zVHlwZS9SZXNvdXJjZVJlZiMiIHhtcDpDcmVhdG9yVG9vbD0iQWRvYmUgUGhvdG9zaG9wIENDIChNYWNpbnRvc2gpIiB4bXBNTTpJbnN0YW5jZUlEPSJ4bXAuaWlkOjNCMUIyNUZEQjc4MDExRTVBRDg3REQzQUY1ODBBQTA4IiB4bXBNTTpEb2N1bWVudElEPSJ4bXAuZGlkOjNCMUIyNUZFQjc4MDExRTVBRDg3REQzQUY1ODBBQTA4Ij4gPHhtcE1NOkRlcml2ZWRGcm9tIHN0UmVmOmluc3RhbmNlSUQ9InhtcC5paWQ6M0IxQjI1RkJCNzgwMTFFNUFEODdERDNBRjU4MEFBMDgiIHN0UmVmOmRvY3VtZW50SUQ9InhtcC5kaWQ6M0IxQjI1RkNCNzgwMTFFNUFEODdERDNBRjU4MEFBMDgiLz4gPC9yZGY6RGVzY3JpcHRpb24+IDwvcmRmOlJERj4gPC94OnhtcG1ldGE+IDw/eHBhY2tldCBlbmQ9InIiPz443r1AAAAAFklEQVR42mL8//8/AwgwMUABnAEQYABLIQMD7kZaewAAAABJRU5ErkJggg==\ndata:image/png;base64,iVBORw0KGgoAAAANSUhEUgAAAAIAAAADCAYAAAC56t6BAAAAGXRFWHRTb2Z0d2FyZQBBZG9iZSBJbWFnZVJlYWR5ccllPAAAAyNpVFh0WE1MOmNvbS5hZG9iZS54bXAAAAAAADw/eHBhY2tldCBiZWdpbj0i77u/IiBpZD0iVzVNME1wQ2VoaUh6cmVTek5UY3prYzlkIj8+IDx4OnhtcG1ldGEgeG1sbnM6eD0iYWRvYmU6bnM6bWV0YS8iIHg6eG1wdGs9IkFkb2JlIFhNUCBDb3JlIDUuNS1jMDIxIDc5LjE1NDkxMSwgMjAxMy8xMC8yOS0xMTo0NzoxNiAgICAgICAgIj4gPHJkZjpSREYgeG1sbnM6cmRmPSJodHRwOi8vd3d3LnczLm9yZy8xOTk5LzAyLzIyLXJkZi1zeW50YXgtbnMjIj4gPHJkZjpEZXNjcmlwdGlvbiByZGY6YWJvdXQ9IiIgeG1sbnM6eG1wPSJodHRwOi8vbnMuYWRvYmUuY29tL3hhcC8xLjAvIiB4bWxuczp4bXBNTT0iaHR0cDovL25zLmFkb2JlLmNvbS94YXAvMS4wL21tLyIgeG1sbnM6c3RSZWY9Imh0dHA6Ly9ucy5hZG9iZS5jb20veGFwLzEuMC9zVHlwZS9SZXNvdXJjZVJlZiMiIHhtcDpDcmVhdG9yVG9vbD0iQWRvYmUgUGhvdG9zaG9wIENDIChNYWNpbnRvc2gpIiB4bXBNTTpJbnN0YW5jZUlEPSJ4bXAuaWlkOjNCMUIyNUZEQjc4MDExRTVBRDg3REQzQUY1ODBBQTA4IiB4bXBNTTpEb2N1bWVudElEPSJ4bXAuZGlkOjNCMUIyNUZFQjc4MDExRTVBRDg3REQzQUY1ODBBQTA4Ij4gPHhtcE1NOkRlcml2ZWRGcm9tIHN0UmVmOmluc3RhbmNlSUQ9InhtcC5paWQ6M0IxQjI1RkJCNzgwMTFFNUFEODdERDNBRjU4MEFBMDgiIHN0UmVmOmRvY3VtZW50SUQ9InhtcC5kaWQ6M0IxQjI1RkNCNzgwMTFFNUFEODdERDNBRjU4MEFBMDgiLz4gPC9yZGY6RGVzY3JpcHRpb24+IDwvcmRmOlJERj4gPC94OnhtcG1ldGE+IDw/eHBhY2tldCBlbmQ9InIiPz443r1AAAAAFklEQVR42mL8//8/AwgwMUABnAEQYABLIQMD7kZaewAAAABJRU5ErkJggg==\ndata:image/png;base64,iVBORw0KGgoAAAANSUhEUgAAAAIAAAADCAYAAAC56t6BAAAAGXRFWHRTb2Z0d2FyZQBBZG9iZSBJbWFnZVJlYWR5ccllPAAAAyNpVFh0WE1MOmNvbS5hZG9iZS54bXAAAAAAADw/eHBhY2tldCBiZWdpbj0i77u/IiBpZD0iVzVNME1wQ2VoaUh6cmVTek5UY3prYzlkIj8+IDx4OnhtcG1ldGEgeG1sbnM6eD0iYWRvYmU6bnM6bWV0YS8iIHg6eG1wdGs9IkFkb2JlIFhNUCBDb3JlIDUuNS1jMDIxIDc5LjE1NDkxMSwgMjAxMy8xMC8yOS0xMTo0NzoxNiAgICAgICAgIj4gPHJkZjpSREYgeG1sbnM6cmRmPSJodHRwOi8vd3d3LnczLm9yZy8xOTk5LzAyLzIyLXJkZi1zeW50YXgtbnMjIj4gPHJkZjpEZXNjcmlwdGlvbiByZGY6YWJvdXQ9IiIgeG1sbnM6eG1wPSJodHRwOi8vbnMuYWRvYmUuY29tL3hhcC8xLjAvIiB4bWxuczp4bXBNTT0iaHR0cDovL25zLmFkb2JlLmNvbS94YXAvMS4wL21tLyIgeG1sbnM6c3RSZWY9Imh0dHA6Ly9ucy5hZG9iZS5jb20veGFwLzEuMC9zVHlwZS9SZXNvdXJjZVJlZiMiIHhtcDpDcmVhdG9yVG9vbD0iQWRvYmUgUGhvdG9zaG9wIENDIChNYWNpbnRvc2gpIiB4bXBNTTpJbnN0YW5jZUlEPSJ4bXAuaWlkOjNCMUIyNUZEQjc4MDExRTVBRDg3REQzQUY1ODBBQTA4IiB4bXBNTTpEb2N1bWVudElEPSJ4bXAuZGlkOjNCMUIyNUZFQjc4MDExRTVBRDg3REQzQUY1ODBBQTA4Ij4gPHhtcE1NOkRlcml2ZWRGcm9tIHN0UmVmOmluc3RhbmNlSUQ9InhtcC5paWQ6M0IxQjI1RkJCNzgwMTFFNUFEODdERDNBRjU4MEFBMDgiIHN0UmVmOmRvY3VtZW50SUQ9InhtcC5kaWQ6M0IxQjI1RkNCNzgwMTFFNUFEODdERDNBRjU4MEFBMDgiLz4gPC9yZGY6RGVzY3JpcHRpb24+IDwvcmRmOlJERj4gPC94OnhtcG1ldGE+IDw/eHBhY2tldCBlbmQ9InIiPz443r1AAAAAFklEQVR42mL8//8/AwgwMUABnAEQYABLIQMD7kZaewAAAABJRU5ErkJggg==\ndata:image/png;base64,iVBORw0KGgoAAAANSUhEUgAAAAIAAAADCAYAAAC56t6BAAAAGXRFWHRTb2Z0d2FyZQBBZG9iZSBJbWFnZVJlYWR5ccllPAAAAyNpVFh0WE1MOmNvbS5hZG9iZS54bXAAAAAAADw/eHBhY2tldCBiZWdpbj0i77u/IiBpZD0iVzVNME1wQ2VoaUh6cmVTek5UY3prYzlkIj8+IDx4OnhtcG1ldGEgeG1sbnM6eD0iYWRvYmU6bnM6bWV0YS8iIHg6eG1wdGs9IkFkb2JlIFhNUCBDb3JlIDUuNS1jMDIxIDc5LjE1NDkxMSwgMjAxMy8xMC8yOS0xMTo0NzoxNiAgICAgICAgIj4gPHJkZjpSREYgeG1sbnM6cmRmPSJodHRwOi8vd3d3LnczLm9yZy8xOTk5LzAyLzIyLXJkZi1zeW50YXgtbnMjIj4gPHJkZjpEZXNjcmlwdGlvbiByZGY6YWJvdXQ9IiIgeG1sbnM6eG1wPSJodHRwOi8vbnMuYWRvYmUuY29tL3hhcC8xLjAvIiB4bWxuczp4bXBNTT0iaHR0cDovL25zLmFkb2JlLmNvbS94YXAvMS4wL21tLyIgeG1sbnM6c3RSZWY9Imh0dHA6Ly9ucy5hZG9iZS5jb20veGFwLzEuMC9zVHlwZS9SZXNvdXJjZVJlZiMiIHhtcDpDcmVhdG9yVG9vbD0iQWRvYmUgUGhvdG9zaG9wIENDIChNYWNpbnRvc2gpIiB4bXBNTTpJbnN0YW5jZUlEPSJ4bXAuaWlkOjNCMUIyNUZEQjc4MDExRTVBRDg3REQzQUY1ODBBQTA4IiB4bXBNTTpEb2N1bWVudElEPSJ4bXAuZGlkOjNCMUIyNUZFQjc4MDExRTVBRDg3REQzQUY1ODBBQTA4Ij4gPHhtcE1NOkRlcml2ZWRGcm9tIHN0UmVmOmluc3RhbmNlSUQ9InhtcC5paWQ6M0IxQjI1RkJCNzgwMTFFNUFEODdERDNBRjU4MEFBMDgiIHN0UmVmOmRvY3VtZW50SUQ9InhtcC5kaWQ6M0IxQjI1RkNCNzgwMTFFNUFEODdERDNBRjU4MEFBMDgiLz4gPC9yZGY6RGVzY3JpcHRpb24+IDwvcmRmOlJERj4gPC94OnhtcG1ldGE+IDw/eHBhY2tldCBlbmQ9InIiPz443r1AAAAAFklEQVR42mL8//8/AwgwMUABnAEQYABLIQMD7kZaewAAAABJRU5ErkJggg==\ndata:image/png;base64,iVBORw0KGgoAAAANSUhEUgAAAAIAAAADCAYAAAC56t6BAAAAGXRFWHRTb2Z0d2FyZQBBZG9iZSBJbWFnZVJlYWR5ccllPAAAAyNpVFh0WE1MOmNvbS5hZG9iZS54bXAAAAAAADw/eHBhY2tldCBiZWdpbj0i77u/IiBpZD0iVzVNME1wQ2VoaUh6cmVTek5UY3prYzlkIj8+IDx4OnhtcG1ldGEgeG1sbnM6eD0iYWRvYmU6bnM6bWV0YS8iIHg6eG1wdGs9IkFkb2JlIFhNUCBDb3JlIDUuNS1jMDIxIDc5LjE1NDkxMSwgMjAxMy8xMC8yOS0xMTo0NzoxNiAgICAgICAgIj4gPHJkZjpSREYgeG1sbnM6cmRmPSJodHRwOi8vd3d3LnczLm9yZy8xOTk5LzAyLzIyLXJkZi1zeW50YXgtbnMjIj4gPHJkZjpEZXNjcmlwdGlvbiByZGY6YWJvdXQ9IiIgeG1sbnM6eG1wPSJodHRwOi8vbnMuYWRvYmUuY29tL3hhcC8xLjAvIiB4bWxuczp4bXBNTT0iaHR0cDovL25zLmFkb2JlLmNvbS94YXAvMS4wL21tLyIgeG1sbnM6c3RSZWY9Imh0dHA6Ly9ucy5hZG9iZS5jb20veGFwLzEuMC9zVHlwZS9SZXNvdXJjZVJlZiMiIHhtcDpDcmVhdG9yVG9vbD0iQWRvYmUgUGhvdG9zaG9wIENDIChNYWNpbnRvc2gpIiB4bXBNTTpJbnN0YW5jZUlEPSJ4bXAuaWlkOjNCMUIyNUZEQjc4MDExRTVBRDg3REQzQUY1ODBBQTA4IiB4bXBNTTpEb2N1bWVudElEPSJ4bXAuZGlkOjNCMUIyNUZFQjc4MDExRTVBRDg3REQzQUY1ODBBQTA4Ij4gPHhtcE1NOkRlcml2ZWRGcm9tIHN0UmVmOmluc3RhbmNlSUQ9InhtcC5paWQ6M0IxQjI1RkJCNzgwMTFFNUFEODdERDNBRjU4MEFBMDgiIHN0UmVmOmRvY3VtZW50SUQ9InhtcC5kaWQ6M0IxQjI1RkNCNzgwMTFFNUFEODdERDNBRjU4MEFBMDgiLz4gPC9yZGY6RGVzY3JpcHRpb24+IDwvcmRmOlJERj4gPC94OnhtcG1ldGE+IDw/eHBhY2tldCBlbmQ9InIiPz443r1AAAAAFklEQVR42mL8//8/AwgwMUABnAEQYABLIQMD7kZaewAAAABJRU5ErkJggg==\ndata:image/png;base64,iVBORw0KGgoAAAANSUhEUgAAAAIAAAADCAYAAAC56t6BAAAAGXRFWHRTb2Z0d2FyZQBBZG9iZSBJbWFnZVJlYWR5ccllPAAAAyNpVFh0WE1MOmNvbS5hZG9iZS54bXAAAAAAADw/eHBhY2tldCBiZWdpbj0i77u/IiBpZD0iVzVNME1wQ2VoaUh6cmVTek5UY3prYzlkIj8+IDx4OnhtcG1ldGEgeG1sbnM6eD0iYWRvYmU6bnM6bWV0YS8iIHg6eG1wdGs9IkFkb2JlIFhNUCBDb3JlIDUuNS1jMDIxIDc5LjE1NDkxMSwgMjAxMy8xMC8yOS0xMTo0NzoxNiAgICAgICAgIj4gPHJkZjpSREYgeG1sbnM6cmRmPSJodHRwOi8vd3d3LnczLm9yZy8xOTk5LzAyLzIyLXJkZi1zeW50YXgtbnMjIj4gPHJkZjpEZXNjcmlwdGlvbiByZGY6YWJvdXQ9IiIgeG1sbnM6eG1wPSJodHRwOi8vbnMuYWRvYmUuY29tL3hhcC8xLjAvIiB4bWxuczp4bXBNTT0iaHR0cDovL25zLmFkb2JlLmNvbS94YXAvMS4wL21tLyIgeG1sbnM6c3RSZWY9Imh0dHA6Ly9ucy5hZG9iZS5jb20veGFwLzEuMC9zVHlwZS9SZXNvdXJjZVJlZiMiIHhtcDpDcmVhdG9yVG9vbD0iQWRvYmUgUGhvdG9zaG9wIENDIChNYWNpbnRvc2gpIiB4bXBNTTpJbnN0YW5jZUlEPSJ4bXAuaWlkOjNCMUIyNUZEQjc4MDExRTVBRDg3REQzQUY1ODBBQTA4IiB4bXBNTTpEb2N1bWVudElEPSJ4bXAuZGlkOjNCMUIyNUZFQjc4MDExRTVBRDg3REQzQUY1ODBBQTA4Ij4gPHhtcE1NOkRlcml2ZWRGcm9tIHN0UmVmOmluc3RhbmNlSUQ9InhtcC5paWQ6M0IxQjI1RkJCNzgwMTFFNUFEODdERDNBRjU4MEFBMDgiIHN0UmVmOmRvY3VtZW50SUQ9InhtcC5kaWQ6M0IxQjI1RkNCNzgwMTFFNUFEODdERDNBRjU4MEFBMDgiLz4gPC9yZGY6RGVzY3JpcHRpb24+IDwvcmRmOlJERj4gPC94OnhtcG1ldGE+IDw/eHBhY2tldCBlbmQ9InIiPz443r1AAAAAFklEQVR42mL8//8/AwgwMUABnAEQYABLIQMD7kZaewAAAABJRU5ErkJggg==\ndata:image/png;base64,iVBORw0KGgoAAAANSUhEUgAAAAIAAAADCAYAAAC56t6BAAAAGXRFWHRTb2Z0d2FyZQBBZG9iZSBJbWFnZVJlYWR5ccllPAAAAyNpVFh0WE1MOmNvbS5hZG9iZS54bXAAAAAAADw/eHBhY2tldCBiZWdpbj0i77u/IiBpZD0iVzVNME1wQ2VoaUh6cmVTek5UY3prYzlkIj8+IDx4OnhtcG1ldGEgeG1sbnM6eD0iYWRvYmU6bnM6bWV0YS8iIHg6eG1wdGs9IkFkb2JlIFhNUCBDb3JlIDUuNS1jMDIxIDc5LjE1NDkxMSwgMjAxMy8xMC8yOS0xMTo0NzoxNiAgICAgICAgIj4gPHJkZjpSREYgeG1sbnM6cmRmPSJodHRwOi8vd3d3LnczLm9yZy8xOTk5LzAyLzIyLXJkZi1zeW50YXgtbnMjIj4gPHJkZjpEZXNjcmlwdGlvbiByZGY6YWJvdXQ9IiIgeG1sbnM6eG1wPSJodHRwOi8vbnMuYWRvYmUuY29tL3hhcC8xLjAvIiB4bWxuczp4bXBNTT0iaHR0cDovL25zLmFkb2JlLmNvbS94YXAvMS4wL21tLyIgeG1sbnM6c3RSZWY9Imh0dHA6Ly9ucy5hZG9iZS5jb20veGFwLzEuMC9zVHlwZS9SZXNvdXJjZVJlZiMiIHhtcDpDcmVhdG9yVG9vbD0iQWRvYmUgUGhvdG9zaG9wIENDIChNYWNpbnRvc2gpIiB4bXBNTTpJbnN0YW5jZUlEPSJ4bXAuaWlkOjNCMUIyNUZEQjc4MDExRTVBRDg3REQzQUY1ODBBQTA4IiB4bXBNTTpEb2N1bWVudElEPSJ4bXAuZGlkOjNCMUIyNUZFQjc4MDExRTVBRDg3REQzQUY1ODBBQTA4Ij4gPHhtcE1NOkRlcml2ZWRGcm9tIHN0UmVmOmluc3RhbmNlSUQ9InhtcC5paWQ6M0IxQjI1RkJCNzgwMTFFNUFEODdERDNBRjU4MEFBMDgiIHN0UmVmOmRvY3VtZW50SUQ9InhtcC5kaWQ6M0IxQjI1RkNCNzgwMTFFNUFEODdERDNBRjU4MEFBMDgiLz4gPC9yZGY6RGVzY3JpcHRpb24+IDwvcmRmOlJERj4gPC94OnhtcG1ldGE+IDw/eHBhY2tldCBlbmQ9InIiPz443r1AAAAAFklEQVR42mL8//8/AwgwMUABnAEQYABLIQMD7kZaewAAAABJRU5ErkJggg==\ndata:image/png;base64,iVBORw0KGgoAAAANSUhEUgAAAAIAAAADCAYAAAC56t6BAAAAGXRFWHRTb2Z0d2FyZQBBZG9iZSBJbWFnZVJlYWR5ccllPAAAAyNpVFh0WE1MOmNvbS5hZG9iZS54bXAAAAAAADw/eHBhY2tldCBiZWdpbj0i77u/IiBpZD0iVzVNME1wQ2VoaUh6cmVTek5UY3prYzlkIj8+IDx4OnhtcG1ldGEgeG1sbnM6eD0iYWRvYmU6bnM6bWV0YS8iIHg6eG1wdGs9IkFkb2JlIFhNUCBDb3JlIDUuNS1jMDIxIDc5LjE1NDkxMSwgMjAxMy8xMC8yOS0xMTo0NzoxNiAgICAgICAgIj4gPHJkZjpSREYgeG1sbnM6cmRmPSJodHRwOi8vd3d3LnczLm9yZy8xOTk5LzAyLzIyLXJkZi1zeW50YXgtbnMjIj4gPHJkZjpEZXNjcmlwdGlvbiByZGY6YWJvdXQ9IiIgeG1sbnM6eG1wPSJodHRwOi8vbnMuYWRvYmUuY29tL3hhcC8xLjAvIiB4bWxuczp4bXBNTT0iaHR0cDovL25zLmFkb2JlLmNvbS94YXAvMS4wL21tLyIgeG1sbnM6c3RSZWY9Imh0dHA6Ly9ucy5hZG9iZS5jb20veGFwLzEuMC9zVHlwZS9SZXNvdXJjZVJlZiMiIHhtcDpDcmVhdG9yVG9vbD0iQWRvYmUgUGhvdG9zaG9wIENDIChNYWNpbnRvc2gpIiB4bXBNTTpJbnN0YW5jZUlEPSJ4bXAuaWlkOjNCMUIyNUZEQjc4MDExRTVBRDg3REQzQUY1ODBBQTA4IiB4bXBNTTpEb2N1bWVudElEPSJ4bXAuZGlkOjNCMUIyNUZFQjc4MDExRTVBRDg3REQzQUY1ODBBQTA4Ij4gPHhtcE1NOkRlcml2ZWRGcm9tIHN0UmVmOmluc3RhbmNlSUQ9InhtcC5paWQ6M0IxQjI1RkJCNzgwMTFFNUFEODdERDNBRjU4MEFBMDgiIHN0UmVmOmRvY3VtZW50SUQ9InhtcC5kaWQ6M0IxQjI1RkNCNzgwMTFFNUFEODdERDNBRjU4MEFBMDgiLz4gPC9yZGY6RGVzY3JpcHRpb24+IDwvcmRmOlJERj4gPC94OnhtcG1ldGE+IDw/eHBhY2tldCBlbmQ9InIiPz443r1AAAAAFklEQVR42mL8//8/AwgwMUABnAEQYABLIQMD7kZaewAAAABJRU5ErkJggg==\ndata:image/png;base64,iVBORw0KGgoAAAANSUhEUgAAAAIAAAADCAYAAAC56t6BAAAAGXRFWHRTb2Z0d2FyZQBBZG9iZSBJbWFnZVJlYWR5ccllPAAAAyNpVFh0WE1MOmNvbS5hZG9iZS54bXAAAAAAADw/eHBhY2tldCBiZWdpbj0i77u/IiBpZD0iVzVNME1wQ2VoaUh6cmVTek5UY3prYzlkIj8+IDx4OnhtcG1ldGEgeG1sbnM6eD0iYWRvYmU6bnM6bWV0YS8iIHg6eG1wdGs9IkFkb2JlIFhNUCBDb3JlIDUuNS1jMDIxIDc5LjE1NDkxMSwgMjAxMy8xMC8yOS0xMTo0NzoxNiAgICAgICAgIj4gPHJkZjpSREYgeG1sbnM6cmRmPSJodHRwOi8vd3d3LnczLm9yZy8xOTk5LzAyLzIyLXJkZi1zeW50YXgtbnMjIj4gPHJkZjpEZXNjcmlwdGlvbiByZGY6YWJvdXQ9IiIgeG1sbnM6eG1wPSJodHRwOi8vbnMuYWRvYmUuY29tL3hhcC8xLjAvIiB4bWxuczp4bXBNTT0iaHR0cDovL25zLmFkb2JlLmNvbS94YXAvMS4wL21tLyIgeG1sbnM6c3RSZWY9Imh0dHA6Ly9ucy5hZG9iZS5jb20veGFwLzEuMC9zVHlwZS9SZXNvdXJjZVJlZiMiIHhtcDpDcmVhdG9yVG9vbD0iQWRvYmUgUGhvdG9zaG9wIENDIChNYWNpbnRvc2gpIiB4bXBNTTpJbnN0YW5jZUlEPSJ4bXAuaWlkOjNCMUIyNUZEQjc4MDExRTVBRDg3REQzQUY1ODBBQTA4IiB4bXBNTTpEb2N1bWVudElEPSJ4bXAuZGlkOjNCMUIyNUZFQjc4MDExRTVBRDg3REQzQUY1ODBBQTA4Ij4gPHhtcE1NOkRlcml2ZWRGcm9tIHN0UmVmOmluc3RhbmNlSUQ9InhtcC5paWQ6M0IxQjI1RkJCNzgwMTFFNUFEODdERDNBRjU4MEFBMDgiIHN0UmVmOmRvY3VtZW50SUQ9InhtcC5kaWQ6M0IxQjI1RkNCNzgwMTFFNUFEODdERDNBRjU4MEFBMDgiLz4gPC9yZGY6RGVzY3JpcHRpb24+IDwvcmRmOlJERj4gPC94OnhtcG1ldGE+IDw/eHBhY2tldCBlbmQ9InIiPz443r1AAAAAFklEQVR42mL8//8/AwgwMUABnAEQYABLIQMD7kZaewAAAABJRU5ErkJggg==\ndata:image/png;base64,iVBORw0KGgoAAAANSUhEUgAAAAIAAAADCAYAAAC56t6BAAAAGXRFWHRTb2Z0d2FyZQBBZG9iZSBJbWFnZVJlYWR5ccllPAAAAyNpVFh0WE1MOmNvbS5hZG9iZS54bXAAAAAAADw/eHBhY2tldCBiZWdpbj0i77u/IiBpZD0iVzVNME1wQ2VoaUh6cmVTek5UY3prYzlkIj8+IDx4OnhtcG1ldGEgeG1sbnM6eD0iYWRvYmU6bnM6bWV0YS8iIHg6eG1wdGs9IkFkb2JlIFhNUCBDb3JlIDUuNS1jMDIxIDc5LjE1NDkxMSwgMjAxMy8xMC8yOS0xMTo0NzoxNiAgICAgICAgIj4gPHJkZjpSREYgeG1sbnM6cmRmPSJodHRwOi8vd3d3LnczLm9yZy8xOTk5LzAyLzIyLXJkZi1zeW50YXgtbnMjIj4gPHJkZjpEZXNjcmlwdGlvbiByZGY6YWJvdXQ9IiIgeG1sbnM6eG1wPSJodHRwOi8vbnMuYWRvYmUuY29tL3hhcC8xLjAvIiB4bWxuczp4bXBNTT0iaHR0cDovL25zLmFkb2JlLmNvbS94YXAvMS4wL21tLyIgeG1sbnM6c3RSZWY9Imh0dHA6Ly9ucy5hZG9iZS5jb20veGFwLzEuMC9zVHlwZS9SZXNvdXJjZVJlZiMiIHhtcDpDcmVhdG9yVG9vbD0iQWRvYmUgUGhvdG9zaG9wIENDIChNYWNpbnRvc2gpIiB4bXBNTTpJbnN0YW5jZUlEPSJ4bXAuaWlkOjNCMUIyNUZEQjc4MDExRTVBRDg3REQzQUY1ODBBQTA4IiB4bXBNTTpEb2N1bWVudElEPSJ4bXAuZGlkOjNCMUIyNUZFQjc4MDExRTVBRDg3REQzQUY1ODBBQTA4Ij4gPHhtcE1NOkRlcml2ZWRGcm9tIHN0UmVmOmluc3RhbmNlSUQ9InhtcC5paWQ6M0IxQjI1RkJCNzgwMTFFNUFEODdERDNBRjU4MEFBMDgiIHN0UmVmOmRvY3VtZW50SUQ9InhtcC5kaWQ6M0IxQjI1RkNCNzgwMTFFNUFEODdERDNBRjU4MEFBMDgiLz4gPC9yZGY6RGVzY3JpcHRpb24+IDwvcmRmOlJERj4gPC94OnhtcG1ldGE+IDw/eHBhY2tldCBlbmQ9InIiPz443r1AAAAAFklEQVR42mL8//8/AwgwMUABnAEQYABLIQMD7kZaewAAAABJRU5ErkJggg==\ndata:image/png;base64,iVBORw0KGgoAAAANSUhEUgAAAAIAAAADCAYAAAC56t6BAAAAGXRFWHRTb2Z0d2FyZQBBZG9iZSBJbWFnZVJlYWR5ccllPAAAAyNpVFh0WE1MOmNvbS5hZG9iZS54bXAAAAAAADw/eHBhY2tldCBiZWdpbj0i77u/IiBpZD0iVzVNME1wQ2VoaUh6cmVTek5UY3prYzlkIj8+IDx4OnhtcG1ldGEgeG1sbnM6eD0iYWRvYmU6bnM6bWV0YS8iIHg6eG1wdGs9IkFkb2JlIFhNUCBDb3JlIDUuNS1jMDIxIDc5LjE1NDkxMSwgMjAxMy8xMC8yOS0xMTo0NzoxNiAgICAgICAgIj4gPHJkZjpSREYgeG1sbnM6cmRmPSJodHRwOi8vd3d3LnczLm9yZy8xOTk5LzAyLzIyLXJkZi1zeW50YXgtbnMjIj4gPHJkZjpEZXNjcmlwdGlvbiByZGY6YWJvdXQ9IiIgeG1sbnM6eG1wPSJodHRwOi8vbnMuYWRvYmUuY29tL3hhcC8xLjAvIiB4bWxuczp4bXBNTT0iaHR0cDovL25zLmFkb2JlLmNvbS94YXAvMS4wL21tLyIgeG1sbnM6c3RSZWY9Imh0dHA6Ly9ucy5hZG9iZS5jb20veGFwLzEuMC9zVHlwZS9SZXNvdXJjZVJlZiMiIHhtcDpDcmVhdG9yVG9vbD0iQWRvYmUgUGhvdG9zaG9wIENDIChNYWNpbnRvc2gpIiB4bXBNTTpJbnN0YW5jZUlEPSJ4bXAuaWlkOjNCMUIyNUZEQjc4MDExRTVBRDg3REQzQUY1ODBBQTA4IiB4bXBNTTpEb2N1bWVudElEPSJ4bXAuZGlkOjNCMUIyNUZFQjc4MDExRTVBRDg3REQzQUY1ODBBQTA4Ij4gPHhtcE1NOkRlcml2ZWRGcm9tIHN0UmVmOmluc3RhbmNlSUQ9InhtcC5paWQ6M0IxQjI1RkJCNzgwMTFFNUFEODdERDNBRjU4MEFBMDgiIHN0UmVmOmRvY3VtZW50SUQ9InhtcC5kaWQ6M0IxQjI1RkNCNzgwMTFFNUFEODdERDNBRjU4MEFBMDgiLz4gPC9yZGY6RGVzY3JpcHRpb24+IDwvcmRmOlJERj4gPC94OnhtcG1ldGE+IDw/eHBhY2tldCBlbmQ9InIiPz443r1AAAAAFklEQVR42mL8//8/AwgwMUABnAEQYABLIQMD7kZaewAAAABJRU5ErkJggg==\ndata:image/png;base64,iVBORw0KGgoAAAANSUhEUgAAAAIAAAADCAYAAAC56t6BAAAAGXRFWHRTb2Z0d2FyZQBBZG9iZSBJbWFnZVJlYWR5ccllPAAAAyNpVFh0WE1MOmNvbS5hZG9iZS54bXAAAAAAADw/eHBhY2tldCBiZWdpbj0i77u/IiBpZD0iVzVNME1wQ2VoaUh6cmVTek5UY3prYzlkIj8+IDx4OnhtcG1ldGEgeG1sbnM6eD0iYWRvYmU6bnM6bWV0YS8iIHg6eG1wdGs9IkFkb2JlIFhNUCBDb3JlIDUuNS1jMDIxIDc5LjE1NDkxMSwgMjAxMy8xMC8yOS0xMTo0NzoxNiAgICAgICAgIj4gPHJkZjpSREYgeG1sbnM6cmRmPSJodHRwOi8vd3d3LnczLm9yZy8xOTk5LzAyLzIyLXJkZi1zeW50YXgtbnMjIj4gPHJkZjpEZXNjcmlwdGlvbiByZGY6YWJvdXQ9IiIgeG1sbnM6eG1wPSJodHRwOi8vbnMuYWRvYmUuY29tL3hhcC8xLjAvIiB4bWxuczp4bXBNTT0iaHR0cDovL25zLmFkb2JlLmNvbS94YXAvMS4wL21tLyIgeG1sbnM6c3RSZWY9Imh0dHA6Ly9ucy5hZG9iZS5jb20veGFwLzEuMC9zVHlwZS9SZXNvdXJjZVJlZiMiIHhtcDpDcmVhdG9yVG9vbD0iQWRvYmUgUGhvdG9zaG9wIENDIChNYWNpbnRvc2gpIiB4bXBNTTpJbnN0YW5jZUlEPSJ4bXAuaWlkOjNCMUIyNUZEQjc4MDExRTVBRDg3REQzQUY1ODBBQTA4IiB4bXBNTTpEb2N1bWVudElEPSJ4bXAuZGlkOjNCMUIyNUZFQjc4MDExRTVBRDg3REQzQUY1ODBBQTA4Ij4gPHhtcE1NOkRlcml2ZWRGcm9tIHN0UmVmOmluc3RhbmNlSUQ9InhtcC5paWQ6M0IxQjI1RkJCNzgwMTFFNUFEODdERDNBRjU4MEFBMDgiIHN0UmVmOmRvY3VtZW50SUQ9InhtcC5kaWQ6M0IxQjI1RkNCNzgwMTFFNUFEODdERDNBRjU4MEFBMDgiLz4gPC9yZGY6RGVzY3JpcHRpb24+IDwvcmRmOlJERj4gPC94OnhtcG1ldGE+IDw/eHBhY2tldCBlbmQ9InIiPz443r1AAAAAFklEQVR42mL8//8/AwgwMUABnAEQYABLIQMD7kZaewAAAABJRU5ErkJggg==\ndata:image/png;base64,iVBORw0KGgoAAAANSUhEUgAAAAIAAAADCAYAAAC56t6BAAAAGXRFWHRTb2Z0d2FyZQBBZG9iZSBJbWFnZVJlYWR5ccllPAAAAyNpVFh0WE1MOmNvbS5hZG9iZS54bXAAAAAAADw/eHBhY2tldCBiZWdpbj0i77u/IiBpZD0iVzVNME1wQ2VoaUh6cmVTek5UY3prYzlkIj8+IDx4OnhtcG1ldGEgeG1sbnM6eD0iYWRvYmU6bnM6bWV0YS8iIHg6eG1wdGs9IkFkb2JlIFhNUCBDb3JlIDUuNS1jMDIxIDc5LjE1NDkxMSwgMjAxMy8xMC8yOS0xMTo0NzoxNiAgICAgICAgIj4gPHJkZjpSREYgeG1sbnM6cmRmPSJodHRwOi8vd3d3LnczLm9yZy8xOTk5LzAyLzIyLXJkZi1zeW50YXgtbnMjIj4gPHJkZjpEZXNjcmlwdGlvbiByZGY6YWJvdXQ9IiIgeG1sbnM6eG1wPSJodHRwOi8vbnMuYWRvYmUuY29tL3hhcC8xLjAvIiB4bWxuczp4bXBNTT0iaHR0cDovL25zLmFkb2JlLmNvbS94YXAvMS4wL21tLyIgeG1sbnM6c3RSZWY9Imh0dHA6Ly9ucy5hZG9iZS5jb20veGFwLzEuMC9zVHlwZS9SZXNvdXJjZVJlZiMiIHhtcDpDcmVhdG9yVG9vbD0iQWRvYmUgUGhvdG9zaG9wIENDIChNYWNpbnRvc2gpIiB4bXBNTTpJbnN0YW5jZUlEPSJ4bXAuaWlkOjNCMUIyNUZEQjc4MDExRTVBRDg3REQzQUY1ODBBQTA4IiB4bXBNTTpEb2N1bWVudElEPSJ4bXAuZGlkOjNCMUIyNUZFQjc4MDExRTVBRDg3REQzQUY1ODBBQTA4Ij4gPHhtcE1NOkRlcml2ZWRGcm9tIHN0UmVmOmluc3RhbmNlSUQ9InhtcC5paWQ6M0IxQjI1RkJCNzgwMTFFNUFEODdERDNBRjU4MEFBMDgiIHN0UmVmOmRvY3VtZW50SUQ9InhtcC5kaWQ6M0IxQjI1RkNCNzgwMTFFNUFEODdERDNBRjU4MEFBMDgiLz4gPC9yZGY6RGVzY3JpcHRpb24+IDwvcmRmOlJERj4gPC94OnhtcG1ldGE+IDw/eHBhY2tldCBlbmQ9InIiPz443r1AAAAAFklEQVR42mL8//8/AwgwMUABnAEQYABLIQMD7kZaewAAAABJRU5ErkJggg==\ndata:image/png;base64,iVBORw0KGgoAAAANSUhEUgAAAAIAAAADCAYAAAC56t6BAAAAGXRFWHRTb2Z0d2FyZQBBZG9iZSBJbWFnZVJlYWR5ccllPAAAAyNpVFh0WE1MOmNvbS5hZG9iZS54bXAAAAAAADw/eHBhY2tldCBiZWdpbj0i77u/IiBpZD0iVzVNME1wQ2VoaUh6cmVTek5UY3prYzlkIj8+IDx4OnhtcG1ldGEgeG1sbnM6eD0iYWRvYmU6bnM6bWV0YS8iIHg6eG1wdGs9IkFkb2JlIFhNUCBDb3JlIDUuNS1jMDIxIDc5LjE1NDkxMSwgMjAxMy8xMC8yOS0xMTo0NzoxNiAgICAgICAgIj4gPHJkZjpSREYgeG1sbnM6cmRmPSJodHRwOi8vd3d3LnczLm9yZy8xOTk5LzAyLzIyLXJkZi1zeW50YXgtbnMjIj4gPHJkZjpEZXNjcmlwdGlvbiByZGY6YWJvdXQ9IiIgeG1sbnM6eG1wPSJodHRwOi8vbnMuYWRvYmUuY29tL3hhcC8xLjAvIiB4bWxuczp4bXBNTT0iaHR0cDovL25zLmFkb2JlLmNvbS94YXAvMS4wL21tLyIgeG1sbnM6c3RSZWY9Imh0dHA6Ly9ucy5hZG9iZS5jb20veGFwLzEuMC9zVHlwZS9SZXNvdXJjZVJlZiMiIHhtcDpDcmVhdG9yVG9vbD0iQWRvYmUgUGhvdG9zaG9wIENDIChNYWNpbnRvc2gpIiB4bXBNTTpJbnN0YW5jZUlEPSJ4bXAuaWlkOjNCMUIyNUZEQjc4MDExRTVBRDg3REQzQUY1ODBBQTA4IiB4bXBNTTpEb2N1bWVudElEPSJ4bXAuZGlkOjNCMUIyNUZFQjc4MDExRTVBRDg3REQzQUY1ODBBQTA4Ij4gPHhtcE1NOkRlcml2ZWRGcm9tIHN0UmVmOmluc3RhbmNlSUQ9InhtcC5paWQ6M0IxQjI1RkJCNzgwMTFFNUFEODdERDNBRjU4MEFBMDgiIHN0UmVmOmRvY3VtZW50SUQ9InhtcC5kaWQ6M0IxQjI1RkNCNzgwMTFFNUFEODdERDNBRjU4MEFBMDgiLz4gPC9yZGY6RGVzY3JpcHRpb24+IDwvcmRmOlJERj4gPC94OnhtcG1ldGE+IDw/eHBhY2tldCBlbmQ9InIiPz443r1AAAAAFklEQVR42mL8//8/AwgwMUABnAEQYABLIQMD7kZaewAAAABJRU5ErkJggg==\ndata:image/png;base64,iVBORw0KGgoAAAANSUhEUgAAAAIAAAADCAYAAAC56t6BAAAAGXRFWHRTb2Z0d2FyZQBBZG9iZSBJbWFnZVJlYWR5ccllPAAAAyNpVFh0WE1MOmNvbS5hZG9iZS54bXAAAAAAADw/eHBhY2tldCBiZWdpbj0i77u/IiBpZD0iVzVNME1wQ2VoaUh6cmVTek5UY3prYzlkIj8+IDx4OnhtcG1ldGEgeG1sbnM6eD0iYWRvYmU6bnM6bWV0YS8iIHg6eG1wdGs9IkFkb2JlIFhNUCBDb3JlIDUuNS1jMDIxIDc5LjE1NDkxMSwgMjAxMy8xMC8yOS0xMTo0NzoxNiAgICAgICAgIj4gPHJkZjpSREYgeG1sbnM6cmRmPSJodHRwOi8vd3d3LnczLm9yZy8xOTk5LzAyLzIyLXJkZi1zeW50YXgtbnMjIj4gPHJkZjpEZXNjcmlwdGlvbiByZGY6YWJvdXQ9IiIgeG1sbnM6eG1wPSJodHRwOi8vbnMuYWRvYmUuY29tL3hhcC8xLjAvIiB4bWxuczp4bXBNTT0iaHR0cDovL25zLmFkb2JlLmNvbS94YXAvMS4wL21tLyIgeG1sbnM6c3RSZWY9Imh0dHA6Ly9ucy5hZG9iZS5jb20veGFwLzEuMC9zVHlwZS9SZXNvdXJjZVJlZiMiIHhtcDpDcmVhdG9yVG9vbD0iQWRvYmUgUGhvdG9zaG9wIENDIChNYWNpbnRvc2gpIiB4bXBNTTpJbnN0YW5jZUlEPSJ4bXAuaWlkOjNCMUIyNUZEQjc4MDExRTVBRDg3REQzQUY1ODBBQTA4IiB4bXBNTTpEb2N1bWVudElEPSJ4bXAuZGlkOjNCMUIyNUZFQjc4MDExRTVBRDg3REQzQUY1ODBBQTA4Ij4gPHhtcE1NOkRlcml2ZWRGcm9tIHN0UmVmOmluc3RhbmNlSUQ9InhtcC5paWQ6M0IxQjI1RkJCNzgwMTFFNUFEODdERDNBRjU4MEFBMDgiIHN0UmVmOmRvY3VtZW50SUQ9InhtcC5kaWQ6M0IxQjI1RkNCNzgwMTFFNUFEODdERDNBRjU4MEFBMDgiLz4gPC9yZGY6RGVzY3JpcHRpb24+IDwvcmRmOlJERj4gPC94OnhtcG1ldGE+IDw/eHBhY2tldCBlbmQ9InIiPz443r1AAAAAFklEQVR42mL8//8/AwgwMUABnAEQYABLIQMD7kZaewAAAABJRU5ErkJggg==\ndata:image/png;base64,iVBORw0KGgoAAAANSUhEUgAAAAIAAAADCAYAAAC56t6BAAAAGXRFWHRTb2Z0d2FyZQBBZG9iZSBJbWFnZVJlYWR5ccllPAAAAyNpVFh0WE1MOmNvbS5hZG9iZS54bXAAAAAAADw/eHBhY2tldCBiZWdpbj0i77u/IiBpZD0iVzVNME1wQ2VoaUh6cmVTek5UY3prYzlkIj8+IDx4OnhtcG1ldGEgeG1sbnM6eD0iYWRvYmU6bnM6bWV0YS8iIHg6eG1wdGs9IkFkb2JlIFhNUCBDb3JlIDUuNS1jMDIxIDc5LjE1NDkxMSwgMjAxMy8xMC8yOS0xMTo0NzoxNiAgICAgICAgIj4gPHJkZjpSREYgeG1sbnM6cmRmPSJodHRwOi8vd3d3LnczLm9yZy8xOTk5LzAyLzIyLXJkZi1zeW50YXgtbnMjIj4gPHJkZjpEZXNjcmlwdGlvbiByZGY6YWJvdXQ9IiIgeG1sbnM6eG1wPSJodHRwOi8vbnMuYWRvYmUuY29tL3hhcC8xLjAvIiB4bWxuczp4bXBNTT0iaHR0cDovL25zLmFkb2JlLmNvbS94YXAvMS4wL21tLyIgeG1sbnM6c3RSZWY9Imh0dHA6Ly9ucy5hZG9iZS5jb20veGFwLzEuMC9zVHlwZS9SZXNvdXJjZVJlZiMiIHhtcDpDcmVhdG9yVG9vbD0iQWRvYmUgUGhvdG9zaG9wIENDIChNYWNpbnRvc2gpIiB4bXBNTTpJbnN0YW5jZUlEPSJ4bXAuaWlkOjNCMUIyNUZEQjc4MDExRTVBRDg3REQzQUY1ODBBQTA4IiB4bXBNTTpEb2N1bWVudElEPSJ4bXAuZGlkOjNCMUIyNUZFQjc4MDExRTVBRDg3REQzQUY1ODBBQTA4Ij4gPHhtcE1NOkRlcml2ZWRGcm9tIHN0UmVmOmluc3RhbmNlSUQ9InhtcC5paWQ6M0IxQjI1RkJCNzgwMTFFNUFEODdERDNBRjU4MEFBMDgiIHN0UmVmOmRvY3VtZW50SUQ9InhtcC5kaWQ6M0IxQjI1RkNCNzgwMTFFNUFEODdERDNBRjU4MEFBMDgiLz4gPC9yZGY6RGVzY3JpcHRpb24+IDwvcmRmOlJERj4gPC94OnhtcG1ldGE+IDw/eHBhY2tldCBlbmQ9InIiPz443r1AAAAAFklEQVR42mL8//8/AwgwMUABnAEQYABLIQMD7kZaewAAAABJRU5ErkJggg==\ndata:image/png;base64,iVBORw0KGgoAAAANSUhEUgAAAAIAAAADCAYAAAC56t6BAAAAGXRFWHRTb2Z0d2FyZQBBZG9iZSBJbWFnZVJlYWR5ccllPAAAAyNpVFh0WE1MOmNvbS5hZG9iZS54bXAAAAAAADw/eHBhY2tldCBiZWdpbj0i77u/IiBpZD0iVzVNME1wQ2VoaUh6cmVTek5UY3prYzlkIj8+IDx4OnhtcG1ldGEgeG1sbnM6eD0iYWRvYmU6bnM6bWV0YS8iIHg6eG1wdGs9IkFkb2JlIFhNUCBDb3JlIDUuNS1jMDIxIDc5LjE1NDkxMSwgMjAxMy8xMC8yOS0xMTo0NzoxNiAgICAgICAgIj4gPHJkZjpSREYgeG1sbnM6cmRmPSJodHRwOi8vd3d3LnczLm9yZy8xOTk5LzAyLzIyLXJkZi1zeW50YXgtbnMjIj4gPHJkZjpEZXNjcmlwdGlvbiByZGY6YWJvdXQ9IiIgeG1sbnM6eG1wPSJodHRwOi8vbnMuYWRvYmUuY29tL3hhcC8xLjAvIiB4bWxuczp4bXBNTT0iaHR0cDovL25zLmFkb2JlLmNvbS94YXAvMS4wL21tLyIgeG1sbnM6c3RSZWY9Imh0dHA6Ly9ucy5hZG9iZS5jb20veGFwLzEuMC9zVHlwZS9SZXNvdXJjZVJlZiMiIHhtcDpDcmVhdG9yVG9vbD0iQWRvYmUgUGhvdG9zaG9wIENDIChNYWNpbnRvc2gpIiB4bXBNTTpJbnN0YW5jZUlEPSJ4bXAuaWlkOjNCMUIyNUZEQjc4MDExRTVBRDg3REQzQUY1ODBBQTA4IiB4bXBNTTpEb2N1bWVudElEPSJ4bXAuZGlkOjNCMUIyNUZFQjc4MDExRTVBRDg3REQzQUY1ODBBQTA4Ij4gPHhtcE1NOkRlcml2ZWRGcm9tIHN0UmVmOmluc3RhbmNlSUQ9InhtcC5paWQ6M0IxQjI1RkJCNzgwMTFFNUFEODdERDNBRjU4MEFBMDgiIHN0UmVmOmRvY3VtZW50SUQ9InhtcC5kaWQ6M0IxQjI1RkNCNzgwMTFFNUFEODdERDNBRjU4MEFBMDgiLz4gPC9yZGY6RGVzY3JpcHRpb24+IDwvcmRmOlJERj4gPC94OnhtcG1ldGE+IDw/eHBhY2tldCBlbmQ9InIiPz443r1AAAAAFklEQVR42mL8//8/AwgwMUABnAEQYABLIQMD7kZaewAAAABJRU5ErkJggg==\ndata:image/png;base64,iVBORw0KGgoAAAANSUhEUgAAAAIAAAADCAYAAAC56t6BAAAAGXRFWHRTb2Z0d2FyZQBBZG9iZSBJbWFnZVJlYWR5ccllPAAAAyNpVFh0WE1MOmNvbS5hZG9iZS54bXAAAAAAADw/eHBhY2tldCBiZWdpbj0i77u/IiBpZD0iVzVNME1wQ2VoaUh6cmVTek5UY3prYzlkIj8+IDx4OnhtcG1ldGEgeG1sbnM6eD0iYWRvYmU6bnM6bWV0YS8iIHg6eG1wdGs9IkFkb2JlIFhNUCBDb3JlIDUuNS1jMDIxIDc5LjE1NDkxMSwgMjAxMy8xMC8yOS0xMTo0NzoxNiAgICAgICAgIj4gPHJkZjpSREYgeG1sbnM6cmRmPSJodHRwOi8vd3d3LnczLm9yZy8xOTk5LzAyLzIyLXJkZi1zeW50YXgtbnMjIj4gPHJkZjpEZXNjcmlwdGlvbiByZGY6YWJvdXQ9IiIgeG1sbnM6eG1wPSJodHRwOi8vbnMuYWRvYmUuY29tL3hhcC8xLjAvIiB4bWxuczp4bXBNTT0iaHR0cDovL25zLmFkb2JlLmNvbS94YXAvMS4wL21tLyIgeG1sbnM6c3RSZWY9Imh0dHA6Ly9ucy5hZG9iZS5jb20veGFwLzEuMC9zVHlwZS9SZXNvdXJjZVJlZiMiIHhtcDpDcmVhdG9yVG9vbD0iQWRvYmUgUGhvdG9zaG9wIENDIChNYWNpbnRvc2gpIiB4bXBNTTpJbnN0YW5jZUlEPSJ4bXAuaWlkOjNCMUIyNUZEQjc4MDExRTVBRDg3REQzQUY1ODBBQTA4IiB4bXBNTTpEb2N1bWVudElEPSJ4bXAuZGlkOjNCMUIyNUZFQjc4MDExRTVBRDg3REQzQUY1ODBBQTA4Ij4gPHhtcE1NOkRlcml2ZWRGcm9tIHN0UmVmOmluc3RhbmNlSUQ9InhtcC5paWQ6M0IxQjI1RkJCNzgwMTFFNUFEODdERDNBRjU4MEFBMDgiIHN0UmVmOmRvY3VtZW50SUQ9InhtcC5kaWQ6M0IxQjI1RkNCNzgwMTFFNUFEODdERDNBRjU4MEFBMDgiLz4gPC9yZGY6RGVzY3JpcHRpb24+IDwvcmRmOlJERj4gPC94OnhtcG1ldGE+IDw/eHBhY2tldCBlbmQ9InIiPz443r1AAAAAFklEQVR42mL8//8/AwgwMUABnAEQYABLIQMD7kZaewAAAABJRU5ErkJggg==\ndata:image/png;base64,iVBORw0KGgoAAAANSUhEUgAAAAIAAAADCAYAAAC56t6BAAAAGXRFWHRTb2Z0d2FyZQBBZG9iZSBJbWFnZVJlYWR5ccllPAAAAyNpVFh0WE1MOmNvbS5hZG9iZS54bXAAAAAAADw/eHBhY2tldCBiZWdpbj0i77u/IiBpZD0iVzVNME1wQ2VoaUh6cmVTek5UY3prYzlkIj8+IDx4OnhtcG1ldGEgeG1sbnM6eD0iYWRvYmU6bnM6bWV0YS8iIHg6eG1wdGs9IkFkb2JlIFhNUCBDb3JlIDUuNS1jMDIxIDc5LjE1NDkxMSwgMjAxMy8xMC8yOS0xMTo0NzoxNiAgICAgICAgIj4gPHJkZjpSREYgeG1sbnM6cmRmPSJodHRwOi8vd3d3LnczLm9yZy8xOTk5LzAyLzIyLXJkZi1zeW50YXgtbnMjIj4gPHJkZjpEZXNjcmlwdGlvbiByZGY6YWJvdXQ9IiIgeG1sbnM6eG1wPSJodHRwOi8vbnMuYWRvYmUuY29tL3hhcC8xLjAvIiB4bWxuczp4bXBNTT0iaHR0cDovL25zLmFkb2JlLmNvbS94YXAvMS4wL21tLyIgeG1sbnM6c3RSZWY9Imh0dHA6Ly9ucy5hZG9iZS5jb20veGFwLzEuMC9zVHlwZS9SZXNvdXJjZVJlZiMiIHhtcDpDcmVhdG9yVG9vbD0iQWRvYmUgUGhvdG9zaG9wIENDIChNYWNpbnRvc2gpIiB4bXBNTTpJbnN0YW5jZUlEPSJ4bXAuaWlkOjNCMUIyNUZEQjc4MDExRTVBRDg3REQzQUY1ODBBQTA4IiB4bXBNTTpEb2N1bWVudElEPSJ4bXAuZGlkOjNCMUIyNUZFQjc4MDExRTVBRDg3REQzQUY1ODBBQTA4Ij4gPHhtcE1NOkRlcml2ZWRGcm9tIHN0UmVmOmluc3RhbmNlSUQ9InhtcC5paWQ6M0IxQjI1RkJCNzgwMTFFNUFEODdERDNBRjU4MEFBMDgiIHN0UmVmOmRvY3VtZW50SUQ9InhtcC5kaWQ6M0IxQjI1RkNCNzgwMTFFNUFEODdERDNBRjU4MEFBMDgiLz4gPC9yZGY6RGVzY3JpcHRpb24+IDwvcmRmOlJERj4gPC94OnhtcG1ldGE+IDw/eHBhY2tldCBlbmQ9InIiPz443r1AAAAAFklEQVR42mL8//8/AwgwMUABnAEQYABLIQMD7kZaewAAAABJRU5ErkJggg==\ndata:image/png;base64,iVBORw0KGgoAAAANSUhEUgAAAAIAAAADCAYAAAC56t6BAAAAGXRFWHRTb2Z0d2FyZQBBZG9iZSBJbWFnZVJlYWR5ccllPAAAAyNpVFh0WE1MOmNvbS5hZG9iZS54bXAAAAAAADw/eHBhY2tldCBiZWdpbj0i77u/IiBpZD0iVzVNME1wQ2VoaUh6cmVTek5UY3prYzlkIj8+IDx4OnhtcG1ldGEgeG1sbnM6eD0iYWRvYmU6bnM6bWV0YS8iIHg6eG1wdGs9IkFkb2JlIFhNUCBDb3JlIDUuNS1jMDIxIDc5LjE1NDkxMSwgMjAxMy8xMC8yOS0xMTo0NzoxNiAgICAgICAgIj4gPHJkZjpSREYgeG1sbnM6cmRmPSJodHRwOi8vd3d3LnczLm9yZy8xOTk5LzAyLzIyLXJkZi1zeW50YXgtbnMjIj4gPHJkZjpEZXNjcmlwdGlvbiByZGY6YWJvdXQ9IiIgeG1sbnM6eG1wPSJodHRwOi8vbnMuYWRvYmUuY29tL3hhcC8xLjAvIiB4bWxuczp4bXBNTT0iaHR0cDovL25zLmFkb2JlLmNvbS94YXAvMS4wL21tLyIgeG1sbnM6c3RSZWY9Imh0dHA6Ly9ucy5hZG9iZS5jb20veGFwLzEuMC9zVHlwZS9SZXNvdXJjZVJlZiMiIHhtcDpDcmVhdG9yVG9vbD0iQWRvYmUgUGhvdG9zaG9wIENDIChNYWNpbnRvc2gpIiB4bXBNTTpJbnN0YW5jZUlEPSJ4bXAuaWlkOjNCMUIyNUZEQjc4MDExRTVBRDg3REQzQUY1ODBBQTA4IiB4bXBNTTpEb2N1bWVudElEPSJ4bXAuZGlkOjNCMUIyNUZFQjc4MDExRTVBRDg3REQzQUY1ODBBQTA4Ij4gPHhtcE1NOkRlcml2ZWRGcm9tIHN0UmVmOmluc3RhbmNlSUQ9InhtcC5paWQ6M0IxQjI1RkJCNzgwMTFFNUFEODdERDNBRjU4MEFBMDgiIHN0UmVmOmRvY3VtZW50SUQ9InhtcC5kaWQ6M0IxQjI1RkNCNzgwMTFFNUFEODdERDNBRjU4MEFBMDgiLz4gPC9yZGY6RGVzY3JpcHRpb24+IDwvcmRmOlJERj4gPC94OnhtcG1ldGE+IDw/eHBhY2tldCBlbmQ9InIiPz443r1AAAAAFklEQVR42mL8//8/AwgwMUABnAEQYABLIQMD7kZaewAAAABJRU5ErkJggg==\ndata:image/png;base64,iVBORw0KGgoAAAANSUhEUgAAAAIAAAADCAYAAAC56t6BAAAAGXRFWHRTb2Z0d2FyZQBBZG9iZSBJbWFnZVJlYWR5ccllPAAAAyNpVFh0WE1MOmNvbS5hZG9iZS54bXAAAAAAADw/eHBhY2tldCBiZWdpbj0i77u/IiBpZD0iVzVNME1wQ2VoaUh6cmVTek5UY3prYzlkIj8+IDx4OnhtcG1ldGEgeG1sbnM6eD0iYWRvYmU6bnM6bWV0YS8iIHg6eG1wdGs9IkFkb2JlIFhNUCBDb3JlIDUuNS1jMDIxIDc5LjE1NDkxMSwgMjAxMy8xMC8yOS0xMTo0NzoxNiAgICAgICAgIj4gPHJkZjpSREYgeG1sbnM6cmRmPSJodHRwOi8vd3d3LnczLm9yZy8xOTk5LzAyLzIyLXJkZi1zeW50YXgtbnMjIj4gPHJkZjpEZXNjcmlwdGlvbiByZGY6YWJvdXQ9IiIgeG1sbnM6eG1wPSJodHRwOi8vbnMuYWRvYmUuY29tL3hhcC8xLjAvIiB4bWxuczp4bXBNTT0iaHR0cDovL25zLmFkb2JlLmNvbS94YXAvMS4wL21tLyIgeG1sbnM6c3RSZWY9Imh0dHA6Ly9ucy5hZG9iZS5jb20veGFwLzEuMC9zVHlwZS9SZXNvdXJjZVJlZiMiIHhtcDpDcmVhdG9yVG9vbD0iQWRvYmUgUGhvdG9zaG9wIENDIChNYWNpbnRvc2gpIiB4bXBNTTpJbnN0YW5jZUlEPSJ4bXAuaWlkOjNCMUIyNUZEQjc4MDExRTVBRDg3REQzQUY1ODBBQTA4IiB4bXBNTTpEb2N1bWVudElEPSJ4bXAuZGlkOjNCMUIyNUZFQjc4MDExRTVBRDg3REQzQUY1ODBBQTA4Ij4gPHhtcE1NOkRlcml2ZWRGcm9tIHN0UmVmOmluc3RhbmNlSUQ9InhtcC5paWQ6M0IxQjI1RkJCNzgwMTFFNUFEODdERDNBRjU4MEFBMDgiIHN0UmVmOmRvY3VtZW50SUQ9InhtcC5kaWQ6M0IxQjI1RkNCNzgwMTFFNUFEODdERDNBRjU4MEFBMDgiLz4gPC9yZGY6RGVzY3JpcHRpb24+IDwvcmRmOlJERj4gPC94OnhtcG1ldGE+IDw/eHBhY2tldCBlbmQ9InIiPz443r1AAAAAFklEQVR42mL8//8/AwgwMUABnAEQYABLIQMD7kZaewAAAABJRU5ErkJggg==\n"
     ]
    }
   ],
   "source": [
    "images = driver.find_elements_by_css_selector('img.product-image')\n",
    "for image in images:\n",
    "  print(image.get_attribute('src'))"
   ]
  },
  {
   "cell_type": "code",
   "execution_count": 14,
   "metadata": {},
   "outputs": [
    {
     "name": "stdout",
     "output_type": "stream",
     "text": [
      "$1.99\n$4.99\n$3.99\n$5.99\n$9.99\n$5.99\n"
     ]
    },
    {
     "name": "stdout",
     "output_type": "stream",
     "text": [
      "$5.99\n"
     ]
    },
    {
     "name": "stdout",
     "output_type": "stream",
     "text": [
      "$2.99\n$3.99\n$14.99\n$29.99\n$14.99\n$24.99\n$6.99\n$9.99\n$6.99\n$12.99\n$7.99\n$12.99\n$9.99\n"
     ]
    },
    {
     "name": "stdout",
     "output_type": "stream",
     "text": [
      "$34.99\n$39.99\n$14.99\n$34.99\n$5.99\n$2.99\n$14.99\n$24.99\n$5.99\n$12.99\n$9.99\n"
     ]
    },
    {
     "name": "stdout",
     "output_type": "stream",
     "text": [
      "$9.99\n$9.99\n$9.99\n$7.99\n$17.99\n$9.99\n$5.99\n$9.99\n$7.99\n$14.99\n$7.99\n$17.99\n$7.99\n"
     ]
    },
    {
     "name": "stdout",
     "output_type": "stream",
     "text": [
      "$19.99\n$19.99\n$6.99\n$19.99\n$24.99\n$9.99\n$10.99\n$6.99\n$3.99\n$3.99\n$5.99\n$9.99\n$6.99\n"
     ]
    },
    {
     "name": "stdout",
     "output_type": "stream",
     "text": [
      "$9.99\n$9.99\n$14.99\n"
     ]
    }
   ],
   "source": [
    "prices = driver.find_elements_by_css_selector('.product-price .price')\n",
    "for price in prices:\n",
    "  print(price.text)"
   ]
  },
  {
   "cell_type": "markdown",
   "metadata": {},
   "source": [
    "In order to get the actual data out, we need to figure out what constitutes as a row. In this case this would be the `.product-list-item`."
   ]
  },
  {
   "cell_type": "code",
   "execution_count": 16,
   "metadata": {},
   "outputs": [],
   "source": [
    "products = driver.find_elements_by_class_name('product-list-item')\n",
    "\n",
    "rows = []\n",
    "\n",
    "# Then we collect the data for each of these products\n",
    "for product in products:\n",
    "  # set up an empty data row\n",
    "  row = {}\n",
    "\n",
    "  title = product.find_element_by_class_name('product-title')\n",
    "  row['title'] = title.text\n",
    "\n",
    "  price = product.find_element_by_css_selector('.product-price .price')\n",
    "  row['price'] = price.text\n",
    "\n",
    "  url = product.find_element_by_class_name('product-url')\n",
    "  row['url'] = url.get_attribute('href')\n",
    "  \n",
    "  # Add the new row to the list\n",
    "  rows.append(row)\n"
   ]
  },
  {
   "cell_type": "code",
   "execution_count": 18,
   "metadata": {},
   "outputs": [
    {
     "data": {
      "text/plain": [
       "[{'price': '$1.99',\n  'title': 'Beverage Glass',\n  'url': 'http://www.hm.com/us/product/70917?article=70917-A'},\n {'price': '$4.99',\n  'title': 'Slub-weave Cushion Cover',\n  'url': 'http://www.hm.com/us/product/91551?article=91551-A'},\n {'price': '$3.99',\n  'title': 'Metal Tea Light Holder',\n  'url': 'http://www.hm.com/us/product/50558?article=50558-E'},\n {'price': '$5.99',\n  'title': 'Jacquard-weave Cushion Cover',\n  'url': 'http://www.hm.com/us/product/72455?article=72455-A'},\n {'price': '$9.99',\n  'title': 'Seat Cushion with Tassels',\n  'url': 'http://www.hm.com/us/product/83017?article=83017-B'},\n {'price': '$5.99',\n  'title': 'Cotton Cushion Cover',\n  'url': 'http://www.hm.com/us/product/69864?article=69864-D'},\n {'price': '$5.99',\n  'title': 'Jacquard-weave Cushion Cover',\n  'url': 'http://www.hm.com/us/product/83977?article=83977-A'},\n {'price': '$2.99',\n  'title': 'Cotton Canvas Cushion Cover',\n  'url': 'http://www.hm.com/us/product/59601?article=59601-Q'},\n {'price': '$3.99',\n  'title': 'Jacquard-patterned Hand Towel',\n  'url': 'http://www.hm.com/us/product/70452?article=70452-P'},\n {'price': '$14.99',\n  'title': 'Dotted Duvet Cover Set',\n  'url': 'http://www.hm.com/us/product/83667?article=83667-B'},\n {'price': '$29.99',\n  'title': 'Washed Linen Fitted Sheet',\n  'url': 'http://www.hm.com/us/product/59937?article=59937-E'},\n {'price': '$14.99',\n  'title': 'Stoneware Cake Box',\n  'url': 'http://www.hm.com/us/product/76261?article=76261-A'},\n {'price': '$24.99',\n  'title': 'Dotted Duvet Cover Set',\n  'url': 'http://www.hm.com/us/product/94237?article=94237-B'},\n {'price': '$6.99',\n  'title': 'Jacquard-weave Cushion Cover',\n  'url': 'http://www.hm.com/us/product/70878?article=70878-B'},\n {'price': '$9.99',\n  'title': '2-pack Curtain Panels',\n  'url': 'http://www.hm.com/us/product/83455?article=83455-A'},\n {'price': '$6.99',\n  'title': 'Jute Storage Basket',\n  'url': 'http://www.hm.com/us/product/94574?article=94574-B'},\n {'price': '$12.99',\n  'title': 'Patterned Duvet Cover Set',\n  'url': 'http://www.hm.com/us/product/92813?article=92813-C'},\n {'price': '$7.99',\n  'title': 'Slub-weave Cushion Cover',\n  'url': 'http://www.hm.com/us/product/83694?article=83694-A'},\n {'price': '$12.99',\n  'title': 'Patterned Duvet Cover Set',\n  'url': 'http://www.hm.com/us/product/83416?article=83416-A'},\n {'price': '$9.99',\n  'title': 'Round Wooden Cutting Board',\n  'url': 'http://www.hm.com/us/product/90885?article=90885-A'},\n {'price': '$34.99',\n  'title': 'Washed Linen Bedskirt',\n  'url': 'http://www.hm.com/us/product/94273?article=94273-E'},\n {'price': '$39.99',\n  'title': 'Twin Quilted Bedspread',\n  'url': 'http://www.hm.com/us/product/98117?article=98117-B'},\n {'price': '$14.99',\n  'title': 'Jersey Duvet Cover Set',\n  'url': 'http://www.hm.com/us/product/83413?article=83413-A'},\n {'price': '$34.99',\n  'title': 'Striped Duvet Cover Set',\n  'url': 'http://www.hm.com/us/product/93002?article=93002-A'},\n {'price': '$5.99',\n  'title': 'Patterned Cushion Cover',\n  'url': 'http://www.hm.com/us/product/83691?article=83691-A'},\n {'price': '$2.99',\n  'title': 'Metal Tea Light Holder',\n  'url': 'http://www.hm.com/us/product/93415?article=93415-B'},\n {'price': '$14.99',\n  'title': 'Textured-weave Cushion Cover',\n  'url': 'http://www.hm.com/us/product/98181?article=98181-A'},\n {'price': '$24.99',\n  'title': 'Jacquard-weave Throw',\n  'url': 'http://www.hm.com/us/product/83209?article=83209-B'},\n {'price': '$5.99',\n  'title': 'Cotton Seat Cushion',\n  'url': 'http://www.hm.com/us/product/92909?article=92909-B'},\n {'price': '$12.99',\n  'title': 'Round Wooden Box',\n  'url': 'http://www.hm.com/us/product/91875?article=91875-A'},\n {'price': '$9.99',\n  'title': 'Large Jute Storage Basket',\n  'url': 'http://www.hm.com/us/product/77896?article=77896-A'},\n {'price': '$9.99',\n  'title': 'Jacquard-weave Cushion Cover',\n  'url': 'http://www.hm.com/us/product/97170?article=97170-A'},\n {'price': '$9.99',\n  'title': 'Patterned Curtain Panel',\n  'url': 'http://www.hm.com/us/product/83701?article=83701-C'},\n {'price': '$9.99',\n  'title': 'Braided Tray',\n  'url': 'http://www.hm.com/us/product/96497?article=96497-A'},\n {'price': '$7.99',\n  'title': 'Porcelain Plate',\n  'url': 'http://www.hm.com/us/product/96665?article=96665-A'},\n {'price': '$17.99',\n  'title': '2-pack Curtain Panels',\n  'url': 'http://www.hm.com/us/product/97361?article=97361-B'},\n {'price': '$9.99',\n  'title': 'Canvas Wall Storage Hanger',\n  'url': 'http://www.hm.com/us/product/39809?article=39809-A'},\n {'price': '$5.99',\n  'title': 'Patterned Cushion Cover',\n  'url': 'http://www.hm.com/us/product/82903?article=82903-A'},\n {'price': '$9.99',\n  'title': '2-pack Curtain Panels',\n  'url': 'http://www.hm.com/us/product/83257?article=83257-A'},\n {'price': '$7.99',\n  'title': 'Metal Candlestick',\n  'url': 'http://www.hm.com/us/product/95089?article=95089-A'},\n {'price': '$14.99',\n  'title': 'Large Soft Toy',\n  'url': 'http://www.hm.com/us/product/83418?article=83418-A'},\n {'price': '$7.99',\n  'title': 'Patterned Tray',\n  'url': 'http://www.hm.com/us/product/76215?article=76215-A'},\n {'price': '$17.99',\n  'title': '2-pack Curtain Panels',\n  'url': 'http://www.hm.com/us/product/91603?article=91603-A'},\n {'price': '$7.99',\n  'title': 'Glass Pineapple Jar',\n  'url': 'http://www.hm.com/us/product/84129?article=84129-G'},\n {'price': '$19.99',\n  'title': '2-pack Curtain Panels',\n  'url': 'http://www.hm.com/us/product/96464?article=96464-A'},\n {'price': '$19.99',\n  'title': 'Round Water Hyacinth Basket',\n  'url': 'http://www.hm.com/us/product/72181?article=72181-A'},\n {'price': '$6.99',\n  'title': 'Diagonal-striped Cushion Cover',\n  'url': 'http://www.hm.com/us/product/81914?article=81914-B'},\n {'price': '$19.99',\n  'title': 'Round Suede Mirror',\n  'url': 'http://www.hm.com/us/product/71280?article=71280-A'},\n {'price': '$24.99',\n  'title': 'Zebra print',\n  'url': 'http://www.hm.com/us/product/81786?article=81786-B'},\n {'price': '$9.99',\n  'title': 'Textured Fleece Blanket',\n  'url': 'http://www.hm.com/us/product/83710?article=83710-A'},\n {'price': '$10.99',\n  'title': 'Large Wire Basket',\n  'url': 'http://www.hm.com/us/product/92571?article=92571-A'},\n {'price': '$6.99',\n  'title': 'Textured Porcelain Dish',\n  'url': 'http://www.hm.com/us/product/70179?article=70179-B'},\n {'price': '$3.99',\n  'title': 'Printed Porcelain Plate',\n  'url': 'http://www.hm.com/us/product/95121?article=95121-B'},\n {'price': '$3.99',\n  'title': 'Christmas-print Cushion Cover',\n  'url': 'http://www.hm.com/us/product/76033?article=76033-B'},\n {'price': '$5.99',\n  'title': 'Metal Trivet',\n  'url': 'http://www.hm.com/us/product/82144?article=82144-B'},\n {'price': '$9.99',\n  'title': 'Tall Metal Candlestick',\n  'url': 'http://www.hm.com/us/product/95088?article=95088-B'},\n {'price': '$6.99',\n  'title': 'Stoneware Plant Pot',\n  'url': 'http://www.hm.com/us/product/90656?article=90656-A'},\n {'price': '$9.99',\n  'title': 'Wall Decoration',\n  'url': 'http://www.hm.com/us/product/94521?article=94521-A'},\n {'price': '$9.99',\n  'title': 'Jacquard-weave Bath Towel',\n  'url': 'http://www.hm.com/us/product/93299?article=93299-B'},\n {'price': '$14.99',\n  'title': 'Metal Watering Can',\n  'url': 'http://www.hm.com/us/product/62062?article=62062-D'}]"
      ]
     },
     "execution_count": 18,
     "metadata": {},
     "output_type": "execute_result"
    }
   ],
   "source": [
    "rows"
   ]
  },
  {
   "cell_type": "code",
   "execution_count": 19,
   "metadata": {},
   "outputs": [
    {
     "data": {
      "text/html": [
       "<div>\n",
       "<style scoped>\n",
       "    .dataframe tbody tr th:only-of-type {\n",
       "        vertical-align: middle;\n",
       "    }\n",
       "\n",
       "    .dataframe tbody tr th {\n",
       "        vertical-align: top;\n",
       "    }\n",
       "\n",
       "    .dataframe thead th {\n",
       "        text-align: right;\n",
       "    }\n",
       "</style>\n",
       "<table border=\"1\" class=\"dataframe\">\n",
       "  <thead>\n",
       "    <tr style=\"text-align: right;\">\n",
       "      <th></th>\n",
       "      <th>price</th>\n",
       "      <th>title</th>\n",
       "      <th>url</th>\n",
       "    </tr>\n",
       "  </thead>\n",
       "  <tbody>\n",
       "    <tr>\n",
       "      <th>0</th>\n",
       "      <td>$1.99</td>\n",
       "      <td>Beverage Glass</td>\n",
       "      <td>http://www.hm.com/us/product/70917?article=709...</td>\n",
       "    </tr>\n",
       "    <tr>\n",
       "      <th>1</th>\n",
       "      <td>$4.99</td>\n",
       "      <td>Slub-weave Cushion Cover</td>\n",
       "      <td>http://www.hm.com/us/product/91551?article=915...</td>\n",
       "    </tr>\n",
       "    <tr>\n",
       "      <th>2</th>\n",
       "      <td>$3.99</td>\n",
       "      <td>Metal Tea Light Holder</td>\n",
       "      <td>http://www.hm.com/us/product/50558?article=505...</td>\n",
       "    </tr>\n",
       "    <tr>\n",
       "      <th>3</th>\n",
       "      <td>$5.99</td>\n",
       "      <td>Jacquard-weave Cushion Cover</td>\n",
       "      <td>http://www.hm.com/us/product/72455?article=724...</td>\n",
       "    </tr>\n",
       "    <tr>\n",
       "      <th>4</th>\n",
       "      <td>$9.99</td>\n",
       "      <td>Seat Cushion with Tassels</td>\n",
       "      <td>http://www.hm.com/us/product/83017?article=830...</td>\n",
       "    </tr>\n",
       "    <tr>\n",
       "      <th>5</th>\n",
       "      <td>$5.99</td>\n",
       "      <td>Cotton Cushion Cover</td>\n",
       "      <td>http://www.hm.com/us/product/69864?article=698...</td>\n",
       "    </tr>\n",
       "    <tr>\n",
       "      <th>6</th>\n",
       "      <td>$5.99</td>\n",
       "      <td>Jacquard-weave Cushion Cover</td>\n",
       "      <td>http://www.hm.com/us/product/83977?article=839...</td>\n",
       "    </tr>\n",
       "    <tr>\n",
       "      <th>7</th>\n",
       "      <td>$2.99</td>\n",
       "      <td>Cotton Canvas Cushion Cover</td>\n",
       "      <td>http://www.hm.com/us/product/59601?article=596...</td>\n",
       "    </tr>\n",
       "    <tr>\n",
       "      <th>8</th>\n",
       "      <td>$3.99</td>\n",
       "      <td>Jacquard-patterned Hand Towel</td>\n",
       "      <td>http://www.hm.com/us/product/70452?article=704...</td>\n",
       "    </tr>\n",
       "    <tr>\n",
       "      <th>9</th>\n",
       "      <td>$14.99</td>\n",
       "      <td>Dotted Duvet Cover Set</td>\n",
       "      <td>http://www.hm.com/us/product/83667?article=836...</td>\n",
       "    </tr>\n",
       "    <tr>\n",
       "      <th>10</th>\n",
       "      <td>$29.99</td>\n",
       "      <td>Washed Linen Fitted Sheet</td>\n",
       "      <td>http://www.hm.com/us/product/59937?article=599...</td>\n",
       "    </tr>\n",
       "    <tr>\n",
       "      <th>11</th>\n",
       "      <td>$14.99</td>\n",
       "      <td>Stoneware Cake Box</td>\n",
       "      <td>http://www.hm.com/us/product/76261?article=762...</td>\n",
       "    </tr>\n",
       "    <tr>\n",
       "      <th>12</th>\n",
       "      <td>$24.99</td>\n",
       "      <td>Dotted Duvet Cover Set</td>\n",
       "      <td>http://www.hm.com/us/product/94237?article=942...</td>\n",
       "    </tr>\n",
       "    <tr>\n",
       "      <th>13</th>\n",
       "      <td>$6.99</td>\n",
       "      <td>Jacquard-weave Cushion Cover</td>\n",
       "      <td>http://www.hm.com/us/product/70878?article=708...</td>\n",
       "    </tr>\n",
       "    <tr>\n",
       "      <th>14</th>\n",
       "      <td>$9.99</td>\n",
       "      <td>2-pack Curtain Panels</td>\n",
       "      <td>http://www.hm.com/us/product/83455?article=834...</td>\n",
       "    </tr>\n",
       "    <tr>\n",
       "      <th>15</th>\n",
       "      <td>$6.99</td>\n",
       "      <td>Jute Storage Basket</td>\n",
       "      <td>http://www.hm.com/us/product/94574?article=945...</td>\n",
       "    </tr>\n",
       "    <tr>\n",
       "      <th>16</th>\n",
       "      <td>$12.99</td>\n",
       "      <td>Patterned Duvet Cover Set</td>\n",
       "      <td>http://www.hm.com/us/product/92813?article=928...</td>\n",
       "    </tr>\n",
       "    <tr>\n",
       "      <th>17</th>\n",
       "      <td>$7.99</td>\n",
       "      <td>Slub-weave Cushion Cover</td>\n",
       "      <td>http://www.hm.com/us/product/83694?article=836...</td>\n",
       "    </tr>\n",
       "    <tr>\n",
       "      <th>18</th>\n",
       "      <td>$12.99</td>\n",
       "      <td>Patterned Duvet Cover Set</td>\n",
       "      <td>http://www.hm.com/us/product/83416?article=834...</td>\n",
       "    </tr>\n",
       "    <tr>\n",
       "      <th>19</th>\n",
       "      <td>$9.99</td>\n",
       "      <td>Round Wooden Cutting Board</td>\n",
       "      <td>http://www.hm.com/us/product/90885?article=908...</td>\n",
       "    </tr>\n",
       "    <tr>\n",
       "      <th>20</th>\n",
       "      <td>$34.99</td>\n",
       "      <td>Washed Linen Bedskirt</td>\n",
       "      <td>http://www.hm.com/us/product/94273?article=942...</td>\n",
       "    </tr>\n",
       "    <tr>\n",
       "      <th>21</th>\n",
       "      <td>$39.99</td>\n",
       "      <td>Twin Quilted Bedspread</td>\n",
       "      <td>http://www.hm.com/us/product/98117?article=981...</td>\n",
       "    </tr>\n",
       "    <tr>\n",
       "      <th>22</th>\n",
       "      <td>$14.99</td>\n",
       "      <td>Jersey Duvet Cover Set</td>\n",
       "      <td>http://www.hm.com/us/product/83413?article=834...</td>\n",
       "    </tr>\n",
       "    <tr>\n",
       "      <th>23</th>\n",
       "      <td>$34.99</td>\n",
       "      <td>Striped Duvet Cover Set</td>\n",
       "      <td>http://www.hm.com/us/product/93002?article=930...</td>\n",
       "    </tr>\n",
       "    <tr>\n",
       "      <th>24</th>\n",
       "      <td>$5.99</td>\n",
       "      <td>Patterned Cushion Cover</td>\n",
       "      <td>http://www.hm.com/us/product/83691?article=836...</td>\n",
       "    </tr>\n",
       "    <tr>\n",
       "      <th>25</th>\n",
       "      <td>$2.99</td>\n",
       "      <td>Metal Tea Light Holder</td>\n",
       "      <td>http://www.hm.com/us/product/93415?article=934...</td>\n",
       "    </tr>\n",
       "    <tr>\n",
       "      <th>26</th>\n",
       "      <td>$14.99</td>\n",
       "      <td>Textured-weave Cushion Cover</td>\n",
       "      <td>http://www.hm.com/us/product/98181?article=981...</td>\n",
       "    </tr>\n",
       "    <tr>\n",
       "      <th>27</th>\n",
       "      <td>$24.99</td>\n",
       "      <td>Jacquard-weave Throw</td>\n",
       "      <td>http://www.hm.com/us/product/83209?article=832...</td>\n",
       "    </tr>\n",
       "    <tr>\n",
       "      <th>28</th>\n",
       "      <td>$5.99</td>\n",
       "      <td>Cotton Seat Cushion</td>\n",
       "      <td>http://www.hm.com/us/product/92909?article=929...</td>\n",
       "    </tr>\n",
       "    <tr>\n",
       "      <th>29</th>\n",
       "      <td>$12.99</td>\n",
       "      <td>Round Wooden Box</td>\n",
       "      <td>http://www.hm.com/us/product/91875?article=918...</td>\n",
       "    </tr>\n",
       "    <tr>\n",
       "      <th>30</th>\n",
       "      <td>$9.99</td>\n",
       "      <td>Large Jute Storage Basket</td>\n",
       "      <td>http://www.hm.com/us/product/77896?article=778...</td>\n",
       "    </tr>\n",
       "    <tr>\n",
       "      <th>31</th>\n",
       "      <td>$9.99</td>\n",
       "      <td>Jacquard-weave Cushion Cover</td>\n",
       "      <td>http://www.hm.com/us/product/97170?article=971...</td>\n",
       "    </tr>\n",
       "    <tr>\n",
       "      <th>32</th>\n",
       "      <td>$9.99</td>\n",
       "      <td>Patterned Curtain Panel</td>\n",
       "      <td>http://www.hm.com/us/product/83701?article=837...</td>\n",
       "    </tr>\n",
       "    <tr>\n",
       "      <th>33</th>\n",
       "      <td>$9.99</td>\n",
       "      <td>Braided Tray</td>\n",
       "      <td>http://www.hm.com/us/product/96497?article=964...</td>\n",
       "    </tr>\n",
       "    <tr>\n",
       "      <th>34</th>\n",
       "      <td>$7.99</td>\n",
       "      <td>Porcelain Plate</td>\n",
       "      <td>http://www.hm.com/us/product/96665?article=966...</td>\n",
       "    </tr>\n",
       "    <tr>\n",
       "      <th>35</th>\n",
       "      <td>$17.99</td>\n",
       "      <td>2-pack Curtain Panels</td>\n",
       "      <td>http://www.hm.com/us/product/97361?article=973...</td>\n",
       "    </tr>\n",
       "    <tr>\n",
       "      <th>36</th>\n",
       "      <td>$9.99</td>\n",
       "      <td>Canvas Wall Storage Hanger</td>\n",
       "      <td>http://www.hm.com/us/product/39809?article=398...</td>\n",
       "    </tr>\n",
       "    <tr>\n",
       "      <th>37</th>\n",
       "      <td>$5.99</td>\n",
       "      <td>Patterned Cushion Cover</td>\n",
       "      <td>http://www.hm.com/us/product/82903?article=829...</td>\n",
       "    </tr>\n",
       "    <tr>\n",
       "      <th>38</th>\n",
       "      <td>$9.99</td>\n",
       "      <td>2-pack Curtain Panels</td>\n",
       "      <td>http://www.hm.com/us/product/83257?article=832...</td>\n",
       "    </tr>\n",
       "    <tr>\n",
       "      <th>39</th>\n",
       "      <td>$7.99</td>\n",
       "      <td>Metal Candlestick</td>\n",
       "      <td>http://www.hm.com/us/product/95089?article=950...</td>\n",
       "    </tr>\n",
       "    <tr>\n",
       "      <th>40</th>\n",
       "      <td>$14.99</td>\n",
       "      <td>Large Soft Toy</td>\n",
       "      <td>http://www.hm.com/us/product/83418?article=834...</td>\n",
       "    </tr>\n",
       "    <tr>\n",
       "      <th>41</th>\n",
       "      <td>$7.99</td>\n",
       "      <td>Patterned Tray</td>\n",
       "      <td>http://www.hm.com/us/product/76215?article=762...</td>\n",
       "    </tr>\n",
       "    <tr>\n",
       "      <th>42</th>\n",
       "      <td>$17.99</td>\n",
       "      <td>2-pack Curtain Panels</td>\n",
       "      <td>http://www.hm.com/us/product/91603?article=916...</td>\n",
       "    </tr>\n",
       "    <tr>\n",
       "      <th>43</th>\n",
       "      <td>$7.99</td>\n",
       "      <td>Glass Pineapple Jar</td>\n",
       "      <td>http://www.hm.com/us/product/84129?article=841...</td>\n",
       "    </tr>\n",
       "    <tr>\n",
       "      <th>44</th>\n",
       "      <td>$19.99</td>\n",
       "      <td>2-pack Curtain Panels</td>\n",
       "      <td>http://www.hm.com/us/product/96464?article=964...</td>\n",
       "    </tr>\n",
       "    <tr>\n",
       "      <th>45</th>\n",
       "      <td>$19.99</td>\n",
       "      <td>Round Water Hyacinth Basket</td>\n",
       "      <td>http://www.hm.com/us/product/72181?article=721...</td>\n",
       "    </tr>\n",
       "    <tr>\n",
       "      <th>46</th>\n",
       "      <td>$6.99</td>\n",
       "      <td>Diagonal-striped Cushion Cover</td>\n",
       "      <td>http://www.hm.com/us/product/81914?article=819...</td>\n",
       "    </tr>\n",
       "    <tr>\n",
       "      <th>47</th>\n",
       "      <td>$19.99</td>\n",
       "      <td>Round Suede Mirror</td>\n",
       "      <td>http://www.hm.com/us/product/71280?article=712...</td>\n",
       "    </tr>\n",
       "    <tr>\n",
       "      <th>48</th>\n",
       "      <td>$24.99</td>\n",
       "      <td>Zebra print</td>\n",
       "      <td>http://www.hm.com/us/product/81786?article=817...</td>\n",
       "    </tr>\n",
       "    <tr>\n",
       "      <th>49</th>\n",
       "      <td>$9.99</td>\n",
       "      <td>Textured Fleece Blanket</td>\n",
       "      <td>http://www.hm.com/us/product/83710?article=837...</td>\n",
       "    </tr>\n",
       "    <tr>\n",
       "      <th>50</th>\n",
       "      <td>$10.99</td>\n",
       "      <td>Large Wire Basket</td>\n",
       "      <td>http://www.hm.com/us/product/92571?article=925...</td>\n",
       "    </tr>\n",
       "    <tr>\n",
       "      <th>51</th>\n",
       "      <td>$6.99</td>\n",
       "      <td>Textured Porcelain Dish</td>\n",
       "      <td>http://www.hm.com/us/product/70179?article=701...</td>\n",
       "    </tr>\n",
       "    <tr>\n",
       "      <th>52</th>\n",
       "      <td>$3.99</td>\n",
       "      <td>Printed Porcelain Plate</td>\n",
       "      <td>http://www.hm.com/us/product/95121?article=951...</td>\n",
       "    </tr>\n",
       "    <tr>\n",
       "      <th>53</th>\n",
       "      <td>$3.99</td>\n",
       "      <td>Christmas-print Cushion Cover</td>\n",
       "      <td>http://www.hm.com/us/product/76033?article=760...</td>\n",
       "    </tr>\n",
       "    <tr>\n",
       "      <th>54</th>\n",
       "      <td>$5.99</td>\n",
       "      <td>Metal Trivet</td>\n",
       "      <td>http://www.hm.com/us/product/82144?article=821...</td>\n",
       "    </tr>\n",
       "    <tr>\n",
       "      <th>55</th>\n",
       "      <td>$9.99</td>\n",
       "      <td>Tall Metal Candlestick</td>\n",
       "      <td>http://www.hm.com/us/product/95088?article=950...</td>\n",
       "    </tr>\n",
       "    <tr>\n",
       "      <th>56</th>\n",
       "      <td>$6.99</td>\n",
       "      <td>Stoneware Plant Pot</td>\n",
       "      <td>http://www.hm.com/us/product/90656?article=906...</td>\n",
       "    </tr>\n",
       "    <tr>\n",
       "      <th>57</th>\n",
       "      <td>$9.99</td>\n",
       "      <td>Wall Decoration</td>\n",
       "      <td>http://www.hm.com/us/product/94521?article=945...</td>\n",
       "    </tr>\n",
       "    <tr>\n",
       "      <th>58</th>\n",
       "      <td>$9.99</td>\n",
       "      <td>Jacquard-weave Bath Towel</td>\n",
       "      <td>http://www.hm.com/us/product/93299?article=932...</td>\n",
       "    </tr>\n",
       "    <tr>\n",
       "      <th>59</th>\n",
       "      <td>$14.99</td>\n",
       "      <td>Metal Watering Can</td>\n",
       "      <td>http://www.hm.com/us/product/62062?article=620...</td>\n",
       "    </tr>\n",
       "  </tbody>\n",
       "</table>\n",
       "</div>"
      ],
      "text/plain": [
       "<div>\n",
       "<style scoped>\n",
       "    .dataframe tbody tr th:only-of-type {\n",
       "        vertical-align: middle;\n",
       "    }\n",
       "\n",
       "    .dataframe tbody tr th {\n",
       "        vertical-align: top;\n",
       "    }\n",
       "\n",
       "    .dataframe thead th {\n",
       "        text-align: right;\n",
       "    }\n",
       "</style>\n",
       "<table border=\"1\" class=\"dataframe\">\n",
       "  <thead>\n",
       "    <tr style=\"text-align: right;\">\n",
       "      <th></th>\n",
       "      <th>price</th>\n",
       "      <th>title</th>\n",
       "      <th>url</th>\n",
       "    </tr>\n",
       "  </thead>\n",
       "  <tbody>\n",
       "    <tr>\n",
       "      <th>0</th>\n",
       "      <td>$1.99</td>\n",
       "      <td>Beverage Glass</td>\n",
       "      <td>http://www.hm.com/us/product/70917?article=709...</td>\n",
       "    </tr>\n",
       "    <tr>\n",
       "      <th>1</th>\n",
       "      <td>$4.99</td>\n",
       "      <td>Slub-weave Cushion Cover</td>\n",
       "      <td>http://www.hm.com/us/product/91551?article=915...</td>\n",
       "    </tr>\n",
       "    <tr>\n",
       "      <th>2</th>\n",
       "      <td>$3.99</td>\n",
       "      <td>Metal Tea Light Holder</td>\n",
       "      <td>http://www.hm.com/us/product/50558?article=505...</td>\n",
       "    </tr>\n",
       "    <tr>\n",
       "      <th>3</th>\n",
       "      <td>$5.99</td>\n",
       "      <td>Jacquard-weave Cushion Cover</td>\n",
       "      <td>http://www.hm.com/us/product/72455?article=724...</td>\n",
       "    </tr>\n",
       "    <tr>\n",
       "      <th>4</th>\n",
       "      <td>$9.99</td>\n",
       "      <td>Seat Cushion with Tassels</td>\n",
       "      <td>http://www.hm.com/us/product/83017?article=830...</td>\n",
       "    </tr>\n",
       "    <tr>\n",
       "      <th>5</th>\n",
       "      <td>$5.99</td>\n",
       "      <td>Cotton Cushion Cover</td>\n",
       "      <td>http://www.hm.com/us/product/69864?article=698...</td>\n",
       "    </tr>\n",
       "    <tr>\n",
       "      <th>6</th>\n",
       "      <td>$5.99</td>\n",
       "      <td>Jacquard-weave Cushion Cover</td>\n",
       "      <td>http://www.hm.com/us/product/83977?article=839...</td>\n",
       "    </tr>\n",
       "    <tr>\n",
       "      <th>7</th>\n",
       "      <td>$2.99</td>\n",
       "      <td>Cotton Canvas Cushion Cover</td>\n",
       "      <td>http://www.hm.com/us/product/59601?article=596...</td>\n",
       "    </tr>\n",
       "    <tr>\n",
       "      <th>8</th>\n",
       "      <td>$3.99</td>\n",
       "      <td>Jacquard-patterned Hand Towel</td>\n",
       "      <td>http://www.hm.com/us/product/70452?article=704...</td>\n",
       "    </tr>\n",
       "    <tr>\n",
       "      <th>9</th>\n",
       "      <td>$14.99</td>\n",
       "      <td>Dotted Duvet Cover Set</td>\n",
       "      <td>http://www.hm.com/us/product/83667?article=836...</td>\n",
       "    </tr>\n",
       "    <tr>\n",
       "      <th>10</th>\n",
       "      <td>$29.99</td>\n",
       "      <td>Washed Linen Fitted Sheet</td>\n",
       "      <td>http://www.hm.com/us/product/59937?article=599...</td>\n",
       "    </tr>\n",
       "    <tr>\n",
       "      <th>11</th>\n",
       "      <td>$14.99</td>\n",
       "      <td>Stoneware Cake Box</td>\n",
       "      <td>http://www.hm.com/us/product/76261?article=762...</td>\n",
       "    </tr>\n",
       "    <tr>\n",
       "      <th>12</th>\n",
       "      <td>$24.99</td>\n",
       "      <td>Dotted Duvet Cover Set</td>\n",
       "      <td>http://www.hm.com/us/product/94237?article=942...</td>\n",
       "    </tr>\n",
       "    <tr>\n",
       "      <th>13</th>\n",
       "      <td>$6.99</td>\n",
       "      <td>Jacquard-weave Cushion Cover</td>\n",
       "      <td>http://www.hm.com/us/product/70878?article=708...</td>\n",
       "    </tr>\n",
       "    <tr>\n",
       "      <th>14</th>\n",
       "      <td>$9.99</td>\n",
       "      <td>2-pack Curtain Panels</td>\n",
       "      <td>http://www.hm.com/us/product/83455?article=834...</td>\n",
       "    </tr>\n",
       "    <tr>\n",
       "      <th>15</th>\n",
       "      <td>$6.99</td>\n",
       "      <td>Jute Storage Basket</td>\n",
       "      <td>http://www.hm.com/us/product/94574?article=945...</td>\n",
       "    </tr>\n",
       "    <tr>\n",
       "      <th>16</th>\n",
       "      <td>$12.99</td>\n",
       "      <td>Patterned Duvet Cover Set</td>\n",
       "      <td>http://www.hm.com/us/product/92813?article=928...</td>\n",
       "    </tr>\n",
       "    <tr>\n",
       "      <th>17</th>\n",
       "      <td>$7.99</td>\n",
       "      <td>Slub-weave Cushion Cover</td>\n",
       "      <td>http://www.hm.com/us/product/83694?article=836...</td>\n",
       "    </tr>\n",
       "    <tr>\n",
       "      <th>18</th>\n",
       "      <td>$12.99</td>\n",
       "      <td>Patterned Duvet Cover Set</td>\n",
       "      <td>http://www.hm.com/us/product/83416?article=834...</td>\n",
       "    </tr>\n",
       "    <tr>\n",
       "      <th>19</th>\n",
       "      <td>$9.99</td>\n",
       "      <td>Round Wooden Cutting Board</td>\n",
       "      <td>http://www.hm.com/us/product/90885?article=908...</td>\n",
       "    </tr>\n",
       "    <tr>\n",
       "      <th>20</th>\n",
       "      <td>$34.99</td>\n",
       "      <td>Washed Linen Bedskirt</td>\n",
       "      <td>http://www.hm.com/us/product/94273?article=942...</td>\n",
       "    </tr>\n",
       "    <tr>\n",
       "      <th>21</th>\n",
       "      <td>$39.99</td>\n",
       "      <td>Twin Quilted Bedspread</td>\n",
       "      <td>http://www.hm.com/us/product/98117?article=981...</td>\n",
       "    </tr>\n",
       "    <tr>\n",
       "      <th>22</th>\n",
       "      <td>$14.99</td>\n",
       "      <td>Jersey Duvet Cover Set</td>\n",
       "      <td>http://www.hm.com/us/product/83413?article=834...</td>\n",
       "    </tr>\n",
       "    <tr>\n",
       "      <th>23</th>\n",
       "      <td>$34.99</td>\n",
       "      <td>Striped Duvet Cover Set</td>\n",
       "      <td>http://www.hm.com/us/product/93002?article=930...</td>\n",
       "    </tr>\n",
       "    <tr>\n",
       "      <th>24</th>\n",
       "      <td>$5.99</td>\n",
       "      <td>Patterned Cushion Cover</td>\n",
       "      <td>http://www.hm.com/us/product/83691?article=836...</td>\n",
       "    </tr>\n",
       "    <tr>\n",
       "      <th>25</th>\n",
       "      <td>$2.99</td>\n",
       "      <td>Metal Tea Light Holder</td>\n",
       "      <td>http://www.hm.com/us/product/93415?article=934...</td>\n",
       "    </tr>\n",
       "    <tr>\n",
       "      <th>26</th>\n",
       "      <td>$14.99</td>\n",
       "      <td>Textured-weave Cushion Cover</td>\n",
       "      <td>http://www.hm.com/us/product/98181?article=981...</td>\n",
       "    </tr>\n",
       "    <tr>\n",
       "      <th>27</th>\n",
       "      <td>$24.99</td>\n",
       "      <td>Jacquard-weave Throw</td>\n",
       "      <td>http://www.hm.com/us/product/83209?article=832...</td>\n",
       "    </tr>\n",
       "    <tr>\n",
       "      <th>28</th>\n",
       "      <td>$5.99</td>\n",
       "      <td>Cotton Seat Cushion</td>\n",
       "      <td>http://www.hm.com/us/product/92909?article=929...</td>\n",
       "    </tr>\n",
       "    <tr>\n",
       "      <th>29</th>\n",
       "      <td>$12.99</td>\n",
       "      <td>Round Wooden Box</td>\n",
       "      <td>http://www.hm.com/us/product/91875?article=918...</td>\n",
       "    </tr>\n",
       "    <tr>\n",
       "      <th>30</th>\n",
       "      <td>$9.99</td>\n",
       "      <td>Large Jute Storage Basket</td>\n",
       "      <td>http://www.hm.com/us/product/77896?article=778...</td>\n",
       "    </tr>\n",
       "    <tr>\n",
       "      <th>31</th>\n",
       "      <td>$9.99</td>\n",
       "      <td>Jacquard-weave Cushion Cover</td>\n",
       "      <td>http://www.hm.com/us/product/97170?article=971...</td>\n",
       "    </tr>\n",
       "    <tr>\n",
       "      <th>32</th>\n",
       "      <td>$9.99</td>\n",
       "      <td>Patterned Curtain Panel</td>\n",
       "      <td>http://www.hm.com/us/product/83701?article=837...</td>\n",
       "    </tr>\n",
       "    <tr>\n",
       "      <th>33</th>\n",
       "      <td>$9.99</td>\n",
       "      <td>Braided Tray</td>\n",
       "      <td>http://www.hm.com/us/product/96497?article=964...</td>\n",
       "    </tr>\n",
       "    <tr>\n",
       "      <th>34</th>\n",
       "      <td>$7.99</td>\n",
       "      <td>Porcelain Plate</td>\n",
       "      <td>http://www.hm.com/us/product/96665?article=966...</td>\n",
       "    </tr>\n",
       "    <tr>\n",
       "      <th>35</th>\n",
       "      <td>$17.99</td>\n",
       "      <td>2-pack Curtain Panels</td>\n",
       "      <td>http://www.hm.com/us/product/97361?article=973...</td>\n",
       "    </tr>\n",
       "    <tr>\n",
       "      <th>36</th>\n",
       "      <td>$9.99</td>\n",
       "      <td>Canvas Wall Storage Hanger</td>\n",
       "      <td>http://www.hm.com/us/product/39809?article=398...</td>\n",
       "    </tr>\n",
       "    <tr>\n",
       "      <th>37</th>\n",
       "      <td>$5.99</td>\n",
       "      <td>Patterned Cushion Cover</td>\n",
       "      <td>http://www.hm.com/us/product/82903?article=829...</td>\n",
       "    </tr>\n",
       "    <tr>\n",
       "      <th>38</th>\n",
       "      <td>$9.99</td>\n",
       "      <td>2-pack Curtain Panels</td>\n",
       "      <td>http://www.hm.com/us/product/83257?article=832...</td>\n",
       "    </tr>\n",
       "    <tr>\n",
       "      <th>39</th>\n",
       "      <td>$7.99</td>\n",
       "      <td>Metal Candlestick</td>\n",
       "      <td>http://www.hm.com/us/product/95089?article=950...</td>\n",
       "    </tr>\n",
       "    <tr>\n",
       "      <th>40</th>\n",
       "      <td>$14.99</td>\n",
       "      <td>Large Soft Toy</td>\n",
       "      <td>http://www.hm.com/us/product/83418?article=834...</td>\n",
       "    </tr>\n",
       "    <tr>\n",
       "      <th>41</th>\n",
       "      <td>$7.99</td>\n",
       "      <td>Patterned Tray</td>\n",
       "      <td>http://www.hm.com/us/product/76215?article=762...</td>\n",
       "    </tr>\n",
       "    <tr>\n",
       "      <th>42</th>\n",
       "      <td>$17.99</td>\n",
       "      <td>2-pack Curtain Panels</td>\n",
       "      <td>http://www.hm.com/us/product/91603?article=916...</td>\n",
       "    </tr>\n",
       "    <tr>\n",
       "      <th>43</th>\n",
       "      <td>$7.99</td>\n",
       "      <td>Glass Pineapple Jar</td>\n",
       "      <td>http://www.hm.com/us/product/84129?article=841...</td>\n",
       "    </tr>\n",
       "    <tr>\n",
       "      <th>44</th>\n",
       "      <td>$19.99</td>\n",
       "      <td>2-pack Curtain Panels</td>\n",
       "      <td>http://www.hm.com/us/product/96464?article=964...</td>\n",
       "    </tr>\n",
       "    <tr>\n",
       "      <th>45</th>\n",
       "      <td>$19.99</td>\n",
       "      <td>Round Water Hyacinth Basket</td>\n",
       "      <td>http://www.hm.com/us/product/72181?article=721...</td>\n",
       "    </tr>\n",
       "    <tr>\n",
       "      <th>46</th>\n",
       "      <td>$6.99</td>\n",
       "      <td>Diagonal-striped Cushion Cover</td>\n",
       "      <td>http://www.hm.com/us/product/81914?article=819...</td>\n",
       "    </tr>\n",
       "    <tr>\n",
       "      <th>47</th>\n",
       "      <td>$19.99</td>\n",
       "      <td>Round Suede Mirror</td>\n",
       "      <td>http://www.hm.com/us/product/71280?article=712...</td>\n",
       "    </tr>\n",
       "    <tr>\n",
       "      <th>48</th>\n",
       "      <td>$24.99</td>\n",
       "      <td>Zebra print</td>\n",
       "      <td>http://www.hm.com/us/product/81786?article=817...</td>\n",
       "    </tr>\n",
       "    <tr>\n",
       "      <th>49</th>\n",
       "      <td>$9.99</td>\n",
       "      <td>Textured Fleece Blanket</td>\n",
       "      <td>http://www.hm.com/us/product/83710?article=837...</td>\n",
       "    </tr>\n",
       "    <tr>\n",
       "      <th>50</th>\n",
       "      <td>$10.99</td>\n",
       "      <td>Large Wire Basket</td>\n",
       "      <td>http://www.hm.com/us/product/92571?article=925...</td>\n",
       "    </tr>\n",
       "    <tr>\n",
       "      <th>51</th>\n",
       "      <td>$6.99</td>\n",
       "      <td>Textured Porcelain Dish</td>\n",
       "      <td>http://www.hm.com/us/product/70179?article=701...</td>\n",
       "    </tr>\n",
       "    <tr>\n",
       "      <th>52</th>\n",
       "      <td>$3.99</td>\n",
       "      <td>Printed Porcelain Plate</td>\n",
       "      <td>http://www.hm.com/us/product/95121?article=951...</td>\n",
       "    </tr>\n",
       "    <tr>\n",
       "      <th>53</th>\n",
       "      <td>$3.99</td>\n",
       "      <td>Christmas-print Cushion Cover</td>\n",
       "      <td>http://www.hm.com/us/product/76033?article=760...</td>\n",
       "    </tr>\n",
       "    <tr>\n",
       "      <th>54</th>\n",
       "      <td>$5.99</td>\n",
       "      <td>Metal Trivet</td>\n",
       "      <td>http://www.hm.com/us/product/82144?article=821...</td>\n",
       "    </tr>\n",
       "    <tr>\n",
       "      <th>55</th>\n",
       "      <td>$9.99</td>\n",
       "      <td>Tall Metal Candlestick</td>\n",
       "      <td>http://www.hm.com/us/product/95088?article=950...</td>\n",
       "    </tr>\n",
       "    <tr>\n",
       "      <th>56</th>\n",
       "      <td>$6.99</td>\n",
       "      <td>Stoneware Plant Pot</td>\n",
       "      <td>http://www.hm.com/us/product/90656?article=906...</td>\n",
       "    </tr>\n",
       "    <tr>\n",
       "      <th>57</th>\n",
       "      <td>$9.99</td>\n",
       "      <td>Wall Decoration</td>\n",
       "      <td>http://www.hm.com/us/product/94521?article=945...</td>\n",
       "    </tr>\n",
       "    <tr>\n",
       "      <th>58</th>\n",
       "      <td>$9.99</td>\n",
       "      <td>Jacquard-weave Bath Towel</td>\n",
       "      <td>http://www.hm.com/us/product/93299?article=932...</td>\n",
       "    </tr>\n",
       "    <tr>\n",
       "      <th>59</th>\n",
       "      <td>$14.99</td>\n",
       "      <td>Metal Watering Can</td>\n",
       "      <td>http://www.hm.com/us/product/62062?article=620...</td>\n",
       "    </tr>\n",
       "  </tbody>\n",
       "</table>\n",
       "</div>"
      ]
     },
     "execution_count": 19,
     "metadata": {},
     "output_type": "execute_result"
    }
   ],
   "source": [
    "import pandas as pd\n",
    "df = pd.DataFrame(rows)\n",
    "df"
   ]
  },
  {
   "cell_type": "code",
   "execution_count": 23,
   "metadata": {},
   "outputs": [],
   "source": [
    "# Save everything to a file!\n",
    "df.to_csv('./07-classwork/sales.tsv', index=False, sep='\\t')"
   ]
  },
  {
   "cell_type": "markdown",
   "metadata": {},
   "source": [
    "Selenium can be used to interact with the website "
   ]
  },
  {
   "cell_type": "code",
   "execution_count": 25,
   "metadata": {},
   "outputs": [],
   "source": [
    "# find a button and click on it\n",
    "button = driver.find_element_by_css_selector('button.load-more-btn')\n",
    "button.click()"
   ]
  },
  {
   "cell_type": "code",
   "execution_count": 26,
   "metadata": {},
   "outputs": [],
   "source": [
    "# There is a gotcha that stuff can only be interacted with as long as they \n",
    "# are within the current view\n",
    "driver.execute_script('arguments[0].scrollIntoView(true)', button)"
   ]
  }
 ],
 "metadata": {
  "kernelspec": {
   "display_name": "Python 2",
   "language": "python",
   "name": "python2"
  },
  "language_info": {
   "codemirror_mode": {
    "name": "ipython",
    "version": 2
   },
   "file_extension": ".py",
   "mimetype": "text/x-python",
   "name": "python",
   "nbconvert_exporter": "python",
   "pygments_lexer": "ipython2",
   "version": "2.7.6"
  }
 },
 "nbformat": 4,
 "nbformat_minor": 0
}
