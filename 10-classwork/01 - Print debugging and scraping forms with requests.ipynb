{
 "cells": [
  {
   "cell_type": "markdown",
   "metadata": {},
   "source": [
    "# Print debugging + scraping with requests/BeautifulSoup\n",
    "\n",
    "## The pages we'll be looking at\n",
    "\n",
    "If we were doing this in a **browser**, we would follow these steps:\n",
    "\n",
    "1. Visit the [Mine Data Retrieval System](https://arlweb.msha.gov/drs/drshome.htm)\n",
    "2. Scroll down to **Mine Identification Number (ID) Search**\n",
    "3. Type in a mine ID number, such as `3503598`, click **Search**\n",
    "4. I'm on a page! It lists the MINE NAME and MINE OWNER.\n",
    "\n",
    "After searching for and finding a mine, I can use this page to **find reports about this mine**. Some of the reports are on accidents, violations, inspections, health samples and more. To get those reports:\n",
    "\n",
    "1. Search for a mine (if you haven't already)\n",
    "2. Scroll down and change **Beginning Date** to `1/1/1995` (violation reports begin in 1995, accidents begin in 1983)\n",
    "3. Select the report type of `Violations`\n",
    "4. Click **Get Report**\n",
    "5. I'm on a page! It lists ALL OF THE MINE'S VIOLATIONS.\n",
    "\n",
    "By changing the report type you're searching for you can find all sorts of different data."
   ]
  },
  {
   "cell_type": "markdown",
   "metadata": {},
   "source": [
    "# Doing this with BeautifulSoup\n",
    "\n",
    "To do this with requests instead of with Selenium, we need to use `requests.post` to pretend to submit a form."
   ]
  },
  {
   "cell_type": "code",
   "execution_count": null,
   "metadata": {},
   "outputs": [],
   "source": [
    "import requests\n",
    "from bs4 import BeautifulSoup"
   ]
  },
  {
   "cell_type": "code",
   "execution_count": null,
   "metadata": {},
   "outputs": [],
   "source": [
    "data = {\n",
    "    'MineId': '3503598',\n",
    "    'BDate': '1/1/1995',\n",
    "    'EDate': '',\n",
    "    'Submit': 'Violations*',\n",
    "    'Sort': 1,\n",
    "    'submit.x': 50,\n",
    "    'submit.y': 10\n",
    "}\n",
    "response = requests.post('https://arlweb.msha.gov/drs/ASP/MineAction.asp', data=data)\n",
    "doc = BeautifulSoup(response.text, 'html.parser')"
   ]
  },
  {
   "cell_type": "markdown",
   "metadata": {},
   "source": [
    "### First let's scrape a single page"
   ]
  },
  {
   "cell_type": "code",
   "execution_count": null,
   "metadata": {},
   "outputs": [],
   "source": [
    "violations = doc.find_all('tr')\n",
    "for violation in violations:\n",
    "    cells = violation.find_all('td')\n",
    "    data['violator'] = cells[0].text\n",
    "    data['contract_id'] = cells[1].text\n",
    "    data['citation_no'] = cells[2].text\n",
    "    data['case_no'] = cells[3].text\n",
    "    data['date_issues'] = cells[4].text\n",
    "    data['final_order_date'] = cells[5].text\n",
    "    data['section_of_act'] = cells[6].text\n",
    "    data['date_terminated'] = cells[7].text\n",
    "    data['citation'] = cells[8].text\n",
    "    data['s_and_s'] = cells[9].text\n",
    "    data['standard'] = cells[10].text\n",
    "    data['standard_url'] = cells[10].find('a')['href']\n",
    "    data['proposed_penalty'] = cells[11].text\n",
    "    data['citation_status'] = cells[12].text\n",
    "    data['current_penalty'] = cells[13].text\n",
    "    data['amount_paid'] = cells[14].text\n",
    "len(violations)"
   ]
  },
  {
   "cell_type": "markdown",
   "metadata": {},
   "source": [
    "## Change to a function to scrape everything"
   ]
  },
  {
   "cell_type": "code",
   "execution_count": null,
   "metadata": {},
   "outputs": [],
   "source": [
    "import pandas as pd\n",
    "\n",
    "def scrape_mine_data(row):\n",
    "    data = {\n",
    "        'MineId': row['id'],\n",
    "        'BDate': '1/1/1995',\n",
    "        'EDate': '',\n",
    "        'Submit': 'Violations*',\n",
    "        'Sort': 1,\n",
    "        'submit.x': 50,\n",
    "        'submit.y': 10\n",
    "    }\n",
    "    response = requests.post('https://arlweb.msha.gov/drs/ASP/MineAction.asp', data=data)\n",
    "    doc = BeautifulSoup(response.text, 'html5lib')\n",
    "\n",
    "    datapoints = []\n",
    "\n",
    "    data = {}\n",
    "    violations = doc.find_all('tr', class_='drsviols')\n",
    "    for violation in violations:\n",
    "        cells = violation.find_all('td')\n",
    "\n",
    "        data['violator'] = cells[0].text\n",
    "        data['contract_id'] = cells[1].text\n",
    "        data['citation_no'] = cells[2].text\n",
    "        data['case_no'] = cells[3].text\n",
    "        data['date_issues'] = cells[4].text\n",
    "        data['final_order_date'] = cells[5].text\n",
    "        data['section_of_act'] = cells[6].text\n",
    "        data['date_terminated'] = cells[7].text\n",
    "        data['citation'] = cells[8].text\n",
    "        data['s_and_s'] = cells[9].text\n",
    "        data['standard'] = cells[10].text\n",
    "        data['proposed_penalty'] = cells[11].text\n",
    "        data['citation_status'] = cells[12].text\n",
    "        data['current_penalty'] = cells[13].text\n",
    "        data['amount_paid'] = cells[14].text\n",
    "\n",
    "        datapoints.append(data)\n",
    "\n",
    "    citation_df = pd.DataFrame(datapoints)\n",
    "    citation_df.head()\n",
    "\n",
    "    citation_df.to_csv(\"data/\" + row['id'] + \"-violations.csv\", index=False)"
   ]
  },
  {
   "cell_type": "markdown",
   "metadata": {},
   "source": [
    "# Read in our mines data"
   ]
  },
  {
   "cell_type": "code",
   "execution_count": null,
   "metadata": {},
   "outputs": [],
   "source": [
    "df = pd.read_csv(\"mines-edited.csv\", dtype='str')\n",
    "df.head()"
   ]
  },
  {
   "cell_type": "markdown",
   "metadata": {},
   "source": [
    "## Try it on the first row"
   ]
  },
  {
   "cell_type": "code",
   "execution_count": null,
   "metadata": {},
   "outputs": [],
   "source": [
    "df.head(3).apply(scrape_mine_data, axis=1)"
   ]
  },
  {
   "cell_type": "code",
   "execution_count": null,
   "metadata": {},
   "outputs": [],
   "source": []
  }
 ],
 "metadata": {
  "kernelspec": {
   "display_name": "Python 3",
   "language": "python",
   "name": "python3"
  },
  "language_info": {
   "codemirror_mode": {
    "name": "ipython",
    "version": 3
   },
   "file_extension": ".py",
   "mimetype": "text/x-python",
   "name": "python",
   "nbconvert_exporter": "python",
   "pygments_lexer": "ipython3",
   "version": "3.6.5"
  }
 },
 "nbformat": 4,
 "nbformat_minor": 2
}
