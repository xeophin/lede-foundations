{
 "cells": [
  {
   "cell_type": "markdown",
   "metadata": {},
   "source": [
    "# Dark Sky API (Weather)\n",
    "\n",
    "Answer the following questions using the [Dark Sky API](https://darksky.net/dev/). I've added three cells for each question but you're free to use more or less! Hold `Shift` and hit `Enter` to run a cell, and use the `+` on the top left to add a new cell to a notebook.\n",
    "\n",
    "If you spend some time reading the documentation your life will probably be a little bit easier!\n",
    "\n",
    "## 0) Import any libraries you might need\n",
    "\n",
    "- *Tip: We're going to be downloading things from the internet, so we probably need `requests`.*"
   ]
  },
  {
   "cell_type": "code",
   "execution_count": 1,
   "metadata": {
    "collapsed": true
   },
   "outputs": [],
   "source": [
    "import requests"
   ]
  },
  {
   "cell_type": "code",
   "execution_count": 2,
   "metadata": {
    "collapsed": true
   },
   "outputs": [],
   "source": []
  },
  {
   "cell_type": "markdown",
   "metadata": {
    "collapsed": true
   },
   "source": [
    "## 1) Make a request from the Dark Sky API for where you were born (or lived, or want to visit!).\n",
    "\n",
    "- *Tip: The URL we used in class was for a place near San Francisco. What was the format of the endpoint that made this happen?*\n",
    "- *Tip: Save the URL as a separate variable, and be sure to not have `[` and `]` inside.*\n",
    "- *Tip: How is north vs. south and east vs. west latitude/longitude represented? Is it the normal North/South/East/West?*\n",
    "- *Tip: You know it's JSON, but Python doesn't! Make sure you aren't trying to deal with plain text.* \n",
    "- *Tip: Once you've imported the JSON into a variable, check the timezone's name to make sure it seems like it got the right part of the world!*"
   ]
  },
  {
   "cell_type": "code",
   "execution_count": 2,
   "metadata": {
    "collapsed": true
   },
   "outputs": [],
   "source": [
    "base_request_url = 'https://api.darksky.net/forecast/db93a4074cf7c69448376c29a0b5008f/'\n",
    "binntal_coordinates = '46.354496,8.204794'\n",
    "request_url = base_request_url + binntal_coordinates"
   ]
  },
  {
   "cell_type": "code",
   "execution_count": 3,
   "metadata": {
    "collapsed": true
   },
   "outputs": [],
   "source": [
    "weather_data = requests.get(request_url).json()"
   ]
  },
  {
   "cell_type": "code",
   "execution_count": 4,
   "metadata": {
    "collapsed": false
   },
   "outputs": [
    {
     "data": {
      "text/plain": [
       "'Europe/Rome'"
      ]
     },
     "execution_count": 4,
     "metadata": {},
     "output_type": "execute_result"
    }
   ],
   "source": [
    "weather_data['timezone']"
   ]
  },
  {
   "cell_type": "markdown",
   "metadata": {},
   "source": [
    "## 2) What's the current wind speed? How much warmer does it feel than it actually is?\n",
    "\n",
    "- *Tip: You can do this by browsing through the dictionaries, but it might be easier to read the documentation*\n",
    "- *Tip: For the second half: it **is** one temperature, and it **feels** a different temperature. Calculate the difference.*"
   ]
  },
  {
   "cell_type": "code",
   "execution_count": 5,
   "metadata": {
    "collapsed": false
   },
   "outputs": [
    {
     "data": {
      "text/plain": [
       "0.73"
      ]
     },
     "execution_count": 5,
     "metadata": {},
     "output_type": "execute_result"
    }
   ],
   "source": [
    "weather_data['currently']['windSpeed']"
   ]
  },
  {
   "cell_type": "code",
   "execution_count": 6,
   "metadata": {
    "collapsed": true
   },
   "outputs": [],
   "source": [
    "actual_temperature = weather_data['currently']['temperature']\n",
    "felt_temperature = weather_data['currently']['apparentTemperature']"
   ]
  },
  {
   "cell_type": "code",
   "execution_count": 7,
   "metadata": {
    "collapsed": true
   },
   "outputs": [],
   "source": [
    "difference = actual_temperature - felt_temperature\n",
    "if difference > 0:\n",
    "  print('The temperature difference is', difference)"
   ]
  },
  {
   "cell_type": "markdown",
   "metadata": {},
   "source": [
    "## 3) Today's forecast is the FIRST daily forecast. For the place you decided on above, how much of the moon is currently visible?\n",
    "\n",
    "- *Tip: This does **not** use the `currently` key.*\n",
    "- *Tip: It might be helpful to save the forecast into its own variable*"
   ]
  },
  {
   "cell_type": "code",
   "execution_count": 8,
   "metadata": {
    "collapsed": true
   },
   "outputs": [],
   "source": [
    "todays_forecast = weather_data['daily']['data'][0]"
   ]
  },
  {
   "cell_type": "code",
   "execution_count": 9,
   "metadata": {
    "collapsed": true
   },
   "outputs": [
    {
     "data": {
      "text/plain": [
       "0.56"
      ]
     },
     "execution_count": 9,
     "metadata": {},
     "output_type": "execute_result"
    }
   ],
   "source": [
    "todays_forecast['moonPhase']"
   ]
  },
  {
   "cell_type": "code",
   "execution_count": 10,
   "metadata": {
    "collapsed": true
   },
   "outputs": [],
   "source": []
  },
  {
   "cell_type": "markdown",
   "metadata": {},
   "source": [
    "## 4) What's the difference between the high and low temperatures for today?"
   ]
  },
  {
   "cell_type": "code",
   "execution_count": 10,
   "metadata": {
    "collapsed": true
   },
   "outputs": [
    {
     "data": {
      "text/plain": [
       "15.64"
      ]
     },
     "execution_count": 10,
     "metadata": {},
     "output_type": "execute_result"
    }
   ],
   "source": [
    "todays_forecast['temperatureHigh'] - todays_forecast['temperatureLow']"
   ]
  },
  {
   "cell_type": "code",
   "execution_count": 11,
   "metadata": {
    "collapsed": true
   },
   "outputs": [],
   "source": []
  },
  {
   "cell_type": "code",
   "execution_count": 11,
   "metadata": {
    "collapsed": true
   },
   "outputs": [],
   "source": []
  },
  {
   "cell_type": "markdown",
   "metadata": {},
   "source": [
    "## 5) Go through the daily forecasts, printing out the next week's worth of predictions.\n",
    "\n",
    "I'd like to know the **high temperature** for each day, and whether it's **hot, warm, or cold** (based on what temperatures you think are hot, warm or cold).\n",
    "\n",
    "- *Tip: Is it returning F or C? You can change them by adding `?units=us` or `?units=si` onto the end of the URL.*\n",
    "- *Tip: You'll need to use an `if` statement to say whether it is hot, warm or cold.*"
   ]
  },
  {
   "cell_type": "code",
   "execution_count": 11,
   "metadata": {
    "collapsed": true
   },
   "outputs": [],
   "source": [
    "si_switch = '?units=si'\n",
    "weekly_forecasts_in_celcius = requests.get(request_url + si_switch).json()[\n",
    "  'daily']['data']"
   ]
  },
  {
   "cell_type": "code",
   "execution_count": 12,
   "metadata": {
    "collapsed": true
   },
   "outputs": [
    {
     "name": "stdout",
     "output_type": "stream",
     "text": [
      "It will be cold, with a temperature of 13°C.\nIt will be cold, with a temperature of 14°C.\nIt will be cold, with a temperature of 16°C.\nIt will be cold, with a temperature of 16°C.\nIt will be cold, with a temperature of 13°C.\nIt will be cold, with a temperature of 12°C.\nIt will be cold, with a temperature of 14°C.\nIt will be cold, with a temperature of 14°C.\n"
     ]
    }
   ],
   "source": [
    "for forecast in weekly_forecasts_in_celcius:\n",
    "  relative_temp = 'warm'\n",
    "  if forecast['temperatureHigh'] > 28:\n",
    "    relative_temp = 'hot'\n",
    "  elif forecast['temperatureHigh'] < 16:\n",
    "    relative_temp = 'cold'\n",
    "  \n",
    "  print('It will be {}, with a temperature of {temperatureHigh:.0f}°C.'.format(\n",
    "    relative_temp, **forecast\n",
    "  ))"
   ]
  },
  {
   "cell_type": "code",
   "execution_count": 13,
   "metadata": {
    "collapsed": true
   },
   "outputs": [],
   "source": []
  },
  {
   "cell_type": "markdown",
   "metadata": {},
   "source": [
    "# 6) What will be the hottest day in the next week? What is the high temperature on that day?\n",
    "\n",
    "It's okay if your result looks like `1453363200`. If you want to be extra-fancy, though, format it as a **real date** - the weird number is called a **UNIX timestamp**, which might help in googling.\n",
    "\n",
    "- *Tip: It's okay to skip this if it seems too difficult!*"
   ]
  },
  {
   "cell_type": "code",
   "execution_count": 13,
   "metadata": {
    "collapsed": true
   },
   "outputs": [],
   "source": [
    "hottest_day = max(weekly_forecasts_in_celcius, key=lambda forecast: forecast[\n",
    "  'temperatureHigh'])"
   ]
  },
  {
   "cell_type": "code",
   "execution_count": 14,
   "metadata": {
    "collapsed": true
   },
   "outputs": [
    {
     "data": {
      "text/plain": [
       "'2018-06-02'"
      ]
     },
     "execution_count": 14,
     "metadata": {},
     "output_type": "execute_result"
    }
   ],
   "source": [
    "from datetime import date\n",
    "\n",
    "date.fromtimestamp(hottest_day['time']).isoformat()"
   ]
  },
  {
   "cell_type": "code",
   "execution_count": 15,
   "metadata": {
    "collapsed": true
   },
   "outputs": [],
   "source": []
  },
  {
   "cell_type": "markdown",
   "metadata": {},
   "source": [
    "## 7) What's the weather looking like for the next 24+ hours in Miami, Florida?\n",
    "\n",
    "I'd like to know the temperature for every hour, and if it's going to have cloud cover of more than 50% say \"{temperature} and cloudy\" instead of just the temperature. \n",
    "\n",
    "\n",
    "- *Tip: Be sure to remember how latitude and longitude are done with positive and negative numbers*\n",
    "- *Tip: How do you represent \"50%\" for cloud cover?*"
   ]
  },
  {
   "cell_type": "code",
   "execution_count": 15,
   "metadata": {
    "collapsed": true
   },
   "outputs": [],
   "source": [
    "miami_coordinates = '25.765403,-80.195126'\n",
    "request_url = base_request_url + miami_coordinates\n",
    "hourly_forecast_for_miami = requests.get(request_url).json()['hourly']['data']\n"
   ]
  },
  {
   "cell_type": "code",
   "execution_count": 16,
   "metadata": {
    "collapsed": true
   },
   "outputs": [
    {
     "name": "stdout",
     "output_type": "stream",
     "text": [
      "15: 83.73°F \n16: 84.33°F \n17: 84.34°F and cloudy\n18: 83.94°F and cloudy\n19: 83.19°F and cloudy\n20: 82.29°F and cloudy\n21: 81.23°F and cloudy\n22: 80.37°F and cloudy\n23: 79.73°F and cloudy\n00: 79.05°F and cloudy\n01: 77.96°F and cloudy\n02: 77.15°F and cloudy\n03: 77.04°F and cloudy\n04: 77.03°F and cloudy\n05: 77.83°F and cloudy\n06: 78.46°F and cloudy\n07: 79.31°F and cloudy\n08: 80.18°F and cloudy\n09: 81.22°F and cloudy\n10: 82.41°F and cloudy\n11: 83.42°F and cloudy\n12: 84.02°F and cloudy\n13: 84.28°F and cloudy\n14: 84.66°F and cloudy\n15: 85.21°F and cloudy\n16: 85.53°F and cloudy\n17: 85.47°F \n18: 84.83°F \n19: 83.85°F \n20: 82.88°F \n21: 81.71°F and cloudy\n22: 80.61°F and cloudy\n23: 79.61°F and cloudy\n00: 78.87°F and cloudy\n01: 78.23°F and cloudy\n02: 77.57°F and cloudy\n03: 76.89°F and cloudy\n04: 76.52°F and cloudy\n05: 76.58°F and cloudy\n06: 76.99°F and cloudy\n07: 77.61°F and cloudy\n08: 78.56°F and cloudy\n09: 80.16°F and cloudy\n10: 82.11°F and cloudy\n11: 83.96°F and cloudy\n12: 85.23°F and cloudy\n13: 86.36°F and cloudy\n14: 87.11°F and cloudy\n15: 87.49°F and cloudy\n"
     ]
    }
   ],
   "source": [
    "from datetime import datetime\n",
    "\n",
    "for forecast in hourly_forecast_for_miami:\n",
    "  cover = '' if forecast['cloudCover'] < 0.5 else 'and cloudy'\n",
    "  hour = datetime.fromtimestamp(forecast['time'])\n",
    "  print('{startTime:%H}: {temperature}°F {cover}'.format(\n",
    "    **forecast, \n",
    "    startTime=hour,\n",
    "    cover=cover))"
   ]
  },
  {
   "cell_type": "code",
   "execution_count": 17,
   "metadata": {
    "collapsed": true
   },
   "outputs": [],
   "source": []
  },
  {
   "cell_type": "markdown",
   "metadata": {},
   "source": [
    "# 8) For the next 24-ish hours in Miami, what percent of the time is the temperature above 85 degrees?\n",
    "\n",
    "If they give you 48 hours instead of 24, that's okay.\n",
    "\n",
    "- *Tip: You might want to read up on [looping patterns](http://jonathansoma.com/lede/foundations-2017/classes/data%20structures/looping-patterns/)*"
   ]
  },
  {
   "cell_type": "code",
   "execution_count": 17,
   "metadata": {
    "collapsed": true
   },
   "outputs": [],
   "source": [
    "hours_when_it_is_warm = [hourly_forecast for hourly_forecast in \n",
    "                         hourly_forecast_for_miami if hourly_forecast[\n",
    "                           'temperature'] > 85]"
   ]
  },
  {
   "cell_type": "code",
   "execution_count": 18,
   "metadata": {
    "collapsed": true
   },
   "outputs": [
    {
     "name": "stdout",
     "output_type": "stream",
     "text": [
      "On 14% of the hours it is going to be warm.\n"
     ]
    }
   ],
   "source": [
    "print('On {:.0%} of the hours it is going to be warm.'.format(len(\n",
    "  hours_when_it_is_warm)/len(hourly_forecast_for_miami)))"
   ]
  },
  {
   "cell_type": "code",
   "execution_count": 19,
   "metadata": {
    "collapsed": true
   },
   "outputs": [],
   "source": []
  },
  {
   "cell_type": "markdown",
   "metadata": {},
   "source": [
    "## 9) What was the temperature in Central Park on Christmas Day, 2012? How about 2007? 2005? How far back does the API allow you to go?\n",
    "\n",
    "- *Tip: You'll need to use UNIX time, which is the number of seconds since January 1, 1970. Google can help you convert a normal date!*\n",
    "- *Tip: You'll want to use Forecast.io's \"time machine\" API, [documentation here](https://darksky.net/dev/docs/time-machine)*"
   ]
  },
  {
   "cell_type": "code",
   "execution_count": 19,
   "metadata": {
    "collapsed": true
   },
   "outputs": [],
   "source": [
    "centralpark_coordinates = '40.786010,-73.963549'\n",
    "\n",
    "def get_christmas_timestamp(year):\n",
    "  return str(round(datetime(year, 12, 25).timestamp()))"
   ]
  },
  {
   "cell_type": "code",
   "execution_count": 20,
   "metadata": {
    "collapsed": true
   },
   "outputs": [
    {
     "data": {
      "text/plain": [
       "{'time': 1356411600,\n 'summary': 'Mostly cloudy throughout the day.',\n 'icon': 'partly-cloudy-day',\n 'sunriseTime': 1356437994,\n 'sunsetTime': 1356471306,\n 'moonPhase': 0.42,\n 'precipIntensity': 0.0012,\n 'precipIntensityMax': 0.0063,\n 'precipIntensityMaxTime': 1356426000,\n 'precipProbability': 0.63,\n 'precipType': 'rain',\n 'temperatureHigh': 40.74,\n 'temperatureHighTime': 1356458400,\n 'temperatureLow': 28.98,\n 'temperatureLowTime': 1356519600,\n 'apparentTemperatureHigh': 33.34,\n 'apparentTemperatureHighTime': 1356458400,\n 'apparentTemperatureLow': 20.37,\n 'apparentTemperatureLowTime': 1356523200,\n 'dewPoint': 31,\n 'humidity': 0.79,\n 'pressure': 1017.59,\n 'windSpeed': 8.6,\n 'windBearing': 352,\n 'cloudCover': 0.78,\n 'visibility': 8.03,\n 'temperatureMin': 33.49,\n 'temperatureMinTime': 1356494400,\n 'temperatureMax': 40.74,\n 'temperatureMaxTime': 1356458400,\n 'apparentTemperatureMin': 26.79,\n 'apparentTemperatureMinTime': 1356494400,\n 'apparentTemperatureMax': 33.34,\n 'apparentTemperatureMaxTime': 1356458400}"
      ]
     },
     "execution_count": 20,
     "metadata": {},
     "output_type": "execute_result"
    }
   ],
   "source": [
    "\n",
    "christmas_2012_historic = requests.get(base_request_url +\n",
    "                                       centralpark_coordinates + ','\n",
    "                                                                 '' + \n",
    "                                       get_christmas_timestamp(2012)).json(\n",
    "  \n",
    ")['daily']['data'][0]\n",
    "christmas_2012_historic"
   ]
  },
  {
   "cell_type": "code",
   "execution_count": 21,
   "metadata": {
    "collapsed": true
   },
   "outputs": [
    {
     "name": "stdout",
     "output_type": "stream",
     "text": [
      "On Christmas day 2012, it was 41°F in Central Park.\n"
     ]
    },
    {
     "name": "stdout",
     "output_type": "stream",
     "text": [
      "On Christmas day 2007, it was 43°F in Central Park.\nOn Christmas day 2002, it was 38°F in Central Park.\n"
     ]
    },
    {
     "name": "stdout",
     "output_type": "stream",
     "text": [
      "On Christmas day 1997, it was 49°F in Central Park.\nOn Christmas day 1992, it was 36°F in Central Park.\n"
     ]
    },
    {
     "name": "stdout",
     "output_type": "stream",
     "text": [
      "On Christmas day 1987, it was 52°F in Central Park.\nOn Christmas day 1982, it was 57°F in Central Park.\n"
     ]
    },
    {
     "name": "stdout",
     "output_type": "stream",
     "text": [
      "On Christmas day 1977, it was 50°F in Central Park.\nOn Christmas day 1972, it was 41°F in Central Park.\n"
     ]
    },
    {
     "name": "stdout",
     "output_type": "stream",
     "text": [
      "On Christmas day 1967, it was 41°F in Central Park.\nOn Christmas day 1962, it was 34°F in Central Park.\n"
     ]
    },
    {
     "name": "stdout",
     "output_type": "stream",
     "text": [
      "On Christmas day 1957, it was 44°F in Central Park.\nOn Christmas day 1952, it was 45°F in Central Park.\n"
     ]
    },
    {
     "name": "stdout",
     "output_type": "stream",
     "text": [
      "On Christmas day 1947, it was 31°F in Central Park.\n"
     ]
    },
    {
     "name": "stdout",
     "output_type": "stream",
     "text": [
      "On Christmas day 1942, it was 46°F in Central Park.\nOn Christmas day 1937, it was 47°F in Central Park.\n"
     ]
    },
    {
     "name": "stdout",
     "output_type": "stream",
     "text": [
      "In 1932, we have no data.\nIn 1927, we have no data.\n"
     ]
    },
    {
     "name": "stdout",
     "output_type": "stream",
     "text": [
      "In 1922, we have no data.\nIn 1917, we have no data.\n"
     ]
    },
    {
     "name": "stdout",
     "output_type": "stream",
     "text": [
      "In 1912, we have no data.\n"
     ]
    },
    {
     "name": "stdout",
     "output_type": "stream",
     "text": [
      "In 1907, we have no data.\n"
     ]
    },
    {
     "name": "stdout",
     "output_type": "stream",
     "text": [
      "In 1902, we have no data.\n"
     ]
    }
   ],
   "source": [
    "years = range(2012, 1900, -5)\n",
    "\n",
    "for year in years:\n",
    "  response = requests.get(base_request_url +\n",
    "                             centralpark_coordinates +\n",
    "                             ',' +\n",
    "                             get_christmas_timestamp(year)).json()\n",
    "  try:\n",
    "    temperature = response['daily']['data'][0]['temperatureHigh']\n",
    "    print('On Christmas day {}, it was {:.0f}°F in Central Park.'.format(\n",
    "      year, temperature))\n",
    "  except:\n",
    "    print('In {}, we have no data.'.format(year))"
   ]
  },
  {
   "cell_type": "code",
   "execution_count": 22,
   "metadata": {
    "collapsed": true
   },
   "outputs": [],
   "source": []
  }
 ],
 "metadata": {
  "kernelspec": {
   "display_name": "Python 3",
   "language": "python",
   "name": "python3"
  },
  "language_info": {
   "codemirror_mode": {
    "name": "ipython",
    "version": 3
   },
   "file_extension": ".py",
   "mimetype": "text/x-python",
   "name": "python",
   "nbconvert_exporter": "python",
   "pygments_lexer": "ipython3",
   "version": "3.6.4"
  }
 },
 "nbformat": 4,
 "nbformat_minor": 1
}
