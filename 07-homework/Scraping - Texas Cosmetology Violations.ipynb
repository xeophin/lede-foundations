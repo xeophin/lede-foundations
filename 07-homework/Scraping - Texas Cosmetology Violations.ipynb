{
 "cells": [
  {
   "cell_type": "markdown",
   "metadata": {},
   "source": [
    "# Texas Cosmetologist Violations\n",
    "\n",
    "Texas has a system for [searching for license violations](https://www.tdlr.texas.gov/cimsfo/fosearch.asp). You're going to search for cosmetologists!"
   ]
  },
  {
   "cell_type": "markdown",
   "metadata": {},
   "source": [
    "## Setup: Import what you'll need to scrape the page\n",
    "\n",
    "We'll be using Selenium for this, *not* BeautifulSoup and requests."
   ]
  },
  {
   "cell_type": "code",
   "execution_count": 1,
   "metadata": {},
   "outputs": [],
   "source": [
    "from selenium import webdriver\n",
    "from selenium.webdriver.common.keys import Keys\n",
    "from selenium.webdriver.support.ui import Select\n",
    "from selenium.webdriver.support.ui import WebDriverWait"
   ]
  },
  {
   "cell_type": "markdown",
   "metadata": {
    "collapsed": true
   },
   "source": [
    "## Starting your search\n",
    "\n",
    "Starting from [here](https://www.tdlr.texas.gov/cimsfo/fosearch.asp), search for cosmetologist violations for people with the last name **Nguyen**."
   ]
  },
  {
   "cell_type": "code",
   "execution_count": 5,
   "metadata": {},
   "outputs": [],
   "source": [
    "# using Firefox here, since Chrome for some reason doesn't display any fonts, \n",
    "# which gives me just colourful boxes and not much else, which is annoying\n",
    "driver = webdriver.Firefox()\n",
    "driver.get('https://www.tdlr.texas.gov/cimsfo/fosearch.asp')"
   ]
  },
  {
   "cell_type": "code",
   "execution_count": 7,
   "metadata": {},
   "outputs": [],
   "source": [
    "license_select = Select(driver.find_element_by_name('pht_status'))\n",
    "license_select.select_by_visible_text('Cosmetologists')"
   ]
  },
  {
   "cell_type": "code",
   "execution_count": 8,
   "metadata": {},
   "outputs": [],
   "source": [
    "last_name_input = driver.find_element_by_name('pht_lnm')\n",
    "last_name_input.send_keys('Nguyen')"
   ]
  },
  {
   "cell_type": "code",
   "execution_count": 9,
   "metadata": {},
   "outputs": [],
   "source": [
    "submit_button = driver.find_element_by_name('B1')\n",
    "submit_button.click()"
   ]
  },
  {
   "cell_type": "markdown",
   "metadata": {},
   "source": [
    "## Scraping\n",
    "\n",
    "Once you are on the results page, do this."
   ]
  },
  {
   "cell_type": "markdown",
   "metadata": {},
   "source": [
    "### Loop through each result and print the entire row\n",
    "\n",
    "Okay wait, that's a heck of a lot. Use `[:10]` to only do the first ten (`listname[:10]` gives you the first ten)."
   ]
  },
  {
   "cell_type": "code",
   "execution_count": 11,
   "metadata": {},
   "outputs": [
    {
     "name": "stdout",
     "output_type": "stream",
     "text": [
      "Name and Location Order Basis for Order\nNGUYEN, TOAN HUU\nCity: SAN ANTONIO\nCounty: BEXAR\nZip Code: 78217\n\n\nLicense #(s): 780948, 1706491, 1699123\n\nComplaint # COS20180004289 Date: 5/30/2018\n\nRespondent is assessed an administrative penalty in the amount of $500. Respondent failed to clean and sanitize whirlpool foot spas as required at the end of each day.\nNGUYEN, HANH CONG\nCity: EL PASO\nCounty: EL PASO\nZip Code: 79934\n\n\nLicense #: 737708\n\nComplaint # COS20180006594 Date: 5/30/2018\n\nRespondent is assessed an administrative penalty in the amount of $1,000. Respondent failed to clean and sanitize whirlpool foot spas as required at the end of each day; Respondent failed to use items subject to possible cross contamination in a manner that does not contaminate the remaining product.\nNGUYEN, KHIEM VAN\nCity: LONGVIEW\nCounty: GREGG\nZip Code: 75604\n\n\nLicense #: 731665\n\nComplaint # COS20180000257 Date: 5/17/2018\n\nRespondent is assessed an administrative penalty in the amount of $1,250. Respondent failed to follow whirlpool foot spas cleaning and sanitization procedures as required; Respondent failed to clean, disinfect, and sterilize manicure and pedicure implements after each use; Respondent failed to clean and disinfect all wax pots.\nNGUYEN, DIEP THI NGOC\nCity: HOUSTON\nCounty: HARRIS\nZip Code: 77014\n\n\nLicense #(s): 1347649, 760528\n\nComplaint # COS20180004915 Date: 5/17/2018\n\nRespondent is assessed an administrative penalty in the amount of $500. Respondent failed to disinfect tools, implements, and supplies with an EPA-registered disinfectant solution; Respondent failed to disinfect multi-use equipment, implements, and tools prior to use on each client.\n"
     ]
    },
    {
     "name": "stdout",
     "output_type": "stream",
     "text": [
      "NGUYEN, LAN T-THUY\nCity: SAN ANTONIO\nCounty: BEXAR\nZip Code: 78255\n\nNGUYEN, SAMLOI\nCity: SAN ANTONIO\nCounty: BEXAR\nZip Code: 78255\n\n\nLicense #: 767339\n\nComplaint # COS20180009255 Date: 5/17/2018\n\nRespondent is assessed an administrative penalty in the amount of $575. Respondent failed to clean, disinfect, and sterilize manicure and pedicure implements after each use.\nNGUYEN, TUAN A\nCity: AUSTIN\nCounty: TRAVIS\nZip Code: 78723\n\nNGUYEN, TUAN VAN\nCity: ARLINGTON\nCounty: TARRANT\nZip Code: 76011\n\n\nLicense #: 681274\n\nComplaint # COS20140018343 Date: 5/9/2018\n\nRespondent is assessed an administrative penalty in the amount of $1,000. Respondent failed to clean and disinfect all wax pots; Respondent failed to disinfect tools, implements, and supplies with a hospital-grade EPA-registered disinfectant solution; Respondent failed to replace materials that contact skin, or skin products from multi-use containers, with new or clean articles for each client.\nNGUYEN, THAO B\nCity: EULESS\nCounty: TARRANT\nZip Code: 76039\n\n\nLicense #(s): 721373, 1142884\n\nComplaint # COS20180008846 Date: 5/9/2018\n\nRespondent is assessed an administrative penalty in the amount of $750. Respondent failed to clean and sanitize whirlpool foot spas as required at the end of each day.\nNGUYEN, BETH MARIA\nCity: HOUSTON\nCounty: HARRIS\nZip Code: 77083\n\n\nLicense #: 1470271\n\nComplaint # COS20180000897 Date: 4/30/2018\n\nRespondent's Cosmetology Operator license was revoked by operation of law on 03/29/16. The Respondent's license was revoked upon Respondent's imprisonment in a penitentiary.\nNGUYEN, TRUNG N\nCity: AMARILLO\nCounty: POTTER\nZip Code: 79106\n\n\nLicense #(s): 1196244, 767015, 767014\n\nComplaint # COS20170023893 Date: 4/25/2018\n\nRespondent is assessed an administrative penalty in the amount of $1,300. Respondent failed to clean, disinfect, and sterilize manicure and pedicure implements after each use.\n"
     ]
    }
   ],
   "source": [
    "table_rows = driver.find_elements_by_tag_name('tr')\n",
    "\n",
    "for row in table_rows[:10]:\n",
    "  print(row.text)"
   ]
  },
  {
   "cell_type": "markdown",
   "metadata": {},
   "source": [
    "### Loop through each result and print each person's name\n",
    "\n",
    "You'll get an error because the first one doesn't have a name. How do you make that not happen?! If you want to ignore an error, you use code like this:\n",
    "\n",
    "```python\n",
    "try:\n",
    "   try to do something\n",
    "except:\n",
    "   print(\"It didn't work')\n",
    "```\n",
    "\n",
    "It should help you out. If you don't want to print anything, you can type `pass` instead of the `print` statement.\n",
    "\n",
    "**Why doesn't the first one have a name?**"
   ]
  },
  {
   "cell_type": "code",
   "execution_count": 13,
   "metadata": {},
   "outputs": [
    {
     "name": "stdout",
     "output_type": "stream",
     "text": [
      "NGUYEN, TOAN HUU\nNGUYEN, HANH CONG\nNGUYEN, KHIEM VAN\nNGUYEN, DIEP THI NGOC\nNGUYEN, LAN T-THUY\nNGUYEN, TUAN A\nNGUYEN, THAO B\nNGUYEN, BETH MARIA\n"
     ]
    },
    {
     "name": "stdout",
     "output_type": "stream",
     "text": [
      "NGUYEN, TRUNG N\n"
     ]
    }
   ],
   "source": [
    "for row in table_rows[:10]:\n",
    "  try:\n",
    "    name = row.find_element_by_css_selector('td:first-child '\n",
    "                                            'span.results_text:first-child')\n",
    "    print(name.text)\n",
    "  except:\n",
    "    pass\n"
   ]
  },
  {
   "cell_type": "markdown",
   "metadata": {},
   "source": [
    "## Loop through each result, printing each violation description (\"Basis for order\")\n",
    "\n",
    "> - *Tip: You'll get an error even if you're ALMOST right - which row is causing the problem?*\n",
    "> - *Tip: You can get the HTML of something by doing `.get_attribute('innerHTML')` - it might help you diagnose your issue.*\n",
    "> - *Tip: Or I guess you could just skip the one with the problem..."
   ]
  },
  {
   "cell_type": "code",
   "execution_count": 15,
   "metadata": {},
   "outputs": [
    {
     "name": "stdout",
     "output_type": "stream",
     "text": [
      "Respondent failed to clean and sanitize whirlpool foot spas as required at the end of each day.\nRespondent failed to clean and sanitize whirlpool foot spas as required at the end of each day; Respondent failed to use items subject to possible cross contamination in a manner that does not contaminate the remaining product.\nRespondent failed to follow whirlpool foot spas cleaning and sanitization procedures as required; Respondent failed to clean, disinfect, and sterilize manicure and pedicure implements after each use; Respondent failed to clean and disinfect all wax pots.\nRespondent failed to disinfect tools, implements, and supplies with an EPA-registered disinfectant solution; Respondent failed to disinfect multi-use equipment, implements, and tools prior to use on each client.\nRespondent failed to clean, disinfect, and sterilize manicure and pedicure implements after each use.\nRespondent failed to clean and disinfect all wax pots; Respondent failed to disinfect tools, implements, and supplies with a hospital-grade EPA-registered disinfectant solution; Respondent failed to replace materials that contact skin, or skin products from multi-use containers, with new or clean articles for each client.\nRespondent failed to clean and sanitize whirlpool foot spas as required at the end of each day.\nThe Respondent's license was revoked upon Respondent's imprisonment in a penitentiary.\nRespondent failed to clean, disinfect, and sterilize manicure and pedicure implements after each use.\n"
     ]
    }
   ],
   "source": [
    "for row in table_rows[1:10]:\n",
    "  basis_for_order_element = row.find_element_by_css_selector('td:last-child')\n",
    "  print(basis_for_order_element.text)"
   ]
  },
  {
   "cell_type": "markdown",
   "metadata": {},
   "source": [
    "## Loop through each result, printing the complaint number\n",
    "\n",
    "- TIP: Think about the order of the elements"
   ]
  },
  {
   "cell_type": "code",
   "execution_count": 16,
   "metadata": {
    "collapsed": true
   },
   "outputs": [
    {
     "name": "stdout",
     "output_type": "stream",
     "text": [
      "COS20180004289\nCOS20180006594\nCOS20180000257\nCOS20180004915\nCOS20180009255\nCOS20140018343\nCOS20180008846\nCOS20180000897\nCOS20170023893\n"
     ]
    }
   ],
   "source": [
    "for row in table_rows[1:10]:\n",
    "  complaint_number_element = row.find_element_by_css_selector('td:first-child span.results_text:last-child')\n",
    "  print(complaint_number_element.text)"
   ]
  },
  {
   "cell_type": "markdown",
   "metadata": {},
   "source": [
    "## Saving the results\n",
    "\n",
    "### Loop through each result to create a list of dictionaries\n",
    "\n",
    "Each dictionary must contain\n",
    "\n",
    "- Person's name\n",
    "- Violation description\n",
    "- Violation number\n",
    "- License Numbers\n",
    "- Zip Code\n",
    "- County\n",
    "- City\n",
    "\n",
    "Create a new dictionary for each result (except the header).\n",
    "\n",
    "> *Tip: If you want to ask for the \"next sibling,\" you can't use `find_next_sibling` in Selenium, you need to use `element.find_element_by_xpath(\"following-sibling::div\")` to find the next div, or `element.find_element_by_xpath(\"following-sibling::*\")` to find the next anything."
   ]
  },
  {
   "cell_type": "code",
   "execution_count": 25,
   "metadata": {
    "collapsed": true
   },
   "outputs": [],
   "source": [
    "list = []\n",
    "\n",
    "for row in table_rows[1:]:\n",
    "  dict = {}\n",
    "\n",
    "  # Person's name\n",
    "  name_element = row.find_element_by_css_selector('td:first-child >'\n",
    "                                                  'span.results_text:first-child')\n",
    "  dict['name'] = name_element.text\n",
    "\n",
    "  # - Violation description\n",
    "  violation_element = row.find_element_by_css_selector('td:last-child')\n",
    "  dict['description'] = violation_element.text\n",
    "\n",
    "  # - Violation number\n",
    "  violation_nr_element = row.find_element_by_css_selector(\n",
    "    'td:first-child span.results_text:last-child')\n",
    "  dict['violation_number'] = violation_nr_element.text\n",
    "\n",
    "  # - License Numbers\n",
    "  license_nrs_element = row.find_element_by_css_selector('td:first-child '\n",
    "                                                         '.results_text:nth-last-of-type(3)')\n",
    "  dict['license_numbers'] = license_nrs_element.text\n",
    "\n",
    "  # - Zip Code\n",
    "  zip_element = row.find_element_by_css_selector('td:first-child '\n",
    "                                                 'span:nth-of-type(7)')\n",
    "  dict['zip'] = zip_element.text\n",
    "\n",
    "  # - County\n",
    "  county_element = row.find_element_by_css_selector('td:first-child '\n",
    "                                                    'span:nth-of-type(5)')\n",
    "  dict['county'] = county_element.text\n",
    "\n",
    "  # - City\n",
    "  city_element = row.find_element_by_css_selector('td:first-child '\n",
    "                                                  'span:nth-of-type(3)')\n",
    "  dict['city'] = city_element.text\n",
    "\n",
    "  list.append(dict)\n"
   ]
  },
  {
   "cell_type": "markdown",
   "metadata": {},
   "source": [
    "### Save that to a CSV\n",
    "\n",
    "- Tip: You'll want to use pandas here"
   ]
  },
  {
   "cell_type": "code",
   "execution_count": 26,
   "metadata": {},
   "outputs": [],
   "source": [
    "import pandas as pd"
   ]
  },
  {
   "cell_type": "code",
   "execution_count": 29,
   "metadata": {},
   "outputs": [],
   "source": [
    "df = pd.DataFrame(list)"
   ]
  },
  {
   "cell_type": "code",
   "execution_count": 31,
   "metadata": {},
   "outputs": [],
   "source": [
    "df.to_csv('07-homework/violations.csv', index=False)"
   ]
  },
  {
   "cell_type": "markdown",
   "metadata": {},
   "source": [
    "### Open the CSV file and examine the first few. Make sure you didn't save an extra weird unnamed column."
   ]
  },
  {
   "cell_type": "code",
   "execution_count": null,
   "metadata": {
    "collapsed": true
   },
   "outputs": [],
   "source": []
  }
 ],
 "metadata": {
  "kernelspec": {
   "display_name": "Python 3",
   "language": "python",
   "name": "python3"
  },
  "language_info": {
   "codemirror_mode": {
    "name": "ipython",
    "version": 3
   },
   "file_extension": ".py",
   "mimetype": "text/x-python",
   "name": "python",
   "nbconvert_exporter": "python",
   "pygments_lexer": "ipython3",
   "version": "3.6.4"
  }
 },
 "nbformat": 4,
 "nbformat_minor": 2
}
