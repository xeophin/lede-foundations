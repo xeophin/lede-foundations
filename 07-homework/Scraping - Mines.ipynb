{
 "cells": [
  {
   "cell_type": "markdown",
   "metadata": {},
   "source": [
    "# Mine Safety\n",
    "\n",
    "We're interested in [US mine safety](https://arlweb.msha.gov/drs/drshome.htm), thank goodness we can search for these things."
   ]
  },
  {
   "cell_type": "markdown",
   "metadata": {},
   "source": [
    "## Setup: Import what you'll need to search and scrape and Selenium"
   ]
  },
  {
   "cell_type": "code",
   "execution_count": 1,
   "metadata": {},
   "outputs": [],
   "source": [
    "from selenium import webdriver\n",
    "from selenium.webdriver.common.keys import Keys\n",
    "from selenium.webdriver.support.ui import Select\n",
    "from selenium.webdriver.support.ui import WebDriverWait"
   ]
  },
  {
   "cell_type": "markdown",
   "metadata": {},
   "source": [
    "## Starting from `https://arlweb.msha.gov/drs/drshome.htm`, search for every operator with 'dirt' in their name, including abandoned mines.\n",
    "\n",
    "> - *Tip: If you can't make an element work using name, class or ID, try to use the XPath*"
   ]
  },
  {
   "cell_type": "code",
   "execution_count": 2,
   "metadata": {},
   "outputs": [],
   "source": [
    "driver = webdriver.Firefox()\n",
    "driver.get('https://arlweb.msha.gov/drs/drshome.htm')"
   ]
  },
  {
   "cell_type": "code",
   "execution_count": 3,
   "metadata": {},
   "outputs": [],
   "source": [
    "operator_search_input = driver.find_element_by_name('OperSearch')\n",
    "operator_search_input.send_keys('dirt')\n",
    "\n",
    "abandoned_mines_checkbox = driver.find_element_by_name('Abandoned')\n",
    "abandoned_mines_checkbox.click()"
   ]
  },
  {
   "cell_type": "code",
   "execution_count": 4,
   "metadata": {},
   "outputs": [],
   "source": [
    "submit_button = driver.find_element_by_xpath('/html/body/div[5]/div/form[1]/table/tbody/tr[7]/td[3]/input[1]')\n",
    "submit_button.click()"
   ]
  },
  {
   "cell_type": "code",
   "execution_count": null,
   "metadata": {},
   "outputs": [],
   "source": []
  },
  {
   "cell_type": "markdown",
   "metadata": {},
   "source": [
    "## Scrape the results page, saving it as `dirt-operators.csv`\n",
    "\n",
    "> - *Tip: Think about what each row in your dataset will be, and start by looping through that*\n",
    "> - *Tip: Printing is cool and good! Print everything! Move it into a dictionary later.*\n",
    "> - *Tip: If you don't want a row, think about what's in the row that makes it different. You can use an `if` statement or list slicing to skip the ones you aren't interested in.*\n",
    "> - *Tip: Make sure your dictionary and your loop variable have DIFFERENT NAMES*\n",
    "> - *Tip: After you've made your dictionary (and printed it, of course), you'll want to add it to your list of rows*\n",
    "> - *Tip: Be sure to import pandas to convert it to a dataframe*\n",
    "> - *Tip: Make sure you don't include the index when saving your dataframe*"
   ]
  },
  {
   "cell_type": "code",
   "execution_count": null,
   "metadata": {},
   "outputs": [],
   "source": []
  },
  {
   "cell_type": "markdown",
   "metadata": {},
   "source": [
    "### Hopefully you know that each `tr` is supposed to be a row of your data. What is the index of the first row element that is actually a result?\n",
    "\n",
    "`.text` will help you here."
   ]
  },
  {
   "cell_type": "code",
   "execution_count": 6,
   "metadata": {
    "collapsed": true
   },
   "outputs": [],
   "source": [
    "data_table = driver.find_element_by_xpath('/html/body/div[5]/div/table[3]')"
   ]
  },
  {
   "cell_type": "code",
   "execution_count": 7,
   "metadata": {
    "collapsed": true
   },
   "outputs": [],
   "source": [
    "# index of first data row is 1"
   ]
  },
  {
   "cell_type": "markdown",
   "metadata": {},
   "source": [
    "### Loop through each operator result, printing its name\n",
    "\n",
    "You can use list slicing or an `if` statement to skip the non-data row(s)."
   ]
  },
  {
   "cell_type": "code",
   "execution_count": 12,
   "metadata": {
    "collapsed": true
   },
   "outputs": [
    {
     "name": "stdout",
     "output_type": "stream",
     "text": [
      "Newberg Rock & Dirt  \nAllied Dirt Moving Company  \nAM Dirtworks & Aggregate Sales  \nAtlas-Dirty Devil Mining  \nAtlas-Dirty Devil Mining  \nBabe's Dirt Work  \nBar-Lin Dirt Company  \nBarber'S Dirt Pit  \nBender Sand & Dirt  \nBERT'S DIRT  \nBig D Dirt Service Inc  \nBig Red Dirt Farm LLC  \nBig River Dirt Pit  \n"
     ]
    },
    {
     "name": "stdout",
     "output_type": "stream",
     "text": [
      "Bob Harris Dirt Contracting  \nBohannon Sand & Dirt  \nBratcher'S Sand & Dirt  \nBrewer Dirt Works  \nBuck'S Dirt Pit  \nC & G Dirt Hauling  \n"
     ]
    },
    {
     "name": "stdout",
     "output_type": "stream",
     "text": [
      "C N C Dirt Movers, Inc.  \nCambridge Dirt Sand and Gravel LLC  \nCentral Iowa Dirt & Demo LLC  \nCrowes Trucking & Dirt Pit Services  \nD & H Dirt  \nDiez Dirt & Sand Hauling Inc  \nDirt Cheap  \nDirt Company  \nDirt Company  \nDirt Company  \nDirt Con  \nDirt Diggers Inc  \nDirt Doctor Inc  \nDirt Inc  \n"
     ]
    },
    {
     "name": "stdout",
     "output_type": "stream",
     "text": [
      "Dirt Pit  \nDirt Work Specialists LLC  \nDirt Works  \nDirtco Inc  \nDirtman Trucking  \nDIRTWORKS, INC.  \nDirtworks, Inc.  \nDirty Coal  \nDorchester Dirt Company Inc  \nDouglas Dirt Sand & Gravel Company  \nEll Dirt Works LLC.  \nFloyd Smith Dirt Pit  \nGary Kelm Dirt Service  \nGerald Fenger/Rock & Dirt Const  \n"
     ]
    },
    {
     "name": "stdout",
     "output_type": "stream",
     "text": [
      "Gerald Illies Gravel & Dirt Company  \nGuidry Sand & Dirt Pit Inc  \nHarris Dirt Company Inc  \nHatchet Creek Rock & Dirt LLC  \nHolley Dirt Company, Inc  \nIske Dirt Sand & Gravel  \nJ M Lynn Dirtwork  \nJake Diel Dirt & Paving Inc  \nJake Diel Dirt & Paving Inc  \nJake Diel Dirt & Paving Inc  \nJake Diel Dirt & Paving Inc  \nJake Diel Dirt & Paving Inc  \nJake Diel Dirt & Paving Inc  \nJake Diel Dirt & Paving Inc  \nJake Diel Dirt & Paving Inc  \n"
     ]
    },
    {
     "name": "stdout",
     "output_type": "stream",
     "text": [
      "Jarratt Dirt Work and Paving, Inc.  \nJBS DIRT, INC.  \nJones Bros Dirt & Paving Contractors Inc  \nKrueger Brothers Gravel & Dirt  \nKrueger Dirt Werx, Inc.  \nL I P Dirt & Trucking  \nLee'S Dirt Pit Inc  \nLittle-G-Dirt Pit  \nLone Star Dirt & Paving  \nLoyd'S Dirt & Gravel  \nM R Dirt  \nM.C. Dirt LLC  \nM.R. Dirt Inc.  \nMaurice Dirt & Sand  \nMc Dirt Industries Inc  \n"
     ]
    },
    {
     "name": "stdout",
     "output_type": "stream",
     "text": [
      "Mike Duhon Dirt Pit  \nMike Duhon Dirt Pit  \nMike Duhon Dirt Pit  \nMoss Dirt Company  \nMoss Dirt Company  \nMuckler Fill Dirt & Top Soil  \nNelson & Sons Dirt Haulers Inc  \nNelson'S Dirt Pit  \nNicholson Dirt Contracting  \nNitty Gritty Dirt LLC  \nNorthest Louisiana Dirt Contractors  \nOrvil Carter Dirt Contractor Inc  \n"
     ]
    },
    {
     "name": "stdout",
     "output_type": "stream",
     "text": [
      "Orvil Carter Dirt Contractor Inc  \nP B Dirt Movers Inc  \nP B Dirt Movers Inc  \nP B Dirt Movers Inc  \nP B Dirt Movers Inc  \nP B Dirt Movers Inc  \nP B Dirt Movers Inc.  \nP B Dirt Movers, Inc  \nP B Dirt Movers, Inc.  \nP.B. Dirtmovers  \nPAPA'S DIRT WORKES  \nPaydirt Exc Inc  \nPB Dirt Movers  \nPB Dirt Movers Inc.  \n"
     ]
    },
    {
     "name": "stdout",
     "output_type": "stream",
     "text": [
      "PB Dirt Movers, Inc  \nPeveto Dirt Pit  \nPhil-Dirt Industries, Inc  \nPrescott Dirt, LLC  \nR & R Dirtworks  \nR D Blankenship Dirt Work LLC  \nReeves Dirt Pit Inc  \nRiver Bottom Dirt  \nRoe'S Dirt Pit  \nRussell Trest-Dirt Contractor  \nS J Stahr Dirt Movers Inc  \nSand & Dirt, Inc  \nSand and Dirt, Inc.  \nSierra Rock & Dirt, Inc.  \n"
     ]
    },
    {
     "name": "stdout",
     "output_type": "stream",
     "text": [
      "Simpson Dirtworx llc  \nSIMPSON DIRTWORX LLC  \nSIMPSON DIRTWORX LLC  \nSlay'S Dirt Hauling  \nSouthside Dirt Company  \nSpry's Dirt & Gravel, Inc.  \nStewart Dirt Pit  \nStewart Dirt Work, Inc.  \nSweat'S Dirt Hauling Inc  \nToler Roe Dirt Pit  \nTres Palacios Dirt, Sand & Gravel  \nVogt Dirt Service  \nWatson Dirt Sand & Gravel Pit Inc  \n"
     ]
    },
    {
     "name": "stdout",
     "output_type": "stream",
     "text": [
      "Y B Dirt & Loam  \nYarbrough Dirt Pit Inc  \n"
     ]
    }
   ],
   "source": [
    "data_rows = data_table.find_elements_by_tag_name('tr')\n",
    "\n",
    "for row in data_rows[1:len(data_rows)-1]:\n",
    "  operator_name_element = row.find_element_by_xpath('td[3]')\n",
    "  print(operator_name_element.text)"
   ]
  },
  {
   "cell_type": "markdown",
   "metadata": {},
   "source": [
    "### Loop through each operator result, printing its ID\n",
    "\n",
    "There should be ONE code per row, and NO empty rows between them."
   ]
  },
  {
   "cell_type": "code",
   "execution_count": 13,
   "metadata": {
    "collapsed": true
   },
   "outputs": [
    {
     "name": "stdout",
     "output_type": "stream",
     "text": [
      "3503598\n0502030\n4801789\n4201449\n4201450\n1002257\n1601167\n4103265\n1401575\n1700776\n1601251\n0301963\n1601082\n3401751\n1600916\n3401211\n"
     ]
    },
    {
     "name": "stdout",
     "output_type": "stream",
     "text": [
      "0301267\n1600956\n2200033\n0504953\n3401929\n1302445\n1601106\n3400915\n1600983\n4503200\n3401266\n"
     ]
    },
    {
     "name": "stdout",
     "output_type": "stream",
     "text": [
      "3401468\n5001797\n4608254\n1510279\n2103723\n0100776\n4104016\n2103914\n4104757\n0301729\n0404851\n2200734\n5002028\n1513393\n"
     ]
    },
    {
     "name": "stdout",
     "output_type": "stream",
     "text": [
      "3800602\n3101630\n3200860\n3401762\n2103517\n2402626\n2103181\n1601124\n1601150\n4703427\n0801306\n2501216\n3200965\n2901371\n2901544\n2901709\n"
     ]
    },
    {
     "name": "stdout",
     "output_type": "stream",
     "text": [
      "4102355\n4102420\n4102869\n4102951\n4102958\n4104876\n3003502\n4103258\n3901432\n2103556\n1601250\n1600908\n1600953\n"
     ]
    },
    {
     "name": "stdout",
     "output_type": "stream",
     "text": [
      "4104185\n2901536\n3609624\n3800709\n3609931\n1601257\n0801275\n1601379\n1601380\n1601381\n1601134\n1601165\n3901042\n1601194\n4104054\n"
     ]
    },
    {
     "name": "stdout",
     "output_type": "stream",
     "text": [
      "4801674\n2402474\n1600920\n4102955\n4103107\n1512530\n1515619\n1518318\n4405366\n4407196\n1519685\n1519799\n4407379\n4407003\n"
     ]
    },
    {
     "name": "stdout",
     "output_type": "stream",
     "text": [
      "2602570\n2402503\n4407296\n1519273\n4407270\n4102682\n0801259\n0203332\n0302015\n2901986\n1601127\n4105017\n1600986\n4103324\n4202013\n0801417\n"
     ]
    },
    {
     "name": "stdout",
     "output_type": "stream",
     "text": [
      "0801371\n2402115\n4300748\n4300768\n4300776\n0103209\n1601159\n2302283\n4102586\n4104475\n3800617\n1601234\n"
     ]
    },
    {
     "name": "stdout",
     "output_type": "stream",
     "text": [
      "4104648\n2103518\n1601292\n4103429\n4103264\n"
     ]
    }
   ],
   "source": [
    "for row in data_rows[1:len(data_rows)-1]:\n",
    "  operator_id_element = row.find_element_by_xpath('td[1]')\n",
    "  print(operator_id_element.text)"
   ]
  },
  {
   "cell_type": "markdown",
   "metadata": {},
   "source": [
    "## Saving the results\n",
    "\n",
    "### Loop through each `tr` to create a list of dictionaries\n",
    "\n",
    "Each dictionary must contain\n",
    "\n",
    "- Operator ID\n",
    "- Operator name\n",
    "- Mine name\n",
    "- State\n",
    "- Mine type\n",
    "- Coal or metal\n",
    "- Status\n",
    "- Commodity\n",
    "\n",
    "Create a new dictionary for each row."
   ]
  },
  {
   "cell_type": "code",
   "execution_count": 18,
   "metadata": {
    "collapsed": true
   },
   "outputs": [
    {
     "data": {
      "text/plain": [
       "132"
      ]
     },
     "execution_count": 18,
     "metadata": {},
     "output_type": "execute_result"
    }
   ],
   "source": [
    "headers = [\n",
    "  'operator_id',\n",
    "  'state',\n",
    "  'operator_name',\n",
    "  'mine_name',\n",
    "  'mine_type',\n",
    "  'coal_or_metal',\n",
    "  'status',\n",
    "  'commodity'\n",
    "]\n",
    "\n",
    "# create a list\n",
    "compiled_list = []\n",
    "\n",
    "# loop through all rows, without the first and the last one\n",
    "for row in data_rows[1:len(data_rows) - 1]:\n",
    "\n",
    "  # get all cells in the row\n",
    "  row_cells = row.find_elements_by_tag_name('td')\n",
    "  dictionary = {}\n",
    "  for index in range(len(row_cells)):\n",
    "    dictionary[headers[index]] = row_cells[index].text\n",
    "\n",
    "  compiled_list.append(dictionary)\n",
    "\n",
    "len(compiled_list)"
   ]
  },
  {
   "cell_type": "markdown",
   "metadata": {},
   "source": [
    "### Save that to a CSV named `dirt-operators.csv`"
   ]
  },
  {
   "cell_type": "code",
   "execution_count": 17,
   "metadata": {
    "collapsed": true
   },
   "outputs": [],
   "source": [
    "import pandas as pd\n",
    "df = pd.DataFrame(compiled_list)\n",
    "df.to_csv('07-homework/mines.csv', index=False)"
   ]
  },
  {
   "cell_type": "markdown",
   "metadata": {},
   "source": [
    "### Open the CSV file and examine the first few.\n",
    "\n",
    "Make sure you didn't save that extra weird unnamed index column."
   ]
  },
  {
   "cell_type": "code",
   "execution_count": null,
   "metadata": {
    "collapsed": true
   },
   "outputs": [],
   "source": []
  }
 ],
 "metadata": {
  "kernelspec": {
   "display_name": "Python 3",
   "language": "python",
   "name": "python3"
  },
  "language_info": {
   "codemirror_mode": {
    "name": "ipython",
    "version": 3
   },
   "file_extension": ".py",
   "mimetype": "text/x-python",
   "name": "python",
   "nbconvert_exporter": "python",
   "pygments_lexer": "ipython3",
   "version": "3.6.4"
  }
 },
 "nbformat": 4,
 "nbformat_minor": 2
}
