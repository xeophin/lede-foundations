{
 "cells": [
  {
   "cell_type": "code",
   "execution_count": 8,
   "metadata": {
    "collapsed": true
   },
   "outputs": [],
   "source": [
    "# Using Scraping\n",
    "# Scrape the front page of some always-updating website, such as\n",
    "# \n",
    "# https://www.slickdeals.net/ (Links to an external site.)Links to an external site.\n",
    "# https://www.reddit.com (Links to an external site.)Links to an external site./\n",
    "# https://www.washingtonpost.com (Links to an external site.)Links to an external site./\n",
    "# https://finance.yahoo.com/industries (Links to an external site.)Links to an external site.\n",
    "# anything else, really\n",
    "# Note that some of these won't work with BeautifulSoup!\n",
    "# Send yourself an email with as much information as possible from the site, such as:\n",
    "# \n",
    "# The title of the thing (the sale, the article, whatever)\n",
    "# A URL for it\n",
    "# Upvotes/thumbs ups/subreddits/prices/links to images/etc\n",
    "# Save this as a CSV, and send it as an attachment to your email address every 6 hours. The email headline should say something like \"Here is your 6PM briefing.\" The CSV file should be timestamped with the current date and time, e.g. briefing-2018-06-18-3PM.csv\n",
    "# \n",
    "# BONUS: Have the content actually be the body of the email, not just an \n",
    "# attachment. I don't mean like a CSV or whatever, I mean it should actually \n",
    "# look like nice lists and stuff, a real email."
   ]
  },
  {
   "cell_type": "code",
   "execution_count": 34,
   "metadata": {},
   "outputs": [],
   "source": [
    "import requests\n",
    "from bs4 import BeautifulSoup\n",
    "import pandas as pd\n",
    "from apikeys import mailgun_api_key\n",
    "import datetime"
   ]
  },
  {
   "cell_type": "code",
   "execution_count": 10,
   "metadata": {},
   "outputs": [],
   "source": [
    "comic_list = []"
   ]
  },
  {
   "cell_type": "code",
   "execution_count": 11,
   "metadata": {},
   "outputs": [],
   "source": [
    "# Get Sinfest Comic Strip\n",
    "\n",
    "\n",
    "SINFEST_URL = 'http://www.sinfest.net/'\n",
    "\n",
    "try:\n",
    "  sinfest_doc = BeautifulSoup(requests.get(SINFEST_URL).text,\n",
    "                              'html.parser')\n",
    "  img_element = sinfest_doc.select_one('center > table tbody.style5 tr > td > '\n",
    "                                       'img')\n",
    "  img_src = SINFEST_URL + img_element['src']\n",
    "  img_title = img_element['alt']\n",
    "\n",
    "  sinfest = {\n",
    "    'comic': 'Sinfest',\n",
    "    'src': img_src,\n",
    "    'title': img_title,\n",
    "    'url': SINFEST_URL + 'view.php?date={:%Y-%m-%d}'.format(\n",
    "      datetime.datetime.now())\n",
    "  }\n",
    "\n",
    "  comic_list.append(sinfest)\n",
    "except Exception as e:\n",
    "  print('[Sinfest]: Scraping failed, due to', e)\n"
   ]
  },
  {
   "cell_type": "code",
   "execution_count": 12,
   "metadata": {},
   "outputs": [
    {
     "data": {
      "text/plain": [
       "[{'comic': 'Sinfest',\n  'src': 'http://www.sinfest.net/btphp/comics/2018-06-19.gif',\n  'title': 'Repair 17',\n  'url': 'http://www.sinfest.net/view.php?date=2018-06-19'}]"
      ]
     },
     "execution_count": 12,
     "metadata": {},
     "output_type": "execute_result"
    }
   ],
   "source": [
    "comic_list"
   ]
  },
  {
   "cell_type": "code",
   "execution_count": 13,
   "metadata": {},
   "outputs": [],
   "source": [
    "# Get newest Scandinavia and the World comic strip\n",
    "\n",
    "SATW_URL = 'https://satwcomic.com/'\n",
    "INDEX_PAGE = 'the-world'\n",
    "\n",
    "satw_doc = BeautifulSoup(requests.get(SATW_URL + INDEX_PAGE).text, \n",
    "                         'html.parser')\n",
    "last_comic_url = satw_doc.select_one('.card a')['href']\n",
    "\n",
    "satw_comic_doc = BeautifulSoup(requests.get(last_comic_url).text, 'html.parser')\n",
    "\n",
    "img_element = satw_comic_doc.select_one('.btn-group-justified + center img')\n",
    "img_src = img_element['src']\n",
    "img_title = img_element['title']\n",
    "\n",
    "satw = {\n",
    "  'comic': 'Scandinavia and the World',\n",
    "  'src': img_src,\n",
    "  'title': img_title,\n",
    "  'url': last_comic_url\n",
    "}\n",
    "\n",
    "comic_list.append(satw)"
   ]
  },
  {
   "cell_type": "code",
   "execution_count": 38,
   "metadata": {},
   "outputs": [
    {
     "data": {
      "text/html": [
       "<div>\n",
       "<style scoped>\n",
       "    .dataframe tbody tr th:only-of-type {\n",
       "        vertical-align: middle;\n",
       "    }\n",
       "\n",
       "    .dataframe tbody tr th {\n",
       "        vertical-align: top;\n",
       "    }\n",
       "\n",
       "    .dataframe thead th {\n",
       "        text-align: right;\n",
       "    }\n",
       "</style>\n",
       "<table border=\"1\" class=\"dataframe\">\n",
       "  <thead>\n",
       "    <tr style=\"text-align: right;\">\n",
       "      <th></th>\n",
       "      <th>comic</th>\n",
       "      <th>src</th>\n",
       "      <th>title</th>\n",
       "      <th>url</th>\n",
       "    </tr>\n",
       "  </thead>\n",
       "  <tbody>\n",
       "    <tr>\n",
       "      <th>0</th>\n",
       "      <td>Sinfest</td>\n",
       "      <td>http://www.sinfest.net/btphp/comics/2018-06-19...</td>\n",
       "      <td>Repair 17</td>\n",
       "      <td>http://www.sinfest.net/view.php?date=2018-06-19</td>\n",
       "    </tr>\n",
       "    <tr>\n",
       "      <th>1</th>\n",
       "      <td>Scandinavia and the World</td>\n",
       "      <td>https://satwcomic.com/art/play-date.png</td>\n",
       "      <td>Play date</td>\n",
       "      <td>https://satwcomic.com/play-date</td>\n",
       "    </tr>\n",
       "  </tbody>\n",
       "</table>\n",
       "</div>"
      ],
      "text/plain": [
       "<div>\n",
       "<style scoped>\n",
       "    .dataframe tbody tr th:only-of-type {\n",
       "        vertical-align: middle;\n",
       "    }\n",
       "\n",
       "    .dataframe tbody tr th {\n",
       "        vertical-align: top;\n",
       "    }\n",
       "\n",
       "    .dataframe thead th {\n",
       "        text-align: right;\n",
       "    }\n",
       "</style>\n",
       "<table border=\"1\" class=\"dataframe\">\n",
       "  <thead>\n",
       "    <tr style=\"text-align: right;\">\n",
       "      <th></th>\n",
       "      <th>comic</th>\n",
       "      <th>src</th>\n",
       "      <th>title</th>\n",
       "      <th>url</th>\n",
       "    </tr>\n",
       "  </thead>\n",
       "  <tbody>\n",
       "    <tr>\n",
       "      <th>0</th>\n",
       "      <td>Sinfest</td>\n",
       "      <td>http://www.sinfest.net/btphp/comics/2018-06-19...</td>\n",
       "      <td>Repair 17</td>\n",
       "      <td>http://www.sinfest.net/view.php?date=2018-06-19</td>\n",
       "    </tr>\n",
       "    <tr>\n",
       "      <th>1</th>\n",
       "      <td>Scandinavia and the World</td>\n",
       "      <td>https://satwcomic.com/art/play-date.png</td>\n",
       "      <td>Play date</td>\n",
       "      <td>https://satwcomic.com/play-date</td>\n",
       "    </tr>\n",
       "  </tbody>\n",
       "</table>\n",
       "</div>"
      ]
     },
     "execution_count": 38,
     "metadata": {},
     "output_type": "execute_result"
    }
   ],
   "source": [
    "# Okay, so we push that into a data frame purely so we can take advantage of \n",
    "# the CSV export\n",
    "comic_df = pd.DataFrame(comic_list)\n",
    "comic_df"
   ]
  },
  {
   "cell_type": "code",
   "execution_count": 39,
   "metadata": {},
   "outputs": [],
   "source": [
    "now = datetime.datetime.now()\n",
    "comic_df.to_csv(\n",
    "  'comics-{:%Y%m%d%H%M}.csv'.format(now),\n",
    "  index=False\n",
    ")"
   ]
  },
  {
   "cell_type": "code",
   "execution_count": 44,
   "metadata": {},
   "outputs": [
    {
     "name": "stdout",
     "output_type": "stream",
     "text": [
      "---------------\n['Do you feel low? Worn down? Discouraged? Maybe you need a break. Maybe you need a lot of breaks. Here are', '25 ways to feel happier in the next 5 minutes', 'because we all could use a little happiness. No good? Perhaps', '14 ways to get through tough times', 'is a better fit.', '[', 'more inside', ']', 'posted by', 'Bella Donna', 'at 1:42 PM Jun 18 2018 -', '11 comments', '[', '96 favorites', ']']\n---------------\n['lofi study chill beats radio', '[', 'more inside', ']', 'posted by', 'the man of twists and turns', 'at 6:27 PM Jun 18 2018 -', '25 comments', '[', '68 favorites', ']']\n---------------\n['I ask a bunch of men,', '\"Have you ever interrupted a woman?\"', '[', 'more inside', ']', 'posted by', 'Too-Ticky', 'at 12:16 PM Jun 18 2018 -', '32 comments', '[', '67 favorites (66 in the past 24 hours)', ']']\n---------------\n['On Ask Reddit, a user asked \"What really happened in real life that if you saw it in a movie you would say \"that\\'s totally unrealistic\"?\".', 'The top scoring result is a story that presented a baffling mystery to one group of people, a Lovecraftian horror to another, and grand hilarity to everyone else.', 'posted by', 'the duck by the oboe', 'at 6:17 AM Jun 19 2018 -', '40 comments', '[', '50 favorites', ']']\n---------------\n['A wonderful profile', 'by', 'Samanth Subramanian', 'of James Martin, perhaps the world\\'s best forensic forgery detection expert, waging a battle with increasingly skilled forgers who have set off a \"crisis of authentication\" in \"a time when the art market is synonymous with art itself.\"', '[', 'more inside', ']', 'posted by', 'mecran01', 'at 1:52 PM Jun 18 2018 -', '19 comments', '[', '36 favorites', ']']\n---------------\n['Not Ok is an app', 'to let people know you need help. Designed by teenagers for both physical and mental illnesses. Hannah Lucas came up with the idea for this because she needed it herself.', '[', 'more inside', ']', 'posted by', 'Margalo Epps', 'at 4:38 PM Jun 18 2018 -', '22 comments', '[', '34 favorites', ']']\n---------------\n['Sure, in this age of LCD screens and', '8k displays', \", it's easy-ish to understand how video is played. But what about before computers, before integrated circuits, hell, before transistors?  Simple. Televisions used\", 'analog lines of light', 'to draw their pictures.', '[', 'more inside', ']', 'posted by', 'thegears', 'at 5:24 PM Jun 18 2018 -', '28 comments', '[', '31 favorites', ']']\n---------------\n['\"', 'She will not be missed', '\" is a brutal phrase to read in an obituary, but leads to the question:', 'how have obits changed in recent time?', 'Susan Soper has a theory: \"after 9/11 when', 'The New York Times wrote those hundreds and hundreds and hundreds, thousands of very short, poignant obituaries', 'in their pages ...  that was sort of when the tide turned in obituaries and people realized that you could bring a person to life and keep them alive in even a short written bio, really.\" And many taboo topics, like children born out of wedlock, drug use and suicide, are less of taboos than they used to be [', 'content warning', '].', '[', 'more inside', ']', 'posted by', 'filthy light thief', 'at 10:23 AM Jun 18 2018 -', '27 comments', '[', '43 favorites (24 in the past 24 hours)', ']']\n---------------\n['Since the dawn of the internet, online platforms have allowed clients to take advantage of sex workers. Now, they’re fighting back.', \"The ratings systems of several large sites has taken power away from sex workers and acted as a tool to pressure them into lower prices and acts they don't wish to perform. A long read on some nuanced history of the internet and sex work, with some notes about how sex workers are changing the system in their favor.\", 'posted by', 'stoneweaver', 'at 9:39 AM Jun 19 2018 -', '6 comments', '[', '19 favorites', ']']\n---------------\n['Michigan Central Station', 'was originally a grand train depot in the style of the early 20th Century, complete with an office building that made it the tallest train station in the world. It fell into disrepair as Detroit\\'s own automotive industry killed the trains, and has stood as one of the preeminent examples of \"', 'ruin porn', '\". But earlier this month, Ford', 'bought the structure', ', intending to redevelop it as a', 'hub for its autonomous vehicle development', '. The news was hailed across Michigan as a sign of recovery, attracting', 'even the attention of scavengers', ', returning one of the antique clocks that had been taken from the depot during its long abandonment.', 'posted by', 'Etrigan', 'at 7:19 AM Jun 19 2018 -', '27 comments', '[', '17 favorites', ']']\n---------------\n['The Death of a Once Great City: The Urban Crisis of Affluence.', 'What are we going to do about a New York that is, right now, being plundered not only of its treasure but also of its heart, and soul, and purpose?', '[', 'more inside', ']', 'posted by', 'hydra77', 'at 12:23 PM Jun 18 2018 -', '49 comments', '[', '16 favorites', ']']\n---------------\n['Jared Pechacek (', '@vandroidhelsing', \") has used Twitter's poll feature to write three Choose Your Own Adventure-style stories — each a fairy tale, of one sort or another — as he responded in real time to readers' choices.\", 'The Well', ': a story of blessings and curses', \"The Lady at Winter's Heart\", ': a story of gifts', 'The Last Queen of Elphame', ': a story of noir in the city of the fae', '*', '[', 'more inside', ']', 'posted by', 'DevilsAdvocate', 'at 5:15 PM Jun 18 2018 -', '4 comments', '[', '16 favorites', ']']\n---------------\n['\"', 'My wife said you may want to marry me', '. A little over a year ago, my wife, Amy Krouse Rosenthal, published a Modern Love essay called “', 'You May Want to Marry My Husband.', '” At 51, Amy was dying from ovarian cancer. She wrote her essay in the form of a personal ad. It was more like a love letter to me. Those words would be the final ones Amy published. She died 10 days later.\"', '(previously)', 'posted by', 'Memo', 'at 9:24 AM Jun 18 2018 -', '22 comments', '[', '31 favorites (15 in the past 24 hours)', ']']\n---------------\n['\"Some neophyte knitters might think that one scarf is a project. But then their goal is probably to make a scarf. My goal was to no longer want to drink a bottle of wine every night, and that would take more yarn.\" Or maybe a felted otter kit. Or maybe saying no to the want instead of killing it. Kristi Coulter, for Longreads:', 'Trying to Kill the Want', '.', 'posted by', 'MonkeyToes', 'at 10:42 AM Jun 19 2018 -', '12 comments', '[', '15 favorites', ']']\n---------------\n['It is a truth universally acknowledged that no pleasure is so cheaply bought, and so unmarred by complexity, as the simple joy of seeing a dog hurl itself into a pond in pursuit of a slobbery stick. Science has proven the impossibility of the human brain to register self-pity, or maunder on about the generally sorry state of things,', 'while in the presence of canine bellyflops', '.', '(', 'Outside', 'magazine)', 'posted by', 'Johnny Wallflower', 'at 2:16 PM Jun 18 2018 -', '17 comments', '[', '14 favorites', ']']\n---------------\n['Fred Gonsowski has been sharing gardening tips at', 'Fred Gonsowski Garden Home', 'since 2010 based on his experience building a', 'beautiful garden', 'at his', 'upstate New York home', '.', '[', 'more inside', ']', 'posted by', 'imabanana', 'at 9:23 AM Jun 18 2018 -', '5 comments', '[', '25 favorites (11 in the past 24 hours)', ']']\n---------------\n['Why Are Millions Paying Online Tax Preparation Fees When They Don’t Need To?', 'Few taxpayers use the Free File system — intended to help moderate- and low-income filers — and that benefits companies like Intuit and H&R Block. Now Congress is moving to make the program permanent. (SLProPublica by Tik Root)', 'posted by', 'crazy with stars', 'at 10:14 AM Jun 18 2018 -', '23 comments', '[', '16 favorites (10 in the past 24 hours)', ']']\n---------------\n['Meet the man who holds the keys to the Pope’s Museums', ', and other stuff.  (', 'YT video', ')', 'posted by', 'shoesfullofdust', 'at 6:51 PM Jun 18 2018 -', '6 comments', '[', '10 favorites', ']']\n---------------\n['Just As I Am', ': \"By age twenty, he was working consistently on the bluegrass-gospel circuit. One gig ended abruptly when he loaned his laptop to a couple of bandmates at a recording session. They got nosy and found photos from a hush-hush trip to Gatlinburg with his clandestine boyfriend. \\'I don’t know how you and God are,\\' the bandleader thundered at Brandon, who stared at the floor, \\'but you need to get it right. If you keep on this path, you’ll be in hell for sure.\\'”', '[', 'more inside', ']', 'posted by', 'mandolin conspiracy', 'at 9:10 AM Jun 18 2018 -', '8 comments', '[', '19 favorites (9 in the past 24 hours)', ']']\n---------------\n['Budget Bytes', 'is a weblog/recipe collection I use every single week. It has priced-out ingredients for each recipe and often recipes stay under about $1.50/serving, which is nice for those of us on tight budgets.', '[', 'more inside', ']', 'posted by', 'thegears', 'at 12:15 PM Jun 16 2018 -', '67 comments', '[', '249 favorites (8 in the past 24 hours)', ']']\n"
     ]
    },
    {
     "data": {
      "text/plain": [
       "[{'favourites': '96 favorites',\n  'summary': 'Do you feel low? Worn down? Discouraged? Maybe you need a break. Maybe you need a lot of breaks. Here are 25 ways to feel happier in the next 5 minutes because we all could use a little happiness. No good? Perhaps 14 ways to get through tough times is a better fit.',\n  'title': 'Feeling Low? Time to Get Happy',\n  'url': 'https://www.metafilter.com/174779/Feeling-Low-Time-to-Get-Happy'},\n {'favourites': '68 favorites',\n  'summary': 'lofi study chill beats radio',\n  'title': 'Music to do nothing to',\n  'url': 'https://www.metafilter.com/174787/Music-to-do-nothing-to'},\n {'favourites': '67 favorites (66 in the past 24 hours)',\n  'summary': 'I ask a bunch of men, \"Have you ever interrupted a woman?\"',\n  'title': 'interrupt me one more time',\n  'url': 'https://www.metafilter.com/174776/interrupt-me-one-more-time'},\n {'favourites': '50 favorites',\n  'summary': '',\n  'title': 'A story about a shower curtain',\n  'url': 'https://www.metafilter.com/174793/A-story-about-a-shower-curtain'},\n {'favourites': '36 favorites',\n  'summary': 'A wonderful profile by Samanth Subramanian of James Martin, perhaps the world\\'s best forensic forgery detection expert, waging a battle with increasingly skilled forgers who have set off a \"crisis of authentication\" in \"a time when the art market is synonymous with art itself.\"',\n  'title': \"How to Spot a Perfect Fake: the World's Top Art Forgery Detective\",\n  'url': 'https://www.metafilter.com/174780/How-to-Spot-a-Perfect-Fake-the-Worlds-Top-Art-Forgery-Detective'},\n {'favourites': '34 favorites',\n  'summary': 'Not Ok is an app to let people know you need help. Designed by teenagers for both physical and mental illnesses. Hannah Lucas came up with the idea for this because she needed it herself.',\n  'title': 'An actual panic button',\n  'url': 'https://www.metafilter.com/174783/An-actual-panic-button'},\n {'favourites': '31 favorites',\n  'summary': \"Sure, in this age of LCD screens and 8k displays , it's easy-ish to understand how video is played. But what about before computers, before integrated circuits, hell, before transistors?  Simple. Televisions used analog lines of light to draw their pictures.\",\n  'title': 'Technology Connections',\n  'url': 'https://www.metafilter.com/174785/Technology-Connections'},\n {'favourites': '43 favorites (24 in the past 24 hours)',\n  'summary': '\" She will not be missed \" is a brutal phrase to read in an obituary, but leads to the question: how have obits changed in recent time? Susan Soper has a theory: \"after 9/11 when The New York Times wrote those hundreds and hundreds and hundreds, thousands of very short, poignant obituaries in their pages ...  that was sort of when the tide turned in obituaries and people realized that you could bring a person to life and keep them alive in even a short written bio, really.\" And many taboo topics, like children born out of wedlock, drug use and suicide, are less of taboos than they used to be [ content warning ].',\n  'title': 'The art and standards of obituaries, reflecting current traditions',\n  'url': 'https://www.metafilter.com/174774/The-art-and-standards-of-obituaries-reflecting-current-traditions'},\n {'favourites': '19 favorites',\n  'summary': '',\n  'title': 'Sex Workers Vs The Internet',\n  'url': 'https://www.metafilter.com/174795/Sex-Workers-Vs-The-Internet'},\n {'favourites': '17 favorites',\n  'summary': 'Michigan Central Station was originally a grand train depot in the style of the early 20th Century, complete with an office building that made it the tallest train station in the world. It fell into disrepair as Detroit\\'s own automotive industry killed the trains, and has stood as one of the preeminent examples of \" ruin porn \". But earlier this month, Ford bought the structure , intending to redevelop it as a hub for its autonomous vehicle development',\n  'title': 'Time for Detroit renewal',\n  'url': 'https://www.metafilter.com/174794/Time-for-Detroit-renewal'},\n {'favourites': '16 favorites',\n  'summary': 'The Death of a Once Great City: The Urban Crisis of Affluence. What are we going to do about a New York that is, right now, being plundered not only of its treasure but also of its heart, and soul, and purpose?',\n  'title': 'So what are we going to do about it?',\n  'url': 'https://www.metafilter.com/174777/So-what-are-we-going-to-do-about-it'},\n {'favourites': '16 favorites',\n  'summary': \"Jared Pechacek ( @vandroidhelsing ) has used Twitter's poll feature to write three Choose Your Own Adventure-style stories — each a fairy tale, of one sort or another — as he responded in real time to readers' choices. The Well : a story of blessings and curses The Lady at Winter's Heart : a story of gifts The Last Queen of Elphame : a story of noir in the city of the fae *\",\n  'title': 'The night in Day is brighter than the day in Night.',\n  'url': 'https://www.metafilter.com/174784/The-night-in-Day-is-brighter-than-the-day-in-Night'},\n {'favourites': '31 favorites (15 in the past 24 hours)',\n  'summary': '\" My wife said you may want to marry me . A little over a year ago, my wife, Amy Krouse Rosenthal, published a Modern Love essay called “',\n  'title': 'My Wife Said You May Want to Marry Me',\n  'url': 'https://www.metafilter.com/174772/My-Wife-Said-You-May-Want-to-Marry-Me'},\n {'favourites': '15 favorites',\n  'summary': '',\n  'title': 'On the otter of sobriety',\n  'url': 'https://www.metafilter.com/174796/On-the-otter-of-sobriety'},\n {'favourites': '14 favorites',\n  'summary': 'It is a truth universally acknowledged that no pleasure is so cheaply bought, and so unmarred by complexity, as the simple joy of seeing a dog hurl itself into a pond in pursuit of a slobbery stick. Science has proven the impossibility of the human brain to register self-pity, or maunder on about the generally sorry state of things, while in the presence of canine bellyflops .',\n  'title': 'What Spitty does well is jump. At this, he excels.',\n  'url': 'https://www.metafilter.com/174781/What-Spitty-does-well-is-jump-At-this-he-excels'},\n {'favourites': '25 favorites (11 in the past 24 hours)',\n  'summary': 'Fred Gonsowski has been sharing gardening tips at Fred Gonsowski Garden Home since 2010 based on his experience building a beautiful garden at his upstate New York home .',\n  'title': 'Fred Gonsowski would like to share his gardening wisdom',\n  'url': 'https://www.metafilter.com/174771/Fred-Gonsowski-would-like-to-share-his-gardening-wisdom'},\n {'favourites': '16 favorites (10 in the past 24 hours)',\n  'summary': '',\n  'title': '\"Don’t confuse Freedom Edition with Free Edition at TurboTax.com\"',\n  'url': 'https://www.metafilter.com/174773/Dont-confuse-Freedom-Edition-with-Free-Edition-at-TurboTaxcom'},\n {'favourites': '10 favorites',\n  'summary': 'Meet the man who holds the keys to the Pope’s Museums',\n  'title': 'The Keeper of the Keys',\n  'url': 'https://www.metafilter.com/174788/The-Keeper-of-the-Keys'},\n {'favourites': '19 favorites (9 in the past 24 hours)',\n  'summary': 'Just As I Am : \"By age twenty, he was working consistently on the bluegrass-gospel circuit. One gig ended abruptly when he loaned his laptop to a couple of bandmates at a recording session. They got nosy and found photos from a hush-hush trip to Gatlinburg with his clandestine boyfriend. \\'I don’t know how you and God are,\\' the bandleader thundered at Brandon, who stared at the floor, \\'but you need to get it right. If you keep on this path, you’ll be in hell for sure.\\'”',\n  'title': 'Bluegrass pride',\n  'url': 'https://www.metafilter.com/174770/Bluegrass-pride'},\n {'favourites': '249 favorites (8 in the past 24 hours)',\n  'summary': 'Budget Bytes is a weblog/recipe collection I use every single week. It has priced-out ingredients for each recipe and often recipes stay under about $1.50/serving, which is nice for those of us on tight budgets.',\n  'title': '\"Canned beans and ramen noodles night after night\"',\n  'url': 'https://www.metafilter.com/174733/Canned-beans-and-ramen-noodles-night-after-night'}]"
      ]
     },
     "execution_count": 44,
     "metadata": {},
     "output_type": "execute_result"
    }
   ],
   "source": [
    "# Okay, now for the sake of the exercise, go and scrape metafilter as will \n",
    "# and pull the first few popular headlines. Of course, there would be an RSS \n",
    "# feed already, but since it's an exercise ...\n",
    "import re\n",
    "\n",
    "MF_BASE = 'https://www.metafilter.com'\n",
    "MF_POPULAR = MF_BASE + '/home/popularfavorites'\n",
    "\n",
    "mf_doc = BeautifulSoup(requests.get(\n",
    "  'https://www.metafilter.com/home/popularfavorites').text, 'html5lib')\n",
    "\n",
    "post_titles = mf_doc.select('#posts .posttitle')\n",
    "\n",
    "metaposts_list = []\n",
    "\n",
    "for title in post_titles:\n",
    "  post = {}\n",
    "  post['title'] = title.text\n",
    "  post['url'] = MF_BASE + title.select_one('a')['href']\n",
    "  summary_raw = list(title.select_one('+ .copy.post').stripped_strings)\n",
    "  post['favourites'] = summary_raw[-2]\n",
    "  post['summary'] = ' '.join(summary_raw[0:-10])\n",
    "  \n",
    "  metaposts_list.append(post)\n",
    "  \n",
    "metaposts_list"
   ]
  },
  {
   "cell_type": "code",
   "execution_count": 45,
   "metadata": {},
   "outputs": [],
   "source": [
    "df_mf = pd.DataFrame(metaposts_list)\n",
    "df_mf.to_csv('metafilter-{:%Y%m%d%H%M}.csv'.format(now), index=False)"
   ]
  },
  {
   "cell_type": "code",
   "execution_count": 53,
   "metadata": {},
   "outputs": [
    {
     "data": {
      "text/plain": [
       "'\\n<html style=\"font-family: -apple-system, BlinkMacSystemFont, \"Segoe UI\", \\nRoboto, Helvetica, Arial, sans-serif, \"Apple Color Emoji\", \"Segoe UI \\nEmoji\", \"Segoe UI Symbol\";\">\\n<h1>Your Daily Comics</h1>\\n\\n  <div style=\"max-width: 600px; margin: 1em auto 2em; border-radius: 1em; \\n  box-shadow: 0 0 1em rgba(0,0,0,0.3); overflow: hidden;\">\\n    <img style=\"display: block; max-width: 100%;\" src=\"http://www.sinfest.net/btphp/comics/2018-06-19.gif\" />\\n    <div style=\"padding: 1em\">\\n      <p style=\"margin-bottom: 0;\">\\n        <strong style=\"color: rgba(0,0,0,0.45);\">Sinfest</strong>\\n      </p>\\n      <h2 style=\"margin-top: 0;\"><a href=\"http://www.sinfest.net/view.php?date=2018-06-19\">Repair 17</a></h2>\\n    </div>\\n  </div>\\n  \\n  <div style=\"max-width: 600px; margin: 1em auto 2em; border-radius: 1em; \\n  box-shadow: 0 0 1em rgba(0,0,0,0.3); overflow: hidden;\">\\n    <img style=\"display: block; max-width: 100%;\" src=\"https://satwcomic.com/art/play-date.png\" />\\n    <div style=\"padding: 1em\">\\n      <p style=\"margin-bottom: 0;\">\\n        <strong style=\"color: rgba(0,0,0,0.45);\">Scandinavia and the World</strong>\\n      </p>\\n      <h2 style=\"margin-top: 0;\"><a href=\"https://satwcomic.com/play-date\">Play date</a></h2>\\n    </div>\\n  </div>\\n  \\n\\n<h1>Currenty MetaFilter Discussions</h1>\\n\\n  <div style=\"max-width: 600px; margin: 1em auto 2em; border-radius: 1em; \\n  box-shadow: 0 0 1em rgba(0,0,0,0.3); overflow: hidden; padding: 1em;\">\\n    <h2><a href=\"https://www.metafilter.com/174779/Feeling-Low-Time-to-Get-Happy\">Feeling Low? Time to Get Happy</a></h2>\\n    <div>Do you feel low? Worn down? Discouraged? Maybe you need a break. Maybe you need a lot of breaks. Here are 25 ways to feel happier in the next 5 minutes because we all could use a little happiness. No good? Perhaps 14 ways to get through tough times is a better fit.</div>\\n    <div style=\"margin: 1em -1em -1em -1em; padding: 1em; \\n    background-color: rgba(0,0,0,0.2); color: rgba(0,0,0,0.33)\">\\n      <small>96 favorites</small>\\n    </div>\\n  </div>\\n  \\n  <div style=\"max-width: 600px; margin: 1em auto 2em; border-radius: 1em; \\n  box-shadow: 0 0 1em rgba(0,0,0,0.3); overflow: hidden; padding: 1em;\">\\n    <h2><a href=\"https://www.metafilter.com/174787/Music-to-do-nothing-to\">Music to do nothing to</a></h2>\\n    <div>lofi study chill beats radio</div>\\n    <div style=\"margin: 1em -1em -1em -1em; padding: 1em; \\n    background-color: rgba(0,0,0,0.2); color: rgba(0,0,0,0.33)\">\\n      <small>68 favorites</small>\\n    </div>\\n  </div>\\n  \\n  <div style=\"max-width: 600px; margin: 1em auto 2em; border-radius: 1em; \\n  box-shadow: 0 0 1em rgba(0,0,0,0.3); overflow: hidden; padding: 1em;\">\\n    <h2><a href=\"https://www.metafilter.com/174776/interrupt-me-one-more-time\">interrupt me one more time</a></h2>\\n    <div>I ask a bunch of men, \"Have you ever interrupted a woman?\"</div>\\n    <div style=\"margin: 1em -1em -1em -1em; padding: 1em; \\n    background-color: rgba(0,0,0,0.2); color: rgba(0,0,0,0.33)\">\\n      <small>67 favorites (66 in the past 24 hours)</small>\\n    </div>\\n  </div>\\n  \\n  <div style=\"max-width: 600px; margin: 1em auto 2em; border-radius: 1em; \\n  box-shadow: 0 0 1em rgba(0,0,0,0.3); overflow: hidden; padding: 1em;\">\\n    <h2><a href=\"https://www.metafilter.com/174793/A-story-about-a-shower-curtain\">A story about a shower curtain</a></h2>\\n    <div></div>\\n    <div style=\"margin: 1em -1em -1em -1em; padding: 1em; \\n    background-color: rgba(0,0,0,0.2); color: rgba(0,0,0,0.33)\">\\n      <small>50 favorites</small>\\n    </div>\\n  </div>\\n  \\n  <div style=\"max-width: 600px; margin: 1em auto 2em; border-radius: 1em; \\n  box-shadow: 0 0 1em rgba(0,0,0,0.3); overflow: hidden; padding: 1em;\">\\n    <h2><a href=\"https://www.metafilter.com/174780/How-to-Spot-a-Perfect-Fake-the-Worlds-Top-Art-Forgery-Detective\">How to Spot a Perfect Fake: the World\\'s Top Art Forgery Detective</a></h2>\\n    <div>A wonderful profile by Samanth Subramanian of James Martin, perhaps the world\\'s best forensic forgery detection expert, waging a battle with increasingly skilled forgers who have set off a \"crisis of authentication\" in \"a time when the art market is synonymous with art itself.\"</div>\\n    <div style=\"margin: 1em -1em -1em -1em; padding: 1em; \\n    background-color: rgba(0,0,0,0.2); color: rgba(0,0,0,0.33)\">\\n      <small>36 favorites</small>\\n    </div>\\n  </div>\\n  \\n  <div style=\"max-width: 600px; margin: 1em auto 2em; border-radius: 1em; \\n  box-shadow: 0 0 1em rgba(0,0,0,0.3); overflow: hidden; padding: 1em;\">\\n    <h2><a href=\"https://www.metafilter.com/174783/An-actual-panic-button\">An actual panic button</a></h2>\\n    <div>Not Ok is an app to let people know you need help. Designed by teenagers for both physical and mental illnesses. Hannah Lucas came up with the idea for this because she needed it herself.</div>\\n    <div style=\"margin: 1em -1em -1em -1em; padding: 1em; \\n    background-color: rgba(0,0,0,0.2); color: rgba(0,0,0,0.33)\">\\n      <small>34 favorites</small>\\n    </div>\\n  </div>\\n  \\n  <div style=\"max-width: 600px; margin: 1em auto 2em; border-radius: 1em; \\n  box-shadow: 0 0 1em rgba(0,0,0,0.3); overflow: hidden; padding: 1em;\">\\n    <h2><a href=\"https://www.metafilter.com/174785/Technology-Connections\">Technology Connections</a></h2>\\n    <div>Sure, in this age of LCD screens and 8k displays , it\\'s easy-ish to understand how video is played. But what about before computers, before integrated circuits, hell, before transistors?  Simple. Televisions used analog lines of light to draw their pictures.</div>\\n    <div style=\"margin: 1em -1em -1em -1em; padding: 1em; \\n    background-color: rgba(0,0,0,0.2); color: rgba(0,0,0,0.33)\">\\n      <small>31 favorites</small>\\n    </div>\\n  </div>\\n  \\n  <div style=\"max-width: 600px; margin: 1em auto 2em; border-radius: 1em; \\n  box-shadow: 0 0 1em rgba(0,0,0,0.3); overflow: hidden; padding: 1em;\">\\n    <h2><a href=\"https://www.metafilter.com/174774/The-art-and-standards-of-obituaries-reflecting-current-traditions\">The art and standards of obituaries, reflecting current traditions</a></h2>\\n    <div>\" She will not be missed \" is a brutal phrase to read in an obituary, but leads to the question: how have obits changed in recent time? Susan Soper has a theory: \"after 9/11 when The New York Times wrote those hundreds and hundreds and hundreds, thousands of very short, poignant obituaries in their pages ...  that was sort of when the tide turned in obituaries and people realized that you could bring a person to life and keep them alive in even a short written bio, really.\" And many taboo topics, like children born out of wedlock, drug use and suicide, are less of taboos than they used to be [ content warning ].</div>\\n    <div style=\"margin: 1em -1em -1em -1em; padding: 1em; \\n    background-color: rgba(0,0,0,0.2); color: rgba(0,0,0,0.33)\">\\n      <small>43 favorites (24 in the past 24 hours)</small>\\n    </div>\\n  </div>\\n  \\n  <div style=\"max-width: 600px; margin: 1em auto 2em; border-radius: 1em; \\n  box-shadow: 0 0 1em rgba(0,0,0,0.3); overflow: hidden; padding: 1em;\">\\n    <h2><a href=\"https://www.metafilter.com/174795/Sex-Workers-Vs-The-Internet\">Sex Workers Vs The Internet</a></h2>\\n    <div></div>\\n    <div style=\"margin: 1em -1em -1em -1em; padding: 1em; \\n    background-color: rgba(0,0,0,0.2); color: rgba(0,0,0,0.33)\">\\n      <small>19 favorites</small>\\n    </div>\\n  </div>\\n  \\n  <div style=\"max-width: 600px; margin: 1em auto 2em; border-radius: 1em; \\n  box-shadow: 0 0 1em rgba(0,0,0,0.3); overflow: hidden; padding: 1em;\">\\n    <h2><a href=\"https://www.metafilter.com/174794/Time-for-Detroit-renewal\">Time for Detroit renewal</a></h2>\\n    <div>Michigan Central Station was originally a grand train depot in the style of the early 20th Century, complete with an office building that made it the tallest train station in the world. It fell into disrepair as Detroit\\'s own automotive industry killed the trains, and has stood as one of the preeminent examples of \" ruin porn \". But earlier this month, Ford bought the structure , intending to redevelop it as a hub for its autonomous vehicle development</div>\\n    <div style=\"margin: 1em -1em -1em -1em; padding: 1em; \\n    background-color: rgba(0,0,0,0.2); color: rgba(0,0,0,0.33)\">\\n      <small>17 favorites</small>\\n    </div>\\n  </div>\\n  \\n  <div style=\"max-width: 600px; margin: 1em auto 2em; border-radius: 1em; \\n  box-shadow: 0 0 1em rgba(0,0,0,0.3); overflow: hidden; padding: 1em;\">\\n    <h2><a href=\"https://www.metafilter.com/174777/So-what-are-we-going-to-do-about-it\">So what are we going to do about it?</a></h2>\\n    <div>The Death of a Once Great City: The Urban Crisis of Affluence. What are we going to do about a New York that is, right now, being plundered not only of its treasure but also of its heart, and soul, and purpose?</div>\\n    <div style=\"margin: 1em -1em -1em -1em; padding: 1em; \\n    background-color: rgba(0,0,0,0.2); color: rgba(0,0,0,0.33)\">\\n      <small>16 favorites</small>\\n    </div>\\n  </div>\\n  \\n  <div style=\"max-width: 600px; margin: 1em auto 2em; border-radius: 1em; \\n  box-shadow: 0 0 1em rgba(0,0,0,0.3); overflow: hidden; padding: 1em;\">\\n    <h2><a href=\"https://www.metafilter.com/174784/The-night-in-Day-is-brighter-than-the-day-in-Night\">The night in Day is brighter than the day in Night.</a></h2>\\n    <div>Jared Pechacek ( @vandroidhelsing ) has used Twitter\\'s poll feature to write three Choose Your Own Adventure-style stories — each a fairy tale, of one sort or another — as he responded in real time to readers\\' choices. The Well : a story of blessings and curses The Lady at Winter\\'s Heart : a story of gifts The Last Queen of Elphame : a story of noir in the city of the fae *</div>\\n    <div style=\"margin: 1em -1em -1em -1em; padding: 1em; \\n    background-color: rgba(0,0,0,0.2); color: rgba(0,0,0,0.33)\">\\n      <small>16 favorites</small>\\n    </div>\\n  </div>\\n  \\n  <div style=\"max-width: 600px; margin: 1em auto 2em; border-radius: 1em; \\n  box-shadow: 0 0 1em rgba(0,0,0,0.3); overflow: hidden; padding: 1em;\">\\n    <h2><a href=\"https://www.metafilter.com/174772/My-Wife-Said-You-May-Want-to-Marry-Me\">My Wife Said You May Want to Marry Me</a></h2>\\n    <div>\" My wife said you may want to marry me . A little over a year ago, my wife, Amy Krouse Rosenthal, published a Modern Love essay called “</div>\\n    <div style=\"margin: 1em -1em -1em -1em; padding: 1em; \\n    background-color: rgba(0,0,0,0.2); color: rgba(0,0,0,0.33)\">\\n      <small>31 favorites (15 in the past 24 hours)</small>\\n    </div>\\n  </div>\\n  \\n  <div style=\"max-width: 600px; margin: 1em auto 2em; border-radius: 1em; \\n  box-shadow: 0 0 1em rgba(0,0,0,0.3); overflow: hidden; padding: 1em;\">\\n    <h2><a href=\"https://www.metafilter.com/174796/On-the-otter-of-sobriety\">On the otter of sobriety</a></h2>\\n    <div></div>\\n    <div style=\"margin: 1em -1em -1em -1em; padding: 1em; \\n    background-color: rgba(0,0,0,0.2); color: rgba(0,0,0,0.33)\">\\n      <small>15 favorites</small>\\n    </div>\\n  </div>\\n  \\n  <div style=\"max-width: 600px; margin: 1em auto 2em; border-radius: 1em; \\n  box-shadow: 0 0 1em rgba(0,0,0,0.3); overflow: hidden; padding: 1em;\">\\n    <h2><a href=\"https://www.metafilter.com/174781/What-Spitty-does-well-is-jump-At-this-he-excels\">What Spitty does well is jump. At this, he excels.</a></h2>\\n    <div>It is a truth universally acknowledged that no pleasure is so cheaply bought, and so unmarred by complexity, as the simple joy of seeing a dog hurl itself into a pond in pursuit of a slobbery stick. Science has proven the impossibility of the human brain to register self-pity, or maunder on about the generally sorry state of things, while in the presence of canine bellyflops .</div>\\n    <div style=\"margin: 1em -1em -1em -1em; padding: 1em; \\n    background-color: rgba(0,0,0,0.2); color: rgba(0,0,0,0.33)\">\\n      <small>14 favorites</small>\\n    </div>\\n  </div>\\n  \\n  <div style=\"max-width: 600px; margin: 1em auto 2em; border-radius: 1em; \\n  box-shadow: 0 0 1em rgba(0,0,0,0.3); overflow: hidden; padding: 1em;\">\\n    <h2><a href=\"https://www.metafilter.com/174771/Fred-Gonsowski-would-like-to-share-his-gardening-wisdom\">Fred Gonsowski would like to share his gardening wisdom</a></h2>\\n    <div>Fred Gonsowski has been sharing gardening tips at Fred Gonsowski Garden Home since 2010 based on his experience building a beautiful garden at his upstate New York home .</div>\\n    <div style=\"margin: 1em -1em -1em -1em; padding: 1em; \\n    background-color: rgba(0,0,0,0.2); color: rgba(0,0,0,0.33)\">\\n      <small>25 favorites (11 in the past 24 hours)</small>\\n    </div>\\n  </div>\\n  \\n  <div style=\"max-width: 600px; margin: 1em auto 2em; border-radius: 1em; \\n  box-shadow: 0 0 1em rgba(0,0,0,0.3); overflow: hidden; padding: 1em;\">\\n    <h2><a href=\"https://www.metafilter.com/174773/Dont-confuse-Freedom-Edition-with-Free-Edition-at-TurboTaxcom\">\"Don’t confuse Freedom Edition with Free Edition at TurboTax.com\"</a></h2>\\n    <div></div>\\n    <div style=\"margin: 1em -1em -1em -1em; padding: 1em; \\n    background-color: rgba(0,0,0,0.2); color: rgba(0,0,0,0.33)\">\\n      <small>16 favorites (10 in the past 24 hours)</small>\\n    </div>\\n  </div>\\n  \\n  <div style=\"max-width: 600px; margin: 1em auto 2em; border-radius: 1em; \\n  box-shadow: 0 0 1em rgba(0,0,0,0.3); overflow: hidden; padding: 1em;\">\\n    <h2><a href=\"https://www.metafilter.com/174788/The-Keeper-of-the-Keys\">The Keeper of the Keys</a></h2>\\n    <div>Meet the man who holds the keys to the Pope’s Museums</div>\\n    <div style=\"margin: 1em -1em -1em -1em; padding: 1em; \\n    background-color: rgba(0,0,0,0.2); color: rgba(0,0,0,0.33)\">\\n      <small>10 favorites</small>\\n    </div>\\n  </div>\\n  \\n  <div style=\"max-width: 600px; margin: 1em auto 2em; border-radius: 1em; \\n  box-shadow: 0 0 1em rgba(0,0,0,0.3); overflow: hidden; padding: 1em;\">\\n    <h2><a href=\"https://www.metafilter.com/174770/Bluegrass-pride\">Bluegrass pride</a></h2>\\n    <div>Just As I Am : \"By age twenty, he was working consistently on the bluegrass-gospel circuit. One gig ended abruptly when he loaned his laptop to a couple of bandmates at a recording session. They got nosy and found photos from a hush-hush trip to Gatlinburg with his clandestine boyfriend. \\'I don’t know how you and God are,\\' the bandleader thundered at Brandon, who stared at the floor, \\'but you need to get it right. If you keep on this path, you’ll be in hell for sure.\\'”</div>\\n    <div style=\"margin: 1em -1em -1em -1em; padding: 1em; \\n    background-color: rgba(0,0,0,0.2); color: rgba(0,0,0,0.33)\">\\n      <small>19 favorites (9 in the past 24 hours)</small>\\n    </div>\\n  </div>\\n  \\n  <div style=\"max-width: 600px; margin: 1em auto 2em; border-radius: 1em; \\n  box-shadow: 0 0 1em rgba(0,0,0,0.3); overflow: hidden; padding: 1em;\">\\n    <h2><a href=\"https://www.metafilter.com/174733/Canned-beans-and-ramen-noodles-night-after-night\">\"Canned beans and ramen noodles night after night\"</a></h2>\\n    <div>Budget Bytes is a weblog/recipe collection I use every single week. It has priced-out ingredients for each recipe and often recipes stay under about $1.50/serving, which is nice for those of us on tight budgets.</div>\\n    <div style=\"margin: 1em -1em -1em -1em; padding: 1em; \\n    background-color: rgba(0,0,0,0.2); color: rgba(0,0,0,0.33)\">\\n      <small>249 favorites (8 in the past 24 hours)</small>\\n    </div>\\n  </div>\\n  \\n</html>\\n'"
      ]
     },
     "execution_count": 53,
     "metadata": {},
     "output_type": "execute_result"
    }
   ],
   "source": [
    "# Let's set up the mail\n",
    "\n",
    "def get_comic_html(comic):\n",
    "  return '''\n",
    "  <div style=\"max-width: 600px; margin: 1em auto 2em; border-radius: 1em; \n",
    "  box-shadow: 0 0 1em rgba(0,0,0,0.3); overflow: hidden;\">\n",
    "    <img style=\"display: block; max-width: 100%;\" src=\"{src}\" />\n",
    "    <div style=\"padding: 1em\">\n",
    "      <p style=\"margin-bottom: 0;\">\n",
    "        <strong style=\"color: rgba(0,0,0,0.45);\">{comic}</strong>\n",
    "      </p>\n",
    "      <h2 style=\"margin-top: 0;\"><a href=\"{url}\">{title}</a></h2>\n",
    "    </div>\n",
    "  </div>\n",
    "  '''.format(**comic)\n",
    "\n",
    "def get_metafilter_html(mf_post):\n",
    "  return '''\n",
    "  <div style=\"max-width: 600px; margin: 1em auto 2em; border-radius: 1em; \n",
    "  box-shadow: 0 0 1em rgba(0,0,0,0.3); overflow: hidden; padding: 1em;\">\n",
    "    <h2><a href=\"{url}\">{title}</a></h2>\n",
    "    <div>{summary}</div>\n",
    "    <div style=\"margin: 1em -1em -1em -1em; padding: 1em; \n",
    "    background-color: rgba(0,0,0,0.2); color: rgba(0,0,0,0.33)\">\n",
    "      <small>{favourites}</small>\n",
    "    </div>\n",
    "  </div>\n",
    "  '''.format(**mf_post)\n",
    "\n",
    "\n",
    "complete_html = '''\n",
    "<html style=\"font-family: -apple-system, BlinkMacSystemFont, \\\"Segoe UI\\\", \n",
    "Roboto, Helvetica, Arial, sans-serif, \\\"Apple Color Emoji\\\", \\\"Segoe UI \n",
    "Emoji\\\", \\\"Segoe UI Symbol\\\";\">\n",
    "<h1>Your Daily Comics</h1>\n",
    "{comics}\n",
    "\n",
    "<h1>Popular MetaFilter Discussions</h1>\n",
    "{metafilter}\n",
    "</html>\n",
    "'''.format(\n",
    "  comics=''.join(map(get_comic_html, comic_list)),\n",
    "  metafilter=''.join(map(get_metafilter_html, metaposts_list))\n",
    ")\n",
    "\n",
    "complete_html"
   ]
  },
  {
   "cell_type": "code",
   "execution_count": 54,
   "metadata": {},
   "outputs": [
    {
     "data": {
      "text/plain": [
       "<Response [200]>"
      ]
     },
     "execution_count": 54,
     "metadata": {},
     "output_type": "execute_result"
    }
   ],
   "source": [
    "subject = '[Daily Briefing] {:%A, %x, %X}'.format(now)\n",
    "\n",
    "requests.post(\n",
    "  \"https://api.mailgun.net/v3/sandbox89536ea6abb24b7495d37dbb678fdac4.mailgun.org/messages\",\n",
    "  auth=(\"api\", mailgun_api_key),\n",
    "  data={\n",
    "    \"from\": \"Mailgun Sandbox <postmaster@sandbox89536ea6abb24b7495d37dbb678fdac4.mailgun.org>\",\n",
    "    \"to\": \"Kaspar <xeophin@gmail.com>\",\n",
    "    \"subject\": subject,\n",
    "    \"html\": complete_html\n",
    "  })\n"
   ]
  },
  {
   "cell_type": "code",
   "execution_count": null,
   "metadata": {},
   "outputs": [],
   "source": []
  }
 ],
 "metadata": {
  "kernelspec": {
   "display_name": "Python 2",
   "language": "python",
   "name": "python2"
  },
  "language_info": {
   "codemirror_mode": {
    "name": "ipython",
    "version": 2
   },
   "file_extension": ".py",
   "mimetype": "text/x-python",
   "name": "python",
   "nbconvert_exporter": "python",
   "pygments_lexer": "ipython2",
   "version": "2.7.6"
  }
 },
 "nbformat": 4,
 "nbformat_minor": 0
}
