{
 "cells": [
  {
   "cell_type": "code",
   "execution_count": 55,
   "metadata": {
    "collapsed": true
   },
   "outputs": [],
   "source": [
    "# Using Scraping\n",
    "# Scrape the front page of some always-updating website, such as\n",
    "# \n",
    "# https://www.slickdeals.net/ (Links to an external site.)Links to an external site.\n",
    "# https://www.reddit.com (Links to an external site.)Links to an external site./\n",
    "# https://www.washingtonpost.com (Links to an external site.)Links to an external site./\n",
    "# https://finance.yahoo.com/industries (Links to an external site.)Links to an external site.\n",
    "# anything else, really\n",
    "# Note that some of these won't work with BeautifulSoup!\n",
    "# Send yourself an email with as much information as possible from the site, such as:\n",
    "# \n",
    "# The title of the thing (the sale, the article, whatever)\n",
    "# A URL for it\n",
    "# Upvotes/thumbs ups/subreddits/prices/links to images/etc\n",
    "# Save this as a CSV, and send it as an attachment to your email address every 6 hours. The email headline should say something like \"Here is your 6PM briefing.\" The CSV file should be timestamped with the current date and time, e.g. briefing-2018-06-18-3PM.csv\n",
    "# \n",
    "# BONUS: Have the content actually be the body of the email, not just an \n",
    "# attachment. I don't mean like a CSV or whatever, I mean it should actually \n",
    "# look like nice lists and stuff, a real email."
   ]
  },
  {
   "cell_type": "code",
   "execution_count": 56,
   "metadata": {},
   "outputs": [],
   "source": [
    "import requests\n",
    "from bs4 import BeautifulSoup\n",
    "import pandas as pd\n",
    "from apikeys import mailgun_api_key\n",
    "import datetime"
   ]
  },
  {
   "cell_type": "code",
   "execution_count": 57,
   "metadata": {},
   "outputs": [],
   "source": [
    "comic_list = []"
   ]
  },
  {
   "cell_type": "code",
   "execution_count": 58,
   "metadata": {},
   "outputs": [],
   "source": [
    "# Get Sinfest Comic Strip\n",
    "\n",
    "\n",
    "SINFEST_URL = 'http://www.sinfest.net/'\n",
    "\n",
    "try:\n",
    "  sinfest_doc = BeautifulSoup(requests.get(SINFEST_URL).text,\n",
    "                              'html.parser')\n",
    "  img_element = sinfest_doc.select_one('center > table tbody.style5 tr > td > '\n",
    "                                       'img')\n",
    "  img_src = SINFEST_URL + img_element['src']\n",
    "  img_title = img_element['alt']\n",
    "\n",
    "  sinfest = {\n",
    "    'comic': 'Sinfest',\n",
    "    'src': img_src,\n",
    "    'title': img_title,\n",
    "    'url': SINFEST_URL + 'view.php?date={:%Y-%m-%d}'.format(\n",
    "      datetime.datetime.now())\n",
    "  }\n",
    "\n",
    "  comic_list.append(sinfest)\n",
    "except Exception as e:\n",
    "  print('[Sinfest]: Scraping failed, due to', e)\n"
   ]
  },
  {
   "cell_type": "code",
   "execution_count": 59,
   "metadata": {},
   "outputs": [
    {
     "data": {
      "text/plain": [
       "[{'comic': 'Sinfest',\n  'src': 'http://www.sinfest.net/btphp/comics/2018-06-19.gif',\n  'title': 'Repair 17',\n  'url': 'http://www.sinfest.net/view.php?date=2018-06-19'}]"
      ]
     },
     "execution_count": 59,
     "metadata": {},
     "output_type": "execute_result"
    }
   ],
   "source": [
    "comic_list"
   ]
  },
  {
   "cell_type": "code",
   "execution_count": 60,
   "metadata": {},
   "outputs": [],
   "source": [
    "# Get newest Scandinavia and the World comic strip\n",
    "\n",
    "SATW_URL = 'https://satwcomic.com/'\n",
    "INDEX_PAGE = 'the-world'\n",
    "\n",
    "try:\n",
    "  satw_doc = BeautifulSoup(requests.get(SATW_URL + INDEX_PAGE).text, \n",
    "                           'html.parser')\n",
    "  last_comic_url = satw_doc.select_one('.card a')['href']\n",
    "  \n",
    "  satw_comic_doc = BeautifulSoup(requests.get(last_comic_url).text, 'html.parser')\n",
    "  \n",
    "  img_element = satw_comic_doc.select_one('.btn-group-justified + center img')\n",
    "  img_src = img_element['src']\n",
    "  img_title = img_element['title']\n",
    "  \n",
    "  satw = {\n",
    "    'comic': 'Scandinavia and the World',\n",
    "    'src': img_src,\n",
    "    'title': img_title,\n",
    "    'url': last_comic_url\n",
    "  }\n",
    "  \n",
    "  comic_list.append(satw)\n",
    "except Exception as e:\n",
    "  print('[Scandinavia and the world]: Scraping failed, due to', e)\n",
    "  "
   ]
  },
  {
   "cell_type": "code",
   "execution_count": 61,
   "metadata": {},
   "outputs": [
    {
     "data": {
      "text/html": [
       "<div>\n",
       "<style scoped>\n",
       "    .dataframe tbody tr th:only-of-type {\n",
       "        vertical-align: middle;\n",
       "    }\n",
       "\n",
       "    .dataframe tbody tr th {\n",
       "        vertical-align: top;\n",
       "    }\n",
       "\n",
       "    .dataframe thead th {\n",
       "        text-align: right;\n",
       "    }\n",
       "</style>\n",
       "<table border=\"1\" class=\"dataframe\">\n",
       "  <thead>\n",
       "    <tr style=\"text-align: right;\">\n",
       "      <th></th>\n",
       "      <th>comic</th>\n",
       "      <th>src</th>\n",
       "      <th>title</th>\n",
       "      <th>url</th>\n",
       "    </tr>\n",
       "  </thead>\n",
       "  <tbody>\n",
       "    <tr>\n",
       "      <th>0</th>\n",
       "      <td>Sinfest</td>\n",
       "      <td>http://www.sinfest.net/btphp/comics/2018-06-19...</td>\n",
       "      <td>Repair 17</td>\n",
       "      <td>http://www.sinfest.net/view.php?date=2018-06-19</td>\n",
       "    </tr>\n",
       "    <tr>\n",
       "      <th>1</th>\n",
       "      <td>Scandinavia and the World</td>\n",
       "      <td>https://satwcomic.com/art/play-date.png</td>\n",
       "      <td>Play date</td>\n",
       "      <td>https://satwcomic.com/play-date</td>\n",
       "    </tr>\n",
       "  </tbody>\n",
       "</table>\n",
       "</div>"
      ],
      "text/plain": [
       "<div>\n",
       "<style scoped>\n",
       "    .dataframe tbody tr th:only-of-type {\n",
       "        vertical-align: middle;\n",
       "    }\n",
       "\n",
       "    .dataframe tbody tr th {\n",
       "        vertical-align: top;\n",
       "    }\n",
       "\n",
       "    .dataframe thead th {\n",
       "        text-align: right;\n",
       "    }\n",
       "</style>\n",
       "<table border=\"1\" class=\"dataframe\">\n",
       "  <thead>\n",
       "    <tr style=\"text-align: right;\">\n",
       "      <th></th>\n",
       "      <th>comic</th>\n",
       "      <th>src</th>\n",
       "      <th>title</th>\n",
       "      <th>url</th>\n",
       "    </tr>\n",
       "  </thead>\n",
       "  <tbody>\n",
       "    <tr>\n",
       "      <th>0</th>\n",
       "      <td>Sinfest</td>\n",
       "      <td>http://www.sinfest.net/btphp/comics/2018-06-19...</td>\n",
       "      <td>Repair 17</td>\n",
       "      <td>http://www.sinfest.net/view.php?date=2018-06-19</td>\n",
       "    </tr>\n",
       "    <tr>\n",
       "      <th>1</th>\n",
       "      <td>Scandinavia and the World</td>\n",
       "      <td>https://satwcomic.com/art/play-date.png</td>\n",
       "      <td>Play date</td>\n",
       "      <td>https://satwcomic.com/play-date</td>\n",
       "    </tr>\n",
       "  </tbody>\n",
       "</table>\n",
       "</div>"
      ]
     },
     "execution_count": 61,
     "metadata": {},
     "output_type": "execute_result"
    }
   ],
   "source": [
    "# Okay, so we push that into a data frame purely so we can take advantage of \n",
    "# the CSV export\n",
    "comic_df = pd.DataFrame(comic_list)\n",
    "comic_df"
   ]
  },
  {
   "cell_type": "code",
   "execution_count": 62,
   "metadata": {},
   "outputs": [],
   "source": [
    "now = datetime.datetime.now()\n",
    "comic_df.to_csv(\n",
    "  'comics-{:%Y%m%d%H%M}.csv'.format(now),\n",
    "  index=False\n",
    ")"
   ]
  },
  {
   "cell_type": "code",
   "execution_count": 63,
   "metadata": {},
   "outputs": [],
   "source": [
    "# Okay, now for the sake of the exercise, go and scrape metafilter as will \n",
    "# and pull the first few popular headlines. Of course, there would be an RSS \n",
    "# feed already, but since it's an exercise ...\n",
    "import re\n",
    "\n",
    "MF_BASE = 'https://www.metafilter.com'\n",
    "MF_POPULAR = MF_BASE + '/home/popularfavorites'\n",
    "try: \n",
    "  mf_doc = BeautifulSoup(requests.get(\n",
    "    'https://www.metafilter.com/home/popularfavorites').text, 'html5lib')\n",
    "  \n",
    "  post_titles = mf_doc.select('#posts .posttitle')\n",
    "  \n",
    "  metaposts_list = []\n",
    "  \n",
    "  for title in post_titles:\n",
    "    post = {}\n",
    "    post['title'] = title.text\n",
    "    post['url'] = MF_BASE + title.select_one('a')['href']\n",
    "    summary_raw = list(title.select_one('+ .copy.post').stripped_strings)\n",
    "    post['favourites'] = summary_raw[-2]\n",
    "    post['summary'] = ' '.join(summary_raw[0:-10])\n",
    "    \n",
    "    metaposts_list.append(post)\n",
    "except Exception as e:\n",
    "  print('[Metafilter] Scraping failed due to', e)\n",
    "  "
   ]
  },
  {
   "cell_type": "code",
   "execution_count": 64,
   "metadata": {},
   "outputs": [],
   "source": [
    "df_mf = pd.DataFrame(metaposts_list)\n",
    "df_mf.to_csv('metafilter-{:%Y%m%d%H%M}.csv'.format(now), index=False)"
   ]
  },
  {
   "cell_type": "code",
   "execution_count": 65,
   "metadata": {},
   "outputs": [],
   "source": [
    "# Let's set up the mail\n",
    "\n",
    "def get_comic_html(comic):\n",
    "  return '''\n",
    "  <div style=\"max-width: 600px; margin: 1em auto 2em; border-radius: 1em; \n",
    "  box-shadow: 0 0 1em rgba(0,0,0,0.3); overflow: hidden;\">\n",
    "    <img style=\"display: block; max-width: 100%;\" src=\"{src}\" />\n",
    "    <div style=\"padding: 1em\">\n",
    "      <p style=\"margin-bottom: 0;\">\n",
    "        <strong style=\"color: rgba(0,0,0,0.45);\">{comic}</strong>\n",
    "      </p>\n",
    "      <h2 style=\"margin-top: 0;\"><a href=\"{url}\">{title}</a></h2>\n",
    "    </div>\n",
    "  </div>\n",
    "  '''.format(**comic)\n",
    "\n",
    "def get_metafilter_html(mf_post):\n",
    "  return '''\n",
    "  <div style=\"max-width: 600px; margin: 1em auto 2em; border-radius: 1em; \n",
    "  box-shadow: 0 0 1em rgba(0,0,0,0.3); overflow: hidden; padding: 1em;\">\n",
    "    <h2><a href=\"{url}\">{title}</a></h2>\n",
    "    <div>{summary}</div>\n",
    "    <div style=\"margin: 1em -1em -1em -1em; padding: 1em; \n",
    "    background-color: rgba(0,0,0,0.2); color: rgba(0,0,0,0.33)\">\n",
    "      <small>{favourites}</small>\n",
    "    </div>\n",
    "  </div>\n",
    "  '''.format(**mf_post)\n",
    "\n",
    "\n",
    "complete_html = '''\n",
    "<html style=\"font-family: -apple-system, BlinkMacSystemFont, \\\"Segoe UI\\\", \n",
    "Roboto, Helvetica, Arial, sans-serif, \\\"Apple Color Emoji\\\", \\\"Segoe UI \n",
    "Emoji\\\", \\\"Segoe UI Symbol\\\";\">\n",
    "<h1>Your Daily Comics</h1>\n",
    "{comics}\n",
    "\n",
    "<h1>Popular MetaFilter Discussions</h1>\n",
    "{metafilter}\n",
    "</html>\n",
    "'''.format(\n",
    "  comics=''.join(map(get_comic_html, comic_list)),\n",
    "  metafilter=''.join(map(get_metafilter_html, metaposts_list))\n",
    ")"
   ]
  },
  {
   "cell_type": "code",
   "execution_count": 66,
   "metadata": {},
   "outputs": [
    {
     "data": {
      "text/plain": [
       "<Response [200]>"
      ]
     },
     "execution_count": 66,
     "metadata": {},
     "output_type": "execute_result"
    }
   ],
   "source": [
    "subject = '[Daily Briefing] {:%A, %x, %X}'.format(now)\n",
    "\n",
    "requests.post(\n",
    "  \"https://api.mailgun.net/v3/sandbox89536ea6abb24b7495d37dbb678fdac4.mailgun.org/messages\",\n",
    "  auth=(\"api\", mailgun_api_key),\n",
    "  data={\n",
    "    \"from\": \"Mailgun Sandbox <postmaster@sandbox89536ea6abb24b7495d37dbb678fdac4.mailgun.org>\",\n",
    "    \"to\": \"Kaspar <xeophin@gmail.com>\",\n",
    "    \"subject\": subject,\n",
    "    \"html\": complete_html\n",
    "  })\n"
   ]
  },
  {
   "cell_type": "code",
   "execution_count": 67,
   "metadata": {},
   "outputs": [],
   "source": []
  }
 ],
 "metadata": {
  "kernelspec": {
   "display_name": "Python 2",
   "language": "python",
   "name": "python2"
  },
  "language_info": {
   "codemirror_mode": {
    "name": "ipython",
    "version": 2
   },
   "file_extension": ".py",
   "mimetype": "text/x-python",
   "name": "python",
   "nbconvert_exporter": "python",
   "pygments_lexer": "ipython2",
   "version": "2.7.6"
  }
 },
 "nbformat": 4,
 "nbformat_minor": 0
}
