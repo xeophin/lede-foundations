{
 "cells": [
  {
   "cell_type": "code",
   "execution_count": 1,
   "metadata": {
    "collapsed": true
   },
   "outputs": [],
   "source": [
    "# Using Scraping\n",
    "# Scrape the front page of some always-updating website, such as\n",
    "# \n",
    "# https://www.slickdeals.net/ (Links to an external site.)Links to an external site.\n",
    "# https://www.reddit.com (Links to an external site.)Links to an external site./\n",
    "# https://www.washingtonpost.com (Links to an external site.)Links to an external site./\n",
    "# https://finance.yahoo.com/industries (Links to an external site.)Links to an external site.\n",
    "# anything else, really\n",
    "# Note that some of these won't work with BeautifulSoup!\n",
    "# Send yourself an email with as much information as possible from the site, such as:\n",
    "# \n",
    "# The title of the thing (the sale, the article, whatever)\n",
    "# A URL for it\n",
    "# Upvotes/thumbs ups/subreddits/prices/links to images/etc\n",
    "# Save this as a CSV, and send it as an attachment to your email address every 6 hours. The email headline should say something like \"Here is your 6PM briefing.\" The CSV file should be timestamped with the current date and time, e.g. briefing-2018-06-18-3PM.csv\n",
    "# \n",
    "# BONUS: Have the content actually be the body of the email, not just an attachment. I don't mean like a CSV or whatever, I mean it should actually look like nice lists and stuff, a real email."
   ]
  },
  {
   "cell_type": "code",
   "execution_count": 3,
   "metadata": {},
   "outputs": [],
   "source": [
    "import requests\n",
    "from bs4 import BeautifulSoup\n",
    "from apikeys import mailgun_api_key"
   ]
  },
  {
   "cell_type": "code",
   "execution_count": 11,
   "metadata": {},
   "outputs": [],
   "source": [
    "comic_list = []"
   ]
  },
  {
   "cell_type": "code",
   "execution_count": 12,
   "metadata": {},
   "outputs": [],
   "source": [
    "# Get Sinfest Comic Strip\n",
    "SINFEST_URL = 'http://www.sinfest.net/'\n",
    "\n",
    "try:\n",
    "  sinfest_doc = BeautifulSoup(requests.get(SINFEST_URL).text,\n",
    "                              'html.parser')\n",
    "  img_element = sinfest_doc.select_one('center > table tbody.style5 tr > td > '\n",
    "                                       'img')\n",
    "  img_src = SINFEST_URL + img_element['src']\n",
    "  img_title = img_element['alt']\n",
    "\n",
    "  sinfest = {\n",
    "    'comic': 'Sinfest',\n",
    "    'src': img_src,\n",
    "    'title': img_title,\n",
    "    'url': SINFEST_URL + 'view.php?date={:%Y-%m-%d}'.format(\n",
    "      datetime.datetime.now())\n",
    "  }\n",
    "\n",
    "  comic_list.append(sinfest)\n",
    "except Exception as e:\n",
    "  print('[Sinfest]: Scraping failed, due to', e)\n"
   ]
  },
  {
   "cell_type": "code",
   "execution_count": 13,
   "metadata": {},
   "outputs": [
    {
     "data": {
      "text/plain": [
       "[{'comic': 'Sinfest',\n  'src': 'http://www.sinfest.net/btphp/comics/2018-06-18.gif',\n  'title': 'Repair 16'}]"
      ]
     },
     "execution_count": 13,
     "metadata": {},
     "output_type": "execute_result"
    }
   ],
   "source": [
    "comic_list"
   ]
  },
  {
   "cell_type": "code",
   "execution_count": 15,
   "metadata": {},
   "outputs": [],
   "source": [
    "# Get newest Scandinavia and the World comic strip\n",
    "\n",
    "SATW_URL = 'https://satwcomic.com/'\n",
    "INDEX_PAGE = 'the-world'\n",
    "\n",
    "satw_doc = BeautifulSoup(requests.get(SATW_URL + INDEX_PAGE).text, \n",
    "                         'html.parser')\n",
    "last_comic_url = satw_doc.select_one('.card a')['href']\n",
    "\n",
    "satw_comic_doc = BeautifulSoup(requests.get(last_comic_url).text, 'html.parser')\n",
    "\n",
    "img_element = satw_comic_doc.select_one('.btn-group-justified + center img')\n",
    "img_src = img_element['src']\n",
    "img_title = img_element['title']\n",
    "\n",
    "satw = {\n",
    "  'comic': 'Scandinavia and the World',\n",
    "  'src': img_src,\n",
    "  'title': img_title,\n",
    "  'url': last_comic_url\n",
    "}\n",
    "\n",
    "comic_list.append(satw)"
   ]
  },
  {
   "cell_type": "code",
   "execution_count": 16,
   "metadata": {},
   "outputs": [
    {
     "data": {
      "text/plain": [
       "[{'comic': 'Sinfest',\n  'src': 'http://www.sinfest.net/btphp/comics/2018-06-18.gif',\n  'title': 'Repair 16'},\n {'comic': 'Scandinavia and the World',\n  'src': 'https://satwcomic.com/art/play-date.png',\n  'title': 'Play date',\n  'url': 'https://satwcomic.com/play-date'},\n {'comic': 'Scandinavia and the World',\n  'src': 'https://satwcomic.com/art/play-date.png',\n  'title': 'Play date',\n  'url': 'https://satwcomic.com/play-date'}]"
      ]
     },
     "execution_count": 16,
     "metadata": {},
     "output_type": "execute_result"
    }
   ],
   "source": [
    "comic_list"
   ]
  },
  {
   "cell_type": "code",
   "execution_count": null,
   "metadata": {},
   "outputs": [],
   "source": []
  }
 ],
 "metadata": {
  "kernelspec": {
   "display_name": "Python 2",
   "language": "python",
   "name": "python2"
  },
  "language_info": {
   "codemirror_mode": {
    "name": "ipython",
    "version": 2
   },
   "file_extension": ".py",
   "mimetype": "text/x-python",
   "name": "python",
   "nbconvert_exporter": "python",
   "pygments_lexer": "ipython2",
   "version": "2.7.6"
  }
 },
 "nbformat": 4,
 "nbformat_minor": 0
}
