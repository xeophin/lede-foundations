{
 "cells": [
  {
   "cell_type": "code",
   "execution_count": 2,
   "metadata": {
    "collapsed": true
   },
   "outputs": [],
   "source": [
    "import datetime\n",
    "\n",
    "import requests\n",
    "from apikeys import darksky_api_key, mailgun_api_key\n",
    "\n",
    "location = '40.8009,-73.9600'\n",
    "base_endpoint = 'https://api.darksky.net/forecast/' + darksky_api_key\n",
    "additional_modifiers = '&'.join(['exclude=minutely,hourly,alerts,flags',\n",
    "                                 'units=si'])\n",
    "location_endpoint = base_endpoint + '/' + location + '?' + additional_modifiers\n",
    "response = requests.get(location_endpoint)\n",
    "forecast_data = response.json()\n"
   ]
  },
  {
   "cell_type": "code",
   "execution_count": 3,
   "metadata": {},
   "outputs": [
    {
     "name": "stdout",
     "output_type": "stream",
     "text": [
      "31.24 31.57 23.71 partly cloudy 19.36 hot and humid\n"
     ]
    }
   ],
   "source": [
    "# TEMPERATURE is the current temperature\n",
    "temperature = forecast_data['currently']['temperature']\n",
    "# SUMMARY is what it currently looks like (partly cloudy, etc - it's \"summary\" in the dictionary). Lowercase, please.\n",
    "\n",
    "summary = forecast_data['currently']['summary'].lower()\n",
    "\n",
    "# HIGH_TEMP is the high temperature for the day.\n",
    "\n",
    "high_temp = forecast_data['daily']['data'][0]['temperatureHigh']\n",
    "\n",
    "# LOW_TEMP is the low temperature for the day.\n",
    "\n",
    "low_temp = forecast_data['daily']['data'][0]['temperatureLow']\n",
    "\n",
    "# TEMP_FEELING is whether it will be hot, warm, cold, or moderate. You will probably use HIGH_TEMP and your own thoughts and feelings to determine this.\n",
    "# Actually, I'm going to use the dew point here, because I think this is \n",
    "# going to give a better overview of how terrible I'll find the weather\n",
    "\n",
    "dew_point = forecast_data['daily']['data'][0]['dewPoint']\n",
    "temp_feeling = 'crisp and dry'\n",
    "\n",
    "if dew_point > 23:\n",
    "  temp_feeling = 'sweltering and terrible'\n",
    "elif dew_point > 18:\n",
    "  temp_feeling = 'hot and humid'\n",
    "elif dew_point > 16:\n",
    "  temp_feeling = 'somewhat damp'\n",
    "\n",
    "print(temperature, high_temp, low_temp, summary, dew_point, temp_feeling)\n",
    "\n",
    "# RAIN_WARNING is something like \"bring your umbrella!\" if it is going to rain at some point during the day.\n",
    "\n",
    "precip_intensity = forecast_data['daily']['data'][0]['precipIntensity']\n",
    "rain_warning = 'no rain is expected'\n",
    "\n",
    "if precip_intensity > 2:\n",
    "  rain_warning = 'you will get wet without an umbrella'\n",
    "elif precip_intensity > 0.2:\n",
    "  rain_warning = 'you just might get away with no umbrella today'\n"
   ]
  },
  {
   "cell_type": "code",
   "execution_count": 4,
   "metadata": {},
   "outputs": [],
   "source": [
    "robo_forecast = \"\"\"\n",
    "Greetings, human!\n",
    "\n",
    "It's a new day, and we have currently {:.0f}°C and it's {} outside.\n",
    "\n",
    "Today's temperature will reach {:.0f}°C, it will feel {}, and {}.\n",
    "\n",
    "Enjoy!\n",
    "\n",
    "\"\"\".format(\n",
    "  temperature,\n",
    "  summary,\n",
    "  high_temp,\n",
    "  temp_feeling,\n",
    "  rain_warning\n",
    ")\n"
   ]
  },
  {
   "cell_type": "code",
   "execution_count": 5,
   "metadata": {},
   "outputs": [
    {
     "data": {
      "text/plain": [
       "\"\\nGreetings, human!\\n\\nIt's a new day, and we have currently 31°C and it's partly cloudy outside.\\n\\nToday's temperature will reach 32°C, it will feel hot and humid, and no rain is expected.\\n\\nEnjoy!\\n\\n\""
      ]
     },
     "execution_count": 5,
     "metadata": {},
     "output_type": "execute_result"
    }
   ],
   "source": [
    "robo_forecast"
   ]
  },
  {
   "cell_type": "code",
   "execution_count": 6,
   "metadata": {},
   "outputs": [
    {
     "data": {
      "text/plain": [
       "<Response [200]>"
      ]
     },
     "execution_count": 7,
     "metadata": {},
     "output_type": "execute_result"
    }
   ],
   "source": [
    "# Mailgun stuff\n",
    "\n",
    "\n",
    "now = datetime.datetime.now()\n",
    "\n",
    "subject = '[Weather Bulletin] {:%A morning, %x}'.format(now)\n"
   ]
  },
  {
   "cell_type": "code",
   "execution_count": 7,
   "metadata": {},
   "outputs": [
    {
     "data": {
      "text/plain": [
       "<Response [200]>"
      ]
     },
     "execution_count": 7,
     "metadata": {},
     "output_type": "execute_result"
    }
   ],
   "source": [
    "\n",
    "requests.post(\n",
    "  \"https://api.mailgun.net/v3/sandbox89536ea6abb24b7495d37dbb678fdac4.mailgun.org/messages\",\n",
    "  auth=(\"api\", mailgun_api_key),\n",
    "  data={\n",
    "    \"from\": \"Mailgun Sandbox <postmaster@sandbox89536ea6abb24b7495d37dbb678fdac4.mailgun.org>\",\n",
    "    \"to\": \"Kaspar <xeophin@gmail.com>\",\n",
    "    \"subject\": subject,\n",
    "    \"text\": robo_forecast\n",
    "  })\n"
   ]
  },
  {
   "cell_type": "code",
   "execution_count": 8,
   "metadata": {},
   "outputs": [],
   "source": []
  }
 ],
 "metadata": {
  "kernelspec": {
   "display_name": "Python 2",
   "language": "python",
   "name": "python2"
  },
  "language_info": {
   "codemirror_mode": {
    "name": "ipython",
    "version": 2
   },
   "file_extension": ".py",
   "mimetype": "text/x-python",
   "name": "python",
   "nbconvert_exporter": "python",
   "pygments_lexer": "ipython2",
   "version": "2.7.6"
  }
 },
 "nbformat": 4,
 "nbformat_minor": 0
}
